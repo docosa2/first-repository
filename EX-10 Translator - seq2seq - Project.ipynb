{
 "cells": [
  {
   "cell_type": "markdown",
   "id": "ae9f4a18",
   "metadata": {},
   "source": [
    "# EX-10 Translator seq2seq\n",
    "\n",
    "### 곽상혁\n",
    "\n",
    "### 2022-12-09 (금)\n",
    "\n",
    "https://github.com/docosa2/"
   ]
  },
  {
   "cell_type": "markdown",
   "id": "eddb9732",
   "metadata": {},
   "source": [
    "## 모듈 임포트"
   ]
  },
  {
   "cell_type": "code",
   "execution_count": 1,
   "id": "bae4998f",
   "metadata": {},
   "outputs": [
    {
     "name": "stdout",
     "output_type": "stream",
     "text": [
      "2.6.0\n"
     ]
    }
   ],
   "source": [
    "import tensorflow as tf\n",
    "from tensorflow.keras.preprocessing.text import Tokenizer\n",
    "from tensorflow.keras.preprocessing.sequence import pad_sequences\n",
    "from tensorflow.keras.utils import to_categorical\n",
    "import numpy as np\n",
    "import pandas as pd\n",
    "\n",
    "print(tf.__version__)"
   ]
  },
  {
   "cell_type": "markdown",
   "id": "b2f8a92e",
   "metadata": {},
   "source": [
    "실습에서 구현한 번역기는 글자 단위(Character-level)에서 구현된 번역기였습니다. 하지만 실제 번역기의 경우에는 글자 단위가 아니라 단어 단위(Word-level)에서 구현되는 것이 좀 더 보편적입니다."
   ]
  },
  {
   "cell_type": "markdown",
   "id": "060e1c34",
   "metadata": {},
   "source": [
    "동일한 데이터셋을 사용하면서 글자 단위와는 다른 전처리와 to_categorical() 함수가 아닌 임베딩 층(Embedding layer)를 추가하여 단어 단위의 번역기를 완성시켜보겠습니다. 하지만, 단어 단위로 할 경우에는 단어의 개수가 글자 단위로 했을 경우와 비교하여 단어장의 크기(Vocabulary) 크기도 커지고, 학습 속도도 좀 더 느려집니다. 학습과 테스트 시의 원활한 진행을 위해서 데이터에서 상위 33,000개의 샘플만 사용해주세요."
   ]
  },
  {
   "cell_type": "markdown",
   "id": "dca5299c",
   "metadata": {},
   "source": [
    "33000개 중 3000개는 테스트 데이터로 분리하여 모델을 학습한 후에 번역을 테스트 하는 용도로 사용합니다."
   ]
  },
  {
   "cell_type": "markdown",
   "id": "f86cee9c",
   "metadata": {},
   "source": [
    "### 데이타 파일 읽어오기"
   ]
  },
  {
   "cell_type": "code",
   "execution_count": 2,
   "id": "8868b716",
   "metadata": {},
   "outputs": [
    {
     "name": "stdout",
     "output_type": "stream",
     "text": [
      "전체 샘플의 수 : 197463\n"
     ]
    },
    {
     "data": {
      "text/html": [
       "<div>\n",
       "<style scoped>\n",
       "    .dataframe tbody tr th:only-of-type {\n",
       "        vertical-align: middle;\n",
       "    }\n",
       "\n",
       "    .dataframe tbody tr th {\n",
       "        vertical-align: top;\n",
       "    }\n",
       "\n",
       "    .dataframe thead th {\n",
       "        text-align: right;\n",
       "    }\n",
       "</style>\n",
       "<table border=\"1\" class=\"dataframe\">\n",
       "  <thead>\n",
       "    <tr style=\"text-align: right;\">\n",
       "      <th></th>\n",
       "      <th>eng</th>\n",
       "      <th>fra</th>\n",
       "      <th>cc</th>\n",
       "    </tr>\n",
       "  </thead>\n",
       "  <tbody>\n",
       "    <tr>\n",
       "      <th>91970</th>\n",
       "      <td>What would you like to eat?</td>\n",
       "      <td>Qu'aimerais-tu manger ?</td>\n",
       "      <td>CC-BY 2.0 (France) Attribution: tatoeba.org #4...</td>\n",
       "    </tr>\n",
       "    <tr>\n",
       "      <th>177523</th>\n",
       "      <td>I want you to know what's true and what's not.</td>\n",
       "      <td>Je veux que tu saches ce qui est vrai et ce qu...</td>\n",
       "      <td>CC-BY 2.0 (France) Attribution: tatoeba.org #2...</td>\n",
       "    </tr>\n",
       "    <tr>\n",
       "      <th>68954</th>\n",
       "      <td>You might not like this.</td>\n",
       "      <td>Il se pourrait que vous ne l'aimiez pas.</td>\n",
       "      <td>CC-BY 2.0 (France) Attribution: tatoeba.org #3...</td>\n",
       "    </tr>\n",
       "    <tr>\n",
       "      <th>107405</th>\n",
       "      <td>Would you like a little help?</td>\n",
       "      <td>Désireriez-vous un peu d'aide ?</td>\n",
       "      <td>CC-BY 2.0 (France) Attribution: tatoeba.org #3...</td>\n",
       "    </tr>\n",
       "    <tr>\n",
       "      <th>77496</th>\n",
       "      <td>Do you have any vacancies?</td>\n",
       "      <td>Avez-vous une quelconque chambre de libre ?</td>\n",
       "      <td>CC-BY 2.0 (France) Attribution: tatoeba.org #1...</td>\n",
       "    </tr>\n",
       "  </tbody>\n",
       "</table>\n",
       "</div>"
      ],
      "text/plain": [
       "                                                   eng  \\\n",
       "91970                      What would you like to eat?   \n",
       "177523  I want you to know what's true and what's not.   \n",
       "68954                         You might not like this.   \n",
       "107405                   Would you like a little help?   \n",
       "77496                       Do you have any vacancies?   \n",
       "\n",
       "                                                      fra  \\\n",
       "91970                             Qu'aimerais-tu manger ?   \n",
       "177523  Je veux que tu saches ce qui est vrai et ce qu...   \n",
       "68954            Il se pourrait que vous ne l'aimiez pas.   \n",
       "107405                    Désireriez-vous un peu d'aide ?   \n",
       "77496         Avez-vous une quelconque chambre de libre ?   \n",
       "\n",
       "                                                       cc  \n",
       "91970   CC-BY 2.0 (France) Attribution: tatoeba.org #4...  \n",
       "177523  CC-BY 2.0 (France) Attribution: tatoeba.org #2...  \n",
       "68954   CC-BY 2.0 (France) Attribution: tatoeba.org #3...  \n",
       "107405  CC-BY 2.0 (France) Attribution: tatoeba.org #3...  \n",
       "77496   CC-BY 2.0 (France) Attribution: tatoeba.org #1...  "
      ]
     },
     "execution_count": 2,
     "metadata": {},
     "output_type": "execute_result"
    }
   ],
   "source": [
    "import os\n",
    "file_path = os.getenv('HOME')+'/aiffel/translator_seq2seq/data/fra.txt'\n",
    "lines = pd.read_csv(file_path, names=['eng', 'fra', 'cc'], sep='\\t')\n",
    "print('전체 샘플의 수 :',len(lines))\n",
    "lines.sample(5) #샘플 5개 출력"
   ]
  },
  {
   "cell_type": "markdown",
   "id": "00c7ac87",
   "metadata": {},
   "source": [
    "### 중복 제거"
   ]
  },
  {
   "cell_type": "code",
   "execution_count": 3,
   "id": "9559fdf0",
   "metadata": {},
   "outputs": [
    {
     "name": "stdout",
     "output_type": "stream",
     "text": [
      "중복 제거 후 전체 샘플의 수 : 138912\n"
     ]
    }
   ],
   "source": [
    "lines = lines.drop_duplicates(subset='eng')\n",
    "print('중복 제거 후 전체 샘플의 수 :',len(lines))"
   ]
  },
  {
   "cell_type": "markdown",
   "id": "3c016616",
   "metadata": {},
   "source": [
    "### 불필요한 칼럼 제거"
   ]
  },
  {
   "cell_type": "code",
   "execution_count": 4,
   "id": "c4cd5a9c",
   "metadata": {},
   "outputs": [],
   "source": [
    "lines = lines[['eng', 'fra']][:36000].reset_index(drop=True)"
   ]
  },
  {
   "cell_type": "code",
   "execution_count": 5,
   "id": "eed781b3",
   "metadata": {},
   "outputs": [
    {
     "data": {
      "text/html": [
       "<div>\n",
       "<style scoped>\n",
       "    .dataframe tbody tr th:only-of-type {\n",
       "        vertical-align: middle;\n",
       "    }\n",
       "\n",
       "    .dataframe tbody tr th {\n",
       "        vertical-align: top;\n",
       "    }\n",
       "\n",
       "    .dataframe thead th {\n",
       "        text-align: right;\n",
       "    }\n",
       "</style>\n",
       "<table border=\"1\" class=\"dataframe\">\n",
       "  <thead>\n",
       "    <tr style=\"text-align: right;\">\n",
       "      <th></th>\n",
       "      <th>eng</th>\n",
       "      <th>fra</th>\n",
       "    </tr>\n",
       "  </thead>\n",
       "  <tbody>\n",
       "    <tr>\n",
       "      <th>0</th>\n",
       "      <td>Go.</td>\n",
       "      <td>Va !</td>\n",
       "    </tr>\n",
       "    <tr>\n",
       "      <th>1</th>\n",
       "      <td>Hi.</td>\n",
       "      <td>Salut !</td>\n",
       "    </tr>\n",
       "    <tr>\n",
       "      <th>2</th>\n",
       "      <td>Run!</td>\n",
       "      <td>Cours !</td>\n",
       "    </tr>\n",
       "    <tr>\n",
       "      <th>3</th>\n",
       "      <td>Run.</td>\n",
       "      <td>Cours !</td>\n",
       "    </tr>\n",
       "    <tr>\n",
       "      <th>4</th>\n",
       "      <td>Who?</td>\n",
       "      <td>Qui ?</td>\n",
       "    </tr>\n",
       "    <tr>\n",
       "      <th>...</th>\n",
       "      <td>...</td>\n",
       "      <td>...</td>\n",
       "    </tr>\n",
       "    <tr>\n",
       "      <th>35995</th>\n",
       "      <td>I like walking to work.</td>\n",
       "      <td>J'aime aller au travail à pied.</td>\n",
       "    </tr>\n",
       "    <tr>\n",
       "      <th>35996</th>\n",
       "      <td>I like watching people.</td>\n",
       "      <td>J'aime regarder les gens.</td>\n",
       "    </tr>\n",
       "    <tr>\n",
       "      <th>35997</th>\n",
       "      <td>I like you as a friend.</td>\n",
       "      <td>Je vous apprécie en tant qu'ami.</td>\n",
       "    </tr>\n",
       "    <tr>\n",
       "      <th>35998</th>\n",
       "      <td>I live across the hall.</td>\n",
       "      <td>Je vis de l'autre côté du couloir.</td>\n",
       "    </tr>\n",
       "    <tr>\n",
       "      <th>35999</th>\n",
       "      <td>I live in a rural area.</td>\n",
       "      <td>Je vis en zone rurale.</td>\n",
       "    </tr>\n",
       "  </tbody>\n",
       "</table>\n",
       "<p>36000 rows × 2 columns</p>\n",
       "</div>"
      ],
      "text/plain": [
       "                           eng                                 fra\n",
       "0                          Go.                                Va !\n",
       "1                          Hi.                             Salut !\n",
       "2                         Run!                             Cours !\n",
       "3                         Run.                             Cours !\n",
       "4                         Who?                               Qui ?\n",
       "...                        ...                                 ...\n",
       "35995  I like walking to work.     J'aime aller au travail à pied.\n",
       "35996  I like watching people.           J'aime regarder les gens.\n",
       "35997  I like you as a friend.    Je vous apprécie en tant qu'ami.\n",
       "35998  I live across the hall.  Je vis de l'autre côté du couloir.\n",
       "35999  I live in a rural area.              Je vis en zone rurale.\n",
       "\n",
       "[36000 rows x 2 columns]"
      ]
     },
     "execution_count": 5,
     "metadata": {},
     "output_type": "execute_result"
    }
   ],
   "source": [
    "lines"
   ]
  },
  {
   "cell_type": "markdown",
   "id": "c81f35e7",
   "metadata": {},
   "source": [
    "### 셔플"
   ]
  },
  {
   "cell_type": "code",
   "execution_count": 6,
   "id": "b59050ca",
   "metadata": {},
   "outputs": [],
   "source": [
    "lines = lines.iloc[np.random.permutation(lines.index)].reset_index(drop=True)"
   ]
  },
  {
   "cell_type": "code",
   "execution_count": 7,
   "id": "d86a47bb",
   "metadata": {},
   "outputs": [
    {
     "data": {
      "text/html": [
       "<div>\n",
       "<style scoped>\n",
       "    .dataframe tbody tr th:only-of-type {\n",
       "        vertical-align: middle;\n",
       "    }\n",
       "\n",
       "    .dataframe tbody tr th {\n",
       "        vertical-align: top;\n",
       "    }\n",
       "\n",
       "    .dataframe thead th {\n",
       "        text-align: right;\n",
       "    }\n",
       "</style>\n",
       "<table border=\"1\" class=\"dataframe\">\n",
       "  <thead>\n",
       "    <tr style=\"text-align: right;\">\n",
       "      <th></th>\n",
       "      <th>eng</th>\n",
       "      <th>fra</th>\n",
       "    </tr>\n",
       "  </thead>\n",
       "  <tbody>\n",
       "    <tr>\n",
       "      <th>0</th>\n",
       "      <td>I love being right.</td>\n",
       "      <td>J'adore avoir raison.</td>\n",
       "    </tr>\n",
       "    <tr>\n",
       "      <th>1</th>\n",
       "      <td>I'm good at science.</td>\n",
       "      <td>Je suis bon en Sciences.</td>\n",
       "    </tr>\n",
       "    <tr>\n",
       "      <th>2</th>\n",
       "      <td>You've earned a rest.</td>\n",
       "      <td>Tu as mérité une pause.</td>\n",
       "    </tr>\n",
       "    <tr>\n",
       "      <th>3</th>\n",
       "      <td>Tom's unstable.</td>\n",
       "      <td>Tom est instable.</td>\n",
       "    </tr>\n",
       "    <tr>\n",
       "      <th>4</th>\n",
       "      <td>Don't be a copycat.</td>\n",
       "      <td>Ne sois pas un imitateur.</td>\n",
       "    </tr>\n",
       "    <tr>\n",
       "      <th>...</th>\n",
       "      <td>...</td>\n",
       "      <td>...</td>\n",
       "    </tr>\n",
       "    <tr>\n",
       "      <th>35995</th>\n",
       "      <td>It's a big country.</td>\n",
       "      <td>C'est un grand pays.</td>\n",
       "    </tr>\n",
       "    <tr>\n",
       "      <th>35996</th>\n",
       "      <td>Tom remains obstinate.</td>\n",
       "      <td>Tom est têtu.</td>\n",
       "    </tr>\n",
       "    <tr>\n",
       "      <th>35997</th>\n",
       "      <td>Can I turn on the TV?</td>\n",
       "      <td>Puis-je allumer la télévision ?</td>\n",
       "    </tr>\n",
       "    <tr>\n",
       "      <th>35998</th>\n",
       "      <td>What is your name?</td>\n",
       "      <td>Comment est-ce que tu t'appelles ?</td>\n",
       "    </tr>\n",
       "    <tr>\n",
       "      <th>35999</th>\n",
       "      <td>He started swearing.</td>\n",
       "      <td>Il s'est mis à jurer.</td>\n",
       "    </tr>\n",
       "  </tbody>\n",
       "</table>\n",
       "<p>36000 rows × 2 columns</p>\n",
       "</div>"
      ],
      "text/plain": [
       "                          eng                                 fra\n",
       "0         I love being right.               J'adore avoir raison.\n",
       "1        I'm good at science.            Je suis bon en Sciences.\n",
       "2       You've earned a rest.             Tu as mérité une pause.\n",
       "3             Tom's unstable.                   Tom est instable.\n",
       "4         Don't be a copycat.           Ne sois pas un imitateur.\n",
       "...                       ...                                 ...\n",
       "35995     It's a big country.                C'est un grand pays.\n",
       "35996  Tom remains obstinate.                       Tom est têtu.\n",
       "35997   Can I turn on the TV?     Puis-je allumer la télévision ?\n",
       "35998      What is your name?  Comment est-ce que tu t'appelles ?\n",
       "35999    He started swearing.               Il s'est mis à jurer.\n",
       "\n",
       "[36000 rows x 2 columns]"
      ]
     },
     "execution_count": 7,
     "metadata": {},
     "output_type": "execute_result"
    }
   ],
   "source": [
    "lines"
   ]
  },
  {
   "cell_type": "markdown",
   "id": "5cc2e179",
   "metadata": {},
   "source": [
    "### Step 1. 정제, 정규화, 전처리 (영어, 프랑스어 모두!)\n",
    "---\n",
    "\n",
    "글자 단위가 아닌 단어 단위의 번역기를 하기 위해서는 글자 단위에서는 신경쓰지 않았던 몇 가지 추가적인 전처리가 필요합니다."
   ]
  },
  {
   "cell_type": "markdown",
   "id": "e2ff28a0",
   "metadata": {},
   "source": [
    "1. 구두점(Punctuation)을 단어와 분리해주세요.\n",
    "\n",
    "일반적으로 영어권 언어의 경우에는 띄어쓰기 단위로 단어를 분리합니다. 토큰화(Tokenization) 라고도 불리는 이 작업은 어디서부터 어디까지가 하나의 단어인지를 구분하는 작업인데요, 그런데 띄어쓰기를 해주기 전에 구두점을 분리하는 작업이 필요할 때가 있습니다.\n",
    "예를 들어서 'he is a good boy!'라는 문장이 있을 때, 이를 띄어쓰기 단위로 토큰화한다면 ['he', 'is', 'a', 'good', 'boy!']가 됩니다. 그런데 실제로 !는 boy와 붙어있는 한 단어가 아니므로 좀 더 올바른 전처리는 ['he', 'is', 'a', 'good', 'boy', '!']가 맞습니다.\n",
    "!나 ? 또는 온점과 같은 특수문자들을 구두점(punctuation)이라고 부릅니다. 이들을 토큰화하기 전에 단어와 미리 분리시켜주세요!\n",
    "\n",
    "> 분리 전 : he is a Good boy!  \n",
    "> 분리 후 : he is a Good boy !"
   ]
  },
  {
   "cell_type": "code",
   "execution_count": 8,
   "id": "ad57e165",
   "metadata": {},
   "outputs": [],
   "source": [
    "import re\n",
    "\n",
    "def Seperate_punctuations(sentence: str) -> str:\n",
    "    sentence = re.sub(r\"([?.!,¿])\", r\" \\1 \", sentence) \n",
    "    return sentence"
   ]
  },
  {
   "cell_type": "code",
   "execution_count": 9,
   "id": "fd9d9302",
   "metadata": {},
   "outputs": [],
   "source": [
    "assert Seperate_punctuations('This Is, So To Speak, A Kind Of A Test Sentence.') == ('This Is ,  So To Speak ,  A Kind Of A Test Sentence . '), 'Error in converter to seperate punctuations.'"
   ]
  },
  {
   "cell_type": "code",
   "execution_count": 10,
   "id": "402f03c9",
   "metadata": {},
   "outputs": [],
   "source": [
    "def Sepearate_entire_punctuations_for(df: pd.DataFrame) -> None:\n",
    "    for index, row in df.iterrows():\n",
    "        row['eng'] = Seperate_punctuations(row['eng'])\n",
    "        row['fra'] = Seperate_punctuations(row['fra'])"
   ]
  },
  {
   "cell_type": "code",
   "execution_count": 11,
   "id": "4944648d",
   "metadata": {},
   "outputs": [],
   "source": [
    "Sepearate_entire_punctuations_for(lines)"
   ]
  },
  {
   "cell_type": "code",
   "execution_count": 12,
   "id": "fc8d2aa1",
   "metadata": {},
   "outputs": [
    {
     "data": {
      "text/html": [
       "<div>\n",
       "<style scoped>\n",
       "    .dataframe tbody tr th:only-of-type {\n",
       "        vertical-align: middle;\n",
       "    }\n",
       "\n",
       "    .dataframe tbody tr th {\n",
       "        vertical-align: top;\n",
       "    }\n",
       "\n",
       "    .dataframe thead th {\n",
       "        text-align: right;\n",
       "    }\n",
       "</style>\n",
       "<table border=\"1\" class=\"dataframe\">\n",
       "  <thead>\n",
       "    <tr style=\"text-align: right;\">\n",
       "      <th></th>\n",
       "      <th>eng</th>\n",
       "      <th>fra</th>\n",
       "    </tr>\n",
       "  </thead>\n",
       "  <tbody>\n",
       "    <tr>\n",
       "      <th>0</th>\n",
       "      <td>I love being right .</td>\n",
       "      <td>J'adore avoir raison .</td>\n",
       "    </tr>\n",
       "    <tr>\n",
       "      <th>1</th>\n",
       "      <td>I'm good at science .</td>\n",
       "      <td>Je suis bon en Sciences .</td>\n",
       "    </tr>\n",
       "    <tr>\n",
       "      <th>2</th>\n",
       "      <td>You've earned a rest .</td>\n",
       "      <td>Tu as mérité une pause .</td>\n",
       "    </tr>\n",
       "    <tr>\n",
       "      <th>3</th>\n",
       "      <td>Tom's unstable .</td>\n",
       "      <td>Tom est instable .</td>\n",
       "    </tr>\n",
       "    <tr>\n",
       "      <th>4</th>\n",
       "      <td>Don't be a copycat .</td>\n",
       "      <td>Ne sois pas un imitateur .</td>\n",
       "    </tr>\n",
       "  </tbody>\n",
       "</table>\n",
       "</div>"
      ],
      "text/plain": [
       "                       eng                          fra\n",
       "0    I love being right .       J'adore avoir raison . \n",
       "1   I'm good at science .    Je suis bon en Sciences . \n",
       "2  You've earned a rest .     Tu as mérité une pause . \n",
       "3        Tom's unstable .           Tom est instable . \n",
       "4    Don't be a copycat .   Ne sois pas un imitateur . "
      ]
     },
     "execution_count": 12,
     "metadata": {},
     "output_type": "execute_result"
    }
   ],
   "source": [
    "lines.head()"
   ]
  },
  {
   "cell_type": "markdown",
   "id": "7991718e",
   "metadata": {},
   "source": [
    "2. 소문자로 바꿔주세요.\n",
    "\n",
    "기계가 보기에는 스펠링이 같더라도 대문자로 된 단어와 소문자로 된 단어는 서로 다른 단어입니다. 예를 들어 'Good'과 'good'은 기계가 보기에는 다른 단어입니다. 그래서 모든 문장에 대해서 전부 영어로 바꿔주는 작업을 하겠습니다.\n",
    "\n",
    "> 변환 전 : he is a Good boy !  \n",
    "> 변환 후 : he is a good boy !"
   ]
  },
  {
   "cell_type": "code",
   "execution_count": 13,
   "id": "78112830",
   "metadata": {},
   "outputs": [],
   "source": [
    "import re\n",
    "\n",
    "def Convert_to_lower_case(sentence: str) -> str:\n",
    "    sentence = sentence.lower().strip()\n",
    "    return sentence"
   ]
  },
  {
   "cell_type": "code",
   "execution_count": 14,
   "id": "034aa271",
   "metadata": {},
   "outputs": [],
   "source": [
    "assert Convert_to_lower_case('This Is A Test Sentence.') == ('this is a test sentence.'), 'Error in converter for lower case.'"
   ]
  },
  {
   "cell_type": "code",
   "execution_count": 15,
   "id": "661a17fb",
   "metadata": {},
   "outputs": [],
   "source": [
    "def Convert_to_lower_cases_for(df: pd.DataFrame) -> None:\n",
    "    for index, row in df.iterrows():\n",
    "        row['eng'] = Convert_to_lower_case(row['eng'])\n",
    "        row['fra'] = Convert_to_lower_case(row['fra'])"
   ]
  },
  {
   "cell_type": "code",
   "execution_count": 16,
   "id": "58d1c9b2",
   "metadata": {},
   "outputs": [],
   "source": [
    "Convert_to_lower_cases_for(lines)"
   ]
  },
  {
   "cell_type": "code",
   "execution_count": 17,
   "id": "8967828f",
   "metadata": {},
   "outputs": [
    {
     "data": {
      "text/html": [
       "<div>\n",
       "<style scoped>\n",
       "    .dataframe tbody tr th:only-of-type {\n",
       "        vertical-align: middle;\n",
       "    }\n",
       "\n",
       "    .dataframe tbody tr th {\n",
       "        vertical-align: top;\n",
       "    }\n",
       "\n",
       "    .dataframe thead th {\n",
       "        text-align: right;\n",
       "    }\n",
       "</style>\n",
       "<table border=\"1\" class=\"dataframe\">\n",
       "  <thead>\n",
       "    <tr style=\"text-align: right;\">\n",
       "      <th></th>\n",
       "      <th>eng</th>\n",
       "      <th>fra</th>\n",
       "    </tr>\n",
       "  </thead>\n",
       "  <tbody>\n",
       "    <tr>\n",
       "      <th>0</th>\n",
       "      <td>i love being right .</td>\n",
       "      <td>j'adore avoir raison .</td>\n",
       "    </tr>\n",
       "    <tr>\n",
       "      <th>1</th>\n",
       "      <td>i'm good at science .</td>\n",
       "      <td>je suis bon en sciences .</td>\n",
       "    </tr>\n",
       "    <tr>\n",
       "      <th>2</th>\n",
       "      <td>you've earned a rest .</td>\n",
       "      <td>tu as mérité une pause .</td>\n",
       "    </tr>\n",
       "    <tr>\n",
       "      <th>3</th>\n",
       "      <td>tom's unstable .</td>\n",
       "      <td>tom est instable .</td>\n",
       "    </tr>\n",
       "    <tr>\n",
       "      <th>4</th>\n",
       "      <td>don't be a copycat .</td>\n",
       "      <td>ne sois pas un imitateur .</td>\n",
       "    </tr>\n",
       "  </tbody>\n",
       "</table>\n",
       "</div>"
      ],
      "text/plain": [
       "                      eng                         fra\n",
       "0    i love being right .      j'adore avoir raison .\n",
       "1   i'm good at science .   je suis bon en sciences .\n",
       "2  you've earned a rest .    tu as mérité une pause .\n",
       "3        tom's unstable .          tom est instable .\n",
       "4    don't be a copycat .  ne sois pas un imitateur ."
      ]
     },
     "execution_count": 17,
     "metadata": {},
     "output_type": "execute_result"
    }
   ],
   "source": [
    "lines.head()"
   ]
  },
  {
   "cell_type": "markdown",
   "id": "331fe39a",
   "metadata": {},
   "source": [
    "### 디코더에 시작토큰과 종료 토큰 삽입"
   ]
  },
  {
   "cell_type": "code",
   "execution_count": 18,
   "id": "757a1efe",
   "metadata": {},
   "outputs": [
    {
     "name": "stdout",
     "output_type": "stream",
     "text": [
      "전체 샘플의 수 : 36000\n"
     ]
    },
    {
     "data": {
      "text/html": [
       "<div>\n",
       "<style scoped>\n",
       "    .dataframe tbody tr th:only-of-type {\n",
       "        vertical-align: middle;\n",
       "    }\n",
       "\n",
       "    .dataframe tbody tr th {\n",
       "        vertical-align: top;\n",
       "    }\n",
       "\n",
       "    .dataframe thead th {\n",
       "        text-align: right;\n",
       "    }\n",
       "</style>\n",
       "<table border=\"1\" class=\"dataframe\">\n",
       "  <thead>\n",
       "    <tr style=\"text-align: right;\">\n",
       "      <th></th>\n",
       "      <th>eng</th>\n",
       "      <th>fra</th>\n",
       "    </tr>\n",
       "  </thead>\n",
       "  <tbody>\n",
       "    <tr>\n",
       "      <th>7789</th>\n",
       "      <td>i was a passenger .</td>\n",
       "      <td>&lt;sos&gt; j'étais passager . &lt;eos&gt;</td>\n",
       "    </tr>\n",
       "    <tr>\n",
       "      <th>28112</th>\n",
       "      <td>he can play the guitar .</td>\n",
       "      <td>&lt;sos&gt; il sait jouer de la guitare . &lt;eos&gt;</td>\n",
       "    </tr>\n",
       "    <tr>\n",
       "      <th>2515</th>\n",
       "      <td>he came home very late .</td>\n",
       "      <td>&lt;sos&gt; il est rentré à la maison très tard . &lt;eos&gt;</td>\n",
       "    </tr>\n",
       "    <tr>\n",
       "      <th>35145</th>\n",
       "      <td>it gets better .</td>\n",
       "      <td>&lt;sos&gt; ça s'améliore . &lt;eos&gt;</td>\n",
       "    </tr>\n",
       "    <tr>\n",
       "      <th>32341</th>\n",
       "      <td>tom will probably win .</td>\n",
       "      <td>&lt;sos&gt; tom gagnera probablement . &lt;eos&gt;</td>\n",
       "    </tr>\n",
       "  </tbody>\n",
       "</table>\n",
       "</div>"
      ],
      "text/plain": [
       "                            eng  \\\n",
       "7789        i was a passenger .   \n",
       "28112  he can play the guitar .   \n",
       "2515   he came home very late .   \n",
       "35145          it gets better .   \n",
       "32341   tom will probably win .   \n",
       "\n",
       "                                                     fra  \n",
       "7789                      <sos> j'étais passager . <eos>  \n",
       "28112          <sos> il sait jouer de la guitare . <eos>  \n",
       "2515   <sos> il est rentré à la maison très tard . <eos>  \n",
       "35145                        <sos> ça s'améliore . <eos>  \n",
       "32341             <sos> tom gagnera probablement . <eos>  "
      ]
     },
     "execution_count": 18,
     "metadata": {},
     "output_type": "execute_result"
    }
   ],
   "source": [
    "sos_token = '<sos>'\n",
    "eos_token = '<eos>'\n",
    "lines.fra = lines.fra.apply(lambda x : '<sos> '+ x + ' <eos>')\n",
    "print('전체 샘플의 수 :',len(lines))\n",
    "lines.sample(5)"
   ]
  },
  {
   "cell_type": "markdown",
   "id": "3b05b65d",
   "metadata": {},
   "source": [
    "3. 띄어쓰기 단위로 토큰화를 수행하세요.\n",
    "\n",
    "띄어쓰기 단위로 토큰화를 수행해서 단어를 분리하는 작업을 해주세요. 기계는 이렇게 분리된 토큰들을 각각 하나의 단어로 인식할 수 있게 됩니다.\n",
    "\n",
    "> 토큰화 전 : 'he is a good boy !'  \n",
    "> 토큰화 후 : ['he', 'is', 'a', 'good', 'boy', '!']"
   ]
  },
  {
   "cell_type": "code",
   "execution_count": 19,
   "id": "1f5730af",
   "metadata": {},
   "outputs": [],
   "source": [
    "def Tokenize_by_word(sentence: str) -> list:\n",
    "    return sentence.split()"
   ]
  },
  {
   "cell_type": "code",
   "execution_count": 20,
   "id": "7084d4b3",
   "metadata": {},
   "outputs": [],
   "source": [
    "assert Tokenize_by_word('he is a good boy !') == ['he', 'is', 'a', 'good', 'boy', '!'], 'word tokenizer error.'"
   ]
  },
  {
   "cell_type": "code",
   "execution_count": 21,
   "id": "4d1e0ec6",
   "metadata": {},
   "outputs": [],
   "source": [
    "def Tokenize_by_word_for(df: pd.DataFrame) -> (list, list): # english, french\n",
    "    encode_sentences = []\n",
    "    decode_sentences = []\n",
    "    for index, row in df.iterrows():\n",
    "        encode_tokens = Tokenize_by_word(row['eng'])\n",
    "        decode_tokens = Tokenize_by_word(row['fra'])\n",
    "        encode_sentences.append(encode_tokens)\n",
    "        decode_sentences.append(decode_tokens)\n",
    "    return encode_sentences, decode_sentences"
   ]
  },
  {
   "cell_type": "code",
   "execution_count": 22,
   "id": "e8bc8392",
   "metadata": {},
   "outputs": [],
   "source": [
    "english_corpus, french_corpus = Tokenize_by_word_for(lines)"
   ]
  },
  {
   "cell_type": "markdown",
   "id": "f7a9802f",
   "metadata": {},
   "source": [
    "### Step 2. 디코더의 문장에 시작 토큰과 종료 토큰을 넣어주세요.\n",
    "---"
   ]
  },
  {
   "cell_type": "markdown",
   "id": "05ab0d79",
   "metadata": {},
   "source": [
    "글자 단위 번역기를 구현할 때와 마찬가지로 디코더의 입력 시퀀스 맨 앞에는 시작을 의미하는 토큰인 <sos>가 필요합니다. 그리고 교사 강요를 수행할 때, 디코더의 실제값이 되는 디코더의 레이블 시퀀스에는 종료를 의미하는 종료 토큰 <eos>가 필요합니다.\n",
    "예를 들어 번역 문장이 \"Courez!\" 였다고 한다면, Step 1을 거친 후에는 다음과 같은 결과를 얻습니다.\n",
    "\n",
    "> Step 1을 수행한 후 : ['courez', '!']"
   ]
  },
  {
   "cell_type": "code",
   "execution_count": 23,
   "id": "2d4ce124",
   "metadata": {},
   "outputs": [
    {
     "data": {
      "text/plain": [
       "['i', 'love', 'being', 'right', '.']"
      ]
     },
     "execution_count": 23,
     "metadata": {},
     "output_type": "execute_result"
    }
   ],
   "source": [
    "english_corpus[0]"
   ]
  },
  {
   "cell_type": "markdown",
   "id": "80590ae1",
   "metadata": {},
   "source": [
    "이 문장에 대해서 각각 디코더의 입력 시퀀스와 레이블 시퀀스를 만들면 다음과 같습니다.\n",
    "\n",
    "> 입력 시퀀스 : ['< sos >', 'courez', '!']  \n",
    "> 레이블 시퀀스 : ['courez', '!', '< eos >']"
   ]
  },
  {
   "cell_type": "code",
   "execution_count": 24,
   "id": "4407baf2",
   "metadata": {},
   "outputs": [
    {
     "data": {
      "text/plain": [
       "['<sos>', \"j'adore\", 'avoir', 'raison', '.', '<eos>']"
      ]
     },
     "execution_count": 24,
     "metadata": {},
     "output_type": "execute_result"
    }
   ],
   "source": [
    "french_corpus[0]"
   ]
  },
  {
   "cell_type": "markdown",
   "id": "76a965f1",
   "metadata": {},
   "source": [
    "참고로 Step 2가 반드시 Step 1이 끝난 후에 이루어질 필요는 없습니다!  \n",
    "Step 1을 수행하는 중간에 수행해도 상관없습니다."
   ]
  },
  {
   "cell_type": "markdown",
   "id": "78f84c9f",
   "metadata": {},
   "source": [
    "### Step 3. 케라스의 토크나이저로 텍스트를 숫자로 바꿔보세요.\n",
    "---"
   ]
  },
  {
   "cell_type": "markdown",
   "id": "87c6aa8f",
   "metadata": {},
   "source": [
    "딥러닝 모델은 텍스트가 아닌 숫자를 처리합니다. 케라스 토크나이저를 사용해서 각 단어를 고유한 정수로 바꿔보세요.\n",
    "케라스 토크나이저의 사용법은 아래의 링크에서 2. 케라스(Keras)의 텍스트 전처리에 설명되어 있습니다.\n",
    "\n",
    "[위키독스](https://wikidocs.net/31766)  \n",
    "\n",
    "위 링크의 가이드를 통해서 영어와 프랑스어에 대한 토크나이저를 각각 생성하고, tokenizer.texts_to_sequences()를 사용하여 모든 샘플에 대해서 정수 시퀀스로 변환해보세요."
   ]
  },
  {
   "cell_type": "code",
   "execution_count": 25,
   "id": "1c5afb35",
   "metadata": {},
   "outputs": [],
   "source": [
    "import tensorflow as tf\n",
    "from tensorflow.keras.preprocessing.text import Tokenizer"
   ]
  },
  {
   "cell_type": "code",
   "execution_count": 26,
   "id": "ff367247",
   "metadata": {},
   "outputs": [],
   "source": [
    "def tokenize(corpus):\n",
    "    tokenizer = Tokenizer()\n",
    "    tokenizer.fit_on_texts(corpus)\n",
    "    tensor = tokenizer.texts_to_sequences(corpus)        \n",
    "    return tensor, tokenizer"
   ]
  },
  {
   "cell_type": "code",
   "execution_count": 27,
   "id": "39e956cd",
   "metadata": {},
   "outputs": [],
   "source": [
    "english_text, english_tokenizer = tokenize(english_corpus)\n",
    "french_text, french_tokenizer = tokenize(french_corpus)"
   ]
  },
  {
   "cell_type": "code",
   "execution_count": 28,
   "id": "1cc0df00",
   "metadata": {},
   "outputs": [
    {
     "data": {
      "text/plain": [
       "[[2, 66, 327, 102, 1], [12, 58, 59, 2001, 1], [371, 2954, 4, 399, 1]]"
      ]
     },
     "execution_count": 28,
     "metadata": {},
     "output_type": "execute_result"
    }
   ],
   "source": [
    "english_text[:3]"
   ]
  },
  {
   "cell_type": "code",
   "execution_count": 29,
   "id": "f0f57a0c",
   "metadata": {},
   "outputs": [
    {
     "data": {
      "text/plain": [
       "[[1, 136, 196, 198, 3, 2],\n",
       " [1, 4, 21, 80, 27, 3063, 3, 2],\n",
       " [1, 23, 86, 1939, 24, 829, 3, 2]]"
      ]
     },
     "execution_count": 29,
     "metadata": {},
     "output_type": "execute_result"
    }
   ],
   "source": [
    "french_text[:3]"
   ]
  },
  {
   "cell_type": "markdown",
   "id": "570f255d",
   "metadata": {},
   "source": [
    "####  인코딩 상태 확인"
   ]
  },
  {
   "cell_type": "code",
   "execution_count": 30,
   "id": "953a1b19",
   "metadata": {},
   "outputs": [
    {
     "name": "stdout",
     "output_type": "stream",
     "text": [
      "영어 문장수 36000\n",
      "프랑스어 문장수 36000\n"
     ]
    }
   ],
   "source": [
    "print('영어 문장수', len(english_text))\n",
    "print('프랑스어 문장수', len(french_text))"
   ]
  },
  {
   "cell_type": "code",
   "execution_count": 31,
   "id": "0efe9c39",
   "metadata": {},
   "outputs": [
    {
     "name": "stdout",
     "output_type": "stream",
     "text": [
      "영어 단어수: 6681\n",
      "프랑스어 단어수: 11040\n"
     ]
    }
   ],
   "source": [
    "english_vocab_size = len(english_tokenizer.word_index) + 1\n",
    "french_vocab_size = len(french_tokenizer.word_index) + 1\n",
    "print('영어 단어수:', english_vocab_size)\n",
    "print('프랑스어 단어수:', french_vocab_size)"
   ]
  },
  {
   "cell_type": "code",
   "execution_count": 32,
   "id": "4853f2c3",
   "metadata": {},
   "outputs": [
    {
     "name": "stdout",
     "output_type": "stream",
     "text": [
      "영어 문장 최대 길이 : 9\n",
      "프랑스 문장 최대 길이 : 15\n"
     ]
    }
   ],
   "source": [
    "max_eng_len = max([len(s) for s in english_text])\n",
    "max_fre_len = max([len(s) for s in french_text])\n",
    "print('영어 문장 최대 길이 :', max_eng_len)\n",
    "print('프랑스 문장 최대 길이 :', max_fre_len)"
   ]
  },
  {
   "cell_type": "markdown",
   "id": "798bdd56",
   "metadata": {},
   "source": [
    "### Step 4. 임베딩 층(Embedding layer) 사용하기"
   ]
  },
  {
   "cell_type": "markdown",
   "id": "69ea60d3",
   "metadata": {},
   "source": [
    "이번에는 입력이 되는 각 단어를 임베딩 층을 사용하여 벡터화하겠습니다.\n",
    "임베딩 층을 사용하는 방법과 그 설명에 대해서는 아래의 링크의 1. 케라스 임베딩 층(Keras Embedding layer) 을 참고하세요.\n",
    "\n",
    "[위키독스](https://wikidocs.net/33793)\n",
    "\n",
    "실제 번역기 구현을 위해서 사용할 수 있는 인코더 코드의 예시는 다음과 같습니다. 이를 통해서 인코더와 디코더의 임베딩 층을 각각 구현해보세요."
   ]
  },
  {
   "cell_type": "code",
   "execution_count": 33,
   "id": "3e1d7a20",
   "metadata": {},
   "outputs": [],
   "source": [
    "from tensorflow.keras.layers import Input, LSTM, Embedding, Dense, Masking\n",
    "from tensorflow.keras.models import Model"
   ]
  },
  {
   "cell_type": "code",
   "execution_count": 34,
   "id": "03b4b4e2",
   "metadata": {},
   "outputs": [
    {
     "data": {
      "text/plain": [
       "36000"
      ]
     },
     "execution_count": 34,
     "metadata": {},
     "output_type": "execute_result"
    }
   ],
   "source": [
    "len(french_text)"
   ]
  },
  {
   "cell_type": "code",
   "execution_count": 35,
   "id": "a2b6555f",
   "metadata": {},
   "outputs": [],
   "source": [
    "encoder_input = english_text\n",
    "decoder_input = [sentence[:-1] for sentence in french_text]\n",
    "decoder_target = [sentence[1:] for sentence in french_text]\n",
    "# decoder_input = [[ char for char in line if char != french_tokenizer.word_index[eos_token] ] for line in french_text] \n",
    "# decoder_target = [[ char for char in line if char != french_tokenizer.word_index[sos_token] ] for line in french_text]"
   ]
  },
  {
   "cell_type": "code",
   "execution_count": 36,
   "id": "b5494b34",
   "metadata": {},
   "outputs": [
    {
     "name": "stdout",
     "output_type": "stream",
     "text": [
      "영어 데이타 크기(shape) : (36000, 9)\n",
      "프랑스어 입력 데이타 크기(shape) : (36000, 15)\n",
      "프랑스어 타겟 데이타 크기(shape) : (36000, 15)\n"
     ]
    }
   ],
   "source": [
    "encoder_input = pad_sequences(encoder_input, maxlen = max_eng_len, padding='post')\n",
    "decoder_input = pad_sequences(decoder_input, maxlen = max_fre_len, padding='post')\n",
    "decoder_target = pad_sequences(decoder_target, maxlen = max_fre_len, padding='post')\n",
    "print('영어 데이타 크기(shape) :',np.shape(encoder_input))\n",
    "print('프랑스어 입력 데이타 크기(shape) :',np.shape(decoder_input))\n",
    "print('프랑스어 타겟 데이타 크기(shape) :',np.shape(decoder_target))"
   ]
  },
  {
   "cell_type": "code",
   "execution_count": 37,
   "id": "2cd8131b",
   "metadata": {},
   "outputs": [
    {
     "name": "stdout",
     "output_type": "stream",
     "text": [
      "영어 학습데이터의 크기(shape) : (30000, 9)\n",
      "프랑스어 학습 입력데이터의 크기(shape) : (30000, 15)\n",
      "프랑스어 학습 출력데이터의 크기(shape) : (30000, 15)\n",
      "\n",
      "영어 학습데이터의 크기(shape) : (3000, 9)\n",
      "프랑스어 학습 입력데이터의 크기(shape) : (3000, 15)\n",
      "프랑스어 학습 출력데이터의 크기(shape) : (3000, 15)\n",
      "\n",
      "영어 학습데이터의 크기(shape) : (3000, 9)\n",
      "프랑스어 학습 입력데이터의 크기(shape) : (3000, 15)\n",
      "프랑스어 학습 출력데이터의 크기(shape) : (3000, 15)\n"
     ]
    }
   ],
   "source": [
    "test_num = 3000\n",
    "val_num = 3000\n",
    "\n",
    "encoder_input_train = encoder_input[:-6000]\n",
    "decoder_input_train = decoder_input[:-6000]\n",
    "decoder_target_train = decoder_target[:-6000]\n",
    "\n",
    "encoder_input_val = encoder_input[-6000:-3000]\n",
    "decoder_input_val = decoder_input[-6000:-3000]\n",
    "decoder_target_val = decoder_target[-6000:-3000]\n",
    "\n",
    "encoder_input_test = encoder_input[-3000:]\n",
    "decoder_input_test = decoder_input[-3000:]\n",
    "decoder_target_test = decoder_target[-3000:]\n",
    "\n",
    "\n",
    "print('영어 학습데이터의 크기(shape) :',np.shape(encoder_input_train))\n",
    "print('프랑스어 학습 입력데이터의 크기(shape) :',np.shape(decoder_input_train))\n",
    "print('프랑스어 학습 출력데이터의 크기(shape) :',np.shape(decoder_target_train))\n",
    "print()\n",
    "print('영어 학습데이터의 크기(shape) :',np.shape(encoder_input_val))\n",
    "print('프랑스어 학습 입력데이터의 크기(shape) :',np.shape(decoder_input_val))\n",
    "print('프랑스어 학습 출력데이터의 크기(shape) :',np.shape(decoder_target_val))\n",
    "print()\n",
    "print('영어 학습데이터의 크기(shape) :',np.shape(encoder_input_test))\n",
    "print('프랑스어 학습 입력데이터의 크기(shape) :',np.shape(decoder_input_test))\n",
    "print('프랑스어 학습 출력데이터의 크기(shape) :',np.shape(decoder_target_test))"
   ]
  },
  {
   "cell_type": "code",
   "execution_count": 38,
   "id": "c37a73f8",
   "metadata": {},
   "outputs": [
    {
     "name": "stdout",
     "output_type": "stream",
     "text": [
      "[  2  66 327 102   1   0   0   0   0]\n"
     ]
    }
   ],
   "source": [
    "print(encoder_input_train[0])"
   ]
  },
  {
   "cell_type": "markdown",
   "id": "3d5a9aca",
   "metadata": {},
   "source": [
    "#### 인코더"
   ]
  },
  {
   "cell_type": "code",
   "execution_count": 39,
   "id": "3ec4fbe6",
   "metadata": {},
   "outputs": [],
   "source": [
    "# 입력 텐서 정의 및 생성.\n",
    "eng_vocab_size = english_vocab_size\n",
    "fra_vocab_size = french_vocab_size\n",
    "\n",
    "encoder_inputs = Input(shape=(None,))\n",
    "enc_emb_layer =  Embedding(eng_vocab_size, 128)(encoder_inputs)\n",
    "encoder_lstm = LSTM(units=256, return_state=True)\n",
    "encoder_outputs, state_h, state_c = encoder_lstm(enc_emb_layer)\n",
    "encoder_states = [state_h, state_c]"
   ]
  },
  {
   "cell_type": "markdown",
   "id": "c52d7f23",
   "metadata": {},
   "source": [
    "#### 디코더"
   ]
  },
  {
   "cell_type": "code",
   "execution_count": 40,
   "id": "f416570e",
   "metadata": {},
   "outputs": [],
   "source": [
    "decoder_inputs = Input(shape=(None,))\n",
    "dec_emb_layer = Embedding(fra_vocab_size, 128)\n",
    "dec_emb_layer = dec_emb_layer(decoder_inputs) \n",
    "decoder_lstm = LSTM(256, return_sequences=True, return_state=True)\n",
    "decoder_outputs, _, _ = decoder_lstm(dec_emb_layer, initial_state=encoder_states)"
   ]
  },
  {
   "cell_type": "markdown",
   "id": "906a03a0",
   "metadata": {},
   "source": [
    "#### 출력층"
   ]
  },
  {
   "cell_type": "code",
   "execution_count": 41,
   "id": "0a96f904",
   "metadata": {},
   "outputs": [],
   "source": [
    "decoder_softmax_layer = Dense(fra_vocab_size, activation='softmax')\n",
    "decoder_outputs = decoder_softmax_layer(decoder_outputs)"
   ]
  },
  {
   "cell_type": "markdown",
   "id": "c56bb7fe",
   "metadata": {},
   "source": [
    "### Step 5. 모델 구현하기\n",
    "---\n",
    "\n",
    "글자 단위 번역기에서 구현한 모델을 참고로 단어 단위 번역기의 모델을 완성시켜보세요! 이때는 label이 integer 값이므로 categorical entropy loss가 아닌 sparse categorical entropy loss를 사용합니다."
   ]
  },
  {
   "cell_type": "code",
   "execution_count": 42,
   "id": "b1ec4368",
   "metadata": {},
   "outputs": [],
   "source": [
    "model = Model([encoder_inputs, decoder_inputs], decoder_outputs)"
   ]
  },
  {
   "cell_type": "code",
   "execution_count": 43,
   "id": "a9c6519f",
   "metadata": {},
   "outputs": [],
   "source": [
    "model.compile(optimizer=\"rmsprop\", loss=\"sparse_categorical_crossentropy\")"
   ]
  },
  {
   "cell_type": "code",
   "execution_count": 44,
   "id": "ed38940b",
   "metadata": {},
   "outputs": [
    {
     "name": "stdout",
     "output_type": "stream",
     "text": [
      "Model: \"model\"\n",
      "__________________________________________________________________________________________________\n",
      "Layer (type)                    Output Shape         Param #     Connected to                     \n",
      "==================================================================================================\n",
      "input_1 (InputLayer)            [(None, None)]       0                                            \n",
      "__________________________________________________________________________________________________\n",
      "input_2 (InputLayer)            [(None, None)]       0                                            \n",
      "__________________________________________________________________________________________________\n",
      "embedding (Embedding)           (None, None, 128)    855168      input_1[0][0]                    \n",
      "__________________________________________________________________________________________________\n",
      "embedding_1 (Embedding)         (None, None, 128)    1413120     input_2[0][0]                    \n",
      "__________________________________________________________________________________________________\n",
      "lstm (LSTM)                     [(None, 256), (None, 394240      embedding[0][0]                  \n",
      "__________________________________________________________________________________________________\n",
      "lstm_1 (LSTM)                   [(None, None, 256),  394240      embedding_1[0][0]                \n",
      "                                                                 lstm[0][1]                       \n",
      "                                                                 lstm[0][2]                       \n",
      "__________________________________________________________________________________________________\n",
      "dense (Dense)                   (None, None, 11040)  2837280     lstm_1[0][0]                     \n",
      "==================================================================================================\n",
      "Total params: 5,894,048\n",
      "Trainable params: 5,894,048\n",
      "Non-trainable params: 0\n",
      "__________________________________________________________________________________________________\n"
     ]
    }
   ],
   "source": [
    "model.summary()"
   ]
  },
  {
   "cell_type": "markdown",
   "id": "10ac6bff",
   "metadata": {},
   "source": [
    "### 모델 훈련하기"
   ]
  },
  {
   "cell_type": "code",
   "execution_count": 45,
   "id": "5018cd50",
   "metadata": {},
   "outputs": [
    {
     "data": {
      "text/plain": [
       "(30000, 15)"
      ]
     },
     "execution_count": 45,
     "metadata": {},
     "output_type": "execute_result"
    }
   ],
   "source": [
    "decoder_target_train.shape"
   ]
  },
  {
   "cell_type": "code",
   "execution_count": 46,
   "id": "8e8bda5d",
   "metadata": {
    "scrolled": false
   },
   "outputs": [
    {
     "name": "stdout",
     "output_type": "stream",
     "text": [
      "Epoch 1/10\n",
      "235/235 [==============================] - 10s 24ms/step - loss: 2.1805 - val_loss: 1.7953\n",
      "Epoch 2/10\n",
      "235/235 [==============================] - 5s 21ms/step - loss: 1.6114 - val_loss: 1.5285\n",
      "Epoch 3/10\n",
      "235/235 [==============================] - 5s 21ms/step - loss: 1.4131 - val_loss: 1.4120\n",
      "Epoch 4/10\n",
      "235/235 [==============================] - 5s 21ms/step - loss: 1.2897 - val_loss: 1.3125\n",
      "Epoch 5/10\n",
      "235/235 [==============================] - 5s 21ms/step - loss: 1.2011 - val_loss: 1.2557\n",
      "Epoch 6/10\n",
      "235/235 [==============================] - 5s 21ms/step - loss: 1.1325 - val_loss: 1.2131\n",
      "Epoch 7/10\n",
      "235/235 [==============================] - 5s 21ms/step - loss: 1.0767 - val_loss: 1.1798\n",
      "Epoch 8/10\n",
      "235/235 [==============================] - 5s 21ms/step - loss: 1.0289 - val_loss: 1.1503\n",
      "Epoch 9/10\n",
      "235/235 [==============================] - 5s 21ms/step - loss: 0.9865 - val_loss: 1.1291\n",
      "Epoch 10/10\n",
      "235/235 [==============================] - 5s 21ms/step - loss: 0.9472 - val_loss: 1.1085\n"
     ]
    }
   ],
   "source": [
    "history = model.fit(x=[encoder_input_train, decoder_input_train], y=decoder_target_train, \\\n",
    "          validation_data = ([encoder_input_val, decoder_input_val], decoder_target_val), \n",
    "          batch_size=128, epochs=10)"
   ]
  },
  {
   "cell_type": "code",
   "execution_count": 47,
   "id": "e9d90fa3",
   "metadata": {},
   "outputs": [
    {
     "data": {
      "text/plain": [
       "<matplotlib.legend.Legend at 0x7f1c641baf10>"
      ]
     },
     "execution_count": 47,
     "metadata": {},
     "output_type": "execute_result"
    },
    {
     "data": {
      "image/png": "[encoded data removed]",
      "text/plain": [
       "<Figure size 1080x432 with 1 Axes>"
      ]
     },
     "metadata": {
      "needs_background": "light"
     },
     "output_type": "display_data"
    }
   ],
   "source": [
    "import matplotlib.pyplot as plt\n",
    "\n",
    "fig = plt.figure(figsize=(15,6))\n",
    "\n",
    "for k,v in history.history.items():\n",
    "    plt.plot(history.history[k], label=k)\n",
    "plt.ylim(0, 3)\n",
    "plt.title('RMS Prop, Batch Size 128')\n",
    "plt.legend()"
   ]
  },
  {
   "cell_type": "markdown",
   "id": "28a2b536",
   "metadata": {},
   "source": [
    "### Step 6. 모델 평가하기\n",
    "---\n",
    "단어 단위 번역기를 이용하여 훈련 데이터의 샘플과 테스트 데이터의 샘플로 번역 문장을 만들어보고 정답 문장과 번역 문장을 비교해보세요. 이전 스텝들에서 우리가 공부했던 모델의 경우 글자 단위에서 구현된 번역기이며 현재 프로젝트를 진행할 때 사용하는 모델은 단어 단위에서 구현되는 번역기입니다.\n",
    "\n",
    "> Embedding layer가 추가되기 때문에 학습했던 내용 그대로 사용할 경우 shape에서 error가 발생합니다.\n",
    "> decode sentence를 구성할 때 고민해보세요!!\n",
    "\n",
    "고민하다 풀리지 않을 경우에는 하단 내용 참고해주세요."
   ]
  },
  {
   "cell_type": "markdown",
   "id": "b2204240",
   "metadata": {},
   "source": [
    "루브릭  \n",
    "아래의 기준을 바탕으로 프로젝트를 평가합니다.  \n",
    "평가문항\t상세기준\n",
    "\n",
    "1. 번역기 모델 학습에 필요한 텍스트 데이터 전처리가 잘 이루어졌다.  \n",
    "구두점, 대소문자, 띄어쓰기 등 번역기 모델에 요구되는 전처리가 정상적으로 진행되었다.  \n",
    "\n",
    "2. seq2seq 기반의 번역기 모델이 정상적으로 구동된다.  \n",
    "seq2seq 모델 훈련결과를 그래프로 출력해보고, validation loss그래프가 우하향하는 경향성을 보이며 학습이 진행됨이 확인되었다.\n",
    "\n",
    "3. 테스트 결과 의미가 통하는 수준의 번역문이 생성되었다.  \n",
    "테스트용 디코더 모델이 정상적으로 만들어졌으며, input(영어)와 output(프랑스어) 모두 한글로 번역해서 결과를 출력해보았고, 둘의 내용이 유사함을 확인하였다.\n"
   ]
  },
  {
   "cell_type": "markdown",
   "id": "9ad0fd7a",
   "metadata": {},
   "source": [
    "### 고찰\n",
    "1. 단어 단위 임베딩에 따른 인풋 벡터의 변화에 대한 이해가 좀 어려웠다.\n",
    "2. 중복되는 문장이 있어 이를 제거 후 성능이 좋아짐을 확인했다. 전처리와 데이타를 살펴보는 과정은 늘 중요함을 알 수 있었다.\n",
    "3. 모델 학습에 소요되는 시간이 많아 다양한 실험을 해보지 못한 점이 아쉬웠다.\n",
    "4. 모델 학습 시도 시 오류가 발생하여 디버깅에 많은 시간을 소모했는데, 원인은 로스 함수의 선택에 문제가 있었다. 항상 기본에 충실해야 한다는 점을 깨달았다.\n"
   ]
  },
  {
   "cell_type": "code",
   "execution_count": null,
   "id": "64190ccb",
   "metadata": {},
   "outputs": [],
   "source": []
  },
  {
   "cell_type": "code",
   "execution_count": null,
   "id": "01ede5c6",
   "metadata": {},
   "outputs": [],
   "source": []
  }
 ],
 "metadata": {
  "hide_input": false,
  "kernelspec": {
   "display_name": "Python 3 (ipykernel)",
   "language": "python",
   "name": "python3"
  },
  "language_info": {
   "codemirror_mode": {
    "name": "ipython",
    "version": 3
   },
   "file_extension": ".py",
   "mimetype": "text/x-python",
   "name": "python",
   "nbconvert_exporter": "python",
   "pygments_lexer": "ipython3",
   "version": "3.9.7"
  },
  "toc": {
   "base_numbering": 1,
   "nav_menu": {},
   "number_sections": true,
   "sideBar": true,
   "skip_h1_title": false,
   "title_cell": "Table of Contents",
   "title_sidebar": "Contents",
   "toc_cell": false,
   "toc_position": {
    "height": "calc(100% - 180px)",
    "left": "10px",
    "top": "150px",
    "width": "392.796875px"
   },
   "toc_section_display": true,
   "toc_window_display": true
  },
  "varInspector": {
   "cols": {
    "lenName": 16,
    "lenType": 16,
    "lenVar": 40
   },
   "kernels_config": {
    "python": {
     "delete_cmd_postfix": "",
     "delete_cmd_prefix": "del ",
     "library": "var_list.py",
     "varRefreshCmd": "print(var_dic_list())"
    },
    "r": {
     "delete_cmd_postfix": ") ",
     "delete_cmd_prefix": "rm(",
     "library": "var_list.r",
     "varRefreshCmd": "cat(var_dic_list()) "
    }
   },
   "types_to_exclude": [
    "module",
    "function",
    "builtin_function_or_method",
    "instance",
    "_Feature"
   ],
   "window_display": false
  }
 },
 "nbformat": 4,
 "nbformat_minor": 5
}
