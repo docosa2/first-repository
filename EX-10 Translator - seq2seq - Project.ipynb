{
 "cells": [
  {
   "cell_type": "markdown",
   "id": "b997d503",
   "metadata": {},
   "source": [
    "# EX-10 Translator seq2seq\n",
    "\n",
    "### 곽상혁\n",
    "\n",
    "### 2022-12-09 (금)\n",
    "\n",
    "https://github.com/docosa2/"
   ]
  },
  {
   "cell_type": "markdown",
   "id": "43816dc0",
   "metadata": {},
   "source": [
    "## 모듈 임포트"
   ]
  },
  {
   "cell_type": "code",
   "execution_count": 453,
   "id": "649463ec",
   "metadata": {},
   "outputs": [
    {
     "name": "stdout",
     "output_type": "stream",
     "text": [
      "2.6.0\n"
     ]
    }
   ],
   "source": [
    "import tensorflow as tf\n",
    "from tensorflow.keras.preprocessing.text import Tokenizer\n",
    "from tensorflow.keras.preprocessing.sequence import pad_sequences\n",
    "from tensorflow.keras.utils import to_categorical\n",
    "import numpy as np\n",
    "import pandas as pd\n",
    "\n",
    "print(tf.__version__)"
   ]
  },
  {
   "cell_type": "markdown",
   "id": "5d99861a",
   "metadata": {},
   "source": [
    "실습에서 구현한 번역기는 글자 단위(Character-level)에서 구현된 번역기였습니다. 하지만 실제 번역기의 경우에는 글자 단위가 아니라 단어 단위(Word-level)에서 구현되는 것이 좀 더 보편적입니다."
   ]
  },
  {
   "cell_type": "markdown",
   "id": "bd8551aa",
   "metadata": {},
   "source": [
    "동일한 데이터셋을 사용하면서 글자 단위와는 다른 전처리와 to_categorical() 함수가 아닌 임베딩 층(Embedding layer)를 추가하여 단어 단위의 번역기를 완성시켜보겠습니다. 하지만, 단어 단위로 할 경우에는 단어의 개수가 글자 단위로 했을 경우와 비교하여 단어장의 크기(Vocabulary) 크기도 커지고, 학습 속도도 좀 더 느려집니다. 학습과 테스트 시의 원활한 진행을 위해서 데이터에서 상위 33,000개의 샘플만 사용해주세요."
   ]
  },
  {
   "cell_type": "markdown",
   "id": "36b64a2d",
   "metadata": {},
   "source": [
    "33000개 중 3000개는 테스트 데이터로 분리하여 모델을 학습한 후에 번역을 테스트 하는 용도로 사용합니다."
   ]
  },
  {
   "cell_type": "markdown",
   "id": "c8f0d2a3",
   "metadata": {},
   "source": [
    "### 데이타 파일 읽어오기"
   ]
  },
  {
   "cell_type": "code",
   "execution_count": 454,
   "id": "550b9c38",
   "metadata": {},
   "outputs": [
    {
     "name": "stdout",
     "output_type": "stream",
     "text": [
      "전체 샘플의 수 : 197463\n"
     ]
    },
    {
     "data": {
      "text/html": [
       "<div>\n",
       "<style scoped>\n",
       "    .dataframe tbody tr th:only-of-type {\n",
       "        vertical-align: middle;\n",
       "    }\n",
       "\n",
       "    .dataframe tbody tr th {\n",
       "        vertical-align: top;\n",
       "    }\n",
       "\n",
       "    .dataframe thead th {\n",
       "        text-align: right;\n",
       "    }\n",
       "</style>\n",
       "<table border=\"1\" class=\"dataframe\">\n",
       "  <thead>\n",
       "    <tr style=\"text-align: right;\">\n",
       "      <th></th>\n",
       "      <th>eng</th>\n",
       "      <th>fra</th>\n",
       "      <th>cc</th>\n",
       "    </tr>\n",
       "  </thead>\n",
       "  <tbody>\n",
       "    <tr>\n",
       "      <th>67377</th>\n",
       "      <td>Tom bought Mary a scarf.</td>\n",
       "      <td>Tom a acheté une écharpe pour Marie.</td>\n",
       "      <td>CC-BY 2.0 (France) Attribution: tatoeba.org #5...</td>\n",
       "    </tr>\n",
       "    <tr>\n",
       "      <th>88376</th>\n",
       "      <td>I wish he were on our team.</td>\n",
       "      <td>J'aimerais qu'il fasse partie de notre équipe.</td>\n",
       "      <td>CC-BY 2.0 (France) Attribution: tatoeba.org #2...</td>\n",
       "    </tr>\n",
       "    <tr>\n",
       "      <th>180825</th>\n",
       "      <td>I promised to help my brother with his homework.</td>\n",
       "      <td>J'ai promis d'aider mon frère avec ses devoirs.</td>\n",
       "      <td>CC-BY 2.0 (France) Attribution: tatoeba.org #2...</td>\n",
       "    </tr>\n",
       "    <tr>\n",
       "      <th>34467</th>\n",
       "      <td>Bring them with you.</td>\n",
       "      <td>Apportez-les avec vous.</td>\n",
       "      <td>CC-BY 2.0 (France) Attribution: tatoeba.org #3...</td>\n",
       "    </tr>\n",
       "    <tr>\n",
       "      <th>74433</th>\n",
       "      <td>That's not really my job.</td>\n",
       "      <td>Ce n'est pas vraiment mon travail.</td>\n",
       "      <td>CC-BY 2.0 (France) Attribution: tatoeba.org #4...</td>\n",
       "    </tr>\n",
       "  </tbody>\n",
       "</table>\n",
       "</div>"
      ],
      "text/plain": [
       "                                                     eng  \\\n",
       "67377                           Tom bought Mary a scarf.   \n",
       "88376                        I wish he were on our team.   \n",
       "180825  I promised to help my brother with his homework.   \n",
       "34467                               Bring them with you.   \n",
       "74433                          That's not really my job.   \n",
       "\n",
       "                                                    fra  \\\n",
       "67377              Tom a acheté une écharpe pour Marie.   \n",
       "88376    J'aimerais qu'il fasse partie de notre équipe.   \n",
       "180825  J'ai promis d'aider mon frère avec ses devoirs.   \n",
       "34467                           Apportez-les avec vous.   \n",
       "74433                Ce n'est pas vraiment mon travail.   \n",
       "\n",
       "                                                       cc  \n",
       "67377   CC-BY 2.0 (France) Attribution: tatoeba.org #5...  \n",
       "88376   CC-BY 2.0 (France) Attribution: tatoeba.org #2...  \n",
       "180825  CC-BY 2.0 (France) Attribution: tatoeba.org #2...  \n",
       "34467   CC-BY 2.0 (France) Attribution: tatoeba.org #3...  \n",
       "74433   CC-BY 2.0 (France) Attribution: tatoeba.org #4...  "
      ]
     },
     "execution_count": 454,
     "metadata": {},
     "output_type": "execute_result"
    }
   ],
   "source": [
    "import os\n",
    "file_path = os.getenv('HOME')+'/aiffel/translator_seq2seq/data/fra.txt'\n",
    "lines = pd.read_csv(file_path, names=['eng', 'fra', 'cc'], sep='\\t')\n",
    "print('전체 샘플의 수 :',len(lines))\n",
    "lines.sample(5) #샘플 5개 출력"
   ]
  },
  {
   "cell_type": "markdown",
   "id": "ffc72df6",
   "metadata": {},
   "source": [
    "### 중복 제거"
   ]
  },
  {
   "cell_type": "code",
   "execution_count": 455,
   "id": "04b0839c",
   "metadata": {},
   "outputs": [
    {
     "name": "stdout",
     "output_type": "stream",
     "text": [
      "중복 제거 후 전체 샘플의 수 : 138912\n"
     ]
    }
   ],
   "source": [
    "lines = lines.drop_duplicates(subset='eng')\n",
    "print('중복 제거 후 전체 샘플의 수 :',len(lines))"
   ]
  },
  {
   "cell_type": "markdown",
   "id": "105c7de6",
   "metadata": {},
   "source": [
    "### 불필요한 칼럼 제거"
   ]
  },
  {
   "cell_type": "code",
   "execution_count": 456,
   "id": "904fe148",
   "metadata": {},
   "outputs": [],
   "source": [
    "lines = lines[['eng', 'fra']][-36000:].reset_index(drop=True)"
   ]
  },
  {
   "cell_type": "code",
   "execution_count": 457,
   "id": "1370c7d4",
   "metadata": {},
   "outputs": [
    {
     "data": {
      "text/html": [
       "<div>\n",
       "<style scoped>\n",
       "    .dataframe tbody tr th:only-of-type {\n",
       "        vertical-align: middle;\n",
       "    }\n",
       "\n",
       "    .dataframe tbody tr th {\n",
       "        vertical-align: top;\n",
       "    }\n",
       "\n",
       "    .dataframe thead th {\n",
       "        text-align: right;\n",
       "    }\n",
       "</style>\n",
       "<table border=\"1\" class=\"dataframe\">\n",
       "  <thead>\n",
       "    <tr style=\"text-align: right;\">\n",
       "      <th></th>\n",
       "      <th>eng</th>\n",
       "      <th>fra</th>\n",
       "    </tr>\n",
       "  </thead>\n",
       "  <tbody>\n",
       "    <tr>\n",
       "      <th>0</th>\n",
       "      <td>I'm the one who picked those flowers.</td>\n",
       "      <td>C'est moi-même qui ai cueilli ces fleurs.</td>\n",
       "    </tr>\n",
       "    <tr>\n",
       "      <th>1</th>\n",
       "      <td>I'm the one who should be doing that.</td>\n",
       "      <td>Je suis celui qui devrait être en train de fai...</td>\n",
       "    </tr>\n",
       "    <tr>\n",
       "      <th>2</th>\n",
       "      <td>I'm the one who should be doing this.</td>\n",
       "      <td>C'est moi qui devrais faire ceci.</td>\n",
       "    </tr>\n",
       "    <tr>\n",
       "      <th>3</th>\n",
       "      <td>I'm the only one planning to do that.</td>\n",
       "      <td>Je ne suis pas le seul à prévoir de le faire.</td>\n",
       "    </tr>\n",
       "    <tr>\n",
       "      <th>4</th>\n",
       "      <td>I'm the only one who understands Tom.</td>\n",
       "      <td>Je suis le seul qui comprend Tom.</td>\n",
       "    </tr>\n",
       "    <tr>\n",
       "      <th>...</th>\n",
       "      <td>...</td>\n",
       "      <td>...</td>\n",
       "    </tr>\n",
       "    <tr>\n",
       "      <th>35995</th>\n",
       "      <td>A carbon footprint is the amount of carbon dio...</td>\n",
       "      <td>Une empreinte carbone est la somme de pollutio...</td>\n",
       "    </tr>\n",
       "    <tr>\n",
       "      <th>35996</th>\n",
       "      <td>Death is something that we're often discourage...</td>\n",
       "      <td>La mort est une chose qu'on nous décourage sou...</td>\n",
       "    </tr>\n",
       "    <tr>\n",
       "      <th>35997</th>\n",
       "      <td>Since there are usually multiple websites on a...</td>\n",
       "      <td>Puisqu'il y a de multiples sites web sur chaqu...</td>\n",
       "    </tr>\n",
       "    <tr>\n",
       "      <th>35998</th>\n",
       "      <td>If someone who doesn't know your background sa...</td>\n",
       "      <td>Si quelqu'un qui ne connaît pas vos antécédent...</td>\n",
       "    </tr>\n",
       "    <tr>\n",
       "      <th>35999</th>\n",
       "      <td>It may be impossible to get a completely error...</td>\n",
       "      <td>Il est peut-être impossible d'obtenir un Corpu...</td>\n",
       "    </tr>\n",
       "  </tbody>\n",
       "</table>\n",
       "<p>36000 rows × 2 columns</p>\n",
       "</div>"
      ],
      "text/plain": [
       "                                                     eng  \\\n",
       "0                  I'm the one who picked those flowers.   \n",
       "1                  I'm the one who should be doing that.   \n",
       "2                  I'm the one who should be doing this.   \n",
       "3                  I'm the only one planning to do that.   \n",
       "4                  I'm the only one who understands Tom.   \n",
       "...                                                  ...   \n",
       "35995  A carbon footprint is the amount of carbon dio...   \n",
       "35996  Death is something that we're often discourage...   \n",
       "35997  Since there are usually multiple websites on a...   \n",
       "35998  If someone who doesn't know your background sa...   \n",
       "35999  It may be impossible to get a completely error...   \n",
       "\n",
       "                                                     fra  \n",
       "0              C'est moi-même qui ai cueilli ces fleurs.  \n",
       "1      Je suis celui qui devrait être en train de fai...  \n",
       "2                      C'est moi qui devrais faire ceci.  \n",
       "3          Je ne suis pas le seul à prévoir de le faire.  \n",
       "4                      Je suis le seul qui comprend Tom.  \n",
       "...                                                  ...  \n",
       "35995  Une empreinte carbone est la somme de pollutio...  \n",
       "35996  La mort est une chose qu'on nous décourage sou...  \n",
       "35997  Puisqu'il y a de multiples sites web sur chaqu...  \n",
       "35998  Si quelqu'un qui ne connaît pas vos antécédent...  \n",
       "35999  Il est peut-être impossible d'obtenir un Corpu...  \n",
       "\n",
       "[36000 rows x 2 columns]"
      ]
     },
     "execution_count": 457,
     "metadata": {},
     "output_type": "execute_result"
    }
   ],
   "source": [
    "lines"
   ]
  },
  {
   "cell_type": "markdown",
   "id": "2cfef339",
   "metadata": {},
   "source": [
    "### 셔플"
   ]
  },
  {
   "cell_type": "code",
   "execution_count": 458,
   "id": "4f93fcf6",
   "metadata": {},
   "outputs": [],
   "source": [
    "lines = lines.iloc[np.random.permutation(lines.index)].reset_index(drop=True)"
   ]
  },
  {
   "cell_type": "code",
   "execution_count": 459,
   "id": "d27c2c5b",
   "metadata": {},
   "outputs": [
    {
     "data": {
      "text/html": [
       "<div>\n",
       "<style scoped>\n",
       "    .dataframe tbody tr th:only-of-type {\n",
       "        vertical-align: middle;\n",
       "    }\n",
       "\n",
       "    .dataframe tbody tr th {\n",
       "        vertical-align: top;\n",
       "    }\n",
       "\n",
       "    .dataframe thead th {\n",
       "        text-align: right;\n",
       "    }\n",
       "</style>\n",
       "<table border=\"1\" class=\"dataframe\">\n",
       "  <thead>\n",
       "    <tr style=\"text-align: right;\">\n",
       "      <th></th>\n",
       "      <th>eng</th>\n",
       "      <th>fra</th>\n",
       "    </tr>\n",
       "  </thead>\n",
       "  <tbody>\n",
       "    <tr>\n",
       "      <th>0</th>\n",
       "      <td>Apparently, the murder happened in a locked room.</td>\n",
       "      <td>Apparemment, le meurtre a eu lieu en chambre c...</td>\n",
       "    </tr>\n",
       "    <tr>\n",
       "      <th>1</th>\n",
       "      <td>My cat likes to look through the window.</td>\n",
       "      <td>Mon chat aime regarder par la fenêtre.</td>\n",
       "    </tr>\n",
       "    <tr>\n",
       "      <th>2</th>\n",
       "      <td>This is the dictionary I use every day.</td>\n",
       "      <td>C'est le dictionnaire que j'utilise tous les j...</td>\n",
       "    </tr>\n",
       "    <tr>\n",
       "      <th>3</th>\n",
       "      <td>I want an hourly update about what's happening.</td>\n",
       "      <td>Je veux être tenu au courant de ce qui se pass...</td>\n",
       "    </tr>\n",
       "    <tr>\n",
       "      <th>4</th>\n",
       "      <td>You'll get half the money now, and the other h...</td>\n",
       "      <td>Vous recevrez la moitié de l'argent maintenant...</td>\n",
       "    </tr>\n",
       "    <tr>\n",
       "      <th>...</th>\n",
       "      <td>...</td>\n",
       "      <td>...</td>\n",
       "    </tr>\n",
       "    <tr>\n",
       "      <th>35995</th>\n",
       "      <td>Next time, ask me before you use my car.</td>\n",
       "      <td>La prochaine fois, demande-moi avant de te ser...</td>\n",
       "    </tr>\n",
       "    <tr>\n",
       "      <th>35996</th>\n",
       "      <td>I don't think you did this by yourself.</td>\n",
       "      <td>Je ne pense pas que tu aies fait ceci par toi-...</td>\n",
       "    </tr>\n",
       "    <tr>\n",
       "      <th>35997</th>\n",
       "      <td>You haven't seen Tom today, have you?</td>\n",
       "      <td>Vous n'avez pas vu Tom aujourd'hui, n'est-ce p...</td>\n",
       "    </tr>\n",
       "    <tr>\n",
       "      <th>35998</th>\n",
       "      <td>She was the most beautiful woman he had ever s...</td>\n",
       "      <td>Elle était la plus belle femme qu'il avait jam...</td>\n",
       "    </tr>\n",
       "    <tr>\n",
       "      <th>35999</th>\n",
       "      <td>Tom doesn't have any reason to be jealous.</td>\n",
       "      <td>Tom n'a aucune raison d'être jaloux.</td>\n",
       "    </tr>\n",
       "  </tbody>\n",
       "</table>\n",
       "<p>36000 rows × 2 columns</p>\n",
       "</div>"
      ],
      "text/plain": [
       "                                                     eng  \\\n",
       "0      Apparently, the murder happened in a locked room.   \n",
       "1               My cat likes to look through the window.   \n",
       "2                This is the dictionary I use every day.   \n",
       "3        I want an hourly update about what's happening.   \n",
       "4      You'll get half the money now, and the other h...   \n",
       "...                                                  ...   \n",
       "35995           Next time, ask me before you use my car.   \n",
       "35996            I don't think you did this by yourself.   \n",
       "35997              You haven't seen Tom today, have you?   \n",
       "35998  She was the most beautiful woman he had ever s...   \n",
       "35999         Tom doesn't have any reason to be jealous.   \n",
       "\n",
       "                                                     fra  \n",
       "0      Apparemment, le meurtre a eu lieu en chambre c...  \n",
       "1                 Mon chat aime regarder par la fenêtre.  \n",
       "2      C'est le dictionnaire que j'utilise tous les j...  \n",
       "3      Je veux être tenu au courant de ce qui se pass...  \n",
       "4      Vous recevrez la moitié de l'argent maintenant...  \n",
       "...                                                  ...  \n",
       "35995  La prochaine fois, demande-moi avant de te ser...  \n",
       "35996  Je ne pense pas que tu aies fait ceci par toi-...  \n",
       "35997  Vous n'avez pas vu Tom aujourd'hui, n'est-ce p...  \n",
       "35998  Elle était la plus belle femme qu'il avait jam...  \n",
       "35999               Tom n'a aucune raison d'être jaloux.  \n",
       "\n",
       "[36000 rows x 2 columns]"
      ]
     },
     "execution_count": 459,
     "metadata": {},
     "output_type": "execute_result"
    }
   ],
   "source": [
    "lines"
   ]
  },
  {
   "cell_type": "markdown",
   "id": "8aabf357",
   "metadata": {},
   "source": [
    "### Step 1. 정제, 정규화, 전처리 (영어, 프랑스어 모두!)\n",
    "---\n",
    "\n",
    "글자 단위가 아닌 단어 단위의 번역기를 하기 위해서는 글자 단위에서는 신경쓰지 않았던 몇 가지 추가적인 전처리가 필요합니다."
   ]
  },
  {
   "cell_type": "markdown",
   "id": "25ce552c",
   "metadata": {},
   "source": [
    "1. 구두점(Punctuation)을 단어와 분리해주세요.\n",
    "\n",
    "일반적으로 영어권 언어의 경우에는 띄어쓰기 단위로 단어를 분리합니다. 토큰화(Tokenization) 라고도 불리는 이 작업은 어디서부터 어디까지가 하나의 단어인지를 구분하는 작업인데요, 그런데 띄어쓰기를 해주기 전에 구두점을 분리하는 작업이 필요할 때가 있습니다.\n",
    "예를 들어서 'he is a good boy!'라는 문장이 있을 때, 이를 띄어쓰기 단위로 토큰화한다면 ['he', 'is', 'a', 'good', 'boy!']가 됩니다. 그런데 실제로 !는 boy와 붙어있는 한 단어가 아니므로 좀 더 올바른 전처리는 ['he', 'is', 'a', 'good', 'boy', '!']가 맞습니다.\n",
    "!나 ? 또는 온점과 같은 특수문자들을 구두점(punctuation)이라고 부릅니다. 이들을 토큰화하기 전에 단어와 미리 분리시켜주세요!\n",
    "\n",
    "> 분리 전 : he is a Good boy!  \n",
    "> 분리 후 : he is a Good boy !"
   ]
  },
  {
   "cell_type": "code",
   "execution_count": 460,
   "id": "d0563861",
   "metadata": {},
   "outputs": [],
   "source": [
    "import re\n",
    "\n",
    "def Seperate_punctuations(sentence: str) -> str:\n",
    "    sentence = re.sub(r\"([?.!,¿])\", r\" \\1 \", sentence) \n",
    "    return sentence"
   ]
  },
  {
   "cell_type": "code",
   "execution_count": 461,
   "id": "ebe5b28c",
   "metadata": {},
   "outputs": [],
   "source": [
    "assert Seperate_punctuations('This Is, So To Speak, A Kind Of A Test Sentence.') == ('This Is ,  So To Speak ,  A Kind Of A Test Sentence . '), 'Error in converter to seperate punctuations.'"
   ]
  },
  {
   "cell_type": "code",
   "execution_count": 462,
   "id": "9571186c",
   "metadata": {},
   "outputs": [],
   "source": [
    "def Sepearate_entire_punctuations_for(df: pd.DataFrame) -> None:\n",
    "    for index, row in df.iterrows():\n",
    "        row['eng'] = Seperate_punctuations(row['eng'])\n",
    "        row['fra'] = Seperate_punctuations(row['fra'])"
   ]
  },
  {
   "cell_type": "code",
   "execution_count": 463,
   "id": "1dab3479",
   "metadata": {},
   "outputs": [],
   "source": [
    "Sepearate_entire_punctuations_for(lines)"
   ]
  },
  {
   "cell_type": "code",
   "execution_count": 464,
   "id": "9498adb8",
   "metadata": {},
   "outputs": [
    {
     "data": {
      "text/html": [
       "<div>\n",
       "<style scoped>\n",
       "    .dataframe tbody tr th:only-of-type {\n",
       "        vertical-align: middle;\n",
       "    }\n",
       "\n",
       "    .dataframe tbody tr th {\n",
       "        vertical-align: top;\n",
       "    }\n",
       "\n",
       "    .dataframe thead th {\n",
       "        text-align: right;\n",
       "    }\n",
       "</style>\n",
       "<table border=\"1\" class=\"dataframe\">\n",
       "  <thead>\n",
       "    <tr style=\"text-align: right;\">\n",
       "      <th></th>\n",
       "      <th>eng</th>\n",
       "      <th>fra</th>\n",
       "    </tr>\n",
       "  </thead>\n",
       "  <tbody>\n",
       "    <tr>\n",
       "      <th>0</th>\n",
       "      <td>Apparently ,  the murder happened in a locked ...</td>\n",
       "      <td>Apparemment ,  le meurtre a eu lieu en chambre...</td>\n",
       "    </tr>\n",
       "    <tr>\n",
       "      <th>1</th>\n",
       "      <td>My cat likes to look through the window .</td>\n",
       "      <td>Mon chat aime regarder par la fenêtre .</td>\n",
       "    </tr>\n",
       "    <tr>\n",
       "      <th>2</th>\n",
       "      <td>This is the dictionary I use every day .</td>\n",
       "      <td>C'est le dictionnaire que j'utilise tous les j...</td>\n",
       "    </tr>\n",
       "    <tr>\n",
       "      <th>3</th>\n",
       "      <td>I want an hourly update about what's happening .</td>\n",
       "      <td>Je veux être tenu au courant de ce qui se pass...</td>\n",
       "    </tr>\n",
       "    <tr>\n",
       "      <th>4</th>\n",
       "      <td>You'll get half the money now ,  and the other...</td>\n",
       "      <td>Vous recevrez la moitié de l'argent maintenant...</td>\n",
       "    </tr>\n",
       "  </tbody>\n",
       "</table>\n",
       "</div>"
      ],
      "text/plain": [
       "                                                 eng  \\\n",
       "0  Apparently ,  the murder happened in a locked ...   \n",
       "1         My cat likes to look through the window .    \n",
       "2          This is the dictionary I use every day .    \n",
       "3  I want an hourly update about what's happening .    \n",
       "4  You'll get half the money now ,  and the other...   \n",
       "\n",
       "                                                 fra  \n",
       "0  Apparemment ,  le meurtre a eu lieu en chambre...  \n",
       "1           Mon chat aime regarder par la fenêtre .   \n",
       "2  C'est le dictionnaire que j'utilise tous les j...  \n",
       "3  Je veux être tenu au courant de ce qui se pass...  \n",
       "4  Vous recevrez la moitié de l'argent maintenant...  "
      ]
     },
     "execution_count": 464,
     "metadata": {},
     "output_type": "execute_result"
    }
   ],
   "source": [
    "lines.head()"
   ]
  },
  {
   "cell_type": "markdown",
   "id": "ec0c0c1a",
   "metadata": {},
   "source": [
    "2. 소문자로 바꿔주세요.\n",
    "\n",
    "기계가 보기에는 스펠링이 같더라도 대문자로 된 단어와 소문자로 된 단어는 서로 다른 단어입니다. 예를 들어 'Good'과 'good'은 기계가 보기에는 다른 단어입니다. 그래서 모든 문장에 대해서 전부 영어로 바꿔주는 작업을 하겠습니다.\n",
    "\n",
    "> 변환 전 : he is a Good boy !  \n",
    "> 변환 후 : he is a good boy !"
   ]
  },
  {
   "cell_type": "code",
   "execution_count": 465,
   "id": "19cd5ee5",
   "metadata": {},
   "outputs": [],
   "source": [
    "import re\n",
    "\n",
    "def Convert_to_lower_case(sentence: str) -> str:\n",
    "    sentence = sentence.lower().strip()\n",
    "    return sentence"
   ]
  },
  {
   "cell_type": "code",
   "execution_count": 466,
   "id": "aa164c05",
   "metadata": {},
   "outputs": [],
   "source": [
    "assert Convert_to_lower_case('This Is A Test Sentence.') == ('this is a test sentence.'), 'Error in converter for lower case.'"
   ]
  },
  {
   "cell_type": "code",
   "execution_count": 467,
   "id": "ab2562fb",
   "metadata": {},
   "outputs": [],
   "source": [
    "def Convert_to_lower_cases_for(df: pd.DataFrame) -> None:\n",
    "    for index, row in df.iterrows():\n",
    "        row['eng'] = Convert_to_lower_case(row['eng'])\n",
    "        row['fra'] = Convert_to_lower_case(row['fra'])"
   ]
  },
  {
   "cell_type": "code",
   "execution_count": 468,
   "id": "3c9203eb",
   "metadata": {},
   "outputs": [],
   "source": [
    "Convert_to_lower_cases_for(lines)"
   ]
  },
  {
   "cell_type": "code",
   "execution_count": 469,
   "id": "4b407bcc",
   "metadata": {},
   "outputs": [
    {
     "data": {
      "text/html": [
       "<div>\n",
       "<style scoped>\n",
       "    .dataframe tbody tr th:only-of-type {\n",
       "        vertical-align: middle;\n",
       "    }\n",
       "\n",
       "    .dataframe tbody tr th {\n",
       "        vertical-align: top;\n",
       "    }\n",
       "\n",
       "    .dataframe thead th {\n",
       "        text-align: right;\n",
       "    }\n",
       "</style>\n",
       "<table border=\"1\" class=\"dataframe\">\n",
       "  <thead>\n",
       "    <tr style=\"text-align: right;\">\n",
       "      <th></th>\n",
       "      <th>eng</th>\n",
       "      <th>fra</th>\n",
       "    </tr>\n",
       "  </thead>\n",
       "  <tbody>\n",
       "    <tr>\n",
       "      <th>0</th>\n",
       "      <td>apparently ,  the murder happened in a locked ...</td>\n",
       "      <td>apparemment ,  le meurtre a eu lieu en chambre...</td>\n",
       "    </tr>\n",
       "    <tr>\n",
       "      <th>1</th>\n",
       "      <td>my cat likes to look through the window .</td>\n",
       "      <td>mon chat aime regarder par la fenêtre .</td>\n",
       "    </tr>\n",
       "    <tr>\n",
       "      <th>2</th>\n",
       "      <td>this is the dictionary i use every day .</td>\n",
       "      <td>c'est le dictionnaire que j'utilise tous les j...</td>\n",
       "    </tr>\n",
       "    <tr>\n",
       "      <th>3</th>\n",
       "      <td>i want an hourly update about what's happening .</td>\n",
       "      <td>je veux être tenu au courant de ce qui se pass...</td>\n",
       "    </tr>\n",
       "    <tr>\n",
       "      <th>4</th>\n",
       "      <td>you'll get half the money now ,  and the other...</td>\n",
       "      <td>vous recevrez la moitié de l'argent maintenant...</td>\n",
       "    </tr>\n",
       "  </tbody>\n",
       "</table>\n",
       "</div>"
      ],
      "text/plain": [
       "                                                 eng  \\\n",
       "0  apparently ,  the murder happened in a locked ...   \n",
       "1          my cat likes to look through the window .   \n",
       "2           this is the dictionary i use every day .   \n",
       "3   i want an hourly update about what's happening .   \n",
       "4  you'll get half the money now ,  and the other...   \n",
       "\n",
       "                                                 fra  \n",
       "0  apparemment ,  le meurtre a eu lieu en chambre...  \n",
       "1            mon chat aime regarder par la fenêtre .  \n",
       "2  c'est le dictionnaire que j'utilise tous les j...  \n",
       "3  je veux être tenu au courant de ce qui se pass...  \n",
       "4  vous recevrez la moitié de l'argent maintenant...  "
      ]
     },
     "execution_count": 469,
     "metadata": {},
     "output_type": "execute_result"
    }
   ],
   "source": [
    "lines.head()"
   ]
  },
  {
   "cell_type": "markdown",
   "id": "2cecb8ef",
   "metadata": {},
   "source": [
    "### 디코더에 시작토큰과 종료 토큰 삽입"
   ]
  },
  {
   "cell_type": "code",
   "execution_count": 470,
   "id": "a9368f9f",
   "metadata": {},
   "outputs": [
    {
     "name": "stdout",
     "output_type": "stream",
     "text": [
      "전체 샘플의 수 : 36000\n"
     ]
    },
    {
     "data": {
      "text/html": [
       "<div>\n",
       "<style scoped>\n",
       "    .dataframe tbody tr th:only-of-type {\n",
       "        vertical-align: middle;\n",
       "    }\n",
       "\n",
       "    .dataframe tbody tr th {\n",
       "        vertical-align: top;\n",
       "    }\n",
       "\n",
       "    .dataframe thead th {\n",
       "        text-align: right;\n",
       "    }\n",
       "</style>\n",
       "<table border=\"1\" class=\"dataframe\">\n",
       "  <thead>\n",
       "    <tr style=\"text-align: right;\">\n",
       "      <th></th>\n",
       "      <th>eng</th>\n",
       "      <th>fra</th>\n",
       "    </tr>\n",
       "  </thead>\n",
       "  <tbody>\n",
       "    <tr>\n",
       "      <th>33861</th>\n",
       "      <td>i make it a rule never to borrow money .</td>\n",
       "      <td>sostoken j'ai érigé en règle de ne jamais empr...</td>\n",
       "    </tr>\n",
       "    <tr>\n",
       "      <th>23961</th>\n",
       "      <td>certain details of the crime were not made pub...</td>\n",
       "      <td>sostoken certains détails du crime n'ont pas é...</td>\n",
       "    </tr>\n",
       "    <tr>\n",
       "      <th>27491</th>\n",
       "      <td>the two pieces were glued tightly together .</td>\n",
       "      <td>sostoken les deux morceaux furent fermement co...</td>\n",
       "    </tr>\n",
       "    <tr>\n",
       "      <th>35947</th>\n",
       "      <td>i need you to help me move this bookcase .</td>\n",
       "      <td>sostoken j'ai besoin que tu m'aides à déplacer...</td>\n",
       "    </tr>\n",
       "    <tr>\n",
       "      <th>17084</th>\n",
       "      <td>this isn't the first time this has happened .</td>\n",
       "      <td>sostoken ce n'est pas la première fois que ça ...</td>\n",
       "    </tr>\n",
       "  </tbody>\n",
       "</table>\n",
       "</div>"
      ],
      "text/plain": [
       "                                                     eng  \\\n",
       "33861           i make it a rule never to borrow money .   \n",
       "23961  certain details of the crime were not made pub...   \n",
       "27491       the two pieces were glued tightly together .   \n",
       "35947         i need you to help me move this bookcase .   \n",
       "17084      this isn't the first time this has happened .   \n",
       "\n",
       "                                                     fra  \n",
       "33861  sostoken j'ai érigé en règle de ne jamais empr...  \n",
       "23961  sostoken certains détails du crime n'ont pas é...  \n",
       "27491  sostoken les deux morceaux furent fermement co...  \n",
       "35947  sostoken j'ai besoin que tu m'aides à déplacer...  \n",
       "17084  sostoken ce n'est pas la première fois que ça ...  "
      ]
     },
     "execution_count": 470,
     "metadata": {},
     "output_type": "execute_result"
    }
   ],
   "source": [
    "sos_token = 'sostoken'\n",
    "eos_token = 'eostoken'\n",
    "lines.fra = lines.fra.apply(lambda x : 'sostoken '+ x + ' eostoken')\n",
    "print('전체 샘플의 수 :',len(lines))\n",
    "lines.sample(5)"
   ]
  },
  {
   "cell_type": "markdown",
   "id": "9b738429",
   "metadata": {},
   "source": [
    "3. 띄어쓰기 단위로 토큰화를 수행하세요.\n",
    "\n",
    "띄어쓰기 단위로 토큰화를 수행해서 단어를 분리하는 작업을 해주세요. 기계는 이렇게 분리된 토큰들을 각각 하나의 단어로 인식할 수 있게 됩니다.\n",
    "\n",
    "> 토큰화 전 : 'he is a good boy !'  \n",
    "> 토큰화 후 : ['he', 'is', 'a', 'good', 'boy', '!']"
   ]
  },
  {
   "cell_type": "code",
   "execution_count": 471,
   "id": "9528ab8d",
   "metadata": {},
   "outputs": [],
   "source": [
    "def Tokenize_by_word(sentence: str) -> list:\n",
    "    return sentence.split()"
   ]
  },
  {
   "cell_type": "code",
   "execution_count": 472,
   "id": "bd9ed20d",
   "metadata": {},
   "outputs": [],
   "source": [
    "assert Tokenize_by_word('he is a good boy !') == ['he', 'is', 'a', 'good', 'boy', '!'], 'word tokenizer error.'"
   ]
  },
  {
   "cell_type": "code",
   "execution_count": 473,
   "id": "2e90e63c",
   "metadata": {},
   "outputs": [],
   "source": [
    "def Tokenize_by_word_for(df: pd.DataFrame) -> (list, list): # english, french\n",
    "    encode_sentences = []\n",
    "    decode_sentences = []\n",
    "    for index, row in df.iterrows():\n",
    "        encode_tokens = Tokenize_by_word(row['eng'])\n",
    "        decode_tokens = Tokenize_by_word(row['fra'])\n",
    "        encode_sentences.append(encode_tokens)\n",
    "        decode_sentences.append(decode_tokens)\n",
    "    return encode_sentences, decode_sentences"
   ]
  },
  {
   "cell_type": "code",
   "execution_count": 474,
   "id": "8c263bea",
   "metadata": {},
   "outputs": [],
   "source": [
    "english_corpus, french_corpus = Tokenize_by_word_for(lines)"
   ]
  },
  {
   "cell_type": "markdown",
   "id": "479f5165",
   "metadata": {},
   "source": [
    "### Step 2. 디코더의 문장에 시작 토큰과 종료 토큰을 넣어주세요.\n",
    "---"
   ]
  },
  {
   "cell_type": "markdown",
   "id": "c915e2f5",
   "metadata": {},
   "source": [
    "글자 단위 번역기를 구현할 때와 마찬가지로 디코더의 입력 시퀀스 맨 앞에는 시작을 의미하는 토큰인 <sos>가 필요합니다. 그리고 교사 강요를 수행할 때, 디코더의 실제값이 되는 디코더의 레이블 시퀀스에는 종료를 의미하는 종료 토큰 <eos>가 필요합니다.\n",
    "예를 들어 번역 문장이 \"Courez!\" 였다고 한다면, Step 1을 거친 후에는 다음과 같은 결과를 얻습니다.\n",
    "\n",
    "> Step 1을 수행한 후 : ['courez', '!']"
   ]
  },
  {
   "cell_type": "code",
   "execution_count": 475,
   "id": "e7d460f7",
   "metadata": {},
   "outputs": [
    {
     "data": {
      "text/plain": [
       "['apparently',\n",
       " ',',\n",
       " 'the',\n",
       " 'murder',\n",
       " 'happened',\n",
       " 'in',\n",
       " 'a',\n",
       " 'locked',\n",
       " 'room',\n",
       " '.']"
      ]
     },
     "execution_count": 475,
     "metadata": {},
     "output_type": "execute_result"
    }
   ],
   "source": [
    "english_corpus[0]"
   ]
  },
  {
   "cell_type": "markdown",
   "id": "79040331",
   "metadata": {},
   "source": [
    "이 문장에 대해서 각각 디코더의 입력 시퀀스와 레이블 시퀀스를 만들면 다음과 같습니다.\n",
    "\n",
    "> 입력 시퀀스 : ['< sos >', 'courez', '!']  \n",
    "> 레이블 시퀀스 : ['courez', '!', '< eos >']"
   ]
  },
  {
   "cell_type": "code",
   "execution_count": 476,
   "id": "60ef86fb",
   "metadata": {},
   "outputs": [
    {
     "data": {
      "text/plain": [
       "['sostoken',\n",
       " 'apparemment',\n",
       " ',',\n",
       " 'le',\n",
       " 'meurtre',\n",
       " 'a',\n",
       " 'eu',\n",
       " 'lieu',\n",
       " 'en',\n",
       " 'chambre',\n",
       " 'close',\n",
       " '.',\n",
       " 'eostoken']"
      ]
     },
     "execution_count": 476,
     "metadata": {},
     "output_type": "execute_result"
    }
   ],
   "source": [
    "french_corpus[0]"
   ]
  },
  {
   "cell_type": "markdown",
   "id": "cd97689d",
   "metadata": {},
   "source": [
    "참고로 Step 2가 반드시 Step 1이 끝난 후에 이루어질 필요는 없습니다!  \n",
    "Step 1을 수행하는 중간에 수행해도 상관없습니다."
   ]
  },
  {
   "cell_type": "markdown",
   "id": "87643a91",
   "metadata": {},
   "source": [
    "### Step 3. 케라스의 토크나이저로 텍스트를 숫자로 바꿔보세요.\n",
    "---"
   ]
  },
  {
   "cell_type": "markdown",
   "id": "c0313e55",
   "metadata": {},
   "source": [
    "딥러닝 모델은 텍스트가 아닌 숫자를 처리합니다. 케라스 토크나이저를 사용해서 각 단어를 고유한 정수로 바꿔보세요.\n",
    "케라스 토크나이저의 사용법은 아래의 링크에서 2. 케라스(Keras)의 텍스트 전처리에 설명되어 있습니다.\n",
    "\n",
    "[위키독스](https://wikidocs.net/31766)  \n",
    "\n",
    "위 링크의 가이드를 통해서 영어와 프랑스어에 대한 토크나이저를 각각 생성하고, tokenizer.texts_to_sequences()를 사용하여 모든 샘플에 대해서 정수 시퀀스로 변환해보세요."
   ]
  },
  {
   "cell_type": "code",
   "execution_count": 477,
   "id": "a100d8be",
   "metadata": {},
   "outputs": [],
   "source": [
    "import tensorflow as tf\n",
    "from tensorflow.keras.preprocessing.text import Tokenizer"
   ]
  },
  {
   "cell_type": "code",
   "execution_count": 478,
   "id": "d8070ef3",
   "metadata": {},
   "outputs": [],
   "source": [
    "def tokenize(corpus):\n",
    "    tokenizer = Tokenizer()\n",
    "    tokenizer.fit_on_texts(corpus)\n",
    "    tensor = tokenizer.texts_to_sequences(corpus)        \n",
    "    return tensor, tokenizer"
   ]
  },
  {
   "cell_type": "code",
   "execution_count": 479,
   "id": "bf4db61a",
   "metadata": {},
   "outputs": [],
   "source": [
    "english_text, english_tokenizer = tokenize(english_corpus)\n",
    "french_text, french_tokenizer = tokenize(french_corpus)"
   ]
  },
  {
   "cell_type": "code",
   "execution_count": 480,
   "id": "652b4c86",
   "metadata": {},
   "outputs": [
    {
     "data": {
      "text/plain": [
       "[[3254, 8, 2, 1196, 219, 9, 6, 1295, 170, 1],\n",
       " [20, 608, 653, 3, 216, 372, 2, 472, 1],\n",
       " [18, 11, 2, 623, 4, 253, 127, 98, 1]]"
      ]
     },
     "execution_count": 480,
     "metadata": {},
     "output_type": "execute_result"
    }
   ],
   "source": [
    "english_text[:3]"
   ]
  },
  {
   "cell_type": "code",
   "execution_count": 481,
   "id": "122e251d",
   "metadata": {},
   "outputs": [
    {
     "data": {
      "text/plain": [
       "[[1, 3008, 11, 9, 1376, 18, 143, 417, 23, 337, 10197, 3, 2],\n",
       " [1, 43, 648, 649, 437, 61, 6, 484, 3, 2],\n",
       " [1, 52, 9, 642, 7, 3683, 83, 17, 172, 3, 2]]"
      ]
     },
     "execution_count": 481,
     "metadata": {},
     "output_type": "execute_result"
    }
   ],
   "source": [
    "french_text[:3]"
   ]
  },
  {
   "cell_type": "markdown",
   "id": "6be68621",
   "metadata": {},
   "source": [
    "####  인코딩 상태 확인"
   ]
  },
  {
   "cell_type": "code",
   "execution_count": 482,
   "id": "02c67f8c",
   "metadata": {},
   "outputs": [
    {
     "name": "stdout",
     "output_type": "stream",
     "text": [
      "영어 문장수 36000\n",
      "프랑스어 문장수 36000\n"
     ]
    }
   ],
   "source": [
    "print('영어 문장수', len(english_text))\n",
    "print('프랑스어 문장수', len(french_text))"
   ]
  },
  {
   "cell_type": "code",
   "execution_count": 483,
   "id": "454ba28a",
   "metadata": {},
   "outputs": [
    {
     "name": "stdout",
     "output_type": "stream",
     "text": [
      "영어 단어수: 12246\n",
      "프랑스어 단어수: 19259\n"
     ]
    }
   ],
   "source": [
    "english_vocab_size = len(english_tokenizer.word_index) + 1\n",
    "french_vocab_size = len(french_tokenizer.word_index) + 1\n",
    "print('영어 단어수:', english_vocab_size)\n",
    "print('프랑스어 단어수:', french_vocab_size)"
   ]
  },
  {
   "cell_type": "code",
   "execution_count": 484,
   "id": "709e57c2",
   "metadata": {},
   "outputs": [
    {
     "name": "stdout",
     "output_type": "stream",
     "text": [
      "영어 문장 최대 길이 : 51\n",
      "프랑스 문장 최대 길이 : 61\n"
     ]
    }
   ],
   "source": [
    "max_eng_len = max([len(s) for s in english_text])\n",
    "max_fre_len = max([len(s) for s in french_text])\n",
    "print('영어 문장 최대 길이 :', max_eng_len)\n",
    "print('프랑스 문장 최대 길이 :', max_fre_len)"
   ]
  },
  {
   "cell_type": "markdown",
   "id": "6275d709",
   "metadata": {},
   "source": [
    "### Step 4. 임베딩 층(Embedding layer) 사용하기"
   ]
  },
  {
   "cell_type": "markdown",
   "id": "b0729869",
   "metadata": {},
   "source": [
    "이번에는 입력이 되는 각 단어를 임베딩 층을 사용하여 벡터화하겠습니다.\n",
    "임베딩 층을 사용하는 방법과 그 설명에 대해서는 아래의 링크의 1. 케라스 임베딩 층(Keras Embedding layer) 을 참고하세요.\n",
    "\n",
    "[위키독스](https://wikidocs.net/33793)\n",
    "\n",
    "실제 번역기 구현을 위해서 사용할 수 있는 인코더 코드의 예시는 다음과 같습니다. 이를 통해서 인코더와 디코더의 임베딩 층을 각각 구현해보세요."
   ]
  },
  {
   "cell_type": "code",
   "execution_count": 485,
   "id": "c70e3906",
   "metadata": {},
   "outputs": [],
   "source": [
    "from tensorflow.keras.layers import Input, LSTM, Embedding, Dense, Masking\n",
    "from tensorflow.keras.models import Model"
   ]
  },
  {
   "cell_type": "code",
   "execution_count": 486,
   "id": "84f6b5fa",
   "metadata": {},
   "outputs": [
    {
     "data": {
      "text/plain": [
       "36000"
      ]
     },
     "execution_count": 486,
     "metadata": {},
     "output_type": "execute_result"
    }
   ],
   "source": [
    "len(french_text)"
   ]
  },
  {
   "cell_type": "code",
   "execution_count": 487,
   "id": "a250c0e4",
   "metadata": {},
   "outputs": [],
   "source": [
    "encoder_input = english_text\n",
    "decoder_input = [sentence[:-1] for sentence in french_text]\n",
    "decoder_target = [sentence[1:] for sentence in french_text]"
   ]
  },
  {
   "cell_type": "code",
   "execution_count": 488,
   "id": "c01112df",
   "metadata": {},
   "outputs": [
    {
     "name": "stdout",
     "output_type": "stream",
     "text": [
      "영어 데이타 크기(shape) : (36000, 51)\n",
      "프랑스어 입력 데이타 크기(shape) : (36000, 61)\n",
      "프랑스어 타겟 데이타 크기(shape) : (36000, 61)\n"
     ]
    }
   ],
   "source": [
    "encoder_input = pad_sequences(encoder_input, maxlen = max_eng_len, padding='post')\n",
    "decoder_input = pad_sequences(decoder_input, maxlen = max_fre_len, padding='post')\n",
    "decoder_target = pad_sequences(decoder_target, maxlen = max_fre_len, padding='post')\n",
    "print('영어 데이타 크기(shape) :',np.shape(encoder_input))\n",
    "print('프랑스어 입력 데이타 크기(shape) :',np.shape(decoder_input))\n",
    "print('프랑스어 타겟 데이타 크기(shape) :',np.shape(decoder_target))"
   ]
  },
  {
   "cell_type": "code",
   "execution_count": 489,
   "id": "83b6021b",
   "metadata": {},
   "outputs": [
    {
     "name": "stdout",
     "output_type": "stream",
     "text": [
      "영어 학습데이터의 크기(shape) : (30000, 51)\n",
      "프랑스어 학습 입력데이터의 크기(shape) : (30000, 61)\n",
      "프랑스어 학습 출력데이터의 크기(shape) : (30000, 61)\n",
      "\n",
      "영어 학습데이터의 크기(shape) : (3000, 51)\n",
      "프랑스어 학습 입력데이터의 크기(shape) : (3000, 61)\n",
      "프랑스어 학습 출력데이터의 크기(shape) : (3000, 61)\n",
      "\n",
      "영어 학습데이터의 크기(shape) : (3000, 51)\n",
      "프랑스어 학습 입력데이터의 크기(shape) : (3000, 61)\n",
      "프랑스어 학습 출력데이터의 크기(shape) : (3000, 61)\n"
     ]
    }
   ],
   "source": [
    "test_num = 3000\n",
    "val_num = 3000\n",
    "\n",
    "encoder_input_train = encoder_input[:-6000]\n",
    "decoder_input_train = decoder_input[:-6000]\n",
    "decoder_target_train = decoder_target[:-6000]\n",
    "\n",
    "encoder_input_val = encoder_input[-6000:-3000]\n",
    "decoder_input_val = decoder_input[-6000:-3000]\n",
    "decoder_target_val = decoder_target[-6000:-3000]\n",
    "\n",
    "encoder_input_test = encoder_input[-3000:]\n",
    "decoder_input_test = decoder_input[-3000:]\n",
    "decoder_target_test = decoder_target[-3000:]\n",
    "\n",
    "\n",
    "print('영어 학습데이터의 크기(shape) :',np.shape(encoder_input_train))\n",
    "print('프랑스어 학습 입력데이터의 크기(shape) :',np.shape(decoder_input_train))\n",
    "print('프랑스어 학습 출력데이터의 크기(shape) :',np.shape(decoder_target_train))\n",
    "print()\n",
    "print('영어 학습데이터의 크기(shape) :',np.shape(encoder_input_val))\n",
    "print('프랑스어 학습 입력데이터의 크기(shape) :',np.shape(decoder_input_val))\n",
    "print('프랑스어 학습 출력데이터의 크기(shape) :',np.shape(decoder_target_val))\n",
    "print()\n",
    "print('영어 학습데이터의 크기(shape) :',np.shape(encoder_input_test))\n",
    "print('프랑스어 학습 입력데이터의 크기(shape) :',np.shape(decoder_input_test))\n",
    "print('프랑스어 학습 출력데이터의 크기(shape) :',np.shape(decoder_target_test))"
   ]
  },
  {
   "cell_type": "code",
   "execution_count": 490,
   "id": "b58528f1",
   "metadata": {},
   "outputs": [
    {
     "name": "stdout",
     "output_type": "stream",
     "text": [
      "[3254    8    2 1196  219    9    6 1295  170    1    0    0    0    0\n",
      "    0    0    0    0    0    0    0    0    0    0    0    0    0    0\n",
      "    0    0    0    0    0    0    0    0    0    0    0    0    0    0\n",
      "    0    0    0    0    0    0    0    0    0]\n"
     ]
    }
   ],
   "source": [
    "print(encoder_input_train[0])"
   ]
  },
  {
   "cell_type": "markdown",
   "id": "fd7a7d0d",
   "metadata": {},
   "source": [
    "#### 인코더"
   ]
  },
  {
   "cell_type": "code",
   "execution_count": 491,
   "id": "bb359ad5",
   "metadata": {},
   "outputs": [],
   "source": [
    "# 입력 텐서 정의 및 생성.\n",
    "eng_vocab_size = english_vocab_size\n",
    "fra_vocab_size = french_vocab_size\n",
    "\n",
    "# 인코더 시작\n",
    "embedding_dim = 128\n",
    "hidden_size = 256\n",
    "\n",
    "encoder_inputs = Input(shape=(None,))\n",
    "enc_emb_layer =  Embedding(eng_vocab_size, embedding_dim)(encoder_inputs)\n",
    "encoder_lstm = LSTM(units=256, return_state=True, dropout=0.2)\n",
    "encoder_outputs, state_h, state_c = encoder_lstm(enc_emb_layer)\n",
    "encoder_states = [state_h, state_c]"
   ]
  },
  {
   "cell_type": "markdown",
   "id": "5606e9a2",
   "metadata": {},
   "source": [
    "#### 디코더"
   ]
  },
  {
   "cell_type": "code",
   "execution_count": 492,
   "id": "ad0164bb",
   "metadata": {},
   "outputs": [],
   "source": [
    "decoder_inputs = Input(shape=(None,))\n",
    "dec_emb_layer = Embedding(fra_vocab_size, embedding_dim)\n",
    "dec_emb = dec_emb_layer(decoder_inputs) \n",
    "decoder_lstm = LSTM(256, return_sequences=True, return_state=True, dropout=0.2)\n",
    "decoder_outputs, _, _ = decoder_lstm(dec_emb, initial_state=encoder_states)"
   ]
  },
  {
   "cell_type": "markdown",
   "id": "1011537f",
   "metadata": {},
   "source": [
    "#### 출력층"
   ]
  },
  {
   "cell_type": "code",
   "execution_count": 493,
   "id": "577d1525",
   "metadata": {},
   "outputs": [],
   "source": [
    "decoder_softmax_layer = Dense(fra_vocab_size, activation='softmax')\n",
    "decoder_outputs = decoder_softmax_layer(decoder_outputs)"
   ]
  },
  {
   "cell_type": "markdown",
   "id": "6224f57b",
   "metadata": {},
   "source": [
    "### Step 5. 모델 구현하기\n",
    "---\n",
    "\n",
    "글자 단위 번역기에서 구현한 모델을 참고로 단어 단위 번역기의 모델을 완성시켜보세요! 이때는 label이 integer 값이므로 categorical entropy loss가 아닌 sparse categorical entropy loss를 사용합니다."
   ]
  },
  {
   "cell_type": "code",
   "execution_count": 494,
   "id": "1c906dd7",
   "metadata": {},
   "outputs": [],
   "source": [
    "model = Model([encoder_inputs, decoder_inputs], decoder_outputs)"
   ]
  },
  {
   "cell_type": "code",
   "execution_count": 495,
   "id": "460e046b",
   "metadata": {},
   "outputs": [],
   "source": [
    "model.compile(optimizer=\"adam\", loss=\"sparse_categorical_crossentropy\")"
   ]
  },
  {
   "cell_type": "code",
   "execution_count": 496,
   "id": "565f7a0c",
   "metadata": {},
   "outputs": [
    {
     "name": "stdout",
     "output_type": "stream",
     "text": [
      "Model: \"model_27\"\n",
      "__________________________________________________________________________________________________\n",
      "Layer (type)                    Output Shape         Param #     Connected to                     \n",
      "==================================================================================================\n",
      "input_38 (InputLayer)           [(None, None)]       0                                            \n",
      "__________________________________________________________________________________________________\n",
      "input_39 (InputLayer)           [(None, None)]       0                                            \n",
      "__________________________________________________________________________________________________\n",
      "embedding_16 (Embedding)        (None, None, 128)    1567488     input_38[0][0]                   \n",
      "__________________________________________________________________________________________________\n",
      "embedding_17 (Embedding)        (None, None, 128)    2465152     input_39[0][0]                   \n",
      "__________________________________________________________________________________________________\n",
      "lstm_16 (LSTM)                  [(None, 256), (None, 394240      embedding_16[0][0]               \n",
      "__________________________________________________________________________________________________\n",
      "lstm_17 (LSTM)                  [(None, None, 256),  394240      embedding_17[0][0]               \n",
      "                                                                 lstm_16[0][1]                    \n",
      "                                                                 lstm_16[0][2]                    \n",
      "__________________________________________________________________________________________________\n",
      "dense_8 (Dense)                 (None, None, 19259)  4949563     lstm_17[0][0]                    \n",
      "==================================================================================================\n",
      "Total params: 9,770,683\n",
      "Trainable params: 9,770,683\n",
      "Non-trainable params: 0\n",
      "__________________________________________________________________________________________________\n"
     ]
    }
   ],
   "source": [
    "model.summary()"
   ]
  },
  {
   "cell_type": "markdown",
   "id": "ba847e34",
   "metadata": {},
   "source": [
    "### 모델 훈련하기"
   ]
  },
  {
   "cell_type": "code",
   "execution_count": 497,
   "id": "ed80960e",
   "metadata": {},
   "outputs": [
    {
     "data": {
      "text/plain": [
       "(30000, 61)"
      ]
     },
     "execution_count": 497,
     "metadata": {},
     "output_type": "execute_result"
    }
   ],
   "source": [
    "decoder_target_train.shape"
   ]
  },
  {
   "cell_type": "code",
   "execution_count": 498,
   "id": "244025a5",
   "metadata": {
    "scrolled": false
   },
   "outputs": [
    {
     "name": "stdout",
     "output_type": "stream",
     "text": [
      "Epoch 1/30\n",
      "59/59 [==============================] - 32s 500ms/step - loss: 3.4110 - val_loss: 1.3408\n",
      "Epoch 2/30\n",
      "59/59 [==============================] - 29s 489ms/step - loss: 1.2953 - val_loss: 1.2929\n",
      "Epoch 3/30\n",
      "59/59 [==============================] - 29s 484ms/step - loss: 1.2482 - val_loss: 1.2332\n",
      "Epoch 4/30\n",
      "59/59 [==============================] - 29s 489ms/step - loss: 1.1806 - val_loss: 1.1739\n",
      "Epoch 5/30\n",
      "59/59 [==============================] - 29s 486ms/step - loss: 1.1348 - val_loss: 1.1351\n",
      "Epoch 6/30\n",
      "59/59 [==============================] - 29s 488ms/step - loss: 1.0987 - val_loss: 1.1016\n",
      "Epoch 7/30\n",
      "59/59 [==============================] - 29s 491ms/step - loss: 1.0650 - val_loss: 1.0746\n",
      "Epoch 8/30\n",
      "59/59 [==============================] - 29s 488ms/step - loss: 1.0375 - val_loss: 1.0511\n",
      "Epoch 9/30\n",
      "59/59 [==============================] - 29s 491ms/step - loss: 1.0128 - val_loss: 1.0311\n",
      "Epoch 10/30\n",
      "59/59 [==============================] - 29s 494ms/step - loss: 0.9912 - val_loss: 1.0149\n",
      "Epoch 11/30\n",
      "59/59 [==============================] - 29s 492ms/step - loss: 0.9730 - val_loss: 1.0000\n",
      "Epoch 12/30\n",
      "59/59 [==============================] - 29s 488ms/step - loss: 0.9556 - val_loss: 0.9873\n",
      "Epoch 13/30\n",
      "59/59 [==============================] - 29s 492ms/step - loss: 0.9394 - val_loss: 0.9757\n",
      "Epoch 14/30\n",
      "59/59 [==============================] - 29s 491ms/step - loss: 0.9240 - val_loss: 0.9631\n",
      "Epoch 15/30\n",
      "59/59 [==============================] - 29s 491ms/step - loss: 0.9072 - val_loss: 0.9503\n",
      "Epoch 16/30\n",
      "59/59 [==============================] - 29s 492ms/step - loss: 0.8915 - val_loss: 0.9389\n",
      "Epoch 17/30\n",
      "59/59 [==============================] - 29s 491ms/step - loss: 0.8757 - val_loss: 0.9273\n",
      "Epoch 18/30\n",
      "59/59 [==============================] - 29s 492ms/step - loss: 0.8604 - val_loss: 0.9163\n",
      "Epoch 19/30\n",
      "59/59 [==============================] - 29s 493ms/step - loss: 0.8453 - val_loss: 0.9048\n",
      "Epoch 20/30\n",
      "59/59 [==============================] - 29s 494ms/step - loss: 0.8307 - val_loss: 0.8947\n",
      "Epoch 21/30\n",
      "59/59 [==============================] - 29s 491ms/step - loss: 0.8162 - val_loss: 0.8823\n",
      "Epoch 22/30\n",
      "59/59 [==============================] - 29s 493ms/step - loss: 0.8013 - val_loss: 0.8728\n",
      "Epoch 23/30\n",
      "59/59 [==============================] - 29s 495ms/step - loss: 0.7871 - val_loss: 0.8628\n",
      "Epoch 24/30\n",
      "59/59 [==============================] - 29s 494ms/step - loss: 0.7741 - val_loss: 0.8550\n",
      "Epoch 25/30\n",
      "59/59 [==============================] - 29s 493ms/step - loss: 0.7613 - val_loss: 0.8469\n",
      "Epoch 26/30\n",
      "59/59 [==============================] - 29s 493ms/step - loss: 0.7486 - val_loss: 0.8402\n",
      "Epoch 27/30\n",
      "59/59 [==============================] - 29s 493ms/step - loss: 0.7372 - val_loss: 0.8330\n",
      "Epoch 28/30\n",
      "59/59 [==============================] - 29s 495ms/step - loss: 0.7256 - val_loss: 0.8274\n",
      "Epoch 29/30\n",
      "59/59 [==============================] - 29s 495ms/step - loss: 0.7145 - val_loss: 0.8203\n",
      "Epoch 30/30\n",
      "59/59 [==============================] - 29s 494ms/step - loss: 0.7039 - val_loss: 0.8137\n"
     ]
    }
   ],
   "source": [
    "history = model.fit(x=[encoder_input_train, decoder_input_train], y=decoder_target_train, \\\n",
    "          validation_data = ([encoder_input_val, decoder_input_val], decoder_target_val), \n",
    "          batch_size=512, epochs=30)"
   ]
  },
  {
   "cell_type": "code",
   "execution_count": 506,
   "id": "f48ab39c",
   "metadata": {},
   "outputs": [
    {
     "data": {
      "text/plain": [
       "<matplotlib.legend.Legend at 0x7f1c46020310>"
      ]
     },
     "execution_count": 506,
     "metadata": {},
     "output_type": "execute_result"
    },
    {
     "data": {
      "image/png": "[encoded data removed]",
      "text/plain": [
       "<Figure size 1080x432 with 1 Axes>"
      ]
     },
     "metadata": {
      "needs_background": "light"
     },
     "output_type": "display_data"
    }
   ],
   "source": [
    "import matplotlib.pyplot as plt\n",
    "\n",
    "fig = plt.figure(figsize=(15,6))\n",
    "\n",
    "for k,v in history.history.items():\n",
    "    plt.plot(history.history[k], label=k)\n",
    "plt.ylim(0, 3)\n",
    "plt.title('RMS Prop, Batch Size 512')\n",
    "plt.legend()"
   ]
  },
  {
   "cell_type": "markdown",
   "id": "780d3af2",
   "metadata": {},
   "source": [
    "### Step 6. 모델 평가하기\n",
    "---\n",
    "단어 단위 번역기를 이용하여 훈련 데이터의 샘플과 테스트 데이터의 샘플로 번역 문장을 만들어보고 정답 문장과 번역 문장을 비교해보세요. 이전 스텝들에서 우리가 공부했던 모델의 경우 글자 단위에서 구현된 번역기이며 현재 프로젝트를 진행할 때 사용하는 모델은 단어 단위에서 구현되는 번역기입니다.\n",
    "\n",
    "> Embedding layer가 추가되기 때문에 학습했던 내용 그대로 사용할 경우 shape에서 error가 발생합니다.\n",
    "> decode sentence를 구성할 때 고민해보세요!!\n",
    "\n",
    "고민하다 풀리지 않을 경우에는 하단 내용 참고해주세요."
   ]
  },
  {
   "cell_type": "code",
   "execution_count": 500,
   "id": "e7f95e01",
   "metadata": {},
   "outputs": [],
   "source": [
    "eng2idx = english_tokenizer.word_index\n",
    "fra2idx = french_tokenizer.word_index\n",
    "idx2eng = english_tokenizer.index_word\n",
    "idx2fra = french_tokenizer.index_word"
   ]
  },
  {
   "cell_type": "code",
   "execution_count": 501,
   "id": "76162655",
   "metadata": {},
   "outputs": [],
   "source": [
    "# 인코더 설계\n",
    "encoder_model = Model(inputs=encoder_inputs, outputs=[encoder_outputs, state_h, state_c])\n",
    "\n",
    "# 이전 시점의 상태들을 저장하는 텐서\n",
    "hidden_size = 256\n",
    "encoder_model = Model(encoder_inputs, encoder_states)\n",
    "\n",
    "# 디코더 설계 시작\n",
    "# 이전 시점의 상태를 보관할 텐서\n",
    "decoder_state_input_h = Input(shape=(256,))\n",
    "decoder_state_input_c = Input(shape=(256,))\n",
    "decoder_states_inputs = [decoder_state_input_h, decoder_state_input_c]\n",
    "\n",
    "# 훈련 때 사용했던 임베딩 층을 재사용\n",
    "dec_emb2 = dec_emb_layer(decoder_inputs)\n",
    "\n",
    "# 다음 단어 예측을 위해 이전 시점의 상태를 현 시점의 초기 상태로 사용\n",
    "decoder_outputs2, state_h2, state_c2 = decoder_lstm(dec_emb2, initial_state=decoder_states_inputs)\n",
    "decoder_states2 = [state_h2, state_c2]\n",
    "\n",
    "# 모든 시점에 대해서 단어 예측\n",
    "decoder_outputs2 = decoder_softmax_layer(decoder_outputs2)\n",
    "\n",
    "# 수정된 디코더\n",
    "decoder_model = Model(\n",
    "    [decoder_inputs] + decoder_states_inputs,\n",
    "    [decoder_outputs2] + decoder_states2)"
   ]
  },
  {
   "cell_type": "markdown",
   "id": "9974ed93",
   "metadata": {},
   "source": [
    "### 번역기 작성"
   ]
  },
  {
   "cell_type": "code",
   "execution_count": 502,
   "id": "be420219",
   "metadata": {},
   "outputs": [],
   "source": [
    "def decode_sequence(input_seq):\n",
    "    # 입력으로부터 인코더의 마지막 시점의 상태(은닉 상태, 셀 상태)를 얻음\n",
    "    states_value = encoder_model.predict(input_seq)\n",
    "\n",
    "    # <sos>에 해당하는 정수 생성\n",
    "    target_seq = np.zeros((1,1))\n",
    "    target_seq[0, 0] = fra2idx['sostoken']\n",
    "\n",
    "    stop_condition = False\n",
    "    decoded_sentence = ''\n",
    "\n",
    "    # stop_condition이 True가 될 때까지 루프 반복\n",
    "    # 구현의 간소화를 위해서 이 함수는 배치 크기를 1로 가정합니다.\n",
    "    while not stop_condition:\n",
    "        # 이점 시점의 상태 states_value를 현 시점의 초기 상태로 사용\n",
    "        output_tokens, h, c = decoder_model.predict([target_seq] + states_value)\n",
    "\n",
    "        # 예측 결과를 단어로 변환\n",
    "        sampled_token_index = np.argmax(output_tokens[0, -1, :])\n",
    "        if (sampled_token_index > 0):            \n",
    "            sampled_char = idx2fra[sampled_token_index]\n",
    "            # 현재 시점의 예측 단어를 예측 문장에 추가\n",
    "            decoded_sentence += ' '+sampled_char\n",
    "\n",
    "        # eos에 도달하거나 정해진 길이를 넘으면 중단.\n",
    "        if (sampled_token_index == 0 or\n",
    "            sampled_char == 'eostoken' or \n",
    "            len(decoded_sentence) > 30):\n",
    "            stop_condition = True\n",
    "\n",
    "        # 현재 시점의 예측 결과를 다음 시점의 입력으로 사용하기 위해 저장\n",
    "        target_seq = np.zeros((1,1))\n",
    "        target_seq[0, 0] = sampled_token_index\n",
    "\n",
    "        # 현재 시점의 상태를 다음 시점의 상태로 사용하기 위해 저장\n",
    "        states_value = [h, c]\n",
    "\n",
    "    return decoded_sentence"
   ]
  },
  {
   "cell_type": "code",
   "execution_count": 503,
   "id": "bdee919f",
   "metadata": {},
   "outputs": [],
   "source": [
    "# 원문의 정수 시퀀스를 텍스트 시퀀스로 변환\n",
    "def seq_to_src(input_seq):\n",
    "    sentence = ''\n",
    "    for encoded_word in input_seq:\n",
    "        if(encoded_word != 0):\n",
    "            sentence = sentence + idx2eng[encoded_word] + ' '\n",
    "    return sentence\n",
    "\n",
    "# 번역문의 정수 시퀀스를 텍스트 시퀀스로 변환\n",
    "def seq_to_tar(input_seq):\n",
    "    sentence = ''\n",
    "    for encoded_word in input_seq:\n",
    "        if(encoded_word != 0 and encoded_word != fra2idx['sostoken'] and encoded_word != fra2idx['eostoken']):\n",
    "            sentence = sentence + idx2fra[encoded_word] + ' '\n",
    "    return sentence"
   ]
  },
  {
   "cell_type": "code",
   "execution_count": 504,
   "id": "bc91542b",
   "metadata": {},
   "outputs": [
    {
     "name": "stdout",
     "output_type": "stream",
     "text": [
      "입력문장 : he doesn't have the necessary skills for that job . \n",
      "정답문장 : il ne dispose pas des compétences nécessaires à cet emploi . \n",
      "번역문장 : tom a dit qu'il est un peu de \n",
      "--------------------------------------------------\n",
      "입력문장 : he carved a buddhist image out of wood . \n",
      "정답문장 : il a sculpté une image bouddhiste dans du bois . \n",
      "번역문장 : il a été de temps pour le\n",
      "--------------------------------------------------\n",
      "입력문장 : i asked her to marry me and she accepted . \n",
      "정답문장 : je lui demandai de m'épouser et elle accepta . \n",
      "번역문장 : je suis désolé de la maison ,\n",
      "--------------------------------------------------\n",
      "입력문장 : i am not used to drinking coffee without sugar . \n",
      "정답문장 : je ne suis pas habitué à boire du café sans sucre . \n",
      "번역문장 : je ne peux pas être en tra\n",
      "--------------------------------------------------\n",
      "입력문장 : i am going to study english this afternoon . \n",
      "정답문장 : je vais étudier l'anglais cet après-midi . \n",
      "번역문장 : je suis allé à boston pour la m\n",
      "--------------------------------------------------\n",
      "입력문장 : one thing you should know about me is that i'm a little overweight . \n",
      "정답문장 : une chose que tu devrais savoir à mon sujet , c'est que je suis un peu en surpoids . \n",
      "번역문장 : tom ne me faut pas que tu as\n",
      "--------------------------------------------------\n",
      "입력문장 : all the answers to this question were wrong . \n",
      "정답문장 : toutes les réponses à cette question étaient fausses . \n",
      "번역문장 : tom a été de temps pour le \n",
      "--------------------------------------------------\n",
      "입력문장 : his family dates back to the seventeenth century . \n",
      "정답문장 : sa famille remonte au dix-septième siècle . \n",
      "번역문장 : les enfants sont des états\n",
      "--------------------------------------------------\n",
      "입력문장 : i wonder if you have ever considered going to a specialist . \n",
      "정답문장 : je me demande si tu n'as jamais considéré te rendre chez un spécialiste . \n",
      "번역문장 : je pense que tu as eu un p\n",
      "--------------------------------------------------\n"
     ]
    }
   ],
   "source": [
    "for seq_index in [1, 10, 20, 30, 100, 200, 1000, 2000, 2500]:\n",
    "  input_seq = encoder_input_test[seq_index: seq_index + 1]\n",
    "  decoded_sentence = decode_sequence(input_seq)\n",
    "\n",
    "  print(\"입력문장 :\",seq_to_src(encoder_input_test[seq_index]))\n",
    "  print(\"정답문장 :\",seq_to_tar(decoder_input_test[seq_index]))\n",
    "  print(\"번역문장 :\",decoded_sentence[1:-5])\n",
    "  print(\"-\"*50)"
   ]
  },
  {
   "cell_type": "markdown",
   "id": "4f0416b9",
   "metadata": {},
   "source": [
    "루브릭  \n",
    "아래의 기준을 바탕으로 프로젝트를 평가합니다.  \n",
    "평가문항\t상세기준\n",
    "\n",
    "1. 번역기 모델 학습에 필요한 텍스트 데이터 전처리가 잘 이루어졌다.  \n",
    "구두점, 대소문자, 띄어쓰기 등 번역기 모델에 요구되는 전처리가 정상적으로 진행되었다.  \n",
    "\n",
    "2. seq2seq 기반의 번역기 모델이 정상적으로 구동된다.  \n",
    "seq2seq 모델 훈련결과를 그래프로 출력해보고, validation loss그래프가 우하향하는 경향성을 보이며 학습이 진행됨이 확인되었다.\n",
    "\n",
    "3. 테스트 결과 의미가 통하는 수준의 번역문이 생성되었다.  \n",
    "테스트용 디코더 모델이 정상적으로 만들어졌으며, input(영어)와 output(프랑스어) 모두 한글로 번역해서 결과를 출력해보았고, 둘의 내용이 유사함을 확인하였다.\n"
   ]
  },
  {
   "cell_type": "markdown",
   "id": "64a28e16",
   "metadata": {},
   "source": [
    "### 고찰\n",
    "1. 단어 단위 임베딩에 따른 인풋 벡터의 변화에 대한 이해가 어려웠다.\n",
    "2. 중복되는 문장이 있어 이를 제거하니  val loss가 약간 더 줄어드는 것처럼 보였다. 전처리와 데이타를 살펴보는 과정이 중요하다.\n",
    "3. 모델 학습에 소요되는 시간이 길어 여러가지 실험을 해보지 못한 점이 아쉬웠다.\n",
    "4. 모델 학습 시 오류가 발생해서 디버깅에 시간을 보냈다. 오류가 생긴 이유는 로스 함수의 선택이 잘못되었기 때문이었다. 입력 벡터의 차원이 맞지 않는다는 오류메세지가 나올 때도 원인은 엉뚱한 곳에서 나올 수 있으므로 기본적인 사항들을 모두 확인해야 한다는 점을 알았다."
   ]
  },
  {
   "cell_type": "code",
   "execution_count": null,
   "id": "a51eb906",
   "metadata": {},
   "outputs": [],
   "source": []
  },
  {
   "cell_type": "code",
   "execution_count": null,
   "id": "b0204932",
   "metadata": {},
   "outputs": [],
   "source": []
  }
 ],
 "metadata": {
  "hide_input": false,
  "kernelspec": {
   "display_name": "Python 3 (ipykernel)",
   "language": "python",
   "name": "python3"
  },
  "language_info": {
   "codemirror_mode": {
    "name": "ipython",
    "version": 3
   },
   "file_extension": ".py",
   "mimetype": "text/x-python",
   "name": "python",
   "nbconvert_exporter": "python",
   "pygments_lexer": "ipython3",
   "version": "3.9.7"
  },
  "toc": {
   "base_numbering": 1,
   "nav_menu": {},
   "number_sections": true,
   "sideBar": true,
   "skip_h1_title": false,
   "title_cell": "Table of Contents",
   "title_sidebar": "Contents",
   "toc_cell": false,
   "toc_position": {
    "height": "calc(100% - 180px)",
    "left": "10px",
    "top": "150px",
    "width": "392.796875px"
   },
   "toc_section_display": true,
   "toc_window_display": true
  },
  "varInspector": {
   "cols": {
    "lenName": 16,
    "lenType": 16,
    "lenVar": 40
   },
   "kernels_config": {
    "python": {
     "delete_cmd_postfix": "",
     "delete_cmd_prefix": "del ",
     "library": "var_list.py",
     "varRefreshCmd": "print(var_dic_list())"
    },
    "r": {
     "delete_cmd_postfix": ") ",
     "delete_cmd_prefix": "rm(",
     "library": "var_list.r",
     "varRefreshCmd": "cat(var_dic_list()) "
    }
   },
   "types_to_exclude": [
    "module",
    "function",
    "builtin_function_or_method",
    "instance",
    "_Feature"
   ],
   "window_display": false
  }
 },
 "nbformat": 4,
 "nbformat_minor": 5
}
