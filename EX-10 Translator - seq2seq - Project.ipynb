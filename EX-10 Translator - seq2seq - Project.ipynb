{
 "cells": [
  {
   "cell_type": "markdown",
   "id": "42c4704d",
   "metadata": {},
   "source": [
    "# EX-10 Translator seq2seq\n",
    "\n",
    "### 곽상혁\n",
    "\n",
    "### 2022-12-09 (금)\n",
    "\n",
    "https://github.com/docosa2/"
   ]
  },
  {
   "cell_type": "markdown",
   "id": "a4a80d2e",
   "metadata": {},
   "source": [
    "## 모듈 임포트"
   ]
  },
  {
   "cell_type": "code",
   "execution_count": 1,
   "id": "8658dfa0",
   "metadata": {},
   "outputs": [
    {
     "name": "stdout",
     "output_type": "stream",
     "text": [
      "2.6.0\n"
     ]
    }
   ],
   "source": [
    "import tensorflow as tf\n",
    "from tensorflow.keras.preprocessing.text import Tokenizer\n",
    "from tensorflow.keras.preprocessing.sequence import pad_sequences\n",
    "from tensorflow.keras.utils import to_categorical\n",
    "import numpy as np\n",
    "import pandas as pd\n",
    "\n",
    "print(tf.__version__)"
   ]
  },
  {
   "cell_type": "markdown",
   "id": "74ec8f9e",
   "metadata": {},
   "source": [
    "실습에서 구현한 번역기는 글자 단위(Character-level)에서 구현된 번역기였습니다. 하지만 실제 번역기의 경우에는 글자 단위가 아니라 단어 단위(Word-level)에서 구현되는 것이 좀 더 보편적입니다."
   ]
  },
  {
   "cell_type": "markdown",
   "id": "1459b8a0",
   "metadata": {},
   "source": [
    "동일한 데이터셋을 사용하면서 글자 단위와는 다른 전처리와 to_categorical() 함수가 아닌 임베딩 층(Embedding layer)를 추가하여 단어 단위의 번역기를 완성시켜보겠습니다. 하지만, 단어 단위로 할 경우에는 단어의 개수가 글자 단위로 했을 경우와 비교하여 단어장의 크기(Vocabulary) 크기도 커지고, 학습 속도도 좀 더 느려집니다. 학습과 테스트 시의 원활한 진행을 위해서 데이터에서 상위 33,000개의 샘플만 사용해주세요."
   ]
  },
  {
   "cell_type": "markdown",
   "id": "140da75a",
   "metadata": {},
   "source": [
    "33000개 중 3000개는 테스트 데이터로 분리하여 모델을 학습한 후에 번역을 테스트 하는 용도로 사용합니다."
   ]
  },
  {
   "cell_type": "markdown",
   "id": "83fadf3c",
   "metadata": {},
   "source": [
    "### 데이타 파일 읽어오기"
   ]
  },
  {
   "cell_type": "code",
   "execution_count": 2,
   "id": "213a48bd",
   "metadata": {},
   "outputs": [
    {
     "name": "stdout",
     "output_type": "stream",
     "text": [
      "전체 샘플의 수 : 197463\n"
     ]
    },
    {
     "data": {
      "text/html": [
       "<div>\n",
       "<style scoped>\n",
       "    .dataframe tbody tr th:only-of-type {\n",
       "        vertical-align: middle;\n",
       "    }\n",
       "\n",
       "    .dataframe tbody tr th {\n",
       "        vertical-align: top;\n",
       "    }\n",
       "\n",
       "    .dataframe thead th {\n",
       "        text-align: right;\n",
       "    }\n",
       "</style>\n",
       "<table border=\"1\" class=\"dataframe\">\n",
       "  <thead>\n",
       "    <tr style=\"text-align: right;\">\n",
       "      <th></th>\n",
       "      <th>eng</th>\n",
       "      <th>fra</th>\n",
       "      <th>cc</th>\n",
       "    </tr>\n",
       "  </thead>\n",
       "  <tbody>\n",
       "    <tr>\n",
       "      <th>56018</th>\n",
       "      <td>He's acting on his own.</td>\n",
       "      <td>Il agit de son propre chef.</td>\n",
       "      <td>CC-BY 2.0 (France) Attribution: tatoeba.org #1...</td>\n",
       "    </tr>\n",
       "    <tr>\n",
       "      <th>96810</th>\n",
       "      <td>It probably means something.</td>\n",
       "      <td>Cela signifie probablement quelque chose.</td>\n",
       "      <td>CC-BY 2.0 (France) Attribution: tatoeba.org #3...</td>\n",
       "    </tr>\n",
       "    <tr>\n",
       "      <th>120097</th>\n",
       "      <td>This place hasn't changed much.</td>\n",
       "      <td>Cet endroit n'a pas beaucoup changé.</td>\n",
       "      <td>CC-BY 2.0 (France) Attribution: tatoeba.org #3...</td>\n",
       "    </tr>\n",
       "    <tr>\n",
       "      <th>33665</th>\n",
       "      <td>Why don't you sing?</td>\n",
       "      <td>Pourquoi ne chantez-vous pas ?</td>\n",
       "      <td>CC-BY 2.0 (France) Attribution: tatoeba.org #2...</td>\n",
       "    </tr>\n",
       "    <tr>\n",
       "      <th>161022</th>\n",
       "      <td>Why is autumn called \"fall\" in America?</td>\n",
       "      <td>Pourquoi l'automne s'appelle \"fall\" aux États-...</td>\n",
       "      <td>CC-BY 2.0 (France) Attribution: tatoeba.org #3...</td>\n",
       "    </tr>\n",
       "  </tbody>\n",
       "</table>\n",
       "</div>"
      ],
      "text/plain": [
       "                                            eng  \\\n",
       "56018                   He's acting on his own.   \n",
       "96810              It probably means something.   \n",
       "120097          This place hasn't changed much.   \n",
       "33665                       Why don't you sing?   \n",
       "161022  Why is autumn called \"fall\" in America?   \n",
       "\n",
       "                                                      fra  \\\n",
       "56018                         Il agit de son propre chef.   \n",
       "96810           Cela signifie probablement quelque chose.   \n",
       "120097               Cet endroit n'a pas beaucoup changé.   \n",
       "33665                      Pourquoi ne chantez-vous pas ?   \n",
       "161022  Pourquoi l'automne s'appelle \"fall\" aux États-...   \n",
       "\n",
       "                                                       cc  \n",
       "56018   CC-BY 2.0 (France) Attribution: tatoeba.org #1...  \n",
       "96810   CC-BY 2.0 (France) Attribution: tatoeba.org #3...  \n",
       "120097  CC-BY 2.0 (France) Attribution: tatoeba.org #3...  \n",
       "33665   CC-BY 2.0 (France) Attribution: tatoeba.org #2...  \n",
       "161022  CC-BY 2.0 (France) Attribution: tatoeba.org #3...  "
      ]
     },
     "execution_count": 2,
     "metadata": {},
     "output_type": "execute_result"
    }
   ],
   "source": [
    "import os\n",
    "file_path = os.getenv('HOME')+'/aiffel/translator_seq2seq/data/fra.txt'\n",
    "lines = pd.read_csv(file_path, names=['eng', 'fra', 'cc'], sep='\\t')\n",
    "print('전체 샘플의 수 :',len(lines))\n",
    "lines.sample(5) #샘플 5개 출력"
   ]
  },
  {
   "cell_type": "markdown",
   "id": "0f65e27c",
   "metadata": {},
   "source": [
    "### 중복 제거"
   ]
  },
  {
   "cell_type": "code",
   "execution_count": 3,
   "id": "1d298ca9",
   "metadata": {},
   "outputs": [
    {
     "name": "stdout",
     "output_type": "stream",
     "text": [
      "중복 제거 후 전체 샘플의 수 : 138912\n"
     ]
    }
   ],
   "source": [
    "lines = lines.drop_duplicates(subset='eng')\n",
    "print('중복 제거 후 전체 샘플의 수 :',len(lines))"
   ]
  },
  {
   "cell_type": "markdown",
   "id": "4b805c57",
   "metadata": {},
   "source": [
    "### 불필요한 칼럼 제거"
   ]
  },
  {
   "cell_type": "code",
   "execution_count": 4,
   "id": "54cc9b90",
   "metadata": {},
   "outputs": [],
   "source": [
    "lines = lines[['eng', 'fra']][:36000].reset_index(drop=True)"
   ]
  },
  {
   "cell_type": "code",
   "execution_count": 5,
   "id": "65d3f735",
   "metadata": {},
   "outputs": [
    {
     "data": {
      "text/html": [
       "<div>\n",
       "<style scoped>\n",
       "    .dataframe tbody tr th:only-of-type {\n",
       "        vertical-align: middle;\n",
       "    }\n",
       "\n",
       "    .dataframe tbody tr th {\n",
       "        vertical-align: top;\n",
       "    }\n",
       "\n",
       "    .dataframe thead th {\n",
       "        text-align: right;\n",
       "    }\n",
       "</style>\n",
       "<table border=\"1\" class=\"dataframe\">\n",
       "  <thead>\n",
       "    <tr style=\"text-align: right;\">\n",
       "      <th></th>\n",
       "      <th>eng</th>\n",
       "      <th>fra</th>\n",
       "    </tr>\n",
       "  </thead>\n",
       "  <tbody>\n",
       "    <tr>\n",
       "      <th>0</th>\n",
       "      <td>Go.</td>\n",
       "      <td>Va !</td>\n",
       "    </tr>\n",
       "    <tr>\n",
       "      <th>1</th>\n",
       "      <td>Hi.</td>\n",
       "      <td>Salut !</td>\n",
       "    </tr>\n",
       "    <tr>\n",
       "      <th>2</th>\n",
       "      <td>Run!</td>\n",
       "      <td>Cours !</td>\n",
       "    </tr>\n",
       "    <tr>\n",
       "      <th>3</th>\n",
       "      <td>Run.</td>\n",
       "      <td>Cours !</td>\n",
       "    </tr>\n",
       "    <tr>\n",
       "      <th>4</th>\n",
       "      <td>Who?</td>\n",
       "      <td>Qui ?</td>\n",
       "    </tr>\n",
       "    <tr>\n",
       "      <th>...</th>\n",
       "      <td>...</td>\n",
       "      <td>...</td>\n",
       "    </tr>\n",
       "    <tr>\n",
       "      <th>35995</th>\n",
       "      <td>I like walking to work.</td>\n",
       "      <td>J'aime aller au travail à pied.</td>\n",
       "    </tr>\n",
       "    <tr>\n",
       "      <th>35996</th>\n",
       "      <td>I like watching people.</td>\n",
       "      <td>J'aime regarder les gens.</td>\n",
       "    </tr>\n",
       "    <tr>\n",
       "      <th>35997</th>\n",
       "      <td>I like you as a friend.</td>\n",
       "      <td>Je vous apprécie en tant qu'ami.</td>\n",
       "    </tr>\n",
       "    <tr>\n",
       "      <th>35998</th>\n",
       "      <td>I live across the hall.</td>\n",
       "      <td>Je vis de l'autre côté du couloir.</td>\n",
       "    </tr>\n",
       "    <tr>\n",
       "      <th>35999</th>\n",
       "      <td>I live in a rural area.</td>\n",
       "      <td>Je vis en zone rurale.</td>\n",
       "    </tr>\n",
       "  </tbody>\n",
       "</table>\n",
       "<p>36000 rows × 2 columns</p>\n",
       "</div>"
      ],
      "text/plain": [
       "                           eng                                 fra\n",
       "0                          Go.                                Va !\n",
       "1                          Hi.                             Salut !\n",
       "2                         Run!                             Cours !\n",
       "3                         Run.                             Cours !\n",
       "4                         Who?                               Qui ?\n",
       "...                        ...                                 ...\n",
       "35995  I like walking to work.     J'aime aller au travail à pied.\n",
       "35996  I like watching people.           J'aime regarder les gens.\n",
       "35997  I like you as a friend.    Je vous apprécie en tant qu'ami.\n",
       "35998  I live across the hall.  Je vis de l'autre côté du couloir.\n",
       "35999  I live in a rural area.              Je vis en zone rurale.\n",
       "\n",
       "[36000 rows x 2 columns]"
      ]
     },
     "execution_count": 5,
     "metadata": {},
     "output_type": "execute_result"
    }
   ],
   "source": [
    "lines"
   ]
  },
  {
   "cell_type": "markdown",
   "id": "ca08f412",
   "metadata": {},
   "source": [
    "### 셔플"
   ]
  },
  {
   "cell_type": "code",
   "execution_count": 6,
   "id": "fbeab6f9",
   "metadata": {},
   "outputs": [],
   "source": [
    "lines = lines.iloc[np.random.permutation(lines.index)].reset_index(drop=True)"
   ]
  },
  {
   "cell_type": "code",
   "execution_count": 7,
   "id": "3e7eed55",
   "metadata": {},
   "outputs": [
    {
     "data": {
      "text/html": [
       "<div>\n",
       "<style scoped>\n",
       "    .dataframe tbody tr th:only-of-type {\n",
       "        vertical-align: middle;\n",
       "    }\n",
       "\n",
       "    .dataframe tbody tr th {\n",
       "        vertical-align: top;\n",
       "    }\n",
       "\n",
       "    .dataframe thead th {\n",
       "        text-align: right;\n",
       "    }\n",
       "</style>\n",
       "<table border=\"1\" class=\"dataframe\">\n",
       "  <thead>\n",
       "    <tr style=\"text-align: right;\">\n",
       "      <th></th>\n",
       "      <th>eng</th>\n",
       "      <th>fra</th>\n",
       "    </tr>\n",
       "  </thead>\n",
       "  <tbody>\n",
       "    <tr>\n",
       "      <th>0</th>\n",
       "      <td>I play squash.</td>\n",
       "      <td>Je joue au squash.</td>\n",
       "    </tr>\n",
       "    <tr>\n",
       "      <th>1</th>\n",
       "      <td>You look like a cop.</td>\n",
       "      <td>T'as l'air d'un flic.</td>\n",
       "    </tr>\n",
       "    <tr>\n",
       "      <th>2</th>\n",
       "      <td>I'm bringing wine.</td>\n",
       "      <td>J'apporte du vin.</td>\n",
       "    </tr>\n",
       "    <tr>\n",
       "      <th>3</th>\n",
       "      <td>The sea is blue.</td>\n",
       "      <td>La mer est bleue.</td>\n",
       "    </tr>\n",
       "    <tr>\n",
       "      <th>4</th>\n",
       "      <td>I think we can manage.</td>\n",
       "      <td>Je pense que nous pouvons gérer.</td>\n",
       "    </tr>\n",
       "    <tr>\n",
       "      <th>...</th>\n",
       "      <td>...</td>\n",
       "      <td>...</td>\n",
       "    </tr>\n",
       "    <tr>\n",
       "      <th>35995</th>\n",
       "      <td>Tom became indignant.</td>\n",
       "      <td>Tom s'est indigné.</td>\n",
       "    </tr>\n",
       "    <tr>\n",
       "      <th>35996</th>\n",
       "      <td>Please keep in touch.</td>\n",
       "      <td>Veuillez garder le contact.</td>\n",
       "    </tr>\n",
       "    <tr>\n",
       "      <th>35997</th>\n",
       "      <td>I flushed the toilet.</td>\n",
       "      <td>J'ai tiré la chasse d'eau.</td>\n",
       "    </tr>\n",
       "    <tr>\n",
       "      <th>35998</th>\n",
       "      <td>I came alone.</td>\n",
       "      <td>Je suis venu seul.</td>\n",
       "    </tr>\n",
       "    <tr>\n",
       "      <th>35999</th>\n",
       "      <td>I know you can make it.</td>\n",
       "      <td>Je sais que tu peux y arriver.</td>\n",
       "    </tr>\n",
       "  </tbody>\n",
       "</table>\n",
       "<p>36000 rows × 2 columns</p>\n",
       "</div>"
      ],
      "text/plain": [
       "                           eng                               fra\n",
       "0               I play squash.                Je joue au squash.\n",
       "1         You look like a cop.             T'as l'air d'un flic.\n",
       "2           I'm bringing wine.                 J'apporte du vin.\n",
       "3             The sea is blue.                 La mer est bleue.\n",
       "4       I think we can manage.  Je pense que nous pouvons gérer.\n",
       "...                        ...                               ...\n",
       "35995    Tom became indignant.                Tom s'est indigné.\n",
       "35996    Please keep in touch.       Veuillez garder le contact.\n",
       "35997    I flushed the toilet.        J'ai tiré la chasse d'eau.\n",
       "35998            I came alone.                Je suis venu seul.\n",
       "35999  I know you can make it.    Je sais que tu peux y arriver.\n",
       "\n",
       "[36000 rows x 2 columns]"
      ]
     },
     "execution_count": 7,
     "metadata": {},
     "output_type": "execute_result"
    }
   ],
   "source": [
    "lines"
   ]
  },
  {
   "cell_type": "markdown",
   "id": "134f3d61",
   "metadata": {},
   "source": [
    "### Step 1. 정제, 정규화, 전처리 (영어, 프랑스어 모두!)\n",
    "---\n",
    "\n",
    "글자 단위가 아닌 단어 단위의 번역기를 하기 위해서는 글자 단위에서는 신경쓰지 않았던 몇 가지 추가적인 전처리가 필요합니다."
   ]
  },
  {
   "cell_type": "markdown",
   "id": "37780fde",
   "metadata": {},
   "source": [
    "1. 구두점(Punctuation)을 단어와 분리해주세요.\n",
    "\n",
    "일반적으로 영어권 언어의 경우에는 띄어쓰기 단위로 단어를 분리합니다. 토큰화(Tokenization) 라고도 불리는 이 작업은 어디서부터 어디까지가 하나의 단어인지를 구분하는 작업인데요, 그런데 띄어쓰기를 해주기 전에 구두점을 분리하는 작업이 필요할 때가 있습니다.\n",
    "예를 들어서 'he is a good boy!'라는 문장이 있을 때, 이를 띄어쓰기 단위로 토큰화한다면 ['he', 'is', 'a', 'good', 'boy!']가 됩니다. 그런데 실제로 !는 boy와 붙어있는 한 단어가 아니므로 좀 더 올바른 전처리는 ['he', 'is', 'a', 'good', 'boy', '!']가 맞습니다.\n",
    "!나 ? 또는 온점과 같은 특수문자들을 구두점(punctuation)이라고 부릅니다. 이들을 토큰화하기 전에 단어와 미리 분리시켜주세요!\n",
    "\n",
    "> 분리 전 : he is a Good boy!  \n",
    "> 분리 후 : he is a Good boy !"
   ]
  },
  {
   "cell_type": "code",
   "execution_count": 8,
   "id": "5f5619b2",
   "metadata": {},
   "outputs": [],
   "source": [
    "import re\n",
    "\n",
    "def Seperate_punctuations(sentence: str) -> str:\n",
    "    sentence = re.sub(r\"([?.!,¿])\", r\" \\1 \", sentence) \n",
    "    return sentence"
   ]
  },
  {
   "cell_type": "code",
   "execution_count": 9,
   "id": "7cab4aaf",
   "metadata": {},
   "outputs": [],
   "source": [
    "assert Seperate_punctuations('This Is, So To Speak, A Kind Of A Test Sentence.') == ('This Is ,  So To Speak ,  A Kind Of A Test Sentence . '), 'Error in converter to seperate punctuations.'"
   ]
  },
  {
   "cell_type": "code",
   "execution_count": 10,
   "id": "baa6b202",
   "metadata": {},
   "outputs": [],
   "source": [
    "def Sepearate_entire_punctuations_for(df: pd.DataFrame) -> None:\n",
    "    for index, row in df.iterrows():\n",
    "        row['eng'] = Seperate_punctuations(row['eng'])\n",
    "        row['fra'] = Seperate_punctuations(row['fra'])"
   ]
  },
  {
   "cell_type": "code",
   "execution_count": 11,
   "id": "095bd39a",
   "metadata": {},
   "outputs": [],
   "source": [
    "Sepearate_entire_punctuations_for(lines)"
   ]
  },
  {
   "cell_type": "code",
   "execution_count": 12,
   "id": "21a7f432",
   "metadata": {},
   "outputs": [
    {
     "data": {
      "text/html": [
       "<div>\n",
       "<style scoped>\n",
       "    .dataframe tbody tr th:only-of-type {\n",
       "        vertical-align: middle;\n",
       "    }\n",
       "\n",
       "    .dataframe tbody tr th {\n",
       "        vertical-align: top;\n",
       "    }\n",
       "\n",
       "    .dataframe thead th {\n",
       "        text-align: right;\n",
       "    }\n",
       "</style>\n",
       "<table border=\"1\" class=\"dataframe\">\n",
       "  <thead>\n",
       "    <tr style=\"text-align: right;\">\n",
       "      <th></th>\n",
       "      <th>eng</th>\n",
       "      <th>fra</th>\n",
       "    </tr>\n",
       "  </thead>\n",
       "  <tbody>\n",
       "    <tr>\n",
       "      <th>0</th>\n",
       "      <td>I play squash .</td>\n",
       "      <td>Je joue au squash .</td>\n",
       "    </tr>\n",
       "    <tr>\n",
       "      <th>1</th>\n",
       "      <td>You look like a cop .</td>\n",
       "      <td>T'as l'air d'un flic .</td>\n",
       "    </tr>\n",
       "    <tr>\n",
       "      <th>2</th>\n",
       "      <td>I'm bringing wine .</td>\n",
       "      <td>J'apporte du vin .</td>\n",
       "    </tr>\n",
       "    <tr>\n",
       "      <th>3</th>\n",
       "      <td>The sea is blue .</td>\n",
       "      <td>La mer est bleue .</td>\n",
       "    </tr>\n",
       "    <tr>\n",
       "      <th>4</th>\n",
       "      <td>I think we can manage .</td>\n",
       "      <td>Je pense que nous pouvons gérer .</td>\n",
       "    </tr>\n",
       "  </tbody>\n",
       "</table>\n",
       "</div>"
      ],
      "text/plain": [
       "                        eng                                 fra\n",
       "0          I play squash .                 Je joue au squash . \n",
       "1    You look like a cop .              T'as l'air d'un flic . \n",
       "2      I'm bringing wine .                  J'apporte du vin . \n",
       "3        The sea is blue .                  La mer est bleue . \n",
       "4  I think we can manage .   Je pense que nous pouvons gérer . "
      ]
     },
     "execution_count": 12,
     "metadata": {},
     "output_type": "execute_result"
    }
   ],
   "source": [
    "lines.head()"
   ]
  },
  {
   "cell_type": "markdown",
   "id": "5d9f4000",
   "metadata": {},
   "source": [
    "2. 소문자로 바꿔주세요.\n",
    "\n",
    "기계가 보기에는 스펠링이 같더라도 대문자로 된 단어와 소문자로 된 단어는 서로 다른 단어입니다. 예를 들어 'Good'과 'good'은 기계가 보기에는 다른 단어입니다. 그래서 모든 문장에 대해서 전부 영어로 바꿔주는 작업을 하겠습니다.\n",
    "\n",
    "> 변환 전 : he is a Good boy !  \n",
    "> 변환 후 : he is a good boy !"
   ]
  },
  {
   "cell_type": "code",
   "execution_count": 13,
   "id": "39dd6147",
   "metadata": {},
   "outputs": [],
   "source": [
    "import re\n",
    "\n",
    "def Convert_to_lower_case(sentence: str) -> str:\n",
    "    sentence = sentence.lower().strip()\n",
    "    return sentence"
   ]
  },
  {
   "cell_type": "code",
   "execution_count": 14,
   "id": "12c87ccc",
   "metadata": {},
   "outputs": [],
   "source": [
    "assert Convert_to_lower_case('This Is A Test Sentence.') == ('this is a test sentence.'), 'Error in converter for lower case.'"
   ]
  },
  {
   "cell_type": "code",
   "execution_count": 15,
   "id": "793b91d9",
   "metadata": {},
   "outputs": [],
   "source": [
    "def Convert_to_lower_cases_for(df: pd.DataFrame) -> None:\n",
    "    for index, row in df.iterrows():\n",
    "        row['eng'] = Convert_to_lower_case(row['eng'])\n",
    "        row['fra'] = Convert_to_lower_case(row['fra'])"
   ]
  },
  {
   "cell_type": "code",
   "execution_count": 16,
   "id": "52ac7b57",
   "metadata": {},
   "outputs": [],
   "source": [
    "Convert_to_lower_cases_for(lines)"
   ]
  },
  {
   "cell_type": "code",
   "execution_count": 17,
   "id": "b94e0094",
   "metadata": {},
   "outputs": [
    {
     "data": {
      "text/html": [
       "<div>\n",
       "<style scoped>\n",
       "    .dataframe tbody tr th:only-of-type {\n",
       "        vertical-align: middle;\n",
       "    }\n",
       "\n",
       "    .dataframe tbody tr th {\n",
       "        vertical-align: top;\n",
       "    }\n",
       "\n",
       "    .dataframe thead th {\n",
       "        text-align: right;\n",
       "    }\n",
       "</style>\n",
       "<table border=\"1\" class=\"dataframe\">\n",
       "  <thead>\n",
       "    <tr style=\"text-align: right;\">\n",
       "      <th></th>\n",
       "      <th>eng</th>\n",
       "      <th>fra</th>\n",
       "    </tr>\n",
       "  </thead>\n",
       "  <tbody>\n",
       "    <tr>\n",
       "      <th>0</th>\n",
       "      <td>i play squash .</td>\n",
       "      <td>je joue au squash .</td>\n",
       "    </tr>\n",
       "    <tr>\n",
       "      <th>1</th>\n",
       "      <td>you look like a cop .</td>\n",
       "      <td>t'as l'air d'un flic .</td>\n",
       "    </tr>\n",
       "    <tr>\n",
       "      <th>2</th>\n",
       "      <td>i'm bringing wine .</td>\n",
       "      <td>j'apporte du vin .</td>\n",
       "    </tr>\n",
       "    <tr>\n",
       "      <th>3</th>\n",
       "      <td>the sea is blue .</td>\n",
       "      <td>la mer est bleue .</td>\n",
       "    </tr>\n",
       "    <tr>\n",
       "      <th>4</th>\n",
       "      <td>i think we can manage .</td>\n",
       "      <td>je pense que nous pouvons gérer .</td>\n",
       "    </tr>\n",
       "  </tbody>\n",
       "</table>\n",
       "</div>"
      ],
      "text/plain": [
       "                       eng                                fra\n",
       "0          i play squash .                je joue au squash .\n",
       "1    you look like a cop .             t'as l'air d'un flic .\n",
       "2      i'm bringing wine .                 j'apporte du vin .\n",
       "3        the sea is blue .                 la mer est bleue .\n",
       "4  i think we can manage .  je pense que nous pouvons gérer ."
      ]
     },
     "execution_count": 17,
     "metadata": {},
     "output_type": "execute_result"
    }
   ],
   "source": [
    "lines.head()"
   ]
  },
  {
   "cell_type": "markdown",
   "id": "0f5905f7",
   "metadata": {},
   "source": [
    "### 디코더에 시작토큰과 종료 토큰 삽입"
   ]
  },
  {
   "cell_type": "code",
   "execution_count": 18,
   "id": "cba97457",
   "metadata": {},
   "outputs": [
    {
     "name": "stdout",
     "output_type": "stream",
     "text": [
      "전체 샘플의 수 : 36000\n"
     ]
    },
    {
     "data": {
      "text/html": [
       "<div>\n",
       "<style scoped>\n",
       "    .dataframe tbody tr th:only-of-type {\n",
       "        vertical-align: middle;\n",
       "    }\n",
       "\n",
       "    .dataframe tbody tr th {\n",
       "        vertical-align: top;\n",
       "    }\n",
       "\n",
       "    .dataframe thead th {\n",
       "        text-align: right;\n",
       "    }\n",
       "</style>\n",
       "<table border=\"1\" class=\"dataframe\">\n",
       "  <thead>\n",
       "    <tr style=\"text-align: right;\">\n",
       "      <th></th>\n",
       "      <th>eng</th>\n",
       "      <th>fra</th>\n",
       "    </tr>\n",
       "  </thead>\n",
       "  <tbody>\n",
       "    <tr>\n",
       "      <th>27224</th>\n",
       "      <td>i'm sorry i'm late .</td>\n",
       "      <td>&lt;sos&gt; excusez mon retard . &lt;eos&gt;</td>\n",
       "    </tr>\n",
       "    <tr>\n",
       "      <th>700</th>\n",
       "      <td>i have a husband .</td>\n",
       "      <td>&lt;sos&gt; j'ai un mari . &lt;eos&gt;</td>\n",
       "    </tr>\n",
       "    <tr>\n",
       "      <th>29900</th>\n",
       "      <td>i like her dark eyes .</td>\n",
       "      <td>&lt;sos&gt; j'aime ses yeux foncés . &lt;eos&gt;</td>\n",
       "    </tr>\n",
       "    <tr>\n",
       "      <th>18494</th>\n",
       "      <td>i hope i see it again .</td>\n",
       "      <td>&lt;sos&gt; j'espère le revoir . &lt;eos&gt;</td>\n",
       "    </tr>\n",
       "    <tr>\n",
       "      <th>26871</th>\n",
       "      <td>i'm quite tired .</td>\n",
       "      <td>&lt;sos&gt; je suis assez fatiguée . &lt;eos&gt;</td>\n",
       "    </tr>\n",
       "  </tbody>\n",
       "</table>\n",
       "</div>"
      ],
      "text/plain": [
       "                           eng                                   fra\n",
       "27224     i'm sorry i'm late .      <sos> excusez mon retard . <eos>\n",
       "700         i have a husband .            <sos> j'ai un mari . <eos>\n",
       "29900   i like her dark eyes .  <sos> j'aime ses yeux foncés . <eos>\n",
       "18494  i hope i see it again .      <sos> j'espère le revoir . <eos>\n",
       "26871        i'm quite tired .  <sos> je suis assez fatiguée . <eos>"
      ]
     },
     "execution_count": 18,
     "metadata": {},
     "output_type": "execute_result"
    }
   ],
   "source": [
    "sos_token = '<sos>'\n",
    "eos_token = '<eos>'\n",
    "lines.fra = lines.fra.apply(lambda x : '<sos> '+ x + ' <eos>')\n",
    "print('전체 샘플의 수 :',len(lines))\n",
    "lines.sample(5)"
   ]
  },
  {
   "cell_type": "markdown",
   "id": "8a797eb7",
   "metadata": {},
   "source": [
    "3. 띄어쓰기 단위로 토큰화를 수행하세요.\n",
    "\n",
    "띄어쓰기 단위로 토큰화를 수행해서 단어를 분리하는 작업을 해주세요. 기계는 이렇게 분리된 토큰들을 각각 하나의 단어로 인식할 수 있게 됩니다.\n",
    "\n",
    "> 토큰화 전 : 'he is a good boy !'  \n",
    "> 토큰화 후 : ['he', 'is', 'a', 'good', 'boy', '!']"
   ]
  },
  {
   "cell_type": "code",
   "execution_count": 19,
   "id": "469f293f",
   "metadata": {},
   "outputs": [],
   "source": [
    "def Tokenize_by_word(sentence: str) -> list:\n",
    "    return sentence.split()"
   ]
  },
  {
   "cell_type": "code",
   "execution_count": 20,
   "id": "8111bc56",
   "metadata": {},
   "outputs": [],
   "source": [
    "assert Tokenize_by_word('he is a good boy !') == ['he', 'is', 'a', 'good', 'boy', '!'], 'word tokenizer error.'"
   ]
  },
  {
   "cell_type": "code",
   "execution_count": 21,
   "id": "f1f49f0c",
   "metadata": {},
   "outputs": [],
   "source": [
    "def Tokenize_by_word_for(df: pd.DataFrame) -> (list, list): # english, french\n",
    "    encode_sentences = []\n",
    "    decode_sentences = []\n",
    "    for index, row in df.iterrows():\n",
    "        encode_tokens = Tokenize_by_word(row['eng'])\n",
    "        decode_tokens = Tokenize_by_word(row['fra'])\n",
    "        encode_sentences.append(encode_tokens)\n",
    "        decode_sentences.append(decode_tokens)\n",
    "    return encode_sentences, decode_sentences"
   ]
  },
  {
   "cell_type": "code",
   "execution_count": 22,
   "id": "88e86708",
   "metadata": {},
   "outputs": [],
   "source": [
    "english_corpus, french_corpus = Tokenize_by_word_for(lines)"
   ]
  },
  {
   "cell_type": "markdown",
   "id": "60cfca66",
   "metadata": {},
   "source": [
    "### Step 2. 디코더의 문장에 시작 토큰과 종료 토큰을 넣어주세요.\n",
    "---"
   ]
  },
  {
   "cell_type": "markdown",
   "id": "08c790f3",
   "metadata": {},
   "source": [
    "글자 단위 번역기를 구현할 때와 마찬가지로 디코더의 입력 시퀀스 맨 앞에는 시작을 의미하는 토큰인 <sos>가 필요합니다. 그리고 교사 강요를 수행할 때, 디코더의 실제값이 되는 디코더의 레이블 시퀀스에는 종료를 의미하는 종료 토큰 <eos>가 필요합니다.\n",
    "예를 들어 번역 문장이 \"Courez!\" 였다고 한다면, Step 1을 거친 후에는 다음과 같은 결과를 얻습니다.\n",
    "\n",
    "> Step 1을 수행한 후 : ['courez', '!']"
   ]
  },
  {
   "cell_type": "code",
   "execution_count": 23,
   "id": "b3477f14",
   "metadata": {},
   "outputs": [
    {
     "data": {
      "text/plain": [
       "['i', 'play', 'squash', '.']"
      ]
     },
     "execution_count": 23,
     "metadata": {},
     "output_type": "execute_result"
    }
   ],
   "source": [
    "english_corpus[0]"
   ]
  },
  {
   "cell_type": "markdown",
   "id": "6077e8e1",
   "metadata": {},
   "source": [
    "이 문장에 대해서 각각 디코더의 입력 시퀀스와 레이블 시퀀스를 만들면 다음과 같습니다.\n",
    "\n",
    "> 입력 시퀀스 : ['< sos >', 'courez', '!']  \n",
    "> 레이블 시퀀스 : ['courez', '!', '< eos >']"
   ]
  },
  {
   "cell_type": "code",
   "execution_count": 24,
   "id": "a86dae22",
   "metadata": {},
   "outputs": [
    {
     "data": {
      "text/plain": [
       "['<sos>', 'je', 'joue', 'au', 'squash', '.', '<eos>']"
      ]
     },
     "execution_count": 24,
     "metadata": {},
     "output_type": "execute_result"
    }
   ],
   "source": [
    "french_corpus[0]"
   ]
  },
  {
   "cell_type": "markdown",
   "id": "2b9ca6e7",
   "metadata": {},
   "source": [
    "참고로 Step 2가 반드시 Step 1이 끝난 후에 이루어질 필요는 없습니다!  \n",
    "Step 1을 수행하는 중간에 수행해도 상관없습니다."
   ]
  },
  {
   "cell_type": "markdown",
   "id": "3e25481f",
   "metadata": {},
   "source": [
    "### Step 3. 케라스의 토크나이저로 텍스트를 숫자로 바꿔보세요.\n",
    "---"
   ]
  },
  {
   "cell_type": "markdown",
   "id": "ac352271",
   "metadata": {},
   "source": [
    "딥러닝 모델은 텍스트가 아닌 숫자를 처리합니다. 케라스 토크나이저를 사용해서 각 단어를 고유한 정수로 바꿔보세요.\n",
    "케라스 토크나이저의 사용법은 아래의 링크에서 2. 케라스(Keras)의 텍스트 전처리에 설명되어 있습니다.\n",
    "\n",
    "[위키독스](https://wikidocs.net/31766)  \n",
    "\n",
    "위 링크의 가이드를 통해서 영어와 프랑스어에 대한 토크나이저를 각각 생성하고, tokenizer.texts_to_sequences()를 사용하여 모든 샘플에 대해서 정수 시퀀스로 변환해보세요."
   ]
  },
  {
   "cell_type": "code",
   "execution_count": 25,
   "id": "e660d370",
   "metadata": {},
   "outputs": [],
   "source": [
    "import tensorflow as tf\n",
    "from tensorflow.keras.preprocessing.text import Tokenizer"
   ]
  },
  {
   "cell_type": "code",
   "execution_count": 26,
   "id": "9d592698",
   "metadata": {},
   "outputs": [],
   "source": [
    "def tokenize(corpus):\n",
    "    tokenizer = Tokenizer()\n",
    "    tokenizer.fit_on_texts(corpus)\n",
    "    tensor = tokenizer.texts_to_sequences(corpus)        \n",
    "    return tensor, tokenizer"
   ]
  },
  {
   "cell_type": "code",
   "execution_count": 27,
   "id": "dc8f0266",
   "metadata": {},
   "outputs": [],
   "source": [
    "english_text, english_tokenizer = tokenize(english_corpus)\n",
    "french_text, french_tokenizer = tokenize(french_corpus)"
   ]
  },
  {
   "cell_type": "code",
   "execution_count": 28,
   "id": "0c47a93f",
   "metadata": {},
   "outputs": [
    {
     "data": {
      "text/plain": [
       "[[2, 186, 3974, 1], [7, 91, 27, 4, 1437, 1], [12, 3975, 435, 1]]"
      ]
     },
     "execution_count": 28,
     "metadata": {},
     "output_type": "execute_result"
    }
   ],
   "source": [
    "english_text[:3]"
   ]
  },
  {
   "cell_type": "code",
   "execution_count": 29,
   "id": "fc1becd1",
   "metadata": {},
   "outputs": [
    {
     "data": {
      "text/plain": [
       "[[1, 4, 327, 68, 5658, 3, 2],\n",
       " [1, 1301, 72, 156, 1939, 3, 2],\n",
       " [1, 5659, 45, 418, 3, 2]]"
      ]
     },
     "execution_count": 29,
     "metadata": {},
     "output_type": "execute_result"
    }
   ],
   "source": [
    "french_text[:3]"
   ]
  },
  {
   "cell_type": "markdown",
   "id": "9f9b3cf1",
   "metadata": {},
   "source": [
    "####  인코딩 상태 확인"
   ]
  },
  {
   "cell_type": "code",
   "execution_count": 30,
   "id": "4302d166",
   "metadata": {},
   "outputs": [
    {
     "name": "stdout",
     "output_type": "stream",
     "text": [
      "영어 문장수 36000\n",
      "프랑스어 문장수 36000\n"
     ]
    }
   ],
   "source": [
    "print('영어 문장수', len(english_text))\n",
    "print('프랑스어 문장수', len(french_text))"
   ]
  },
  {
   "cell_type": "code",
   "execution_count": 31,
   "id": "b7a48c9a",
   "metadata": {},
   "outputs": [
    {
     "name": "stdout",
     "output_type": "stream",
     "text": [
      "영어 단어수: 6681\n",
      "프랑스어 단어수: 11040\n"
     ]
    }
   ],
   "source": [
    "english_vocab_size = len(english_tokenizer.word_index) + 1\n",
    "french_vocab_size = len(french_tokenizer.word_index) + 1\n",
    "print('영어 단어수:', english_vocab_size)\n",
    "print('프랑스어 단어수:', french_vocab_size)"
   ]
  },
  {
   "cell_type": "code",
   "execution_count": 32,
   "id": "41683c75",
   "metadata": {},
   "outputs": [
    {
     "name": "stdout",
     "output_type": "stream",
     "text": [
      "영어 문장 최대 길이 : 9\n",
      "프랑스 문장 최대 길이 : 15\n"
     ]
    }
   ],
   "source": [
    "max_eng_len = max([len(s) for s in english_text])\n",
    "max_fre_len = max([len(s) for s in french_text])\n",
    "print('영어 문장 최대 길이 :', max_eng_len)\n",
    "print('프랑스 문장 최대 길이 :', max_fre_len)"
   ]
  },
  {
   "cell_type": "markdown",
   "id": "621279f5",
   "metadata": {},
   "source": [
    "### Step 4. 임베딩 층(Embedding layer) 사용하기"
   ]
  },
  {
   "cell_type": "markdown",
   "id": "eb44f517",
   "metadata": {},
   "source": [
    "이번에는 입력이 되는 각 단어를 임베딩 층을 사용하여 벡터화하겠습니다.\n",
    "임베딩 층을 사용하는 방법과 그 설명에 대해서는 아래의 링크의 1. 케라스 임베딩 층(Keras Embedding layer) 을 참고하세요.\n",
    "\n",
    "[위키독스](https://wikidocs.net/33793)\n",
    "\n",
    "실제 번역기 구현을 위해서 사용할 수 있는 인코더 코드의 예시는 다음과 같습니다. 이를 통해서 인코더와 디코더의 임베딩 층을 각각 구현해보세요."
   ]
  },
  {
   "cell_type": "code",
   "execution_count": 33,
   "id": "674c89cc",
   "metadata": {},
   "outputs": [],
   "source": [
    "from tensorflow.keras.layers import Input, LSTM, Embedding, Dense, Masking\n",
    "from tensorflow.keras.models import Model"
   ]
  },
  {
   "cell_type": "code",
   "execution_count": 34,
   "id": "fc53e922",
   "metadata": {},
   "outputs": [
    {
     "data": {
      "text/plain": [
       "36000"
      ]
     },
     "execution_count": 34,
     "metadata": {},
     "output_type": "execute_result"
    }
   ],
   "source": [
    "len(french_text)"
   ]
  },
  {
   "cell_type": "code",
   "execution_count": 35,
   "id": "382e7a3e",
   "metadata": {},
   "outputs": [],
   "source": [
    "encoder_input = english_text\n",
    "decoder_input = [sentence[:-1] for sentence in french_text]\n",
    "decoder_target = [sentence[1:] for sentence in french_text]\n",
    "# decoder_input = [[ char for char in line if char != french_tokenizer.word_index[eos_token] ] for line in french_text] \n",
    "# decoder_target = [[ char for char in line if char != french_tokenizer.word_index[sos_token] ] for line in french_text]"
   ]
  },
  {
   "cell_type": "code",
   "execution_count": 36,
   "id": "7c41e6b2",
   "metadata": {},
   "outputs": [
    {
     "name": "stdout",
     "output_type": "stream",
     "text": [
      "영어 데이타 크기(shape) : (36000, 9)\n",
      "프랑스어 입력 데이타 크기(shape) : (36000, 15)\n",
      "프랑스어 타겟 데이타 크기(shape) : (36000, 15)\n"
     ]
    }
   ],
   "source": [
    "encoder_input = pad_sequences(encoder_input, maxlen = max_eng_len, padding='post')\n",
    "decoder_input = pad_sequences(decoder_input, maxlen = max_fre_len, padding='post')\n",
    "decoder_target = pad_sequences(decoder_target, maxlen = max_fre_len, padding='post')\n",
    "print('영어 데이타 크기(shape) :',np.shape(encoder_input))\n",
    "print('프랑스어 입력 데이타 크기(shape) :',np.shape(decoder_input))\n",
    "print('프랑스어 타겟 데이타 크기(shape) :',np.shape(decoder_target))"
   ]
  },
  {
   "cell_type": "code",
   "execution_count": 37,
   "id": "a6b8a714",
   "metadata": {},
   "outputs": [
    {
     "name": "stdout",
     "output_type": "stream",
     "text": [
      "영어 학습데이터의 크기(shape) : (30000, 9)\n",
      "프랑스어 학습 입력데이터의 크기(shape) : (30000, 15)\n",
      "프랑스어 학습 출력데이터의 크기(shape) : (30000, 15)\n",
      "\n",
      "영어 학습데이터의 크기(shape) : (3000, 9)\n",
      "프랑스어 학습 입력데이터의 크기(shape) : (3000, 15)\n",
      "프랑스어 학습 출력데이터의 크기(shape) : (3000, 15)\n",
      "\n",
      "영어 학습데이터의 크기(shape) : (3000, 9)\n",
      "프랑스어 학습 입력데이터의 크기(shape) : (3000, 15)\n",
      "프랑스어 학습 출력데이터의 크기(shape) : (3000, 15)\n"
     ]
    }
   ],
   "source": [
    "test_num = 3000\n",
    "val_num = 3000\n",
    "\n",
    "encoder_input_train = encoder_input[:-6000]\n",
    "decoder_input_train = decoder_input[:-6000]\n",
    "decoder_target_train = decoder_target[:-6000]\n",
    "\n",
    "encoder_input_val = encoder_input[-6000:-3000]\n",
    "decoder_input_val = decoder_input[-6000:-3000]\n",
    "decoder_target_val = decoder_target[-6000:-3000]\n",
    "\n",
    "encoder_input_test = encoder_input[-3000:]\n",
    "decoder_input_test = decoder_input[-3000:]\n",
    "decoder_target_test = decoder_target[-3000:]\n",
    "\n",
    "\n",
    "print('영어 학습데이터의 크기(shape) :',np.shape(encoder_input_train))\n",
    "print('프랑스어 학습 입력데이터의 크기(shape) :',np.shape(decoder_input_train))\n",
    "print('프랑스어 학습 출력데이터의 크기(shape) :',np.shape(decoder_target_train))\n",
    "print()\n",
    "print('영어 학습데이터의 크기(shape) :',np.shape(encoder_input_val))\n",
    "print('프랑스어 학습 입력데이터의 크기(shape) :',np.shape(decoder_input_val))\n",
    "print('프랑스어 학습 출력데이터의 크기(shape) :',np.shape(decoder_target_val))\n",
    "print()\n",
    "print('영어 학습데이터의 크기(shape) :',np.shape(encoder_input_test))\n",
    "print('프랑스어 학습 입력데이터의 크기(shape) :',np.shape(decoder_input_test))\n",
    "print('프랑스어 학습 출력데이터의 크기(shape) :',np.shape(decoder_target_test))"
   ]
  },
  {
   "cell_type": "code",
   "execution_count": 38,
   "id": "0ac8e1ae",
   "metadata": {},
   "outputs": [
    {
     "name": "stdout",
     "output_type": "stream",
     "text": [
      "[   2  186 3974    1    0    0    0    0    0]\n"
     ]
    }
   ],
   "source": [
    "print(encoder_input_train[0])"
   ]
  },
  {
   "cell_type": "markdown",
   "id": "7620302a",
   "metadata": {},
   "source": [
    "#### 인코더"
   ]
  },
  {
   "cell_type": "code",
   "execution_count": 39,
   "id": "902f8e49",
   "metadata": {},
   "outputs": [],
   "source": [
    "# 입력 텐서 정의 및 생성.\n",
    "eng_vocab_size = english_vocab_size\n",
    "fra_vocab_size = french_vocab_size\n",
    "\n",
    "encoder_inputs = Input(shape=(None,))\n",
    "enc_emb_layer =  Embedding(eng_vocab_size, 128)(encoder_inputs)\n",
    "encoder_lstm = LSTM(units=256, return_state=True)\n",
    "encoder_outputs, state_h, state_c = encoder_lstm(enc_emb_layer)\n",
    "encoder_states = [state_h, state_c]"
   ]
  },
  {
   "cell_type": "markdown",
   "id": "9594abe3",
   "metadata": {},
   "source": [
    "#### 디코더"
   ]
  },
  {
   "cell_type": "code",
   "execution_count": 80,
   "id": "272c61a6",
   "metadata": {},
   "outputs": [],
   "source": [
    "decoder_inputs = Input(shape=(None,))\n",
    "dec_emb_layer = Embedding(fra_vocab_size, 128)\n",
    "dec_emb_layer = dec_emb_layer(decoder_inputs) \n",
    "decoder_lstm = LSTM(256, return_sequences=True, return_state=True)\n",
    "decoder_outputs, _, _ = decoder_lstm(dec_emb_layer, initial_state=encoder_states)"
   ]
  },
  {
   "cell_type": "markdown",
   "id": "03176e71",
   "metadata": {},
   "source": [
    "#### 출력층"
   ]
  },
  {
   "cell_type": "code",
   "execution_count": 41,
   "id": "718bd4a8",
   "metadata": {},
   "outputs": [],
   "source": [
    "decoder_softmax_layer = Dense(fra_vocab_size, activation='softmax')\n",
    "decoder_outputs = decoder_softmax_layer(decoder_outputs)"
   ]
  },
  {
   "cell_type": "markdown",
   "id": "188f4a9b",
   "metadata": {},
   "source": [
    "### Step 5. 모델 구현하기\n",
    "---\n",
    "\n",
    "글자 단위 번역기에서 구현한 모델을 참고로 단어 단위 번역기의 모델을 완성시켜보세요! 이때는 label이 integer 값이므로 categorical entropy loss가 아닌 sparse categorical entropy loss를 사용합니다."
   ]
  },
  {
   "cell_type": "code",
   "execution_count": 42,
   "id": "21c94257",
   "metadata": {},
   "outputs": [],
   "source": [
    "model = Model([encoder_inputs, decoder_inputs], decoder_outputs)"
   ]
  },
  {
   "cell_type": "code",
   "execution_count": 43,
   "id": "d275141e",
   "metadata": {},
   "outputs": [],
   "source": [
    "model.compile(optimizer=\"rmsprop\", loss=\"sparse_categorical_crossentropy\")"
   ]
  },
  {
   "cell_type": "code",
   "execution_count": 44,
   "id": "5f0e3d8b",
   "metadata": {},
   "outputs": [
    {
     "name": "stdout",
     "output_type": "stream",
     "text": [
      "Model: \"model\"\n",
      "__________________________________________________________________________________________________\n",
      "Layer (type)                    Output Shape         Param #     Connected to                     \n",
      "==================================================================================================\n",
      "input_1 (InputLayer)            [(None, None)]       0                                            \n",
      "__________________________________________________________________________________________________\n",
      "input_2 (InputLayer)            [(None, None)]       0                                            \n",
      "__________________________________________________________________________________________________\n",
      "embedding (Embedding)           (None, None, 128)    855168      input_1[0][0]                    \n",
      "__________________________________________________________________________________________________\n",
      "embedding_1 (Embedding)         (None, None, 128)    1413120     input_2[0][0]                    \n",
      "__________________________________________________________________________________________________\n",
      "lstm (LSTM)                     [(None, 256), (None, 394240      embedding[0][0]                  \n",
      "__________________________________________________________________________________________________\n",
      "lstm_1 (LSTM)                   [(None, None, 256),  394240      embedding_1[0][0]                \n",
      "                                                                 lstm[0][1]                       \n",
      "                                                                 lstm[0][2]                       \n",
      "__________________________________________________________________________________________________\n",
      "dense (Dense)                   (None, None, 11040)  2837280     lstm_1[0][0]                     \n",
      "==================================================================================================\n",
      "Total params: 5,894,048\n",
      "Trainable params: 5,894,048\n",
      "Non-trainable params: 0\n",
      "__________________________________________________________________________________________________\n"
     ]
    }
   ],
   "source": [
    "model.summary()"
   ]
  },
  {
   "cell_type": "markdown",
   "id": "9535bb26",
   "metadata": {},
   "source": [
    "### 모델 훈련하기"
   ]
  },
  {
   "cell_type": "code",
   "execution_count": 45,
   "id": "835428d0",
   "metadata": {},
   "outputs": [
    {
     "data": {
      "text/plain": [
       "(30000, 15)"
      ]
     },
     "execution_count": 45,
     "metadata": {},
     "output_type": "execute_result"
    }
   ],
   "source": [
    "decoder_target_train.shape"
   ]
  },
  {
   "cell_type": "code",
   "execution_count": 46,
   "id": "01f05cb7",
   "metadata": {
    "scrolled": false
   },
   "outputs": [
    {
     "name": "stdout",
     "output_type": "stream",
     "text": [
      "Epoch 1/10\n",
      "30000/30000 [==============================] - 182s 5ms/step - loss: 1.8318\n",
      "Epoch 2/10\n",
      "30000/30000 [==============================] - 153s 5ms/step - loss: 1.9961\n",
      "Epoch 3/10\n",
      "30000/30000 [==============================] - 154s 5ms/step - loss: 1.9267\n",
      "Epoch 4/10\n",
      "30000/30000 [==============================] - 153s 5ms/step - loss: 1.8857\n",
      "Epoch 5/10\n",
      "30000/30000 [==============================] - 153s 5ms/step - loss: 1.8594\n",
      "Epoch 6/10\n",
      "30000/30000 [==============================] - 153s 5ms/step - loss: 1.8438\n",
      "Epoch 7/10\n",
      "30000/30000 [==============================] - 153s 5ms/step - loss: 1.8307\n",
      "Epoch 8/10\n",
      "30000/30000 [==============================] - 152s 5ms/step - loss: 1.8250\n",
      "Epoch 9/10\n",
      "30000/30000 [==============================] - 153s 5ms/step - loss: 1.8169\n",
      "Epoch 10/10\n",
      "30000/30000 [==============================] - 152s 5ms/step - loss: 1.8118\n"
     ]
    }
   ],
   "source": [
    "history = model.fit(x=[encoder_input_train, decoder_input_train], y=decoder_target_train, \\\n",
    "          validation_data = ([encoder_input_val, decoder_input_val], decoder_target_val), \n",
    "          batch_size=128, epochs=10)"
   ]
  },
  {
   "cell_type": "code",
   "execution_count": 48,
   "id": "40a78e25",
   "metadata": {},
   "outputs": [
    {
     "data": {
      "text/plain": [
       "<matplotlib.legend.Legend at 0x7f6c769c4700>"
      ]
     },
     "execution_count": 48,
     "metadata": {},
     "output_type": "execute_result"
    },
    {
     "data": {
      "image/png": "[encoded data removed]",
      "text/plain": [
       "<Figure size 1080x432 with 1 Axes>"
      ]
     },
     "metadata": {
      "needs_background": "light"
     },
     "output_type": "display_data"
    }
   ],
   "source": [
    "import matplotlib.pyplot as plt\n",
    "\n",
    "fig = plt.figure(figsize=(15,6))\n",
    "\n",
    "for k,v in history.history.items():\n",
    "    plt.plot(history.history[k], label=k)\n",
    "plt.ylim(0, 3)\n",
    "plt.title('RMS Prop, Batch Size 128')\n",
    "plt.legend()"
   ]
  },
  {
   "cell_type": "markdown",
   "id": "1591f033",
   "metadata": {},
   "source": [
    "### Step 6. 모델 평가하기\n",
    "---\n",
    "단어 단위 번역기를 이용하여 훈련 데이터의 샘플과 테스트 데이터의 샘플로 번역 문장을 만들어보고 정답 문장과 번역 문장을 비교해보세요. 이전 스텝들에서 우리가 공부했던 모델의 경우 글자 단위에서 구현된 번역기이며 현재 프로젝트를 진행할 때 사용하는 모델은 단어 단위에서 구현되는 번역기입니다.\n",
    "\n",
    "> Embedding layer가 추가되기 때문에 학습했던 내용 그대로 사용할 경우 shape에서 error가 발생합니다.\n",
    "> decode sentence를 구성할 때 고민해보세요!!\n",
    "\n",
    "고민하다 풀리지 않을 경우에는 하단 내용 참고해주세요."
   ]
  },
  {
   "cell_type": "markdown",
   "id": "b68dd2b0",
   "metadata": {},
   "source": [
    "루브릭  \n",
    "아래의 기준을 바탕으로 프로젝트를 평가합니다.  \n",
    "평가문항\t상세기준\n",
    "\n",
    "1. 번역기 모델 학습에 필요한 텍스트 데이터 전처리가 잘 이루어졌다.  \n",
    "구두점, 대소문자, 띄어쓰기 등 번역기 모델에 요구되는 전처리가 정상적으로 진행되었다.  \n",
    "\n",
    "2. seq2seq 기반의 번역기 모델이 정상적으로 구동된다.  \n",
    "seq2seq 모델 훈련결과를 그래프로 출력해보고, validation loss그래프가 우하향하는 경향성을 보이며 학습이 진행됨이 확인되었다.\n",
    "\n",
    "3. 테스트 결과 의미가 통하는 수준의 번역문이 생성되었다.  \n",
    "테스트용 디코더 모델이 정상적으로 만들어졌으며, input(영어)와 output(프랑스어) 모두 한글로 번역해서 결과를 출력해보았고, 둘의 내용이 유사함을 확인하였다.\n"
   ]
  },
  {
   "cell_type": "markdown",
   "id": "aa24ff08",
   "metadata": {},
   "source": [
    "### 고찰\n",
    "1. 단어 단위 임베딩에 따른 인풋 벡터의 변화에 대한 이해가 좀 어려웠다.\n",
    "2. 중복되는 문장이 있어 이를 제거 후 성능이 좋아짐을 확인했다. 전처리와 데이타를 살펴보는 과정은 늘 중요함을 알 수 있었다.\n",
    "3. 모델 학습에 소요되는 시간이 많아 다양한 실험을 해보지 못한 점이 아쉬웠다.\n",
    "4. 모델 학습 시도 시 오류가 발생하여 디버깅에 많은 시간을 소모했는데, 원인은 로스 함수의 선택에 문제가 있었다. 항상 기본에 충실해야 한다는 점을 깨달았다.\n"
   ]
  },
  {
   "cell_type": "code",
   "execution_count": null,
   "id": "c1ed8372",
   "metadata": {},
   "outputs": [],
   "source": []
  },
  {
   "cell_type": "code",
   "execution_count": null,
   "id": "947d95fe",
   "metadata": {},
   "outputs": [],
   "source": []
  }
 ],
 "metadata": {
  "hide_input": false,
  "kernelspec": {
   "display_name": "Python 3 (ipykernel)",
   "language": "python",
   "name": "python3"
  },
  "language_info": {
   "codemirror_mode": {
    "name": "ipython",
    "version": 3
   },
   "file_extension": ".py",
   "mimetype": "text/x-python",
   "name": "python",
   "nbconvert_exporter": "python",
   "pygments_lexer": "ipython3",
   "version": "3.9.7"
  },
  "toc": {
   "base_numbering": 1,
   "nav_menu": {},
   "number_sections": true,
   "sideBar": true,
   "skip_h1_title": false,
   "title_cell": "Table of Contents",
   "title_sidebar": "Contents",
   "toc_cell": false,
   "toc_position": {
    "height": "calc(100% - 180px)",
    "left": "10px",
    "top": "150px",
    "width": "392.796875px"
   },
   "toc_section_display": true,
   "toc_window_display": true
  },
  "varInspector": {
   "cols": {
    "lenName": 16,
    "lenType": 16,
    "lenVar": 40
   },
   "kernels_config": {
    "python": {
     "delete_cmd_postfix": "",
     "delete_cmd_prefix": "del ",
     "library": "var_list.py",
     "varRefreshCmd": "print(var_dic_list())"
    },
    "r": {
     "delete_cmd_postfix": ") ",
     "delete_cmd_prefix": "rm(",
     "library": "var_list.r",
     "varRefreshCmd": "cat(var_dic_list()) "
    }
   },
   "types_to_exclude": [
    "module",
    "function",
    "builtin_function_or_method",
    "instance",
    "_Feature"
   ],
   "window_display": false
  }
 },
 "nbformat": 4,
 "nbformat_minor": 5
}
