{
 "cells": [
  {
   "cell_type": "markdown",
   "id": "cc061bde",
   "metadata": {},
   "source": [
    "# Datathon Baseline EDA\n",
    "### Team : Strong Watchmen\n",
    "---\n",
    "#### Createed Time : 2022-11-16 (수) 11:00AM\n",
    "#### Version 1\n",
    "---\n",
    "#### Last Modified Time : 2022-11-16 (수) 10:30 PM\n",
    "#### Version : - Experiement 1 : balancing labels\n",
    "---\n",
    "#### Last Modified Time : 2022-11-17 (수) 21:30 PM\n",
    "#### Version : - Experiement 2 : binary classification\n"
   ]
  },
  {
   "cell_type": "markdown",
   "id": "98ccdbae",
   "metadata": {},
   "source": [
    "* 목차\n",
    "1. 데이타 불러오기\n",
    "2. 데이타 살펴보기\n",
    "3. 데이타의 이해 : 시각화\n",
    "4. 데이타 전처리\n",
    "5. 데이타 분리 : 훈련세트, 시험세트\n",
    "6. 모델 작성\n",
    "7. 모델 훈련 : 훈련세트\n",
    "8. 모델 예측 : 시험세트\n",
    "- 참고자료"
   ]
  },
  {
   "cell_type": "code",
   "execution_count": 1,
   "id": "bdc53c95",
   "metadata": {},
   "outputs": [],
   "source": [
    "import warnings\n",
    "warnings.filterwarnings('ignore')"
   ]
  },
  {
   "cell_type": "code",
   "execution_count": 2,
   "id": "48283918",
   "metadata": {},
   "outputs": [],
   "source": [
    "import os\n",
    "\n",
    "import numpy as np\n",
    "import pandas as pd\n",
    "\n",
    "from sklearn.preprocessing import LabelEncoder\n",
    "\n",
    "from sklearn.model_selection import train_test_split\n",
    "from sklearn.metrics import classification_report\n",
    "from sklearn.metrics import accuracy_score\n",
    "from sklearn.metrics import f1_score\n",
    "from sklearn.metrics import confusion_matrix, plot_confusion_matrix\n",
    "\n",
    "from sklearn.tree import DecisionTreeClassifier \n",
    "from sklearn.ensemble import RandomForestClassifier\n",
    "from sklearn import svm\n",
    "from sklearn.linear_model import SGDClassifier\n",
    "from sklearn.linear_model import LogisticRegression\n",
    "\n",
    "import seaborn as sns  \n",
    "from matplotlib import pyplot as plt"
   ]
  },
  {
   "cell_type": "markdown",
   "id": "e3eac236",
   "metadata": {},
   "source": [
    "# 1. 데이타 불러오기"
   ]
  },
  {
   "cell_type": "code",
   "execution_count": 3,
   "id": "d6fba0a9",
   "metadata": {},
   "outputs": [],
   "source": [
    "atheletes = pd.read_csv(os.getenv('HOME') + '/aiffel/datathon/data/athlete_events.csv')\n",
    "regions = pd.read_csv(os.getenv('HOME') + '/aiffel/datathon/data/noc_regions.csv')"
   ]
  },
  {
   "cell_type": "code",
   "execution_count": 4,
   "id": "e826cc4d",
   "metadata": {},
   "outputs": [
    {
     "data": {
      "text/html": [
       "<div>\n",
       "<style scoped>\n",
       "    .dataframe tbody tr th:only-of-type {\n",
       "        vertical-align: middle;\n",
       "    }\n",
       "\n",
       "    .dataframe tbody tr th {\n",
       "        vertical-align: top;\n",
       "    }\n",
       "\n",
       "    .dataframe thead th {\n",
       "        text-align: right;\n",
       "    }\n",
       "</style>\n",
       "<table border=\"1\" class=\"dataframe\">\n",
       "  <thead>\n",
       "    <tr style=\"text-align: right;\">\n",
       "      <th></th>\n",
       "      <th>ID</th>\n",
       "      <th>Name</th>\n",
       "      <th>Sex</th>\n",
       "      <th>Age</th>\n",
       "      <th>Height</th>\n",
       "      <th>Weight</th>\n",
       "      <th>Team</th>\n",
       "      <th>NOC</th>\n",
       "      <th>Games</th>\n",
       "      <th>Year</th>\n",
       "      <th>Season</th>\n",
       "      <th>City</th>\n",
       "      <th>Sport</th>\n",
       "      <th>Event</th>\n",
       "      <th>Medal</th>\n",
       "    </tr>\n",
       "  </thead>\n",
       "  <tbody>\n",
       "    <tr>\n",
       "      <th>0</th>\n",
       "      <td>1</td>\n",
       "      <td>A Dijiang</td>\n",
       "      <td>M</td>\n",
       "      <td>24.0</td>\n",
       "      <td>180.0</td>\n",
       "      <td>80.0</td>\n",
       "      <td>China</td>\n",
       "      <td>CHN</td>\n",
       "      <td>1992 Summer</td>\n",
       "      <td>1992</td>\n",
       "      <td>Summer</td>\n",
       "      <td>Barcelona</td>\n",
       "      <td>Basketball</td>\n",
       "      <td>Basketball Men's Basketball</td>\n",
       "      <td>NaN</td>\n",
       "    </tr>\n",
       "    <tr>\n",
       "      <th>1</th>\n",
       "      <td>2</td>\n",
       "      <td>A Lamusi</td>\n",
       "      <td>M</td>\n",
       "      <td>23.0</td>\n",
       "      <td>170.0</td>\n",
       "      <td>60.0</td>\n",
       "      <td>China</td>\n",
       "      <td>CHN</td>\n",
       "      <td>2012 Summer</td>\n",
       "      <td>2012</td>\n",
       "      <td>Summer</td>\n",
       "      <td>London</td>\n",
       "      <td>Judo</td>\n",
       "      <td>Judo Men's Extra-Lightweight</td>\n",
       "      <td>NaN</td>\n",
       "    </tr>\n",
       "    <tr>\n",
       "      <th>2</th>\n",
       "      <td>3</td>\n",
       "      <td>Gunnar Nielsen Aaby</td>\n",
       "      <td>M</td>\n",
       "      <td>24.0</td>\n",
       "      <td>NaN</td>\n",
       "      <td>NaN</td>\n",
       "      <td>Denmark</td>\n",
       "      <td>DEN</td>\n",
       "      <td>1920 Summer</td>\n",
       "      <td>1920</td>\n",
       "      <td>Summer</td>\n",
       "      <td>Antwerpen</td>\n",
       "      <td>Football</td>\n",
       "      <td>Football Men's Football</td>\n",
       "      <td>NaN</td>\n",
       "    </tr>\n",
       "    <tr>\n",
       "      <th>3</th>\n",
       "      <td>4</td>\n",
       "      <td>Edgar Lindenau Aabye</td>\n",
       "      <td>M</td>\n",
       "      <td>34.0</td>\n",
       "      <td>NaN</td>\n",
       "      <td>NaN</td>\n",
       "      <td>Denmark/Sweden</td>\n",
       "      <td>DEN</td>\n",
       "      <td>1900 Summer</td>\n",
       "      <td>1900</td>\n",
       "      <td>Summer</td>\n",
       "      <td>Paris</td>\n",
       "      <td>Tug-Of-War</td>\n",
       "      <td>Tug-Of-War Men's Tug-Of-War</td>\n",
       "      <td>Gold</td>\n",
       "    </tr>\n",
       "    <tr>\n",
       "      <th>4</th>\n",
       "      <td>5</td>\n",
       "      <td>Christine Jacoba Aaftink</td>\n",
       "      <td>F</td>\n",
       "      <td>21.0</td>\n",
       "      <td>185.0</td>\n",
       "      <td>82.0</td>\n",
       "      <td>Netherlands</td>\n",
       "      <td>NED</td>\n",
       "      <td>1988 Winter</td>\n",
       "      <td>1988</td>\n",
       "      <td>Winter</td>\n",
       "      <td>Calgary</td>\n",
       "      <td>Speed Skating</td>\n",
       "      <td>Speed Skating Women's 500 metres</td>\n",
       "      <td>NaN</td>\n",
       "    </tr>\n",
       "  </tbody>\n",
       "</table>\n",
       "</div>"
      ],
      "text/plain": [
       "   ID                      Name Sex   Age  Height  Weight            Team  \\\n",
       "0   1                 A Dijiang   M  24.0   180.0    80.0           China   \n",
       "1   2                  A Lamusi   M  23.0   170.0    60.0           China   \n",
       "2   3       Gunnar Nielsen Aaby   M  24.0     NaN     NaN         Denmark   \n",
       "3   4      Edgar Lindenau Aabye   M  34.0     NaN     NaN  Denmark/Sweden   \n",
       "4   5  Christine Jacoba Aaftink   F  21.0   185.0    82.0     Netherlands   \n",
       "\n",
       "   NOC        Games  Year  Season       City          Sport  \\\n",
       "0  CHN  1992 Summer  1992  Summer  Barcelona     Basketball   \n",
       "1  CHN  2012 Summer  2012  Summer     London           Judo   \n",
       "2  DEN  1920 Summer  1920  Summer  Antwerpen       Football   \n",
       "3  DEN  1900 Summer  1900  Summer      Paris     Tug-Of-War   \n",
       "4  NED  1988 Winter  1988  Winter    Calgary  Speed Skating   \n",
       "\n",
       "                              Event Medal  \n",
       "0       Basketball Men's Basketball   NaN  \n",
       "1      Judo Men's Extra-Lightweight   NaN  \n",
       "2           Football Men's Football   NaN  \n",
       "3       Tug-Of-War Men's Tug-Of-War  Gold  \n",
       "4  Speed Skating Women's 500 metres   NaN  "
      ]
     },
     "execution_count": 4,
     "metadata": {},
     "output_type": "execute_result"
    }
   ],
   "source": [
    "atheletes.head()"
   ]
  },
  {
   "cell_type": "code",
   "execution_count": 5,
   "id": "91c84a2f",
   "metadata": {},
   "outputs": [
    {
     "data": {
      "text/html": [
       "<div>\n",
       "<style scoped>\n",
       "    .dataframe tbody tr th:only-of-type {\n",
       "        vertical-align: middle;\n",
       "    }\n",
       "\n",
       "    .dataframe tbody tr th {\n",
       "        vertical-align: top;\n",
       "    }\n",
       "\n",
       "    .dataframe thead th {\n",
       "        text-align: right;\n",
       "    }\n",
       "</style>\n",
       "<table border=\"1\" class=\"dataframe\">\n",
       "  <thead>\n",
       "    <tr style=\"text-align: right;\">\n",
       "      <th></th>\n",
       "      <th>ID</th>\n",
       "      <th>Age</th>\n",
       "      <th>Height</th>\n",
       "      <th>Weight</th>\n",
       "      <th>Year</th>\n",
       "    </tr>\n",
       "  </thead>\n",
       "  <tbody>\n",
       "    <tr>\n",
       "      <th>count</th>\n",
       "      <td>271116.000000</td>\n",
       "      <td>261642.000000</td>\n",
       "      <td>210945.000000</td>\n",
       "      <td>208241.000000</td>\n",
       "      <td>271116.000000</td>\n",
       "    </tr>\n",
       "    <tr>\n",
       "      <th>mean</th>\n",
       "      <td>68248.954396</td>\n",
       "      <td>25.556898</td>\n",
       "      <td>175.338970</td>\n",
       "      <td>70.702393</td>\n",
       "      <td>1978.378480</td>\n",
       "    </tr>\n",
       "    <tr>\n",
       "      <th>std</th>\n",
       "      <td>39022.286345</td>\n",
       "      <td>6.393561</td>\n",
       "      <td>10.518462</td>\n",
       "      <td>14.348020</td>\n",
       "      <td>29.877632</td>\n",
       "    </tr>\n",
       "    <tr>\n",
       "      <th>min</th>\n",
       "      <td>1.000000</td>\n",
       "      <td>10.000000</td>\n",
       "      <td>127.000000</td>\n",
       "      <td>25.000000</td>\n",
       "      <td>1896.000000</td>\n",
       "    </tr>\n",
       "    <tr>\n",
       "      <th>25%</th>\n",
       "      <td>34643.000000</td>\n",
       "      <td>21.000000</td>\n",
       "      <td>168.000000</td>\n",
       "      <td>60.000000</td>\n",
       "      <td>1960.000000</td>\n",
       "    </tr>\n",
       "    <tr>\n",
       "      <th>50%</th>\n",
       "      <td>68205.000000</td>\n",
       "      <td>24.000000</td>\n",
       "      <td>175.000000</td>\n",
       "      <td>70.000000</td>\n",
       "      <td>1988.000000</td>\n",
       "    </tr>\n",
       "    <tr>\n",
       "      <th>75%</th>\n",
       "      <td>102097.250000</td>\n",
       "      <td>28.000000</td>\n",
       "      <td>183.000000</td>\n",
       "      <td>79.000000</td>\n",
       "      <td>2002.000000</td>\n",
       "    </tr>\n",
       "    <tr>\n",
       "      <th>max</th>\n",
       "      <td>135571.000000</td>\n",
       "      <td>97.000000</td>\n",
       "      <td>226.000000</td>\n",
       "      <td>214.000000</td>\n",
       "      <td>2016.000000</td>\n",
       "    </tr>\n",
       "  </tbody>\n",
       "</table>\n",
       "</div>"
      ],
      "text/plain": [
       "                  ID            Age         Height         Weight  \\\n",
       "count  271116.000000  261642.000000  210945.000000  208241.000000   \n",
       "mean    68248.954396      25.556898     175.338970      70.702393   \n",
       "std     39022.286345       6.393561      10.518462      14.348020   \n",
       "min         1.000000      10.000000     127.000000      25.000000   \n",
       "25%     34643.000000      21.000000     168.000000      60.000000   \n",
       "50%     68205.000000      24.000000     175.000000      70.000000   \n",
       "75%    102097.250000      28.000000     183.000000      79.000000   \n",
       "max    135571.000000      97.000000     226.000000     214.000000   \n",
       "\n",
       "                Year  \n",
       "count  271116.000000  \n",
       "mean     1978.378480  \n",
       "std        29.877632  \n",
       "min      1896.000000  \n",
       "25%      1960.000000  \n",
       "50%      1988.000000  \n",
       "75%      2002.000000  \n",
       "max      2016.000000  "
      ]
     },
     "execution_count": 5,
     "metadata": {},
     "output_type": "execute_result"
    }
   ],
   "source": [
    "atheletes.describe()"
   ]
  },
  {
   "cell_type": "code",
   "execution_count": 6,
   "id": "3e8f022d",
   "metadata": {},
   "outputs": [
    {
     "name": "stdout",
     "output_type": "stream",
     "text": [
      "<class 'pandas.core.frame.DataFrame'>\n",
      "RangeIndex: 271116 entries, 0 to 271115\n",
      "Data columns (total 15 columns):\n",
      " #   Column  Non-Null Count   Dtype  \n",
      "---  ------  --------------   -----  \n",
      " 0   ID      271116 non-null  int64  \n",
      " 1   Name    271116 non-null  object \n",
      " 2   Sex     271116 non-null  object \n",
      " 3   Age     261642 non-null  float64\n",
      " 4   Height  210945 non-null  float64\n",
      " 5   Weight  208241 non-null  float64\n",
      " 6   Team    271116 non-null  object \n",
      " 7   NOC     271116 non-null  object \n",
      " 8   Games   271116 non-null  object \n",
      " 9   Year    271116 non-null  int64  \n",
      " 10  Season  271116 non-null  object \n",
      " 11  City    271116 non-null  object \n",
      " 12  Sport   271116 non-null  object \n",
      " 13  Event   271116 non-null  object \n",
      " 14  Medal   39783 non-null   object \n",
      "dtypes: float64(3), int64(2), object(10)\n",
      "memory usage: 31.0+ MB\n"
     ]
    }
   ],
   "source": [
    "atheletes.info()"
   ]
  },
  {
   "cell_type": "code",
   "execution_count": 7,
   "id": "d86fcced",
   "metadata": {},
   "outputs": [
    {
     "data": {
      "text/html": [
       "<div>\n",
       "<style scoped>\n",
       "    .dataframe tbody tr th:only-of-type {\n",
       "        vertical-align: middle;\n",
       "    }\n",
       "\n",
       "    .dataframe tbody tr th {\n",
       "        vertical-align: top;\n",
       "    }\n",
       "\n",
       "    .dataframe thead th {\n",
       "        text-align: right;\n",
       "    }\n",
       "</style>\n",
       "<table border=\"1\" class=\"dataframe\">\n",
       "  <thead>\n",
       "    <tr style=\"text-align: right;\">\n",
       "      <th></th>\n",
       "      <th>NOC</th>\n",
       "      <th>region</th>\n",
       "      <th>notes</th>\n",
       "    </tr>\n",
       "  </thead>\n",
       "  <tbody>\n",
       "    <tr>\n",
       "      <th>0</th>\n",
       "      <td>AFG</td>\n",
       "      <td>Afghanistan</td>\n",
       "      <td>NaN</td>\n",
       "    </tr>\n",
       "    <tr>\n",
       "      <th>1</th>\n",
       "      <td>AHO</td>\n",
       "      <td>Curacao</td>\n",
       "      <td>Netherlands Antilles</td>\n",
       "    </tr>\n",
       "    <tr>\n",
       "      <th>2</th>\n",
       "      <td>ALB</td>\n",
       "      <td>Albania</td>\n",
       "      <td>NaN</td>\n",
       "    </tr>\n",
       "    <tr>\n",
       "      <th>3</th>\n",
       "      <td>ALG</td>\n",
       "      <td>Algeria</td>\n",
       "      <td>NaN</td>\n",
       "    </tr>\n",
       "    <tr>\n",
       "      <th>4</th>\n",
       "      <td>AND</td>\n",
       "      <td>Andorra</td>\n",
       "      <td>NaN</td>\n",
       "    </tr>\n",
       "  </tbody>\n",
       "</table>\n",
       "</div>"
      ],
      "text/plain": [
       "   NOC       region                 notes\n",
       "0  AFG  Afghanistan                   NaN\n",
       "1  AHO      Curacao  Netherlands Antilles\n",
       "2  ALB      Albania                   NaN\n",
       "3  ALG      Algeria                   NaN\n",
       "4  AND      Andorra                   NaN"
      ]
     },
     "execution_count": 7,
     "metadata": {},
     "output_type": "execute_result"
    }
   ],
   "source": [
    "regions.head()"
   ]
  },
  {
   "cell_type": "markdown",
   "id": "4d235ffe",
   "metadata": {},
   "source": [
    "* ID - Unique number for each athlete\n",
    "* Name - Athlete's name\n",
    "* Sex - M or F\n",
    "* Age - Integer\n",
    "* Height - In centimeters\n",
    "* Weight - In kilograms\n",
    "* Team - Team name\n",
    "* NOC - National Olympic Committee 3-letter code\n",
    "* Games - Year and season\n",
    "* Year - Integer\n",
    "* Season - Summer or Winter\n",
    "* City - Host city\n",
    "* Sport - Sport\n",
    "* Event - Event\n",
    "* Medal - Gold, Silver, Bronze, or NA"
   ]
  },
  {
   "cell_type": "markdown",
   "id": "7f6235f9",
   "metadata": {},
   "source": [
    "# 2. 데이타 살펴보기"
   ]
  },
  {
   "cell_type": "markdown",
   "id": "943f7c10",
   "metadata": {},
   "source": [
    "### 2.1 칼럼명 리스트"
   ]
  },
  {
   "cell_type": "code",
   "execution_count": 8,
   "id": "256b466e",
   "metadata": {},
   "outputs": [
    {
     "name": "stdout",
     "output_type": "stream",
     "text": [
      "ID\n",
      "Name\n",
      "Sex\n",
      "Age\n",
      "Height\n",
      "Weight\n",
      "Team\n",
      "NOC\n",
      "Games\n",
      "Year\n",
      "Season\n",
      "City\n",
      "Sport\n",
      "Event\n",
      "Medal\n"
     ]
    }
   ],
   "source": [
    "for c in atheletes.columns:\n",
    "    print(c)"
   ]
  },
  {
   "cell_type": "code",
   "execution_count": 9,
   "id": "0f1c519b",
   "metadata": {},
   "outputs": [
    {
     "name": "stdout",
     "output_type": "stream",
     "text": [
      "NOC\n",
      "region\n",
      "notes\n"
     ]
    }
   ],
   "source": [
    "for c in regions.columns:\n",
    "    print(c)"
   ]
  },
  {
   "cell_type": "markdown",
   "id": "b6606961",
   "metadata": {},
   "source": [
    "### 2.2 널 값 점검"
   ]
  },
  {
   "cell_type": "markdown",
   "id": "7b1eeb6c",
   "metadata": {},
   "source": [
    "271,116 개의 선수 활동 데이타에서 나이(9,474), 키(60,171), 체중(62,875)개의 데이타가 NULL이었다.  \n",
    "메달 칼럼은 231,333개의 칼럼이 NULL이었다.\n",
    "\n",
    "230개의 지역 데이타에서 지역(3), 노트(209) 개의 데이타가 NULL이었다."
   ]
  },
  {
   "cell_type": "code",
   "execution_count": 10,
   "id": "162d154d",
   "metadata": {},
   "outputs": [
    {
     "name": "stdout",
     "output_type": "stream",
     "text": [
      "athlete_events 271116\n",
      "noc_regions 230\n"
     ]
    }
   ],
   "source": [
    "print('athlete_events', len(atheletes))\n",
    "print('noc_regions', len(regions))"
   ]
  },
  {
   "cell_type": "code",
   "execution_count": 11,
   "id": "c02e565d",
   "metadata": {},
   "outputs": [
    {
     "data": {
      "text/plain": [
       "ID             0\n",
       "Name           0\n",
       "Sex            0\n",
       "Age         9474\n",
       "Height     60171\n",
       "Weight     62875\n",
       "Team           0\n",
       "NOC            0\n",
       "Games          0\n",
       "Year           0\n",
       "Season         0\n",
       "City           0\n",
       "Sport          0\n",
       "Event          0\n",
       "Medal     231333\n",
       "dtype: int64"
      ]
     },
     "execution_count": 11,
     "metadata": {},
     "output_type": "execute_result"
    }
   ],
   "source": [
    "atheletes.isnull().sum()"
   ]
  },
  {
   "cell_type": "code",
   "execution_count": 12,
   "id": "5a2069ed",
   "metadata": {},
   "outputs": [
    {
     "data": {
      "text/plain": [
       "NOC         0\n",
       "region      3\n",
       "notes     209\n",
       "dtype: int64"
      ]
     },
     "execution_count": 12,
     "metadata": {},
     "output_type": "execute_result"
    }
   ],
   "source": [
    "regions.isnull().sum()"
   ]
  },
  {
   "cell_type": "code",
   "execution_count": 13,
   "id": "5ebe98d1",
   "metadata": {},
   "outputs": [
    {
     "data": {
      "text/plain": [
       "False    269731\n",
       "True       1385\n",
       "dtype: int64"
      ]
     },
     "execution_count": 13,
     "metadata": {},
     "output_type": "execute_result"
    }
   ],
   "source": [
    "atheletes.duplicated().value_counts()"
   ]
  },
  {
   "cell_type": "markdown",
   "id": "c5da85e6",
   "metadata": {},
   "source": [
    "### 2.3 각 칼럼의 값 카운트"
   ]
  },
  {
   "cell_type": "code",
   "execution_count": 14,
   "id": "13c5974e",
   "metadata": {
    "scrolled": true
   },
   "outputs": [
    {
     "name": "stdout",
     "output_type": "stream",
     "text": [
      "=========================\n",
      "ID\n",
      "77710     58\n",
      "106296    39\n",
      "115354    38\n",
      "119591    36\n",
      "129196    32\n",
      "          ..\n",
      "57056      1\n",
      "57055      1\n",
      "57054      1\n",
      "57053      1\n",
      "67786      1\n",
      "Name: ID, Length: 135571, dtype: int64\n",
      "-------------------------\n",
      "=========================\n",
      "Name\n",
      "Robert Tait McKenzie            58\n",
      "Heikki Ilmari Savolainen        39\n",
      "Joseph \"Josy\" Stoffel           38\n",
      "Ioannis Theofilakis             36\n",
      "Takashi Ono                     33\n",
      "                                ..\n",
      "Tatyana Vasilyevna Kalmykova     1\n",
      "Mariya Lvovna Kalmykova          1\n",
      "Christine Kalmer                 1\n",
      "Joannis \"Jannis\" Kalmazidis      1\n",
      "Pierre-Georges LeClercq          1\n",
      "Name: Name, Length: 134732, dtype: int64\n",
      "-------------------------\n",
      "=========================\n",
      "Sex\n",
      "M    196594\n",
      "F     74522\n",
      "Name: Sex, dtype: int64\n",
      "-------------------------\n",
      "=========================\n",
      "Age\n",
      "23.0    21875\n",
      "24.0    21720\n",
      "22.0    20814\n",
      "25.0    19707\n",
      "21.0    19164\n",
      "        ...  \n",
      "77.0        2\n",
      "84.0        1\n",
      "10.0        1\n",
      "96.0        1\n",
      "97.0        1\n",
      "Name: Age, Length: 74, dtype: int64\n",
      "-------------------------\n",
      "=========================\n",
      "Height\n",
      "180.0    12492\n",
      "170.0    11976\n",
      "178.0    10708\n",
      "175.0    10320\n",
      "183.0     8284\n",
      "         ...  \n",
      "226.0        3\n",
      "131.0        2\n",
      "130.0        2\n",
      "219.0        2\n",
      "128.0        1\n",
      "Name: Height, Length: 95, dtype: int64\n",
      "-------------------------\n",
      "=========================\n",
      "Weight\n",
      "70.0     9625\n",
      "60.0     7994\n",
      "75.0     7810\n",
      "68.0     7284\n",
      "65.0     7236\n",
      "         ... \n",
      "190.0       1\n",
      "180.0       1\n",
      "149.0       1\n",
      "48.5        1\n",
      "198.0       1\n",
      "Name: Weight, Length: 220, dtype: int64\n",
      "-------------------------\n",
      "=========================\n",
      "Team\n",
      "United States    17847\n",
      "France           11988\n",
      "Great Britain    11404\n",
      "Italy            10260\n",
      "Germany           9326\n",
      "                 ...  \n",
      "Briar                1\n",
      "Hannover             1\n",
      "Nan-2                1\n",
      "Brentina             1\n",
      "Digby                1\n",
      "Name: Team, Length: 1184, dtype: int64\n",
      "-------------------------\n",
      "=========================\n",
      "NOC\n",
      "USA    18853\n",
      "FRA    12758\n",
      "GBR    12256\n",
      "ITA    10715\n",
      "GER     9830\n",
      "       ...  \n",
      "YMD        5\n",
      "SSD        3\n",
      "UNK        2\n",
      "NBO        2\n",
      "NFL        1\n",
      "Name: NOC, Length: 230, dtype: int64\n",
      "-------------------------\n",
      "=========================\n",
      "Games\n",
      "2000 Summer    13821\n",
      "1996 Summer    13780\n",
      "2016 Summer    13688\n",
      "2008 Summer    13602\n",
      "2004 Summer    13443\n",
      "1992 Summer    12977\n",
      "2012 Summer    12920\n",
      "1988 Summer    12037\n",
      "1972 Summer    10304\n",
      "1984 Summer     9454\n",
      "1976 Summer     8641\n",
      "1968 Summer     8588\n",
      "1952 Summer     8270\n",
      "1960 Summer     8119\n",
      "1964 Summer     7702\n",
      "1980 Summer     7191\n",
      "1936 Summer     6506\n",
      "1948 Summer     6405\n",
      "1924 Summer     5233\n",
      "1956 Summer     5127\n",
      "1928 Summer     4992\n",
      "2014 Winter     4891\n",
      "2010 Winter     4402\n",
      "2006 Winter     4382\n",
      "1920 Summer     4292\n",
      "2002 Winter     4109\n",
      "1912 Summer     4040\n",
      "1998 Winter     3605\n",
      "1992 Winter     3436\n",
      "1994 Winter     3160\n",
      "1908 Summer     3101\n",
      "1932 Summer     2969\n",
      "1988 Winter     2639\n",
      "1984 Winter     2134\n",
      "1900 Summer     1936\n",
      "1968 Winter     1891\n",
      "1976 Winter     1861\n",
      "1964 Winter     1778\n",
      "1980 Winter     1746\n",
      "1906 Summer     1733\n",
      "1972 Winter     1655\n",
      "1956 Winter     1307\n",
      "1904 Summer     1301\n",
      "1960 Winter     1116\n",
      "1952 Winter     1088\n",
      "1948 Winter     1075\n",
      "1936 Winter      895\n",
      "1928 Winter      582\n",
      "1924 Winter      460\n",
      "1896 Summer      380\n",
      "1932 Winter      352\n",
      "Name: Games, dtype: int64\n",
      "-------------------------\n",
      "=========================\n",
      "Year\n",
      "1992    16413\n",
      "1988    14676\n",
      "2000    13821\n",
      "1996    13780\n",
      "2016    13688\n",
      "2008    13602\n",
      "2004    13443\n",
      "2012    12920\n",
      "1972    11959\n",
      "1984    11588\n",
      "1976    10502\n",
      "1968    10479\n",
      "1964     9480\n",
      "1952     9358\n",
      "1960     9235\n",
      "1980     8937\n",
      "1948     7480\n",
      "1936     7401\n",
      "1956     6434\n",
      "1924     5693\n",
      "1928     5574\n",
      "2014     4891\n",
      "2010     4402\n",
      "2006     4382\n",
      "1920     4292\n",
      "2002     4109\n",
      "1912     4040\n",
      "1998     3605\n",
      "1932     3321\n",
      "1994     3160\n",
      "1908     3101\n",
      "1900     1936\n",
      "1906     1733\n",
      "1904     1301\n",
      "1896      380\n",
      "Name: Year, dtype: int64\n",
      "-------------------------\n",
      "=========================\n",
      "Season\n",
      "Summer    222552\n",
      "Winter     48564\n",
      "Name: Season, dtype: int64\n",
      "-------------------------\n",
      "=========================\n",
      "City\n",
      "London                    22426\n",
      "Athina                    15556\n",
      "Sydney                    13821\n",
      "Atlanta                   13780\n",
      "Rio de Janeiro            13688\n",
      "Beijing                   13602\n",
      "Barcelona                 12977\n",
      "Los Angeles               12423\n",
      "Seoul                     12037\n",
      "Munich                    10304\n",
      "Montreal                   8641\n",
      "Mexico City                8588\n",
      "Helsinki                   8270\n",
      "Roma                       8119\n",
      "Tokyo                      7702\n",
      "Moskva                     7191\n",
      "Paris                      7169\n",
      "Berlin                     6506\n",
      "Amsterdam                  4992\n",
      "Sochi                      4891\n",
      "Melbourne                  4829\n",
      "Vancouver                  4402\n",
      "Torino                     4382\n",
      "Stockholm                  4338\n",
      "Antwerpen                  4292\n",
      "Salt Lake City             4109\n",
      "Innsbruck                  3639\n",
      "Nagano                     3605\n",
      "Albertville                3436\n",
      "Lillehammer                3160\n",
      "Calgary                    2639\n",
      "Sarajevo                   2134\n",
      "Lake Placid                2098\n",
      "Grenoble                   1891\n",
      "Sankt Moritz               1657\n",
      "Sapporo                    1655\n",
      "Cortina d'Ampezzo          1307\n",
      "St. Louis                  1301\n",
      "Squaw Valley               1116\n",
      "Oslo                       1088\n",
      "Garmisch-Partenkirchen      895\n",
      "Chamonix                    460\n",
      "Name: City, dtype: int64\n",
      "-------------------------\n",
      "=========================\n",
      "Sport\n",
      "Athletics        38624\n",
      "Gymnastics       26707\n",
      "Swimming         23195\n",
      "Shooting         11448\n",
      "Cycling          10859\n",
      "                 ...  \n",
      "Racquets            12\n",
      "Jeu De Paume        11\n",
      "Roque                4\n",
      "Basque Pelota        2\n",
      "Aeronautics          1\n",
      "Name: Sport, Length: 66, dtype: int64\n",
      "-------------------------\n",
      "=========================\n",
      "Event\n",
      "Football Men's Football                                5733\n",
      "Ice Hockey Men's Ice Hockey                            4762\n",
      "Hockey Men's Hockey                                    3958\n",
      "Water Polo Men's Water Polo                            3358\n",
      "Basketball Men's Basketball                            3280\n",
      "                                                       ... \n",
      "Croquet Mixed Doubles                                     2\n",
      "Archery Men's Target Archery, 50 metres, Individual       2\n",
      "Archery Men's Target Archery, 33 metres, Individual       2\n",
      "Archery Men's Target Archery, 28 metres, Individual       2\n",
      "Aeronautics Mixed Aeronautics                             1\n",
      "Name: Event, Length: 765, dtype: int64\n",
      "-------------------------\n",
      "=========================\n",
      "Medal\n",
      "Gold      13372\n",
      "Bronze    13295\n",
      "Silver    13116\n",
      "Name: Medal, dtype: int64\n",
      "-------------------------\n"
     ]
    }
   ],
   "source": [
    "for c in atheletes.columns:\n",
    "    print('=========================')\n",
    "    print(c)\n",
    "    print(atheletes[c].value_counts())\n",
    "    print('-------------------------')"
   ]
  },
  {
   "cell_type": "markdown",
   "id": "69b68e1f",
   "metadata": {},
   "source": [
    "### 2.4 두 데이타 프레임을 연결"
   ]
  },
  {
   "cell_type": "code",
   "execution_count": 15,
   "id": "e8bbc305",
   "metadata": {},
   "outputs": [],
   "source": [
    "merged = pd.merge(atheletes, regions, on='NOC', how='left')"
   ]
  },
  {
   "cell_type": "code",
   "execution_count": 16,
   "id": "d6edecf9",
   "metadata": {},
   "outputs": [
    {
     "data": {
      "text/html": [
       "<div>\n",
       "<style scoped>\n",
       "    .dataframe tbody tr th:only-of-type {\n",
       "        vertical-align: middle;\n",
       "    }\n",
       "\n",
       "    .dataframe tbody tr th {\n",
       "        vertical-align: top;\n",
       "    }\n",
       "\n",
       "    .dataframe thead th {\n",
       "        text-align: right;\n",
       "    }\n",
       "</style>\n",
       "<table border=\"1\" class=\"dataframe\">\n",
       "  <thead>\n",
       "    <tr style=\"text-align: right;\">\n",
       "      <th></th>\n",
       "      <th>ID</th>\n",
       "      <th>Name</th>\n",
       "      <th>Sex</th>\n",
       "      <th>Age</th>\n",
       "      <th>Height</th>\n",
       "      <th>Weight</th>\n",
       "      <th>Team</th>\n",
       "      <th>NOC</th>\n",
       "      <th>Games</th>\n",
       "      <th>Year</th>\n",
       "      <th>Season</th>\n",
       "      <th>City</th>\n",
       "      <th>Sport</th>\n",
       "      <th>Event</th>\n",
       "      <th>Medal</th>\n",
       "      <th>region</th>\n",
       "      <th>notes</th>\n",
       "    </tr>\n",
       "  </thead>\n",
       "  <tbody>\n",
       "    <tr>\n",
       "      <th>0</th>\n",
       "      <td>1</td>\n",
       "      <td>A Dijiang</td>\n",
       "      <td>M</td>\n",
       "      <td>24.0</td>\n",
       "      <td>180.0</td>\n",
       "      <td>80.0</td>\n",
       "      <td>China</td>\n",
       "      <td>CHN</td>\n",
       "      <td>1992 Summer</td>\n",
       "      <td>1992</td>\n",
       "      <td>Summer</td>\n",
       "      <td>Barcelona</td>\n",
       "      <td>Basketball</td>\n",
       "      <td>Basketball Men's Basketball</td>\n",
       "      <td>NaN</td>\n",
       "      <td>China</td>\n",
       "      <td>NaN</td>\n",
       "    </tr>\n",
       "    <tr>\n",
       "      <th>1</th>\n",
       "      <td>2</td>\n",
       "      <td>A Lamusi</td>\n",
       "      <td>M</td>\n",
       "      <td>23.0</td>\n",
       "      <td>170.0</td>\n",
       "      <td>60.0</td>\n",
       "      <td>China</td>\n",
       "      <td>CHN</td>\n",
       "      <td>2012 Summer</td>\n",
       "      <td>2012</td>\n",
       "      <td>Summer</td>\n",
       "      <td>London</td>\n",
       "      <td>Judo</td>\n",
       "      <td>Judo Men's Extra-Lightweight</td>\n",
       "      <td>NaN</td>\n",
       "      <td>China</td>\n",
       "      <td>NaN</td>\n",
       "    </tr>\n",
       "    <tr>\n",
       "      <th>2</th>\n",
       "      <td>3</td>\n",
       "      <td>Gunnar Nielsen Aaby</td>\n",
       "      <td>M</td>\n",
       "      <td>24.0</td>\n",
       "      <td>NaN</td>\n",
       "      <td>NaN</td>\n",
       "      <td>Denmark</td>\n",
       "      <td>DEN</td>\n",
       "      <td>1920 Summer</td>\n",
       "      <td>1920</td>\n",
       "      <td>Summer</td>\n",
       "      <td>Antwerpen</td>\n",
       "      <td>Football</td>\n",
       "      <td>Football Men's Football</td>\n",
       "      <td>NaN</td>\n",
       "      <td>Denmark</td>\n",
       "      <td>NaN</td>\n",
       "    </tr>\n",
       "    <tr>\n",
       "      <th>3</th>\n",
       "      <td>4</td>\n",
       "      <td>Edgar Lindenau Aabye</td>\n",
       "      <td>M</td>\n",
       "      <td>34.0</td>\n",
       "      <td>NaN</td>\n",
       "      <td>NaN</td>\n",
       "      <td>Denmark/Sweden</td>\n",
       "      <td>DEN</td>\n",
       "      <td>1900 Summer</td>\n",
       "      <td>1900</td>\n",
       "      <td>Summer</td>\n",
       "      <td>Paris</td>\n",
       "      <td>Tug-Of-War</td>\n",
       "      <td>Tug-Of-War Men's Tug-Of-War</td>\n",
       "      <td>Gold</td>\n",
       "      <td>Denmark</td>\n",
       "      <td>NaN</td>\n",
       "    </tr>\n",
       "    <tr>\n",
       "      <th>4</th>\n",
       "      <td>5</td>\n",
       "      <td>Christine Jacoba Aaftink</td>\n",
       "      <td>F</td>\n",
       "      <td>21.0</td>\n",
       "      <td>185.0</td>\n",
       "      <td>82.0</td>\n",
       "      <td>Netherlands</td>\n",
       "      <td>NED</td>\n",
       "      <td>1988 Winter</td>\n",
       "      <td>1988</td>\n",
       "      <td>Winter</td>\n",
       "      <td>Calgary</td>\n",
       "      <td>Speed Skating</td>\n",
       "      <td>Speed Skating Women's 500 metres</td>\n",
       "      <td>NaN</td>\n",
       "      <td>Netherlands</td>\n",
       "      <td>NaN</td>\n",
       "    </tr>\n",
       "  </tbody>\n",
       "</table>\n",
       "</div>"
      ],
      "text/plain": [
       "   ID                      Name Sex   Age  Height  Weight            Team  \\\n",
       "0   1                 A Dijiang   M  24.0   180.0    80.0           China   \n",
       "1   2                  A Lamusi   M  23.0   170.0    60.0           China   \n",
       "2   3       Gunnar Nielsen Aaby   M  24.0     NaN     NaN         Denmark   \n",
       "3   4      Edgar Lindenau Aabye   M  34.0     NaN     NaN  Denmark/Sweden   \n",
       "4   5  Christine Jacoba Aaftink   F  21.0   185.0    82.0     Netherlands   \n",
       "\n",
       "   NOC        Games  Year  Season       City          Sport  \\\n",
       "0  CHN  1992 Summer  1992  Summer  Barcelona     Basketball   \n",
       "1  CHN  2012 Summer  2012  Summer     London           Judo   \n",
       "2  DEN  1920 Summer  1920  Summer  Antwerpen       Football   \n",
       "3  DEN  1900 Summer  1900  Summer      Paris     Tug-Of-War   \n",
       "4  NED  1988 Winter  1988  Winter    Calgary  Speed Skating   \n",
       "\n",
       "                              Event Medal       region notes  \n",
       "0       Basketball Men's Basketball   NaN        China   NaN  \n",
       "1      Judo Men's Extra-Lightweight   NaN        China   NaN  \n",
       "2           Football Men's Football   NaN      Denmark   NaN  \n",
       "3       Tug-Of-War Men's Tug-Of-War  Gold      Denmark   NaN  \n",
       "4  Speed Skating Women's 500 metres   NaN  Netherlands   NaN  "
      ]
     },
     "execution_count": 16,
     "metadata": {},
     "output_type": "execute_result"
    }
   ],
   "source": [
    "merged.head()"
   ]
  },
  {
   "cell_type": "markdown",
   "id": "acc4e92a",
   "metadata": {},
   "source": [
    "# 3. 데이타의 이해 - 시각화"
   ]
  },
  {
   "cell_type": "markdown",
   "id": "be100ed3",
   "metadata": {},
   "source": [
    "### 3.1 나이와 금메달"
   ]
  },
  {
   "cell_type": "code",
   "execution_count": 17,
   "id": "0e9ba5f9",
   "metadata": {},
   "outputs": [],
   "source": [
    "goldMedals = merged[(merged.Medal == 'Gold')]"
   ]
  },
  {
   "cell_type": "code",
   "execution_count": 18,
   "id": "dd0ab3ef",
   "metadata": {},
   "outputs": [
    {
     "data": {
      "text/plain": [
       "ID        False\n",
       "Name      False\n",
       "Sex       False\n",
       "Age        True\n",
       "Height     True\n",
       "Weight     True\n",
       "Team      False\n",
       "NOC       False\n",
       "Games     False\n",
       "Year      False\n",
       "Season    False\n",
       "City      False\n",
       "Sport     False\n",
       "Event     False\n",
       "Medal     False\n",
       "region     True\n",
       "notes      True\n",
       "dtype: bool"
      ]
     },
     "execution_count": 18,
     "metadata": {},
     "output_type": "execute_result"
    }
   ],
   "source": [
    "# 금메달 수장자 목록에서 '나이'가 NULL인 데이타가 있는지 점검\n",
    "goldMedals.isnull().any()"
   ]
  },
  {
   "cell_type": "code",
   "execution_count": 19,
   "id": "85d623d5",
   "metadata": {},
   "outputs": [],
   "source": [
    "# 나이가 NULL인 경우는 제와하고 목록을 준비 \n",
    "goldMedals = goldMedals[np.isfinite(goldMedals['Age'])]"
   ]
  },
  {
   "cell_type": "code",
   "execution_count": 20,
   "id": "974149ac",
   "metadata": {},
   "outputs": [
    {
     "name": "stdout",
     "output_type": "stream",
     "text": [
      "<class 'pandas.core.frame.DataFrame'>\n",
      "Int64Index: 13224 entries, 3 to 271076\n",
      "Data columns (total 17 columns):\n",
      " #   Column  Non-Null Count  Dtype  \n",
      "---  ------  --------------  -----  \n",
      " 0   ID      13224 non-null  int64  \n",
      " 1   Name    13224 non-null  object \n",
      " 2   Sex     13224 non-null  object \n",
      " 3   Age     13224 non-null  float64\n",
      " 4   Height  10532 non-null  float64\n",
      " 5   Weight  10248 non-null  float64\n",
      " 6   Team    13224 non-null  object \n",
      " 7   NOC     13224 non-null  object \n",
      " 8   Games   13224 non-null  object \n",
      " 9   Year    13224 non-null  int64  \n",
      " 10  Season  13224 non-null  object \n",
      " 11  City    13224 non-null  object \n",
      " 12  Sport   13224 non-null  object \n",
      " 13  Event   13224 non-null  object \n",
      " 14  Medal   13224 non-null  object \n",
      " 15  region  13223 non-null  object \n",
      " 16  notes   171 non-null    object \n",
      "dtypes: float64(3), int64(2), object(12)\n",
      "memory usage: 1.8+ MB\n"
     ]
    }
   ],
   "source": [
    "goldMedals.info()"
   ]
  },
  {
   "cell_type": "markdown",
   "id": "abf90997",
   "metadata": {},
   "source": [
    "# 4. 데이타 전처리"
   ]
  },
  {
   "cell_type": "markdown",
   "id": "34a9a102",
   "metadata": {},
   "source": [
    "### 4.1 NaN 값 처리"
   ]
  },
  {
   "cell_type": "code",
   "execution_count": 21,
   "id": "9c9dc01e",
   "metadata": {},
   "outputs": [
    {
     "name": "stdout",
     "output_type": "stream",
     "text": [
      "<class 'pandas.core.frame.DataFrame'>\n",
      "Int64Index: 271116 entries, 0 to 271115\n",
      "Data columns (total 17 columns):\n",
      " #   Column  Non-Null Count   Dtype  \n",
      "---  ------  --------------   -----  \n",
      " 0   ID      271116 non-null  int64  \n",
      " 1   Name    271116 non-null  object \n",
      " 2   Sex     271116 non-null  object \n",
      " 3   Age     261642 non-null  float64\n",
      " 4   Height  210945 non-null  float64\n",
      " 5   Weight  208241 non-null  float64\n",
      " 6   Team    271116 non-null  object \n",
      " 7   NOC     271116 non-null  object \n",
      " 8   Games   271116 non-null  object \n",
      " 9   Year    271116 non-null  int64  \n",
      " 10  Season  271116 non-null  object \n",
      " 11  City    271116 non-null  object \n",
      " 12  Sport   271116 non-null  object \n",
      " 13  Event   271116 non-null  object \n",
      " 14  Medal   39783 non-null   object \n",
      " 15  region  270746 non-null  object \n",
      " 16  notes   5039 non-null    object \n",
      "dtypes: float64(3), int64(2), object(12)\n",
      "memory usage: 37.2+ MB\n"
     ]
    }
   ],
   "source": [
    "merged.info()"
   ]
  },
  {
   "cell_type": "code",
   "execution_count": 22,
   "id": "31363cdd",
   "metadata": {},
   "outputs": [
    {
     "data": {
      "text/plain": [
       "ID             0\n",
       "Name           0\n",
       "Sex            0\n",
       "Age         9474\n",
       "Height     60171\n",
       "Weight     62875\n",
       "Team           0\n",
       "NOC            0\n",
       "Games          0\n",
       "Year           0\n",
       "Season         0\n",
       "City           0\n",
       "Sport          0\n",
       "Event          0\n",
       "Medal     231333\n",
       "region       370\n",
       "notes     266077\n",
       "dtype: int64"
      ]
     },
     "execution_count": 22,
     "metadata": {},
     "output_type": "execute_result"
    }
   ],
   "source": [
    "merged.isnull().sum()"
   ]
  },
  {
   "cell_type": "code",
   "execution_count": 23,
   "id": "006f59b9",
   "metadata": {},
   "outputs": [],
   "source": [
    "merged['Age'].fillna(merged.groupby([merged['NOC'], merged['Year'], merged['Season'], merged['Sport']])['Age'].transform(lambda x: x.fillna(x.median())), inplace=True)\n",
    "merged['Height'].fillna(merged.groupby([merged['NOC'], merged['Year'], merged['Season'], merged['Sport']])['Height'].transform(lambda x: x.fillna(x.median())), inplace=True)\n",
    "merged['Weight'].fillna(merged.groupby([merged['NOC'], merged['Year'], merged['Season'], merged['Sport']])['Weight'].transform(lambda x: x.fillna(x.median())), inplace=True)"
   ]
  },
  {
   "cell_type": "code",
   "execution_count": 24,
   "id": "fd01c112",
   "metadata": {},
   "outputs": [
    {
     "data": {
      "text/plain": [
       "ID             0\n",
       "Name           0\n",
       "Sex            0\n",
       "Age         1470\n",
       "Height     29645\n",
       "Weight     35977\n",
       "Team           0\n",
       "NOC            0\n",
       "Games          0\n",
       "Year           0\n",
       "Season         0\n",
       "City           0\n",
       "Sport          0\n",
       "Event          0\n",
       "Medal     231333\n",
       "region       370\n",
       "notes     266077\n",
       "dtype: int64"
      ]
     },
     "execution_count": 24,
     "metadata": {},
     "output_type": "execute_result"
    }
   ],
   "source": [
    "merged.isnull().sum()"
   ]
  },
  {
   "cell_type": "code",
   "execution_count": 25,
   "id": "94a6ba59",
   "metadata": {},
   "outputs": [],
   "source": [
    "merged['Age'].fillna(merged.groupby([merged['NOC'], merged['Season']])['Age'].transform(lambda x: x.fillna(x.median())), inplace=True)\n",
    "merged['Height'].fillna(merged.groupby([merged['NOC'], merged['Season']])['Height'].transform(lambda x: x.fillna(x.median())), inplace=True)\n",
    "merged['Weight'].fillna(merged.groupby([merged['NOC'], merged['Season']])['Weight'].transform(lambda x: x.fillna(x.median())), inplace=True)"
   ]
  },
  {
   "cell_type": "code",
   "execution_count": 26,
   "id": "dc7e16f9",
   "metadata": {},
   "outputs": [
    {
     "data": {
      "text/plain": [
       "ID             0\n",
       "Name           0\n",
       "Sex            0\n",
       "Age           13\n",
       "Height        40\n",
       "Weight       190\n",
       "Team           0\n",
       "NOC            0\n",
       "Games          0\n",
       "Year           0\n",
       "Season         0\n",
       "City           0\n",
       "Sport          0\n",
       "Event          0\n",
       "Medal     231333\n",
       "region       370\n",
       "notes     266077\n",
       "dtype: int64"
      ]
     },
     "execution_count": 26,
     "metadata": {},
     "output_type": "execute_result"
    }
   ],
   "source": [
    "merged.isnull().sum()"
   ]
  },
  {
   "cell_type": "code",
   "execution_count": 27,
   "id": "5552f175",
   "metadata": {},
   "outputs": [
    {
     "data": {
      "text/html": [
       "<div>\n",
       "<style scoped>\n",
       "    .dataframe tbody tr th:only-of-type {\n",
       "        vertical-align: middle;\n",
       "    }\n",
       "\n",
       "    .dataframe tbody tr th {\n",
       "        vertical-align: top;\n",
       "    }\n",
       "\n",
       "    .dataframe thead th {\n",
       "        text-align: right;\n",
       "    }\n",
       "</style>\n",
       "<table border=\"1\" class=\"dataframe\">\n",
       "  <thead>\n",
       "    <tr style=\"text-align: right;\">\n",
       "      <th></th>\n",
       "      <th>ID</th>\n",
       "      <th>Name</th>\n",
       "      <th>Sex</th>\n",
       "      <th>Age</th>\n",
       "      <th>Height</th>\n",
       "      <th>Weight</th>\n",
       "      <th>Team</th>\n",
       "      <th>NOC</th>\n",
       "      <th>Games</th>\n",
       "      <th>Year</th>\n",
       "      <th>Season</th>\n",
       "      <th>City</th>\n",
       "      <th>Sport</th>\n",
       "      <th>Event</th>\n",
       "      <th>Medal</th>\n",
       "      <th>region</th>\n",
       "      <th>notes</th>\n",
       "    </tr>\n",
       "  </thead>\n",
       "  <tbody>\n",
       "    <tr>\n",
       "      <th>0</th>\n",
       "      <td>1</td>\n",
       "      <td>A Dijiang</td>\n",
       "      <td>M</td>\n",
       "      <td>24.0</td>\n",
       "      <td>180.0</td>\n",
       "      <td>80.0</td>\n",
       "      <td>China</td>\n",
       "      <td>CHN</td>\n",
       "      <td>1992 Summer</td>\n",
       "      <td>1992</td>\n",
       "      <td>Summer</td>\n",
       "      <td>Barcelona</td>\n",
       "      <td>Basketball</td>\n",
       "      <td>Basketball Men's Basketball</td>\n",
       "      <td>NaN</td>\n",
       "      <td>China</td>\n",
       "      <td>NaN</td>\n",
       "    </tr>\n",
       "    <tr>\n",
       "      <th>1</th>\n",
       "      <td>2</td>\n",
       "      <td>A Lamusi</td>\n",
       "      <td>M</td>\n",
       "      <td>23.0</td>\n",
       "      <td>170.0</td>\n",
       "      <td>60.0</td>\n",
       "      <td>China</td>\n",
       "      <td>CHN</td>\n",
       "      <td>2012 Summer</td>\n",
       "      <td>2012</td>\n",
       "      <td>Summer</td>\n",
       "      <td>London</td>\n",
       "      <td>Judo</td>\n",
       "      <td>Judo Men's Extra-Lightweight</td>\n",
       "      <td>NaN</td>\n",
       "      <td>China</td>\n",
       "      <td>NaN</td>\n",
       "    </tr>\n",
       "    <tr>\n",
       "      <th>2</th>\n",
       "      <td>3</td>\n",
       "      <td>Gunnar Nielsen Aaby</td>\n",
       "      <td>M</td>\n",
       "      <td>24.0</td>\n",
       "      <td>178.0</td>\n",
       "      <td>72.0</td>\n",
       "      <td>Denmark</td>\n",
       "      <td>DEN</td>\n",
       "      <td>1920 Summer</td>\n",
       "      <td>1920</td>\n",
       "      <td>Summer</td>\n",
       "      <td>Antwerpen</td>\n",
       "      <td>Football</td>\n",
       "      <td>Football Men's Football</td>\n",
       "      <td>NaN</td>\n",
       "      <td>Denmark</td>\n",
       "      <td>NaN</td>\n",
       "    </tr>\n",
       "    <tr>\n",
       "      <th>3</th>\n",
       "      <td>4</td>\n",
       "      <td>Edgar Lindenau Aabye</td>\n",
       "      <td>M</td>\n",
       "      <td>34.0</td>\n",
       "      <td>178.0</td>\n",
       "      <td>72.0</td>\n",
       "      <td>Denmark/Sweden</td>\n",
       "      <td>DEN</td>\n",
       "      <td>1900 Summer</td>\n",
       "      <td>1900</td>\n",
       "      <td>Summer</td>\n",
       "      <td>Paris</td>\n",
       "      <td>Tug-Of-War</td>\n",
       "      <td>Tug-Of-War Men's Tug-Of-War</td>\n",
       "      <td>Gold</td>\n",
       "      <td>Denmark</td>\n",
       "      <td>NaN</td>\n",
       "    </tr>\n",
       "    <tr>\n",
       "      <th>4</th>\n",
       "      <td>5</td>\n",
       "      <td>Christine Jacoba Aaftink</td>\n",
       "      <td>F</td>\n",
       "      <td>21.0</td>\n",
       "      <td>185.0</td>\n",
       "      <td>82.0</td>\n",
       "      <td>Netherlands</td>\n",
       "      <td>NED</td>\n",
       "      <td>1988 Winter</td>\n",
       "      <td>1988</td>\n",
       "      <td>Winter</td>\n",
       "      <td>Calgary</td>\n",
       "      <td>Speed Skating</td>\n",
       "      <td>Speed Skating Women's 500 metres</td>\n",
       "      <td>NaN</td>\n",
       "      <td>Netherlands</td>\n",
       "      <td>NaN</td>\n",
       "    </tr>\n",
       "  </tbody>\n",
       "</table>\n",
       "</div>"
      ],
      "text/plain": [
       "   ID                      Name Sex   Age  Height  Weight            Team  \\\n",
       "0   1                 A Dijiang   M  24.0   180.0    80.0           China   \n",
       "1   2                  A Lamusi   M  23.0   170.0    60.0           China   \n",
       "2   3       Gunnar Nielsen Aaby   M  24.0   178.0    72.0         Denmark   \n",
       "3   4      Edgar Lindenau Aabye   M  34.0   178.0    72.0  Denmark/Sweden   \n",
       "4   5  Christine Jacoba Aaftink   F  21.0   185.0    82.0     Netherlands   \n",
       "\n",
       "   NOC        Games  Year  Season       City          Sport  \\\n",
       "0  CHN  1992 Summer  1992  Summer  Barcelona     Basketball   \n",
       "1  CHN  2012 Summer  2012  Summer     London           Judo   \n",
       "2  DEN  1920 Summer  1920  Summer  Antwerpen       Football   \n",
       "3  DEN  1900 Summer  1900  Summer      Paris     Tug-Of-War   \n",
       "4  NED  1988 Winter  1988  Winter    Calgary  Speed Skating   \n",
       "\n",
       "                              Event Medal       region notes  \n",
       "0       Basketball Men's Basketball   NaN        China   NaN  \n",
       "1      Judo Men's Extra-Lightweight   NaN        China   NaN  \n",
       "2           Football Men's Football   NaN      Denmark   NaN  \n",
       "3       Tug-Of-War Men's Tug-Of-War  Gold      Denmark   NaN  \n",
       "4  Speed Skating Women's 500 metres   NaN  Netherlands   NaN  "
      ]
     },
     "execution_count": 27,
     "metadata": {},
     "output_type": "execute_result"
    }
   ],
   "source": [
    "merged.head()"
   ]
  },
  {
   "cell_type": "code",
   "execution_count": 28,
   "id": "542806e4",
   "metadata": {},
   "outputs": [],
   "source": [
    "# NaN 데이타 처리\n",
    "merged['Medal'].fillna('No', inplace=True) # Nan을 'No'로 대체\n",
    "\n",
    "# TO DO : 현재는 NaN이 있으면 삭제로 처리 => 같은해 같은팀의 중간값으로 채움\n",
    "merged = merged.dropna(subset=['Age', 'Height', 'Weight'], how='any', axis=0)\n",
    "\n",
    "# 칼럼 제거\n",
    "merged.drop(['Name'], axis=1, inplace=True)\n",
    "merged.drop(['Team'], axis=1, inplace=True)\n",
    "merged.drop(['Games'], axis=1, inplace=True)\n",
    "merged.drop(['region'], axis=1, inplace=True)\n",
    "merged.drop(['notes'], axis=1, inplace=True)"
   ]
  },
  {
   "cell_type": "code",
   "execution_count": 29,
   "id": "a3b6e093",
   "metadata": {},
   "outputs": [
    {
     "data": {
      "text/plain": [
       "ID        0\n",
       "Sex       0\n",
       "Age       0\n",
       "Height    0\n",
       "Weight    0\n",
       "NOC       0\n",
       "Year      0\n",
       "Season    0\n",
       "City      0\n",
       "Sport     0\n",
       "Event     0\n",
       "Medal     0\n",
       "dtype: int64"
      ]
     },
     "execution_count": 29,
     "metadata": {},
     "output_type": "execute_result"
    }
   ],
   "source": [
    "merged.isnull().sum()"
   ]
  },
  {
   "cell_type": "code",
   "execution_count": 30,
   "id": "4ef701e0",
   "metadata": {},
   "outputs": [],
   "source": [
    "# Dummy transform\n",
    "merged = pd.get_dummies(merged, columns = ['Sex','NOC','Season', 'City', 'Sport', 'Event'])\n",
    "\n",
    "# Label Encoding : Binary\n",
    "merged['Label'] = merged['Medal'].replace('No',0).replace('Gold',1).replace('Silver', 1).replace('Bronze', 1)\n",
    "labels = merged['Label']"
   ]
  },
  {
   "cell_type": "code",
   "execution_count": 31,
   "id": "999e5447",
   "metadata": {},
   "outputs": [],
   "source": [
    "TEST_SIZE = 0.2\n",
    "RANDOM_STATE = 42\n",
    "X_train, X_test, y_train, y_test = train_test_split(merged, \n",
    "                                                    labels, \n",
    "                                                    test_size=TEST_SIZE, \n",
    "                                                    random_state=RANDOM_STATE) "
   ]
  },
  {
   "cell_type": "code",
   "execution_count": 32,
   "id": "6a0bb5d6",
   "metadata": {},
   "outputs": [
    {
     "data": {
      "text/plain": [
       "((216738, 1110), (216738,))"
      ]
     },
     "execution_count": 32,
     "metadata": {},
     "output_type": "execute_result"
    }
   ],
   "source": [
    "X_train.shape, y_train.shape"
   ]
  },
  {
   "cell_type": "code",
   "execution_count": 33,
   "id": "31f0f304",
   "metadata": {},
   "outputs": [
    {
     "data": {
      "text/plain": [
       "((54185, 1110), (54185,))"
      ]
     },
     "execution_count": 33,
     "metadata": {},
     "output_type": "execute_result"
    }
   ],
   "source": [
    "X_test.shape, y_test.shape"
   ]
  },
  {
   "cell_type": "code",
   "execution_count": 34,
   "id": "9632ea0a",
   "metadata": {},
   "outputs": [],
   "source": [
    "merged = X_train"
   ]
  },
  {
   "cell_type": "code",
   "execution_count": 35,
   "id": "0a64d5ef",
   "metadata": {},
   "outputs": [
    {
     "data": {
      "text/html": [
       "<div>\n",
       "<style scoped>\n",
       "    .dataframe tbody tr th:only-of-type {\n",
       "        vertical-align: middle;\n",
       "    }\n",
       "\n",
       "    .dataframe tbody tr th {\n",
       "        vertical-align: top;\n",
       "    }\n",
       "\n",
       "    .dataframe thead th {\n",
       "        text-align: right;\n",
       "    }\n",
       "</style>\n",
       "<table border=\"1\" class=\"dataframe\">\n",
       "  <thead>\n",
       "    <tr style=\"text-align: right;\">\n",
       "      <th></th>\n",
       "      <th>ID</th>\n",
       "      <th>Age</th>\n",
       "      <th>Height</th>\n",
       "      <th>Weight</th>\n",
       "      <th>Year</th>\n",
       "      <th>Medal</th>\n",
       "      <th>Sex_F</th>\n",
       "      <th>Sex_M</th>\n",
       "      <th>NOC_AFG</th>\n",
       "      <th>NOC_AHO</th>\n",
       "      <th>...</th>\n",
       "      <th>Event_Wrestling Men's Unlimited Class, Greco-Roman</th>\n",
       "      <th>Event_Wrestling Men's Welterweight, Freestyle</th>\n",
       "      <th>Event_Wrestling Men's Welterweight, Greco-Roman</th>\n",
       "      <th>Event_Wrestling Women's Featherweight, Freestyle</th>\n",
       "      <th>Event_Wrestling Women's Flyweight, Freestyle</th>\n",
       "      <th>Event_Wrestling Women's Heavyweight, Freestyle</th>\n",
       "      <th>Event_Wrestling Women's Light-Heavyweight, Freestyle</th>\n",
       "      <th>Event_Wrestling Women's Lightweight, Freestyle</th>\n",
       "      <th>Event_Wrestling Women's Middleweight, Freestyle</th>\n",
       "      <th>Label</th>\n",
       "    </tr>\n",
       "  </thead>\n",
       "  <tbody>\n",
       "    <tr>\n",
       "      <th>156642</th>\n",
       "      <td>78684</td>\n",
       "      <td>26.0</td>\n",
       "      <td>180.0</td>\n",
       "      <td>86.0</td>\n",
       "      <td>1980</td>\n",
       "      <td>Silver</td>\n",
       "      <td>0</td>\n",
       "      <td>1</td>\n",
       "      <td>0</td>\n",
       "      <td>0</td>\n",
       "      <td>...</td>\n",
       "      <td>0</td>\n",
       "      <td>0</td>\n",
       "      <td>0</td>\n",
       "      <td>0</td>\n",
       "      <td>0</td>\n",
       "      <td>0</td>\n",
       "      <td>0</td>\n",
       "      <td>0</td>\n",
       "      <td>0</td>\n",
       "      <td>1</td>\n",
       "    </tr>\n",
       "    <tr>\n",
       "      <th>205520</th>\n",
       "      <td>103181</td>\n",
       "      <td>24.0</td>\n",
       "      <td>176.0</td>\n",
       "      <td>80.0</td>\n",
       "      <td>2008</td>\n",
       "      <td>No</td>\n",
       "      <td>0</td>\n",
       "      <td>1</td>\n",
       "      <td>0</td>\n",
       "      <td>0</td>\n",
       "      <td>...</td>\n",
       "      <td>0</td>\n",
       "      <td>0</td>\n",
       "      <td>0</td>\n",
       "      <td>0</td>\n",
       "      <td>0</td>\n",
       "      <td>0</td>\n",
       "      <td>0</td>\n",
       "      <td>0</td>\n",
       "      <td>0</td>\n",
       "      <td>0</td>\n",
       "    </tr>\n",
       "    <tr>\n",
       "      <th>107777</th>\n",
       "      <td>54482</td>\n",
       "      <td>28.0</td>\n",
       "      <td>169.0</td>\n",
       "      <td>60.0</td>\n",
       "      <td>2012</td>\n",
       "      <td>Bronze</td>\n",
       "      <td>1</td>\n",
       "      <td>0</td>\n",
       "      <td>0</td>\n",
       "      <td>0</td>\n",
       "      <td>...</td>\n",
       "      <td>0</td>\n",
       "      <td>0</td>\n",
       "      <td>0</td>\n",
       "      <td>0</td>\n",
       "      <td>0</td>\n",
       "      <td>0</td>\n",
       "      <td>0</td>\n",
       "      <td>0</td>\n",
       "      <td>0</td>\n",
       "      <td>1</td>\n",
       "    </tr>\n",
       "    <tr>\n",
       "      <th>150999</th>\n",
       "      <td>75778</td>\n",
       "      <td>27.0</td>\n",
       "      <td>165.0</td>\n",
       "      <td>66.0</td>\n",
       "      <td>1976</td>\n",
       "      <td>No</td>\n",
       "      <td>0</td>\n",
       "      <td>1</td>\n",
       "      <td>0</td>\n",
       "      <td>0</td>\n",
       "      <td>...</td>\n",
       "      <td>0</td>\n",
       "      <td>0</td>\n",
       "      <td>0</td>\n",
       "      <td>0</td>\n",
       "      <td>0</td>\n",
       "      <td>0</td>\n",
       "      <td>0</td>\n",
       "      <td>0</td>\n",
       "      <td>0</td>\n",
       "      <td>0</td>\n",
       "    </tr>\n",
       "    <tr>\n",
       "      <th>74971</th>\n",
       "      <td>38047</td>\n",
       "      <td>19.0</td>\n",
       "      <td>178.0</td>\n",
       "      <td>73.0</td>\n",
       "      <td>2004</td>\n",
       "      <td>No</td>\n",
       "      <td>1</td>\n",
       "      <td>0</td>\n",
       "      <td>0</td>\n",
       "      <td>0</td>\n",
       "      <td>...</td>\n",
       "      <td>0</td>\n",
       "      <td>0</td>\n",
       "      <td>0</td>\n",
       "      <td>0</td>\n",
       "      <td>0</td>\n",
       "      <td>0</td>\n",
       "      <td>0</td>\n",
       "      <td>0</td>\n",
       "      <td>0</td>\n",
       "      <td>0</td>\n",
       "    </tr>\n",
       "  </tbody>\n",
       "</table>\n",
       "<p>5 rows × 1110 columns</p>\n",
       "</div>"
      ],
      "text/plain": [
       "            ID   Age  Height  Weight  Year   Medal  Sex_F  Sex_M  NOC_AFG  \\\n",
       "156642   78684  26.0   180.0    86.0  1980  Silver      0      1        0   \n",
       "205520  103181  24.0   176.0    80.0  2008      No      0      1        0   \n",
       "107777   54482  28.0   169.0    60.0  2012  Bronze      1      0        0   \n",
       "150999   75778  27.0   165.0    66.0  1976      No      0      1        0   \n",
       "74971    38047  19.0   178.0    73.0  2004      No      1      0        0   \n",
       "\n",
       "        NOC_AHO  ...  Event_Wrestling Men's Unlimited Class, Greco-Roman  \\\n",
       "156642        0  ...                                                  0    \n",
       "205520        0  ...                                                  0    \n",
       "107777        0  ...                                                  0    \n",
       "150999        0  ...                                                  0    \n",
       "74971         0  ...                                                  0    \n",
       "\n",
       "        Event_Wrestling Men's Welterweight, Freestyle  \\\n",
       "156642                                              0   \n",
       "205520                                              0   \n",
       "107777                                              0   \n",
       "150999                                              0   \n",
       "74971                                               0   \n",
       "\n",
       "        Event_Wrestling Men's Welterweight, Greco-Roman  \\\n",
       "156642                                                0   \n",
       "205520                                                0   \n",
       "107777                                                0   \n",
       "150999                                                0   \n",
       "74971                                                 0   \n",
       "\n",
       "        Event_Wrestling Women's Featherweight, Freestyle  \\\n",
       "156642                                                 0   \n",
       "205520                                                 0   \n",
       "107777                                                 0   \n",
       "150999                                                 0   \n",
       "74971                                                  0   \n",
       "\n",
       "        Event_Wrestling Women's Flyweight, Freestyle  \\\n",
       "156642                                             0   \n",
       "205520                                             0   \n",
       "107777                                             0   \n",
       "150999                                             0   \n",
       "74971                                              0   \n",
       "\n",
       "        Event_Wrestling Women's Heavyweight, Freestyle  \\\n",
       "156642                                               0   \n",
       "205520                                               0   \n",
       "107777                                               0   \n",
       "150999                                               0   \n",
       "74971                                                0   \n",
       "\n",
       "        Event_Wrestling Women's Light-Heavyweight, Freestyle  \\\n",
       "156642                                                  0      \n",
       "205520                                                  0      \n",
       "107777                                                  0      \n",
       "150999                                                  0      \n",
       "74971                                                   0      \n",
       "\n",
       "        Event_Wrestling Women's Lightweight, Freestyle  \\\n",
       "156642                                               0   \n",
       "205520                                               0   \n",
       "107777                                               0   \n",
       "150999                                               0   \n",
       "74971                                                0   \n",
       "\n",
       "        Event_Wrestling Women's Middleweight, Freestyle  Label  \n",
       "156642                                                0      1  \n",
       "205520                                                0      0  \n",
       "107777                                                0      1  \n",
       "150999                                                0      0  \n",
       "74971                                                 0      0  \n",
       "\n",
       "[5 rows x 1110 columns]"
      ]
     },
     "execution_count": 35,
     "metadata": {},
     "output_type": "execute_result"
    }
   ],
   "source": [
    "X_train.head()"
   ]
  },
  {
   "cell_type": "markdown",
   "id": "c7f218d1",
   "metadata": {},
   "source": [
    "### 추가 : Data Balancing"
   ]
  },
  {
   "cell_type": "code",
   "execution_count": 36,
   "id": "1073aa2a",
   "metadata": {},
   "outputs": [
    {
     "name": "stdout",
     "output_type": "stream",
     "text": [
      "(183770, 1110)\n"
     ]
    }
   ],
   "source": [
    "merged_gold_multiple = pd.DataFrame()\n",
    "\n",
    "for i in range(17):\n",
    "    merged_gold = merged[merged['Medal'] == 'Gold']\n",
    "    noise = 2 * np.random.normal(size=len(merged_gold))\n",
    "    merged_gold['Age'] = merged_gold['Age'] + noise\n",
    "\n",
    "    noise = 2 * np.random.normal(size=len(merged_gold))\n",
    "    merged_gold['Height'] = merged_gold['Height'] + noise\n",
    "\n",
    "    noise = 2 * np.random.normal(size=len(merged_gold))\n",
    "    merged_gold['Weight'] = merged_gold['Weight'] + noise\n",
    "    merged_gold_multiple = pd.concat([merged_gold_multiple, merged_gold])\n",
    "    \n",
    "print(merged_gold_multiple.shape)"
   ]
  },
  {
   "cell_type": "code",
   "execution_count": 37,
   "id": "cd23a224",
   "metadata": {},
   "outputs": [
    {
     "name": "stdout",
     "output_type": "stream",
     "text": [
      "(178840, 1110)\n"
     ]
    }
   ],
   "source": [
    "merged_silver_multiple = pd.DataFrame()\n",
    "\n",
    "for i in range(17):\n",
    "    merged_silver = merged[merged['Medal'] == 'Silver'] \n",
    "    noise = 2 * np.random.normal(size=len(merged_silver))\n",
    "    merged_silver['Age'] = merged_silver['Age'] + noise\n",
    "\n",
    "    noise = 2 * np.random.normal(size=len(merged_silver))\n",
    "    merged_silver['Height'] = merged_silver['Height'] + noise\n",
    "\n",
    "    noise = 2 * np.random.normal(size=len(merged_silver))\n",
    "    merged_silver['Weight'] = merged_silver['Weight'] + noise\n",
    "    \n",
    "    merged_silver_multiple = pd.concat([merged_silver_multiple, merged_silver])\n",
    "    \n",
    "print(merged_silver_multiple.shape)    "
   ]
  },
  {
   "cell_type": "code",
   "execution_count": 38,
   "id": "c0181167",
   "metadata": {},
   "outputs": [
    {
     "name": "stdout",
     "output_type": "stream",
     "text": [
      "(180455, 1110)\n"
     ]
    }
   ],
   "source": [
    "merged_bronze_multiple = pd.DataFrame()\n",
    "\n",
    "for i in range(17):\n",
    "    merged_bronze = merged[merged['Medal'] == 'Bronze'] \n",
    "    noise = 2 * np.random.normal(size=len(merged_bronze))\n",
    "    merged_bronze['Age'] = merged_bronze['Age'] + noise\n",
    "\n",
    "    noise = 2 * np.random.normal(size=len(merged_bronze))\n",
    "    merged_bronze['Height'] = merged_bronze['Height'] + noise\n",
    "\n",
    "    noise = 2 * np.random.normal(size=len(merged_bronze))\n",
    "    merged_bronze['Weight'] = merged_bronze['Weight'] + noise\n",
    "    \n",
    "    merged_bronze_multiple = pd.concat([merged_bronze_multiple, merged_bronze])\n",
    "    \n",
    "print(merged_bronze_multiple.shape)"
   ]
  },
  {
   "cell_type": "code",
   "execution_count": 39,
   "id": "727e5a06",
   "metadata": {},
   "outputs": [],
   "source": [
    "merged = pd.concat([merged, merged_gold_multiple, merged_silver_multiple, merged_bronze_multiple])"
   ]
  },
  {
   "cell_type": "markdown",
   "id": "707adc68",
   "metadata": {},
   "source": [
    "### Log Transformation"
   ]
  },
  {
   "cell_type": "code",
   "execution_count": 40,
   "id": "a70f7e77",
   "metadata": {},
   "outputs": [],
   "source": [
    "skewed_columns = ['Age', 'Height', 'Weight', 'Year']"
   ]
  },
  {
   "cell_type": "code",
   "execution_count": 41,
   "id": "21f80744",
   "metadata": {},
   "outputs": [
    {
     "data": {
      "image/png": "[encoded data removed]",
      "text/plain": [
       "<Figure size 2000x500 with 4 Axes>"
      ]
     },
     "metadata": {},
     "output_type": "display_data"
    }
   ],
   "source": [
    "fig = plt.figure(figsize = (20,5))\n",
    "for i, col in enumerate(skewed_columns) :\n",
    "    ax = fig.add_subplot(1,4,i+1)\n",
    "    sns.kdeplot(data=merged, x=col)    \n",
    "plt.tight_layout()\n",
    "plt.show()   "
   ]
  },
  {
   "cell_type": "code",
   "execution_count": 42,
   "id": "47f6d9e2",
   "metadata": {},
   "outputs": [],
   "source": [
    "def process_log_transformation_skewed_features(df: pd.core.frame.DataFrame,\n",
    "                                              features: list) -> None:    \n",
    "    df[features] = np.log1p(df[features])"
   ]
  },
  {
   "cell_type": "code",
   "execution_count": 43,
   "id": "81213674",
   "metadata": {},
   "outputs": [],
   "source": [
    "process_log_transformation_skewed_features(df=merged, features=skewed_columns)\n",
    "process_log_transformation_skewed_features(df=X_test, features=skewed_columns)"
   ]
  },
  {
   "cell_type": "code",
   "execution_count": 44,
   "id": "83795f72",
   "metadata": {},
   "outputs": [
    {
     "data": {
      "image/png": "[encoded data removed]",
      "text/plain": [
       "<Figure size 2000x500 with 4 Axes>"
      ]
     },
     "metadata": {},
     "output_type": "display_data"
    }
   ],
   "source": [
    "fig = plt.figure(figsize = (20,5))\n",
    "for i, col in enumerate(skewed_columns) :\n",
    "    ax = fig.add_subplot(1,4,i+1)\n",
    "    sns.kdeplot(data=merged, x=col)    \n",
    "plt.tight_layout()\n",
    "plt.show()   "
   ]
  },
  {
   "cell_type": "code",
   "execution_count": 45,
   "id": "36a04b6f",
   "metadata": {},
   "outputs": [
    {
     "data": {
      "text/html": [
       "<div>\n",
       "<style scoped>\n",
       "    .dataframe tbody tr th:only-of-type {\n",
       "        vertical-align: middle;\n",
       "    }\n",
       "\n",
       "    .dataframe tbody tr th {\n",
       "        vertical-align: top;\n",
       "    }\n",
       "\n",
       "    .dataframe thead th {\n",
       "        text-align: right;\n",
       "    }\n",
       "</style>\n",
       "<table border=\"1\" class=\"dataframe\">\n",
       "  <thead>\n",
       "    <tr style=\"text-align: right;\">\n",
       "      <th></th>\n",
       "      <th>ID</th>\n",
       "      <th>Age</th>\n",
       "      <th>Height</th>\n",
       "      <th>Weight</th>\n",
       "      <th>Year</th>\n",
       "      <th>Medal</th>\n",
       "      <th>Sex_F</th>\n",
       "      <th>Sex_M</th>\n",
       "      <th>NOC_AFG</th>\n",
       "      <th>NOC_AHO</th>\n",
       "      <th>...</th>\n",
       "      <th>Event_Wrestling Men's Unlimited Class, Greco-Roman</th>\n",
       "      <th>Event_Wrestling Men's Welterweight, Freestyle</th>\n",
       "      <th>Event_Wrestling Men's Welterweight, Greco-Roman</th>\n",
       "      <th>Event_Wrestling Women's Featherweight, Freestyle</th>\n",
       "      <th>Event_Wrestling Women's Flyweight, Freestyle</th>\n",
       "      <th>Event_Wrestling Women's Heavyweight, Freestyle</th>\n",
       "      <th>Event_Wrestling Women's Light-Heavyweight, Freestyle</th>\n",
       "      <th>Event_Wrestling Women's Lightweight, Freestyle</th>\n",
       "      <th>Event_Wrestling Women's Middleweight, Freestyle</th>\n",
       "      <th>Label</th>\n",
       "    </tr>\n",
       "  </thead>\n",
       "  <tbody>\n",
       "    <tr>\n",
       "      <th>156642</th>\n",
       "      <td>78684</td>\n",
       "      <td>3.295837</td>\n",
       "      <td>5.198497</td>\n",
       "      <td>4.465908</td>\n",
       "      <td>7.591357</td>\n",
       "      <td>Silver</td>\n",
       "      <td>0</td>\n",
       "      <td>1</td>\n",
       "      <td>0</td>\n",
       "      <td>0</td>\n",
       "      <td>...</td>\n",
       "      <td>0</td>\n",
       "      <td>0</td>\n",
       "      <td>0</td>\n",
       "      <td>0</td>\n",
       "      <td>0</td>\n",
       "      <td>0</td>\n",
       "      <td>0</td>\n",
       "      <td>0</td>\n",
       "      <td>0</td>\n",
       "      <td>1</td>\n",
       "    </tr>\n",
       "    <tr>\n",
       "      <th>205520</th>\n",
       "      <td>103181</td>\n",
       "      <td>3.218876</td>\n",
       "      <td>5.176150</td>\n",
       "      <td>4.394449</td>\n",
       "      <td>7.605392</td>\n",
       "      <td>No</td>\n",
       "      <td>0</td>\n",
       "      <td>1</td>\n",
       "      <td>0</td>\n",
       "      <td>0</td>\n",
       "      <td>...</td>\n",
       "      <td>0</td>\n",
       "      <td>0</td>\n",
       "      <td>0</td>\n",
       "      <td>0</td>\n",
       "      <td>0</td>\n",
       "      <td>0</td>\n",
       "      <td>0</td>\n",
       "      <td>0</td>\n",
       "      <td>0</td>\n",
       "      <td>0</td>\n",
       "    </tr>\n",
       "    <tr>\n",
       "      <th>107777</th>\n",
       "      <td>54482</td>\n",
       "      <td>3.367296</td>\n",
       "      <td>5.135798</td>\n",
       "      <td>4.110874</td>\n",
       "      <td>7.607381</td>\n",
       "      <td>Bronze</td>\n",
       "      <td>1</td>\n",
       "      <td>0</td>\n",
       "      <td>0</td>\n",
       "      <td>0</td>\n",
       "      <td>...</td>\n",
       "      <td>0</td>\n",
       "      <td>0</td>\n",
       "      <td>0</td>\n",
       "      <td>0</td>\n",
       "      <td>0</td>\n",
       "      <td>0</td>\n",
       "      <td>0</td>\n",
       "      <td>0</td>\n",
       "      <td>0</td>\n",
       "      <td>1</td>\n",
       "    </tr>\n",
       "    <tr>\n",
       "      <th>150999</th>\n",
       "      <td>75778</td>\n",
       "      <td>3.332205</td>\n",
       "      <td>5.111988</td>\n",
       "      <td>4.204693</td>\n",
       "      <td>7.589336</td>\n",
       "      <td>No</td>\n",
       "      <td>0</td>\n",
       "      <td>1</td>\n",
       "      <td>0</td>\n",
       "      <td>0</td>\n",
       "      <td>...</td>\n",
       "      <td>0</td>\n",
       "      <td>0</td>\n",
       "      <td>0</td>\n",
       "      <td>0</td>\n",
       "      <td>0</td>\n",
       "      <td>0</td>\n",
       "      <td>0</td>\n",
       "      <td>0</td>\n",
       "      <td>0</td>\n",
       "      <td>0</td>\n",
       "    </tr>\n",
       "    <tr>\n",
       "      <th>74971</th>\n",
       "      <td>38047</td>\n",
       "      <td>2.995732</td>\n",
       "      <td>5.187386</td>\n",
       "      <td>4.304065</td>\n",
       "      <td>7.603399</td>\n",
       "      <td>No</td>\n",
       "      <td>1</td>\n",
       "      <td>0</td>\n",
       "      <td>0</td>\n",
       "      <td>0</td>\n",
       "      <td>...</td>\n",
       "      <td>0</td>\n",
       "      <td>0</td>\n",
       "      <td>0</td>\n",
       "      <td>0</td>\n",
       "      <td>0</td>\n",
       "      <td>0</td>\n",
       "      <td>0</td>\n",
       "      <td>0</td>\n",
       "      <td>0</td>\n",
       "      <td>0</td>\n",
       "    </tr>\n",
       "  </tbody>\n",
       "</table>\n",
       "<p>5 rows × 1110 columns</p>\n",
       "</div>"
      ],
      "text/plain": [
       "            ID       Age    Height    Weight      Year   Medal  Sex_F  Sex_M  \\\n",
       "156642   78684  3.295837  5.198497  4.465908  7.591357  Silver      0      1   \n",
       "205520  103181  3.218876  5.176150  4.394449  7.605392      No      0      1   \n",
       "107777   54482  3.367296  5.135798  4.110874  7.607381  Bronze      1      0   \n",
       "150999   75778  3.332205  5.111988  4.204693  7.589336      No      0      1   \n",
       "74971    38047  2.995732  5.187386  4.304065  7.603399      No      1      0   \n",
       "\n",
       "        NOC_AFG  NOC_AHO  ...  \\\n",
       "156642        0        0  ...   \n",
       "205520        0        0  ...   \n",
       "107777        0        0  ...   \n",
       "150999        0        0  ...   \n",
       "74971         0        0  ...   \n",
       "\n",
       "        Event_Wrestling Men's Unlimited Class, Greco-Roman  \\\n",
       "156642                                                  0    \n",
       "205520                                                  0    \n",
       "107777                                                  0    \n",
       "150999                                                  0    \n",
       "74971                                                   0    \n",
       "\n",
       "        Event_Wrestling Men's Welterweight, Freestyle  \\\n",
       "156642                                              0   \n",
       "205520                                              0   \n",
       "107777                                              0   \n",
       "150999                                              0   \n",
       "74971                                               0   \n",
       "\n",
       "        Event_Wrestling Men's Welterweight, Greco-Roman  \\\n",
       "156642                                                0   \n",
       "205520                                                0   \n",
       "107777                                                0   \n",
       "150999                                                0   \n",
       "74971                                                 0   \n",
       "\n",
       "        Event_Wrestling Women's Featherweight, Freestyle  \\\n",
       "156642                                                 0   \n",
       "205520                                                 0   \n",
       "107777                                                 0   \n",
       "150999                                                 0   \n",
       "74971                                                  0   \n",
       "\n",
       "        Event_Wrestling Women's Flyweight, Freestyle  \\\n",
       "156642                                             0   \n",
       "205520                                             0   \n",
       "107777                                             0   \n",
       "150999                                             0   \n",
       "74971                                              0   \n",
       "\n",
       "        Event_Wrestling Women's Heavyweight, Freestyle  \\\n",
       "156642                                               0   \n",
       "205520                                               0   \n",
       "107777                                               0   \n",
       "150999                                               0   \n",
       "74971                                                0   \n",
       "\n",
       "        Event_Wrestling Women's Light-Heavyweight, Freestyle  \\\n",
       "156642                                                  0      \n",
       "205520                                                  0      \n",
       "107777                                                  0      \n",
       "150999                                                  0      \n",
       "74971                                                   0      \n",
       "\n",
       "        Event_Wrestling Women's Lightweight, Freestyle  \\\n",
       "156642                                               0   \n",
       "205520                                               0   \n",
       "107777                                               0   \n",
       "150999                                               0   \n",
       "74971                                                0   \n",
       "\n",
       "        Event_Wrestling Women's Middleweight, Freestyle  Label  \n",
       "156642                                                0      1  \n",
       "205520                                                0      0  \n",
       "107777                                                0      1  \n",
       "150999                                                0      0  \n",
       "74971                                                 0      0  \n",
       "\n",
       "[5 rows x 1110 columns]"
      ]
     },
     "execution_count": 45,
     "metadata": {},
     "output_type": "execute_result"
    }
   ],
   "source": [
    "merged.head()"
   ]
  },
  {
   "cell_type": "code",
   "execution_count": null,
   "id": "f65dc4ec",
   "metadata": {},
   "outputs": [],
   "source": []
  },
  {
   "cell_type": "markdown",
   "id": "cfd412ff",
   "metadata": {},
   "source": [
    "### 4.2 dummy 변환"
   ]
  },
  {
   "cell_type": "code",
   "execution_count": 46,
   "id": "3bec6df9",
   "metadata": {},
   "outputs": [
    {
     "data": {
      "text/plain": [
       "ID                                                      0\n",
       "Age                                                     0\n",
       "Height                                                  0\n",
       "Weight                                                  0\n",
       "Year                                                    0\n",
       "                                                       ..\n",
       "Event_Wrestling Women's Heavyweight, Freestyle          0\n",
       "Event_Wrestling Women's Light-Heavyweight, Freestyle    0\n",
       "Event_Wrestling Women's Lightweight, Freestyle          0\n",
       "Event_Wrestling Women's Middleweight, Freestyle         0\n",
       "Label                                                   0\n",
       "Length: 1110, dtype: int64"
      ]
     },
     "execution_count": 46,
     "metadata": {},
     "output_type": "execute_result"
    }
   ],
   "source": [
    "merged.isnull().sum()"
   ]
  },
  {
   "cell_type": "markdown",
   "id": "a7370654",
   "metadata": {},
   "source": [
    "### 남녀 구분 처리 추가"
   ]
  },
  {
   "cell_type": "code",
   "execution_count": 47,
   "id": "ec3efc8e",
   "metadata": {},
   "outputs": [
    {
     "name": "stdout",
     "output_type": "stream",
     "text": [
      "(546808, 1110)\n",
      "(212995, 1110)\n"
     ]
    }
   ],
   "source": [
    "merged_male = merged[(merged.Sex_M == 1)]\n",
    "merged_female = merged[(merged.Sex_F == 1)]\n",
    "print(merged_male.shape)\n",
    "print(merged_female.shape)"
   ]
  },
  {
   "cell_type": "markdown",
   "id": "4a2bdeaa",
   "metadata": {},
   "source": [
    "### 4.3 레이블 처리"
   ]
  },
  {
   "cell_type": "code",
   "execution_count": 48,
   "id": "355a3a6c",
   "metadata": {},
   "outputs": [],
   "source": [
    "# Medal 칼럼은 레이블로 분리\n",
    "labels = merged['Label']\n",
    "merged.drop(['Label'], axis=1, inplace=True)"
   ]
  },
  {
   "cell_type": "code",
   "execution_count": 49,
   "id": "c43c4bdb",
   "metadata": {},
   "outputs": [],
   "source": [
    "labels_male = merged_male['Label']\n",
    "merged_male.drop(['Label'], axis=1, inplace=True)\n",
    "\n",
    "labels_female = merged_female['Label']\n",
    "merged_female.drop(['Label'], axis=1, inplace=True)"
   ]
  },
  {
   "cell_type": "code",
   "execution_count": 50,
   "id": "e51159a5",
   "metadata": {},
   "outputs": [
    {
     "data": {
      "text/plain": [
       "ID                                                      0\n",
       "Age                                                     0\n",
       "Height                                                  0\n",
       "Weight                                                  0\n",
       "Year                                                    0\n",
       "                                                       ..\n",
       "Event_Wrestling Women's Flyweight, Freestyle            0\n",
       "Event_Wrestling Women's Heavyweight, Freestyle          0\n",
       "Event_Wrestling Women's Light-Heavyweight, Freestyle    0\n",
       "Event_Wrestling Women's Lightweight, Freestyle          0\n",
       "Event_Wrestling Women's Middleweight, Freestyle         0\n",
       "Length: 1109, dtype: int64"
      ]
     },
     "execution_count": 50,
     "metadata": {},
     "output_type": "execute_result"
    }
   ],
   "source": [
    "merged.isnull().sum()"
   ]
  },
  {
   "cell_type": "code",
   "execution_count": 51,
   "id": "08a1ff09",
   "metadata": {},
   "outputs": [
    {
     "data": {
      "text/plain": [
       "0"
      ]
     },
     "execution_count": 51,
     "metadata": {},
     "output_type": "execute_result"
    }
   ],
   "source": [
    "labels.isnull().sum()"
   ]
  },
  {
   "cell_type": "code",
   "execution_count": 52,
   "id": "62a0917d",
   "metadata": {},
   "outputs": [
    {
     "data": {
      "text/plain": [
       "ID                                                      0\n",
       "Age                                                     0\n",
       "Height                                                  0\n",
       "Weight                                                  0\n",
       "Year                                                    0\n",
       "                                                       ..\n",
       "Event_Wrestling Women's Flyweight, Freestyle            0\n",
       "Event_Wrestling Women's Heavyweight, Freestyle          0\n",
       "Event_Wrestling Women's Light-Heavyweight, Freestyle    0\n",
       "Event_Wrestling Women's Lightweight, Freestyle          0\n",
       "Event_Wrestling Women's Middleweight, Freestyle         0\n",
       "Length: 1109, dtype: int64"
      ]
     },
     "execution_count": 52,
     "metadata": {},
     "output_type": "execute_result"
    }
   ],
   "source": [
    "merged_male.isnull().sum()"
   ]
  },
  {
   "cell_type": "code",
   "execution_count": 53,
   "id": "0328b15b",
   "metadata": {},
   "outputs": [
    {
     "data": {
      "text/plain": [
       "0"
      ]
     },
     "execution_count": 53,
     "metadata": {},
     "output_type": "execute_result"
    }
   ],
   "source": [
    "labels_male.isnull().sum()"
   ]
  },
  {
   "cell_type": "code",
   "execution_count": 54,
   "id": "6b332e0f",
   "metadata": {},
   "outputs": [
    {
     "data": {
      "text/plain": [
       "ID                                                      0\n",
       "Age                                                     0\n",
       "Height                                                  0\n",
       "Weight                                                  0\n",
       "Year                                                    0\n",
       "                                                       ..\n",
       "Event_Wrestling Women's Flyweight, Freestyle            0\n",
       "Event_Wrestling Women's Heavyweight, Freestyle          0\n",
       "Event_Wrestling Women's Light-Heavyweight, Freestyle    0\n",
       "Event_Wrestling Women's Lightweight, Freestyle          0\n",
       "Event_Wrestling Women's Middleweight, Freestyle         0\n",
       "Length: 1109, dtype: int64"
      ]
     },
     "execution_count": 54,
     "metadata": {},
     "output_type": "execute_result"
    }
   ],
   "source": [
    "merged_female.isnull().sum()"
   ]
  },
  {
   "cell_type": "code",
   "execution_count": 55,
   "id": "11ab0459",
   "metadata": {},
   "outputs": [
    {
     "data": {
      "text/plain": [
       "0"
      ]
     },
     "execution_count": 55,
     "metadata": {},
     "output_type": "execute_result"
    }
   ],
   "source": [
    "labels_female.isnull().sum()"
   ]
  },
  {
   "cell_type": "markdown",
   "id": "c210b47c",
   "metadata": {},
   "source": [
    "# 5. 데이타 분리 : 훈련세트, 시험 세트"
   ]
  },
  {
   "cell_type": "code",
   "execution_count": 56,
   "id": "7acbfb05",
   "metadata": {},
   "outputs": [
    {
     "data": {
      "text/plain": [
       "(759803, 1109)"
      ]
     },
     "execution_count": 56,
     "metadata": {},
     "output_type": "execute_result"
    }
   ],
   "source": [
    "merged.shape"
   ]
  },
  {
   "cell_type": "code",
   "execution_count": 57,
   "id": "6ecd48aa",
   "metadata": {},
   "outputs": [
    {
     "data": {
      "text/html": [
       "<div>\n",
       "<style scoped>\n",
       "    .dataframe tbody tr th:only-of-type {\n",
       "        vertical-align: middle;\n",
       "    }\n",
       "\n",
       "    .dataframe tbody tr th {\n",
       "        vertical-align: top;\n",
       "    }\n",
       "\n",
       "    .dataframe thead th {\n",
       "        text-align: right;\n",
       "    }\n",
       "</style>\n",
       "<table border=\"1\" class=\"dataframe\">\n",
       "  <thead>\n",
       "    <tr style=\"text-align: right;\">\n",
       "      <th></th>\n",
       "      <th>ID</th>\n",
       "      <th>Age</th>\n",
       "      <th>Height</th>\n",
       "      <th>Weight</th>\n",
       "      <th>Year</th>\n",
       "      <th>Medal</th>\n",
       "      <th>Sex_F</th>\n",
       "      <th>Sex_M</th>\n",
       "      <th>NOC_AFG</th>\n",
       "      <th>NOC_AHO</th>\n",
       "      <th>...</th>\n",
       "      <th>Event_Wrestling Men's Super-Heavyweight, Greco-Roman</th>\n",
       "      <th>Event_Wrestling Men's Unlimited Class, Greco-Roman</th>\n",
       "      <th>Event_Wrestling Men's Welterweight, Freestyle</th>\n",
       "      <th>Event_Wrestling Men's Welterweight, Greco-Roman</th>\n",
       "      <th>Event_Wrestling Women's Featherweight, Freestyle</th>\n",
       "      <th>Event_Wrestling Women's Flyweight, Freestyle</th>\n",
       "      <th>Event_Wrestling Women's Heavyweight, Freestyle</th>\n",
       "      <th>Event_Wrestling Women's Light-Heavyweight, Freestyle</th>\n",
       "      <th>Event_Wrestling Women's Lightweight, Freestyle</th>\n",
       "      <th>Event_Wrestling Women's Middleweight, Freestyle</th>\n",
       "    </tr>\n",
       "  </thead>\n",
       "  <tbody>\n",
       "    <tr>\n",
       "      <th>156642</th>\n",
       "      <td>78684</td>\n",
       "      <td>3.295837</td>\n",
       "      <td>5.198497</td>\n",
       "      <td>4.465908</td>\n",
       "      <td>7.591357</td>\n",
       "      <td>Silver</td>\n",
       "      <td>0</td>\n",
       "      <td>1</td>\n",
       "      <td>0</td>\n",
       "      <td>0</td>\n",
       "      <td>...</td>\n",
       "      <td>0</td>\n",
       "      <td>0</td>\n",
       "      <td>0</td>\n",
       "      <td>0</td>\n",
       "      <td>0</td>\n",
       "      <td>0</td>\n",
       "      <td>0</td>\n",
       "      <td>0</td>\n",
       "      <td>0</td>\n",
       "      <td>0</td>\n",
       "    </tr>\n",
       "    <tr>\n",
       "      <th>205520</th>\n",
       "      <td>103181</td>\n",
       "      <td>3.218876</td>\n",
       "      <td>5.176150</td>\n",
       "      <td>4.394449</td>\n",
       "      <td>7.605392</td>\n",
       "      <td>No</td>\n",
       "      <td>0</td>\n",
       "      <td>1</td>\n",
       "      <td>0</td>\n",
       "      <td>0</td>\n",
       "      <td>...</td>\n",
       "      <td>0</td>\n",
       "      <td>0</td>\n",
       "      <td>0</td>\n",
       "      <td>0</td>\n",
       "      <td>0</td>\n",
       "      <td>0</td>\n",
       "      <td>0</td>\n",
       "      <td>0</td>\n",
       "      <td>0</td>\n",
       "      <td>0</td>\n",
       "    </tr>\n",
       "    <tr>\n",
       "      <th>107777</th>\n",
       "      <td>54482</td>\n",
       "      <td>3.367296</td>\n",
       "      <td>5.135798</td>\n",
       "      <td>4.110874</td>\n",
       "      <td>7.607381</td>\n",
       "      <td>Bronze</td>\n",
       "      <td>1</td>\n",
       "      <td>0</td>\n",
       "      <td>0</td>\n",
       "      <td>0</td>\n",
       "      <td>...</td>\n",
       "      <td>0</td>\n",
       "      <td>0</td>\n",
       "      <td>0</td>\n",
       "      <td>0</td>\n",
       "      <td>0</td>\n",
       "      <td>0</td>\n",
       "      <td>0</td>\n",
       "      <td>0</td>\n",
       "      <td>0</td>\n",
       "      <td>0</td>\n",
       "    </tr>\n",
       "    <tr>\n",
       "      <th>150999</th>\n",
       "      <td>75778</td>\n",
       "      <td>3.332205</td>\n",
       "      <td>5.111988</td>\n",
       "      <td>4.204693</td>\n",
       "      <td>7.589336</td>\n",
       "      <td>No</td>\n",
       "      <td>0</td>\n",
       "      <td>1</td>\n",
       "      <td>0</td>\n",
       "      <td>0</td>\n",
       "      <td>...</td>\n",
       "      <td>0</td>\n",
       "      <td>0</td>\n",
       "      <td>0</td>\n",
       "      <td>0</td>\n",
       "      <td>0</td>\n",
       "      <td>0</td>\n",
       "      <td>0</td>\n",
       "      <td>0</td>\n",
       "      <td>0</td>\n",
       "      <td>0</td>\n",
       "    </tr>\n",
       "    <tr>\n",
       "      <th>74971</th>\n",
       "      <td>38047</td>\n",
       "      <td>2.995732</td>\n",
       "      <td>5.187386</td>\n",
       "      <td>4.304065</td>\n",
       "      <td>7.603399</td>\n",
       "      <td>No</td>\n",
       "      <td>1</td>\n",
       "      <td>0</td>\n",
       "      <td>0</td>\n",
       "      <td>0</td>\n",
       "      <td>...</td>\n",
       "      <td>0</td>\n",
       "      <td>0</td>\n",
       "      <td>0</td>\n",
       "      <td>0</td>\n",
       "      <td>0</td>\n",
       "      <td>0</td>\n",
       "      <td>0</td>\n",
       "      <td>0</td>\n",
       "      <td>0</td>\n",
       "      <td>0</td>\n",
       "    </tr>\n",
       "  </tbody>\n",
       "</table>\n",
       "<p>5 rows × 1109 columns</p>\n",
       "</div>"
      ],
      "text/plain": [
       "            ID       Age    Height    Weight      Year   Medal  Sex_F  Sex_M  \\\n",
       "156642   78684  3.295837  5.198497  4.465908  7.591357  Silver      0      1   \n",
       "205520  103181  3.218876  5.176150  4.394449  7.605392      No      0      1   \n",
       "107777   54482  3.367296  5.135798  4.110874  7.607381  Bronze      1      0   \n",
       "150999   75778  3.332205  5.111988  4.204693  7.589336      No      0      1   \n",
       "74971    38047  2.995732  5.187386  4.304065  7.603399      No      1      0   \n",
       "\n",
       "        NOC_AFG  NOC_AHO  ...  \\\n",
       "156642        0        0  ...   \n",
       "205520        0        0  ...   \n",
       "107777        0        0  ...   \n",
       "150999        0        0  ...   \n",
       "74971         0        0  ...   \n",
       "\n",
       "        Event_Wrestling Men's Super-Heavyweight, Greco-Roman  \\\n",
       "156642                                                  0      \n",
       "205520                                                  0      \n",
       "107777                                                  0      \n",
       "150999                                                  0      \n",
       "74971                                                   0      \n",
       "\n",
       "        Event_Wrestling Men's Unlimited Class, Greco-Roman  \\\n",
       "156642                                                  0    \n",
       "205520                                                  0    \n",
       "107777                                                  0    \n",
       "150999                                                  0    \n",
       "74971                                                   0    \n",
       "\n",
       "        Event_Wrestling Men's Welterweight, Freestyle  \\\n",
       "156642                                              0   \n",
       "205520                                              0   \n",
       "107777                                              0   \n",
       "150999                                              0   \n",
       "74971                                               0   \n",
       "\n",
       "        Event_Wrestling Men's Welterweight, Greco-Roman  \\\n",
       "156642                                                0   \n",
       "205520                                                0   \n",
       "107777                                                0   \n",
       "150999                                                0   \n",
       "74971                                                 0   \n",
       "\n",
       "        Event_Wrestling Women's Featherweight, Freestyle  \\\n",
       "156642                                                 0   \n",
       "205520                                                 0   \n",
       "107777                                                 0   \n",
       "150999                                                 0   \n",
       "74971                                                  0   \n",
       "\n",
       "        Event_Wrestling Women's Flyweight, Freestyle  \\\n",
       "156642                                             0   \n",
       "205520                                             0   \n",
       "107777                                             0   \n",
       "150999                                             0   \n",
       "74971                                              0   \n",
       "\n",
       "        Event_Wrestling Women's Heavyweight, Freestyle  \\\n",
       "156642                                               0   \n",
       "205520                                               0   \n",
       "107777                                               0   \n",
       "150999                                               0   \n",
       "74971                                                0   \n",
       "\n",
       "        Event_Wrestling Women's Light-Heavyweight, Freestyle  \\\n",
       "156642                                                  0      \n",
       "205520                                                  0      \n",
       "107777                                                  0      \n",
       "150999                                                  0      \n",
       "74971                                                   0      \n",
       "\n",
       "        Event_Wrestling Women's Lightweight, Freestyle  \\\n",
       "156642                                               0   \n",
       "205520                                               0   \n",
       "107777                                               0   \n",
       "150999                                               0   \n",
       "74971                                                0   \n",
       "\n",
       "        Event_Wrestling Women's Middleweight, Freestyle  \n",
       "156642                                                0  \n",
       "205520                                                0  \n",
       "107777                                                0  \n",
       "150999                                                0  \n",
       "74971                                                 0  \n",
       "\n",
       "[5 rows x 1109 columns]"
      ]
     },
     "execution_count": 57,
     "metadata": {},
     "output_type": "execute_result"
    }
   ],
   "source": [
    "merged.head()"
   ]
  },
  {
   "cell_type": "code",
   "execution_count": 58,
   "id": "f831897e",
   "metadata": {},
   "outputs": [],
   "source": [
    "# Label Encoding\n",
    "merged['Label'] = merged['Medal'].replace('No',0).replace('Gold',1).replace('Silver', 1).replace('Bronze', 1)\n",
    "y_train = merged['Label']\n",
    "\n",
    "merged.drop(['Label'], axis=1, inplace=True)\n",
    "X_train = merged.copy()"
   ]
  },
  {
   "cell_type": "code",
   "execution_count": 59,
   "id": "7560e631",
   "metadata": {},
   "outputs": [
    {
     "data": {
      "text/plain": [
       "(759803, 1109)"
      ]
     },
     "execution_count": 59,
     "metadata": {},
     "output_type": "execute_result"
    }
   ],
   "source": [
    "X_train.shape"
   ]
  },
  {
   "cell_type": "code",
   "execution_count": 60,
   "id": "cce2e4be",
   "metadata": {},
   "outputs": [],
   "source": [
    "X_train.drop(['Medal'], axis=1, inplace=True)"
   ]
  },
  {
   "cell_type": "code",
   "execution_count": 61,
   "id": "fe84c0f1",
   "metadata": {},
   "outputs": [
    {
     "data": {
      "text/html": [
       "<div>\n",
       "<style scoped>\n",
       "    .dataframe tbody tr th:only-of-type {\n",
       "        vertical-align: middle;\n",
       "    }\n",
       "\n",
       "    .dataframe tbody tr th {\n",
       "        vertical-align: top;\n",
       "    }\n",
       "\n",
       "    .dataframe thead th {\n",
       "        text-align: right;\n",
       "    }\n",
       "</style>\n",
       "<table border=\"1\" class=\"dataframe\">\n",
       "  <thead>\n",
       "    <tr style=\"text-align: right;\">\n",
       "      <th></th>\n",
       "      <th>ID</th>\n",
       "      <th>Age</th>\n",
       "      <th>Height</th>\n",
       "      <th>Weight</th>\n",
       "      <th>Year</th>\n",
       "      <th>Sex_F</th>\n",
       "      <th>Sex_M</th>\n",
       "      <th>NOC_AFG</th>\n",
       "      <th>NOC_AHO</th>\n",
       "      <th>NOC_ALB</th>\n",
       "      <th>...</th>\n",
       "      <th>Event_Wrestling Men's Super-Heavyweight, Greco-Roman</th>\n",
       "      <th>Event_Wrestling Men's Unlimited Class, Greco-Roman</th>\n",
       "      <th>Event_Wrestling Men's Welterweight, Freestyle</th>\n",
       "      <th>Event_Wrestling Men's Welterweight, Greco-Roman</th>\n",
       "      <th>Event_Wrestling Women's Featherweight, Freestyle</th>\n",
       "      <th>Event_Wrestling Women's Flyweight, Freestyle</th>\n",
       "      <th>Event_Wrestling Women's Heavyweight, Freestyle</th>\n",
       "      <th>Event_Wrestling Women's Light-Heavyweight, Freestyle</th>\n",
       "      <th>Event_Wrestling Women's Lightweight, Freestyle</th>\n",
       "      <th>Event_Wrestling Women's Middleweight, Freestyle</th>\n",
       "    </tr>\n",
       "  </thead>\n",
       "  <tbody>\n",
       "    <tr>\n",
       "      <th>156642</th>\n",
       "      <td>78684</td>\n",
       "      <td>3.295837</td>\n",
       "      <td>5.198497</td>\n",
       "      <td>4.465908</td>\n",
       "      <td>7.591357</td>\n",
       "      <td>0</td>\n",
       "      <td>1</td>\n",
       "      <td>0</td>\n",
       "      <td>0</td>\n",
       "      <td>0</td>\n",
       "      <td>...</td>\n",
       "      <td>0</td>\n",
       "      <td>0</td>\n",
       "      <td>0</td>\n",
       "      <td>0</td>\n",
       "      <td>0</td>\n",
       "      <td>0</td>\n",
       "      <td>0</td>\n",
       "      <td>0</td>\n",
       "      <td>0</td>\n",
       "      <td>0</td>\n",
       "    </tr>\n",
       "    <tr>\n",
       "      <th>205520</th>\n",
       "      <td>103181</td>\n",
       "      <td>3.218876</td>\n",
       "      <td>5.176150</td>\n",
       "      <td>4.394449</td>\n",
       "      <td>7.605392</td>\n",
       "      <td>0</td>\n",
       "      <td>1</td>\n",
       "      <td>0</td>\n",
       "      <td>0</td>\n",
       "      <td>0</td>\n",
       "      <td>...</td>\n",
       "      <td>0</td>\n",
       "      <td>0</td>\n",
       "      <td>0</td>\n",
       "      <td>0</td>\n",
       "      <td>0</td>\n",
       "      <td>0</td>\n",
       "      <td>0</td>\n",
       "      <td>0</td>\n",
       "      <td>0</td>\n",
       "      <td>0</td>\n",
       "    </tr>\n",
       "    <tr>\n",
       "      <th>107777</th>\n",
       "      <td>54482</td>\n",
       "      <td>3.367296</td>\n",
       "      <td>5.135798</td>\n",
       "      <td>4.110874</td>\n",
       "      <td>7.607381</td>\n",
       "      <td>1</td>\n",
       "      <td>0</td>\n",
       "      <td>0</td>\n",
       "      <td>0</td>\n",
       "      <td>0</td>\n",
       "      <td>...</td>\n",
       "      <td>0</td>\n",
       "      <td>0</td>\n",
       "      <td>0</td>\n",
       "      <td>0</td>\n",
       "      <td>0</td>\n",
       "      <td>0</td>\n",
       "      <td>0</td>\n",
       "      <td>0</td>\n",
       "      <td>0</td>\n",
       "      <td>0</td>\n",
       "    </tr>\n",
       "    <tr>\n",
       "      <th>150999</th>\n",
       "      <td>75778</td>\n",
       "      <td>3.332205</td>\n",
       "      <td>5.111988</td>\n",
       "      <td>4.204693</td>\n",
       "      <td>7.589336</td>\n",
       "      <td>0</td>\n",
       "      <td>1</td>\n",
       "      <td>0</td>\n",
       "      <td>0</td>\n",
       "      <td>0</td>\n",
       "      <td>...</td>\n",
       "      <td>0</td>\n",
       "      <td>0</td>\n",
       "      <td>0</td>\n",
       "      <td>0</td>\n",
       "      <td>0</td>\n",
       "      <td>0</td>\n",
       "      <td>0</td>\n",
       "      <td>0</td>\n",
       "      <td>0</td>\n",
       "      <td>0</td>\n",
       "    </tr>\n",
       "    <tr>\n",
       "      <th>74971</th>\n",
       "      <td>38047</td>\n",
       "      <td>2.995732</td>\n",
       "      <td>5.187386</td>\n",
       "      <td>4.304065</td>\n",
       "      <td>7.603399</td>\n",
       "      <td>1</td>\n",
       "      <td>0</td>\n",
       "      <td>0</td>\n",
       "      <td>0</td>\n",
       "      <td>0</td>\n",
       "      <td>...</td>\n",
       "      <td>0</td>\n",
       "      <td>0</td>\n",
       "      <td>0</td>\n",
       "      <td>0</td>\n",
       "      <td>0</td>\n",
       "      <td>0</td>\n",
       "      <td>0</td>\n",
       "      <td>0</td>\n",
       "      <td>0</td>\n",
       "      <td>0</td>\n",
       "    </tr>\n",
       "  </tbody>\n",
       "</table>\n",
       "<p>5 rows × 1108 columns</p>\n",
       "</div>"
      ],
      "text/plain": [
       "            ID       Age    Height    Weight      Year  Sex_F  Sex_M  NOC_AFG  \\\n",
       "156642   78684  3.295837  5.198497  4.465908  7.591357      0      1        0   \n",
       "205520  103181  3.218876  5.176150  4.394449  7.605392      0      1        0   \n",
       "107777   54482  3.367296  5.135798  4.110874  7.607381      1      0        0   \n",
       "150999   75778  3.332205  5.111988  4.204693  7.589336      0      1        0   \n",
       "74971    38047  2.995732  5.187386  4.304065  7.603399      1      0        0   \n",
       "\n",
       "        NOC_AHO  NOC_ALB  ...  \\\n",
       "156642        0        0  ...   \n",
       "205520        0        0  ...   \n",
       "107777        0        0  ...   \n",
       "150999        0        0  ...   \n",
       "74971         0        0  ...   \n",
       "\n",
       "        Event_Wrestling Men's Super-Heavyweight, Greco-Roman  \\\n",
       "156642                                                  0      \n",
       "205520                                                  0      \n",
       "107777                                                  0      \n",
       "150999                                                  0      \n",
       "74971                                                   0      \n",
       "\n",
       "        Event_Wrestling Men's Unlimited Class, Greco-Roman  \\\n",
       "156642                                                  0    \n",
       "205520                                                  0    \n",
       "107777                                                  0    \n",
       "150999                                                  0    \n",
       "74971                                                   0    \n",
       "\n",
       "        Event_Wrestling Men's Welterweight, Freestyle  \\\n",
       "156642                                              0   \n",
       "205520                                              0   \n",
       "107777                                              0   \n",
       "150999                                              0   \n",
       "74971                                               0   \n",
       "\n",
       "        Event_Wrestling Men's Welterweight, Greco-Roman  \\\n",
       "156642                                                0   \n",
       "205520                                                0   \n",
       "107777                                                0   \n",
       "150999                                                0   \n",
       "74971                                                 0   \n",
       "\n",
       "        Event_Wrestling Women's Featherweight, Freestyle  \\\n",
       "156642                                                 0   \n",
       "205520                                                 0   \n",
       "107777                                                 0   \n",
       "150999                                                 0   \n",
       "74971                                                  0   \n",
       "\n",
       "        Event_Wrestling Women's Flyweight, Freestyle  \\\n",
       "156642                                             0   \n",
       "205520                                             0   \n",
       "107777                                             0   \n",
       "150999                                             0   \n",
       "74971                                              0   \n",
       "\n",
       "        Event_Wrestling Women's Heavyweight, Freestyle  \\\n",
       "156642                                               0   \n",
       "205520                                               0   \n",
       "107777                                               0   \n",
       "150999                                               0   \n",
       "74971                                                0   \n",
       "\n",
       "        Event_Wrestling Women's Light-Heavyweight, Freestyle  \\\n",
       "156642                                                  0      \n",
       "205520                                                  0      \n",
       "107777                                                  0      \n",
       "150999                                                  0      \n",
       "74971                                                   0      \n",
       "\n",
       "        Event_Wrestling Women's Lightweight, Freestyle  \\\n",
       "156642                                               0   \n",
       "205520                                               0   \n",
       "107777                                               0   \n",
       "150999                                               0   \n",
       "74971                                                0   \n",
       "\n",
       "        Event_Wrestling Women's Middleweight, Freestyle  \n",
       "156642                                                0  \n",
       "205520                                                0  \n",
       "107777                                                0  \n",
       "150999                                                0  \n",
       "74971                                                 0  \n",
       "\n",
       "[5 rows x 1108 columns]"
      ]
     },
     "execution_count": 61,
     "metadata": {},
     "output_type": "execute_result"
    }
   ],
   "source": [
    "X_train.head()"
   ]
  },
  {
   "cell_type": "code",
   "execution_count": 62,
   "id": "ac00105f",
   "metadata": {},
   "outputs": [
    {
     "data": {
      "text/plain": [
       "pandas.core.series.Series"
      ]
     },
     "execution_count": 62,
     "metadata": {},
     "output_type": "execute_result"
    }
   ],
   "source": [
    "type(labels) ######"
   ]
  },
  {
   "cell_type": "code",
   "execution_count": 63,
   "id": "90b94ad8",
   "metadata": {},
   "outputs": [
    {
     "name": "stdout",
     "output_type": "stream",
     "text": [
      "(759803, 1108) (759803,)\n",
      "(54185, 1110) (54185,)\n"
     ]
    }
   ],
   "source": [
    "print(X_train.shape, y_train.shape)\n",
    "print(X_test.shape, y_test.shape)"
   ]
  },
  {
   "cell_type": "code",
   "execution_count": 64,
   "id": "118727b6",
   "metadata": {},
   "outputs": [],
   "source": [
    "# id 칼럼은 별도 저장 ################################################\n",
    "train_ids = X_train['ID']\n",
    "test_ids = X_test['ID']\n",
    "\n",
    "# 저장되었으므로 id는 데이타에서 삭제\n",
    "X_train.drop(['ID'], axis=1, inplace=True)\n",
    "X_test.drop(['ID'], axis=1, inplace=True)"
   ]
  },
  {
   "cell_type": "code",
   "execution_count": 65,
   "id": "29455794",
   "metadata": {},
   "outputs": [
    {
     "name": "stdout",
     "output_type": "stream",
     "text": [
      "train set : (759803, 1107)\n",
      "test set : (54185, 1109)\n"
     ]
    }
   ],
   "source": [
    "print('train set :', X_train.shape)\n",
    "print('test set :', X_test.shape)\n",
    "# NaN drop : train set : (164932, 922)\n",
    "# Nan drop : test set : (41233, 922)"
   ]
  },
  {
   "cell_type": "code",
   "execution_count": 66,
   "id": "5977eaee",
   "metadata": {},
   "outputs": [
    {
     "data": {
      "text/plain": [
       "Age                                                     0\n",
       "Height                                                  0\n",
       "Weight                                                  0\n",
       "Year                                                    0\n",
       "Sex_F                                                   0\n",
       "                                                       ..\n",
       "Event_Wrestling Women's Flyweight, Freestyle            0\n",
       "Event_Wrestling Women's Heavyweight, Freestyle          0\n",
       "Event_Wrestling Women's Light-Heavyweight, Freestyle    0\n",
       "Event_Wrestling Women's Lightweight, Freestyle          0\n",
       "Event_Wrestling Women's Middleweight, Freestyle         0\n",
       "Length: 1107, dtype: int64"
      ]
     },
     "execution_count": 66,
     "metadata": {},
     "output_type": "execute_result"
    }
   ],
   "source": [
    "X_train.isnull().sum()"
   ]
  },
  {
   "cell_type": "code",
   "execution_count": 67,
   "id": "c389e4f3",
   "metadata": {},
   "outputs": [],
   "source": [
    "X_test.drop(['Medal'], axis=1, inplace=True)\n",
    "X_test.drop(['Label'], axis=1, inplace=True)"
   ]
  },
  {
   "cell_type": "code",
   "execution_count": 68,
   "id": "0f5ea4a3",
   "metadata": {},
   "outputs": [
    {
     "name": "stdout",
     "output_type": "stream",
     "text": [
      "(759803, 1107) (759803,)\n",
      "(54185, 1107) (54185,)\n"
     ]
    }
   ],
   "source": [
    "print(X_train.shape, y_train.shape)\n",
    "print(X_test.shape, y_test.shape)"
   ]
  },
  {
   "cell_type": "code",
   "execution_count": 69,
   "id": "67369531",
   "metadata": {},
   "outputs": [
    {
     "data": {
      "text/html": [
       "<div>\n",
       "<style scoped>\n",
       "    .dataframe tbody tr th:only-of-type {\n",
       "        vertical-align: middle;\n",
       "    }\n",
       "\n",
       "    .dataframe tbody tr th {\n",
       "        vertical-align: top;\n",
       "    }\n",
       "\n",
       "    .dataframe thead th {\n",
       "        text-align: right;\n",
       "    }\n",
       "</style>\n",
       "<table border=\"1\" class=\"dataframe\">\n",
       "  <thead>\n",
       "    <tr style=\"text-align: right;\">\n",
       "      <th></th>\n",
       "      <th>Age</th>\n",
       "      <th>Height</th>\n",
       "      <th>Weight</th>\n",
       "      <th>Year</th>\n",
       "      <th>Sex_F</th>\n",
       "      <th>Sex_M</th>\n",
       "      <th>NOC_AFG</th>\n",
       "      <th>NOC_AHO</th>\n",
       "      <th>NOC_ALB</th>\n",
       "      <th>NOC_ALG</th>\n",
       "      <th>...</th>\n",
       "      <th>Event_Wrestling Men's Super-Heavyweight, Greco-Roman</th>\n",
       "      <th>Event_Wrestling Men's Unlimited Class, Greco-Roman</th>\n",
       "      <th>Event_Wrestling Men's Welterweight, Freestyle</th>\n",
       "      <th>Event_Wrestling Men's Welterweight, Greco-Roman</th>\n",
       "      <th>Event_Wrestling Women's Featherweight, Freestyle</th>\n",
       "      <th>Event_Wrestling Women's Flyweight, Freestyle</th>\n",
       "      <th>Event_Wrestling Women's Heavyweight, Freestyle</th>\n",
       "      <th>Event_Wrestling Women's Light-Heavyweight, Freestyle</th>\n",
       "      <th>Event_Wrestling Women's Lightweight, Freestyle</th>\n",
       "      <th>Event_Wrestling Women's Middleweight, Freestyle</th>\n",
       "    </tr>\n",
       "  </thead>\n",
       "  <tbody>\n",
       "    <tr>\n",
       "      <th>260132</th>\n",
       "      <td>3.401197</td>\n",
       "      <td>5.062595</td>\n",
       "      <td>3.970292</td>\n",
       "      <td>7.577122</td>\n",
       "      <td>0</td>\n",
       "      <td>1</td>\n",
       "      <td>0</td>\n",
       "      <td>0</td>\n",
       "      <td>0</td>\n",
       "      <td>0</td>\n",
       "      <td>...</td>\n",
       "      <td>0</td>\n",
       "      <td>0</td>\n",
       "      <td>0</td>\n",
       "      <td>0</td>\n",
       "      <td>0</td>\n",
       "      <td>0</td>\n",
       "      <td>0</td>\n",
       "      <td>0</td>\n",
       "      <td>0</td>\n",
       "      <td>0</td>\n",
       "    </tr>\n",
       "    <tr>\n",
       "      <th>258464</th>\n",
       "      <td>3.135494</td>\n",
       "      <td>5.187386</td>\n",
       "      <td>4.276666</td>\n",
       "      <td>7.568896</td>\n",
       "      <td>0</td>\n",
       "      <td>1</td>\n",
       "      <td>0</td>\n",
       "      <td>0</td>\n",
       "      <td>0</td>\n",
       "      <td>0</td>\n",
       "      <td>...</td>\n",
       "      <td>0</td>\n",
       "      <td>0</td>\n",
       "      <td>0</td>\n",
       "      <td>0</td>\n",
       "      <td>0</td>\n",
       "      <td>0</td>\n",
       "      <td>0</td>\n",
       "      <td>0</td>\n",
       "      <td>0</td>\n",
       "      <td>0</td>\n",
       "    </tr>\n",
       "    <tr>\n",
       "      <th>202159</th>\n",
       "      <td>3.135494</td>\n",
       "      <td>5.176150</td>\n",
       "      <td>4.127134</td>\n",
       "      <td>7.602401</td>\n",
       "      <td>1</td>\n",
       "      <td>0</td>\n",
       "      <td>0</td>\n",
       "      <td>0</td>\n",
       "      <td>0</td>\n",
       "      <td>0</td>\n",
       "      <td>...</td>\n",
       "      <td>0</td>\n",
       "      <td>0</td>\n",
       "      <td>0</td>\n",
       "      <td>0</td>\n",
       "      <td>0</td>\n",
       "      <td>0</td>\n",
       "      <td>0</td>\n",
       "      <td>0</td>\n",
       "      <td>0</td>\n",
       "      <td>0</td>\n",
       "    </tr>\n",
       "    <tr>\n",
       "      <th>266475</th>\n",
       "      <td>3.295837</td>\n",
       "      <td>5.225747</td>\n",
       "      <td>4.276666</td>\n",
       "      <td>7.607381</td>\n",
       "      <td>0</td>\n",
       "      <td>1</td>\n",
       "      <td>0</td>\n",
       "      <td>0</td>\n",
       "      <td>0</td>\n",
       "      <td>0</td>\n",
       "      <td>...</td>\n",
       "      <td>0</td>\n",
       "      <td>0</td>\n",
       "      <td>0</td>\n",
       "      <td>0</td>\n",
       "      <td>0</td>\n",
       "      <td>0</td>\n",
       "      <td>0</td>\n",
       "      <td>0</td>\n",
       "      <td>0</td>\n",
       "      <td>0</td>\n",
       "    </tr>\n",
       "    <tr>\n",
       "      <th>30014</th>\n",
       "      <td>3.367296</td>\n",
       "      <td>5.252273</td>\n",
       "      <td>4.406719</td>\n",
       "      <td>7.585281</td>\n",
       "      <td>0</td>\n",
       "      <td>1</td>\n",
       "      <td>0</td>\n",
       "      <td>0</td>\n",
       "      <td>0</td>\n",
       "      <td>0</td>\n",
       "      <td>...</td>\n",
       "      <td>0</td>\n",
       "      <td>0</td>\n",
       "      <td>0</td>\n",
       "      <td>0</td>\n",
       "      <td>0</td>\n",
       "      <td>0</td>\n",
       "      <td>0</td>\n",
       "      <td>0</td>\n",
       "      <td>0</td>\n",
       "      <td>0</td>\n",
       "    </tr>\n",
       "  </tbody>\n",
       "</table>\n",
       "<p>5 rows × 1107 columns</p>\n",
       "</div>"
      ],
      "text/plain": [
       "             Age    Height    Weight      Year  Sex_F  Sex_M  NOC_AFG  \\\n",
       "260132  3.401197  5.062595  3.970292  7.577122      0      1        0   \n",
       "258464  3.135494  5.187386  4.276666  7.568896      0      1        0   \n",
       "202159  3.135494  5.176150  4.127134  7.602401      1      0        0   \n",
       "266475  3.295837  5.225747  4.276666  7.607381      0      1        0   \n",
       "30014   3.367296  5.252273  4.406719  7.585281      0      1        0   \n",
       "\n",
       "        NOC_AHO  NOC_ALB  NOC_ALG  ...  \\\n",
       "260132        0        0        0  ...   \n",
       "258464        0        0        0  ...   \n",
       "202159        0        0        0  ...   \n",
       "266475        0        0        0  ...   \n",
       "30014         0        0        0  ...   \n",
       "\n",
       "        Event_Wrestling Men's Super-Heavyweight, Greco-Roman  \\\n",
       "260132                                                  0      \n",
       "258464                                                  0      \n",
       "202159                                                  0      \n",
       "266475                                                  0      \n",
       "30014                                                   0      \n",
       "\n",
       "        Event_Wrestling Men's Unlimited Class, Greco-Roman  \\\n",
       "260132                                                  0    \n",
       "258464                                                  0    \n",
       "202159                                                  0    \n",
       "266475                                                  0    \n",
       "30014                                                   0    \n",
       "\n",
       "        Event_Wrestling Men's Welterweight, Freestyle  \\\n",
       "260132                                              0   \n",
       "258464                                              0   \n",
       "202159                                              0   \n",
       "266475                                              0   \n",
       "30014                                               0   \n",
       "\n",
       "        Event_Wrestling Men's Welterweight, Greco-Roman  \\\n",
       "260132                                                0   \n",
       "258464                                                0   \n",
       "202159                                                0   \n",
       "266475                                                0   \n",
       "30014                                                 0   \n",
       "\n",
       "        Event_Wrestling Women's Featherweight, Freestyle  \\\n",
       "260132                                                 0   \n",
       "258464                                                 0   \n",
       "202159                                                 0   \n",
       "266475                                                 0   \n",
       "30014                                                  0   \n",
       "\n",
       "        Event_Wrestling Women's Flyweight, Freestyle  \\\n",
       "260132                                             0   \n",
       "258464                                             0   \n",
       "202159                                             0   \n",
       "266475                                             0   \n",
       "30014                                              0   \n",
       "\n",
       "        Event_Wrestling Women's Heavyweight, Freestyle  \\\n",
       "260132                                               0   \n",
       "258464                                               0   \n",
       "202159                                               0   \n",
       "266475                                               0   \n",
       "30014                                                0   \n",
       "\n",
       "        Event_Wrestling Women's Light-Heavyweight, Freestyle  \\\n",
       "260132                                                  0      \n",
       "258464                                                  0      \n",
       "202159                                                  0      \n",
       "266475                                                  0      \n",
       "30014                                                   0      \n",
       "\n",
       "        Event_Wrestling Women's Lightweight, Freestyle  \\\n",
       "260132                                               0   \n",
       "258464                                               0   \n",
       "202159                                               0   \n",
       "266475                                               0   \n",
       "30014                                                0   \n",
       "\n",
       "        Event_Wrestling Women's Middleweight, Freestyle  \n",
       "260132                                                0  \n",
       "258464                                                0  \n",
       "202159                                                0  \n",
       "266475                                                0  \n",
       "30014                                                 0  \n",
       "\n",
       "[5 rows x 1107 columns]"
      ]
     },
     "execution_count": 69,
     "metadata": {},
     "output_type": "execute_result"
    }
   ],
   "source": [
    "X_test.head()"
   ]
  },
  {
   "cell_type": "markdown",
   "id": "4f551c97",
   "metadata": {},
   "source": [
    "# 6. 모델 훈련 : 훈련 세트"
   ]
  },
  {
   "cell_type": "markdown",
   "id": "ee3c5865",
   "metadata": {},
   "source": [
    "### 6.1 Decision Tree"
   ]
  },
  {
   "cell_type": "code",
   "execution_count": 70,
   "id": "f4249b55",
   "metadata": {},
   "outputs": [],
   "source": [
    "def printDoubleLine(title: str) -> None:\n",
    "    print('========================================================')\n",
    "    print('[', title, ']')\n",
    "\n",
    "def printLine(title: str = None) -> None:\n",
    "    print('--------------------------------------------------------')\n",
    "    if title is not None:\n",
    "        print('[', title, ']')\n",
    "    return"
   ]
  },
  {
   "cell_type": "code",
   "execution_count": 71,
   "id": "1f88a986",
   "metadata": {},
   "outputs": [
    {
     "name": "stdout",
     "output_type": "stream",
     "text": [
      "========================================================\n",
      "[ Decision Tree ]\n",
      "estimator type : classifier\n",
      "Accuracy : 0.8607363661529944\n",
      "              precision    recall  f1-score   support\n",
      "\n",
      "           0       0.92      0.92      0.92     46359\n",
      "           1       0.52      0.53      0.52      7826\n",
      "\n",
      "    accuracy                           0.86     54185\n",
      "   macro avg       0.72      0.72      0.72     54185\n",
      "weighted avg       0.86      0.86      0.86     54185\n",
      "\n"
     ]
    },
    {
     "data": {
      "text/plain": [
       "Text(0.5, 1.0, 'Decion Tree (F1 Score : 0.861)')"
      ]
     },
     "execution_count": 71,
     "metadata": {},
     "output_type": "execute_result"
    },
    {
     "data": {
      "image/png": "[encoded data removed]",
      "text/plain": [
       "<Figure size 640x480 with 2 Axes>"
      ]
     },
     "metadata": {},
     "output_type": "display_data"
    }
   ],
   "source": [
    "label_names=['No Medal', 'Medal Winner']\n",
    "printDoubleLine('Decision Tree')\n",
    "decision_tree = DecisionTreeClassifier(random_state=RANDOM_STATE) \n",
    "print('estimator type :', decision_tree._estimator_type)\n",
    "decision_tree.fit(X_train, y_train)\n",
    "y_pred = decision_tree.predict(X_test)\n",
    "accuracy = accuracy_score(y_test, y_pred)\n",
    "print('Accuracy :', accuracy)\n",
    "print(classification_report(y_test, y_pred))\n",
    "plot = plot_confusion_matrix(decision_tree, # 분류 모델\n",
    "                             X_test, y_test, # 예측 데이터와 예측값의 정답(y_true)\n",
    "                             display_labels=label_names, # 표에 표시할 labels\n",
    "                             cmap=plt.cm.Blues, # 컬러맵(plt.cm.Reds, plt.cm.rainbow 등이 있음)\n",
    "                             normalize='true') # 'true', 'pred', 'all' 중에서 지정 가능. default=None\n",
    "f1score = f1_score(y_test, y_pred, average='weighted')\n",
    "plot.ax_.set_title('Decion Tree (F1 Score : ' + str(round(f1score, 3)) + ')')"
   ]
  },
  {
   "cell_type": "code",
   "execution_count": 72,
   "id": "22b8f691",
   "metadata": {},
   "outputs": [
    {
     "name": "stdout",
     "output_type": "stream",
     "text": [
      "--------------------------------------------------------\n",
      "[ Random Forest ]\n",
      "estimator type : classifier\n",
      "Accuracy : 0.9107502076220356\n",
      "              precision    recall  f1-score   support\n",
      "\n",
      "           0       0.95      0.94      0.95     46359\n",
      "           1       0.68      0.71      0.70      7826\n",
      "\n",
      "    accuracy                           0.91     54185\n",
      "   macro avg       0.82      0.83      0.82     54185\n",
      "weighted avg       0.91      0.91      0.91     54185\n",
      "\n"
     ]
    },
    {
     "data": {
      "text/plain": [
       "Text(0.5, 1.0, 'Random Forest (F1 Score : 0.911)')"
      ]
     },
     "execution_count": 72,
     "metadata": {},
     "output_type": "execute_result"
    },
    {
     "data": {
      "image/png": "[encoded data removed]",
      "text/plain": [
       "<Figure size 640x480 with 2 Axes>"
      ]
     },
     "metadata": {},
     "output_type": "display_data"
    }
   ],
   "source": [
    "# Random Forest Classifier\n",
    "\n",
    "label_names=['No Medal', 'Medal Winner']\n",
    "printLine('Random Forest')\n",
    "random_forest = RandomForestClassifier(random_state=RANDOM_STATE)\n",
    "print('estimator type :', random_forest._estimator_type)\n",
    "random_forest.fit(X_train, y_train)\n",
    "y_pred = random_forest.predict(X_test)\n",
    "accuracy = accuracy_score(y_test, y_pred)\n",
    "print('Accuracy :', accuracy)\n",
    "print(classification_report(y_test, y_pred)) \n",
    "plot = plot_confusion_matrix(random_forest, # 분류 모델\n",
    "                             X_test, y_test, # 예측 데이터와 예측값의 정답(y_true)\n",
    "                             display_labels=label_names, # 표에 표시할 labels\n",
    "                             cmap=plt.cm.Blues, # 컬러맵(plt.cm.Reds, plt.cm.rainbow 등이 있음)\n",
    "                             normalize='true') # 'true', 'pred', 'all' 중에서 지정 가능. default=None\n",
    "f1score = f1_score(y_test, y_pred, average='weighted')\n",
    "plot.ax_.set_title('Random Forest (F1 Score : ' + str(round(f1score, 3)) + ')')"
   ]
  },
  {
   "cell_type": "code",
   "execution_count": 1,
   "id": "1fa0541e",
   "metadata": {},
   "outputs": [],
   "source": [
    "# ============="
   ]
  },
  {
   "cell_type": "code",
   "execution_count": 612,
   "id": "ed6b41be",
   "metadata": {},
   "outputs": [
    {
     "name": "stdout",
     "output_type": "stream",
     "text": [
      "========================================================\n",
      "[ Decision Tree ]\n",
      "estimator type : classifier\n",
      "Accuracy : 0.8439974162591123\n",
      "              precision    recall  f1-score   support\n",
      "\n",
      "           0       0.93      0.91      0.92     46359\n",
      "           1       0.44      0.49      0.47      2562\n",
      "           2       0.38      0.40      0.39      2595\n",
      "           3       0.36      0.40      0.38      2669\n",
      "\n",
      "    accuracy                           0.84     54185\n",
      "   macro avg       0.53      0.55      0.54     54185\n",
      "weighted avg       0.85      0.84      0.85     54185\n",
      "\n"
     ]
    },
    {
     "data": {
      "text/plain": [
       "Text(0.5, 1.0, 'Decion Tree (F1 Score : 0.847)')"
      ]
     },
     "execution_count": 612,
     "metadata": {},
     "output_type": "execute_result"
    },
    {
     "data": {
      "image/png": "[encoded data removed]",
      "text/plain": [
       "<Figure size 640x480 with 2 Axes>"
      ]
     },
     "metadata": {},
     "output_type": "display_data"
    }
   ],
   "source": [
    "label_names=['No Medal', 'Gold', 'Silver', 'Bronze']\n",
    "printDoubleLine('Decision Tree')\n",
    "decision_tree = DecisionTreeClassifier(random_state=RANDOM_STATE) \n",
    "print('estimator type :', decision_tree._estimator_type)\n",
    "decision_tree.fit(X_train, y_train)\n",
    "y_pred = decision_tree.predict(X_test)\n",
    "accuracy = accuracy_score(y_test, y_pred)\n",
    "print('Accuracy :', accuracy)\n",
    "print(classification_report(y_test, y_pred))\n",
    "plot = plot_confusion_matrix(decision_tree, # 분류 모델\n",
    "                             X_test, y_test, # 예측 데이터와 예측값의 정답(y_true)\n",
    "                             display_labels=label_names, # 표에 표시할 labels\n",
    "                             cmap=plt.cm.Blues, # 컬러맵(plt.cm.Reds, plt.cm.rainbow 등이 있음)\n",
    "                             normalize='true') # 'true', 'pred', 'all' 중에서 지정 가능. default=None\n",
    "f1score = f1_score(y_test, y_pred, average='weighted')\n",
    "plot.ax_.set_title('Decion Tree (F1 Score : ' + str(round(f1score, 3)) + ')')"
   ]
  },
  {
   "cell_type": "code",
   "execution_count": 613,
   "id": "65b610ff",
   "metadata": {},
   "outputs": [
    {
     "name": "stdout",
     "output_type": "stream",
     "text": [
      "--------------------------------------------------------\n",
      "[ Random Forest ]\n",
      "estimator type : classifier\n",
      "Accuracy : 0.908793946664206\n",
      "              precision    recall  f1-score   support\n",
      "\n",
      "           0       0.94      0.97      0.95     46359\n",
      "           1       0.66      0.63      0.64      2562\n",
      "           2       0.67      0.56      0.61      2595\n",
      "           3       0.66      0.53      0.59      2669\n",
      "\n",
      "    accuracy                           0.91     54185\n",
      "   macro avg       0.73      0.67      0.70     54185\n",
      "weighted avg       0.90      0.91      0.91     54185\n",
      "\n"
     ]
    },
    {
     "data": {
      "text/plain": [
       "Text(0.5, 1.0, 'Random Forest (F1 Score : 0.905)')"
      ]
     },
     "execution_count": 613,
     "metadata": {},
     "output_type": "execute_result"
    },
    {
     "data": {
      "image/png": "[encoded data removed]",
      "text/plain": [
       "<Figure size 640x480 with 2 Axes>"
      ]
     },
     "metadata": {},
     "output_type": "display_data"
    }
   ],
   "source": [
    "# Random Forest Classifier\n",
    "\n",
    "label_names=['No Medal', 'Gold', 'Silver', 'Bronze']\n",
    "printLine('Random Forest')\n",
    "random_forest = RandomForestClassifier(random_state=RANDOM_STATE)\n",
    "print('estimator type :', random_forest._estimator_type)\n",
    "random_forest.fit(X_train, y_train)\n",
    "y_pred = random_forest.predict(X_test)\n",
    "accuracy = accuracy_score(y_test, y_pred)\n",
    "print('Accuracy :', accuracy)\n",
    "print(classification_report(y_test, y_pred)) \n",
    "plot = plot_confusion_matrix(random_forest, # 분류 모델\n",
    "                             X_test, y_test, # 예측 데이터와 예측값의 정답(y_true)\n",
    "                             display_labels=label_names, # 표에 표시할 labels\n",
    "                             cmap=plt.cm.Blues, # 컬러맵(plt.cm.Reds, plt.cm.rainbow 등이 있음)\n",
    "                             normalize='true') # 'true', 'pred', 'all' 중에서 지정 가능. default=None\n",
    "f1score = f1_score(y_test, y_pred, average='weighted')\n",
    "plot.ax_.set_title('Random Forest (F1 Score : ' + str(round(f1score, 3)) + ')')"
   ]
  },
  {
   "cell_type": "markdown",
   "id": "986ebde2",
   "metadata": {},
   "source": [
    "# 7. 남녀 구분 모델  훈련 : "
   ]
  },
  {
   "cell_type": "markdown",
   "id": "2ab2f786",
   "metadata": {},
   "source": [
    "### 7-1 남성 선수 데이타 훈련 및 예측"
   ]
  },
  {
   "cell_type": "code",
   "execution_count": 72,
   "id": "63b2576f",
   "metadata": {},
   "outputs": [],
   "source": [
    "TEST_SIZE = 0.2\n",
    "RANDOM_STATE = 42\n",
    "\n",
    "X_train, X_test, y_train, y_test = train_test_split(merged_male,\n",
    "                                                    labels_male, \n",
    "                                                    test_size=TEST_SIZE, \n",
    "                                                    random_state=RANDOM_STATE) "
   ]
  },
  {
   "cell_type": "code",
   "execution_count": 73,
   "id": "eb7ece2d",
   "metadata": {},
   "outputs": [],
   "source": [
    "# id 칼럼은 별도 저장 \n",
    "train_ids = X_train['ID']\n",
    "test_ids = X_test['ID']\n",
    "\n",
    "# 저장되었으므로 id는 데이타에서 삭제\n",
    "X_train.drop(['ID'], axis=1, inplace=True)\n",
    "X_test.drop(['ID'], axis=1, inplace=True)"
   ]
  },
  {
   "cell_type": "code",
   "execution_count": 74,
   "id": "c74fb289",
   "metadata": {},
   "outputs": [
    {
     "name": "stdout",
     "output_type": "stream",
     "text": [
      "========================================================\n",
      "[ Decision Tree ]\n",
      "estimator type : classifier\n",
      "Accuracy : 0.8909424163739117\n",
      "              precision    recall  f1-score   support\n",
      "\n",
      "           0       0.94      0.95      0.95     33597\n",
      "           1       0.62      0.61      0.61      1938\n",
      "           2       0.56      0.54      0.55      1909\n",
      "           3       0.52      0.53      0.53      1838\n",
      "\n",
      "    accuracy                           0.89     39282\n",
      "   macro avg       0.66      0.66      0.66     39282\n",
      "weighted avg       0.89      0.89      0.89     39282\n",
      "\n"
     ]
    },
    {
     "data": {
      "text/plain": [
       "Text(0.5, 1.0, 'Decion Tree (F1 Score : 0.891)')"
      ]
     },
     "execution_count": 74,
     "metadata": {},
     "output_type": "execute_result"
    },
    {
     "data": {
      "image/png": "[encoded data removed]",
      "text/plain": [
       "<Figure size 640x480 with 2 Axes>"
      ]
     },
     "metadata": {},
     "output_type": "display_data"
    }
   ],
   "source": [
    "label_names=['No Medal', 'Gold', 'Silver', 'Bronze']\n",
    "printDoubleLine('Decision Tree')\n",
    "decision_tree = DecisionTreeClassifier(random_state=RANDOM_STATE) \n",
    "print('estimator type :', decision_tree._estimator_type)\n",
    "decision_tree.fit(X_train, y_train)\n",
    "y_pred = decision_tree.predict(X_test)\n",
    "accuracy = accuracy_score(y_test, y_pred)\n",
    "print('Accuracy :', accuracy)\n",
    "print(classification_report(y_test, y_pred))\n",
    "plot = plot_confusion_matrix(decision_tree, # 분류 모델\n",
    "                             X_test, y_test, # 예측 데이터와 예측값의 정답(y_true)\n",
    "                             display_labels=label_names, # 표에 표시할 labels\n",
    "                             cmap=plt.cm.Blues, # 컬러맵(plt.cm.Reds, plt.cm.rainbow 등이 있음)\n",
    "                             normalize='true') # 'true', 'pred', 'all' 중에서 지정 가능. default=None\n",
    "f1score = f1_score(y_test, y_pred, average='weighted')\n",
    "plot.ax_.set_title('Decion Tree (F1 Score : ' + str(round(f1score, 3)) + ')')"
   ]
  },
  {
   "cell_type": "markdown",
   "id": "0f54ab7f",
   "metadata": {},
   "source": [
    "### 7-2 여성 선수 데이타 훈련 및 예측"
   ]
  },
  {
   "cell_type": "code",
   "execution_count": 75,
   "id": "cba148a7",
   "metadata": {},
   "outputs": [],
   "source": [
    "TEST_SIZE = 0.2\n",
    "RANDOM_STATE = 42\n",
    "\n",
    "X_train, X_test, y_train, y_test = train_test_split(merged_female,\n",
    "                                                    labels_female, \n",
    "                                                    test_size=TEST_SIZE, \n",
    "                                                    random_state=RANDOM_STATE) "
   ]
  },
  {
   "cell_type": "code",
   "execution_count": 76,
   "id": "0ab9641a",
   "metadata": {},
   "outputs": [],
   "source": [
    "# id 칼럼은 별도 저장 \n",
    "train_ids = X_train['ID']\n",
    "test_ids = X_test['ID']\n",
    "\n",
    "# 저장되었으므로 id는 데이타에서 삭제\n",
    "X_train.drop(['ID'], axis=1, inplace=True)\n",
    "X_test.drop(['ID'], axis=1, inplace=True)"
   ]
  },
  {
   "cell_type": "code",
   "execution_count": 77,
   "id": "9cb21bd7",
   "metadata": {},
   "outputs": [
    {
     "name": "stdout",
     "output_type": "stream",
     "text": [
      "========================================================\n",
      "[ Decision Tree ]\n",
      "estimator type : classifier\n",
      "Accuracy : 0.8770717305240555\n",
      "              precision    recall  f1-score   support\n",
      "\n",
      "           0       0.94      0.94      0.94     12675\n",
      "           1       0.60      0.62      0.61       738\n",
      "           2       0.52      0.49      0.51       759\n",
      "           3       0.48      0.51      0.50       731\n",
      "\n",
      "    accuracy                           0.88     14903\n",
      "   macro avg       0.64      0.64      0.64     14903\n",
      "weighted avg       0.88      0.88      0.88     14903\n",
      "\n"
     ]
    },
    {
     "data": {
      "text/plain": [
       "Text(0.5, 1.0, 'Decion Tree (F1 Score : 0.877)')"
      ]
     },
     "execution_count": 77,
     "metadata": {},
     "output_type": "execute_result"
    },
    {
     "data": {
      "image/png": "[encoded data removed]",
      "text/plain": [
       "<Figure size 640x480 with 2 Axes>"
      ]
     },
     "metadata": {},
     "output_type": "display_data"
    }
   ],
   "source": [
    "label_names=['No Medal', 'Gold', 'Silver', 'Bronze']\n",
    "printDoubleLine('Decision Tree')\n",
    "decision_tree = DecisionTreeClassifier(random_state=RANDOM_STATE) \n",
    "print('estimator type :', decision_tree._estimator_type)\n",
    "decision_tree.fit(X_train, y_train)\n",
    "y_pred = decision_tree.predict(X_test)\n",
    "accuracy = accuracy_score(y_test, y_pred)\n",
    "print('Accuracy :', accuracy)\n",
    "print(classification_report(y_test, y_pred))\n",
    "plot = plot_confusion_matrix(decision_tree, # 분류 모델\n",
    "                             X_test, y_test, # 예측 데이터와 예측값의 정답(y_true)\n",
    "                             display_labels=label_names, # 표에 표시할 labels\n",
    "                             cmap=plt.cm.Blues, # 컬러맵(plt.cm.Reds, plt.cm.rainbow 등이 있음)\n",
    "                             normalize='true') # 'true', 'pred', 'all' 중에서 지정 가능. default=None\n",
    "f1score = f1_score(y_test, y_pred, average='weighted')\n",
    "plot.ax_.set_title('Decion Tree (F1 Score : ' + str(round(f1score, 3)) + ')')"
   ]
  },
  {
   "cell_type": "markdown",
   "id": "161f50a8",
   "metadata": {},
   "source": [
    "### 참고자료"
   ]
  },
  {
   "cell_type": "markdown",
   "id": "c2cae544",
   "metadata": {},
   "source": [
    "1. \n",
    "2. \n",
    "3. \n",
    "4. \n",
    "5. "
   ]
  },
  {
   "cell_type": "markdown",
   "id": "cbca44e2",
   "metadata": {},
   "source": [
    "# 감사합니다."
   ]
  },
  {
   "cell_type": "code",
   "execution_count": null,
   "id": "fb22968f",
   "metadata": {},
   "outputs": [],
   "source": []
  }
 ],
 "metadata": {
  "kernelspec": {
   "display_name": "Python 3 (ipykernel)",
   "language": "python",
   "name": "python3"
  },
  "language_info": {
   "codemirror_mode": {
    "name": "ipython",
    "version": 3
   },
   "file_extension": ".py",
   "mimetype": "text/x-python",
   "name": "python",
   "nbconvert_exporter": "python",
   "pygments_lexer": "ipython3",
   "version": "3.9.13"
  }
 },
 "nbformat": 4,
 "nbformat_minor": 5
}
