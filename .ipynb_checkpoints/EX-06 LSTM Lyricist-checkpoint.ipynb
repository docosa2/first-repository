{
 "cells": [
  {
   "cell_type": "markdown",
   "id": "41e080af",
   "metadata": {},
   "source": [
    "# EX-06 LSTM Sentence Generator\n",
    "\n",
    "### 2022-11-25 (금)\n",
    "\n",
    "### 곽상혁"
   ]
  },
  {
   "cell_type": "markdown",
   "id": "72578975",
   "metadata": {},
   "source": [
    "## 라이브러리 버전 확인"
   ]
  },
  {
   "cell_type": "code",
   "execution_count": 75,
   "id": "2ec109f4",
   "metadata": {},
   "outputs": [
    {
     "name": "stdout",
     "output_type": "stream",
     "text": [
      "2.10.0\n"
     ]
    }
   ],
   "source": [
    "import os, re \n",
    "import numpy as np\n",
    "import tensorflow as tf\n",
    "\n",
    "import glob  #glob 모듈의 glob 함수는 사용자가 제시한 조건에 맞는 파일명을 리스트 형식으로 반환한다\n",
    "from sklearn.model_selection import train_test_split\n",
    "\n",
    "print(tf.__version__)"
   ]
  },
  {
   "cell_type": "markdown",
   "id": "48641c1e",
   "metadata": {},
   "source": [
    "## 데이타 다운로드"
   ]
  },
  {
   "cell_type": "markdown",
   "id": "556c75f0",
   "metadata": {},
   "source": [
    " "
   ]
  },
  {
   "cell_type": "markdown",
   "id": "3598cb24",
   "metadata": {},
   "source": [
    "## 데이타 읽어오기"
   ]
  },
  {
   "cell_type": "code",
   "execution_count": 76,
   "id": "6a044537",
   "metadata": {
    "scrolled": true
   },
   "outputs": [
    {
     "name": "stdout",
     "output_type": "stream",
     "text": [
      "데이터 크기: 187088\n",
      "Examples:\n",
      " ['', '', 'All of this and more is for you']\n"
     ]
    }
   ],
   "source": [
    "import glob\n",
    "import os\n",
    "\n",
    "txt_file_path = os.getenv('HOME')+'/aiffel/lyricist/data/lyrics/*' #os.getenv(x)함수는 환경 변수x의 값을 포함하는 문자열 변수를 반환합니다. txt_file_path 에 \"/root/aiffel/lyricist/data/lyrics/*\" 저장\n",
    "\n",
    "txt_list = glob.glob(txt_file_path) #txt_file_path 경로에 있는 모든 파일명을 리스트 형식으로 txt_list 에 할당\n",
    "\n",
    "raw_corpus = [] \n",
    "\n",
    "# 여러개의 txt 파일을 모두 읽어서 raw_corpus 에 담습니다.\n",
    "for txt_file in txt_list:\n",
    "    with open(txt_file, \"r\") as f:\n",
    "        raw = f.read().splitlines() #read() : 파일 전체의 내용을 하나의 문자열로 읽어온다. , splitlines()  : 여러라인으로 구분되어 있는 문자열을 한라인씩 분리하여 리스트로 반환\n",
    "        raw_corpus.extend(raw) # extend() : 리스트함수로 추가적인 내용을 연장 한다.\n",
    "\n",
    "print(\"데이터 크기:\", len(raw_corpus))\n",
    "print(\"Examples:\\n\", raw_corpus[:3])"
   ]
  },
  {
   "cell_type": "markdown",
   "id": "120a8f53",
   "metadata": {},
   "source": [
    "## Step 3. 데이터 정제"
   ]
  },
  {
   "cell_type": "markdown",
   "id": "2b1fb049",
   "metadata": {},
   "source": [
    "### 원본 문자열 데이타 출력"
   ]
  },
  {
   "cell_type": "code",
   "execution_count": 77,
   "id": "5cc140c3",
   "metadata": {},
   "outputs": [
    {
     "name": "stdout",
     "output_type": "stream",
     "text": [
      "['', '', 'All of this and more is for you', 'With love, sincerity and deepest care', 'My life with you I share', '', '', 'Ever since I met you, baby', \"I've been wantin' to lay you down\"]\n"
     ]
    }
   ],
   "source": [
    "print(raw_corpus[:9])"
   ]
  },
  {
   "cell_type": "markdown",
   "id": "47f287f0",
   "metadata": {},
   "source": [
    "### 저장된 문장과 그 인덱스 반환"
   ]
  },
  {
   "cell_type": "code",
   "execution_count": 78,
   "id": "eea308e2",
   "metadata": {},
   "outputs": [
    {
     "name": "stdout",
     "output_type": "stream",
     "text": [
      "All of this and more is for you\n",
      "With love, sincerity and deepest care\n",
      "My life with you I share\n",
      "Ever since I met you, baby\n",
      "I've been wantin' to lay you down\n",
      "But it's so hard to get you\n"
     ]
    }
   ],
   "source": [
    "# enumerate() 함수를 이용하여 raw_corpus list 내에 저장된 문장과 그 문장의 인덱스를 반환 (인덱스, 문장 순)\n",
    "for idx, sentence in enumerate(raw_corpus):\n",
    "    if len(sentence) == 0: continue   # 길이가 0인 문장은 건너뜁니다.\n",
    "    if sentence[-1] == \":\": continue  # 문장의 끝이 : 인 문장은 건너뜁니다.\n",
    "\n",
    "    if idx > 9: break   # 일단 문장 10개만 확인해 볼 겁니다.\n",
    "        \n",
    "    print(sentence)"
   ]
  },
  {
   "cell_type": "markdown",
   "id": "ea82b59a",
   "metadata": {},
   "source": [
    "### 전처리를 위해 정규표현식(Regex)을 이용한 필터링"
   ]
  },
  {
   "cell_type": "code",
   "execution_count": 79,
   "id": "d4258b39",
   "metadata": {},
   "outputs": [
    {
     "name": "stdout",
     "output_type": "stream",
     "text": [
      "<start> this is sample sentence . <end>\n"
     ]
    }
   ],
   "source": [
    "# 입력된 문장을\n",
    "#     1. 소문자로 바꾸고, 양쪽 공백을 지웁니다\n",
    "#     2. 특수문자 양쪽에 공백을 넣고\n",
    "#     3. 여러개의 공백은 하나의 공백으로 바꿉니다\n",
    "#     4. a-zA-Z?.!,¿가 아닌 모든 문자를 하나의 공백으로 바꿉니다\n",
    "#     5. 다시 양쪽 공백을 지웁니다\n",
    "#     6. 문장 시작에는 <start>, 끝에는 <end>를 추가합니다\n",
    "# 이 순서로 처리해주면 문제가 되는 상황을 방지할 수 있겠네요!\n",
    "def preprocess_sentence(sentence):\n",
    "    sentence = sentence.lower().strip() # 1\n",
    "    sentence = re.sub(r\"([?.!,¿])\", r\" \\1 \", sentence) # 2\n",
    "    sentence = re.sub(r'[\" \"]+', \" \", sentence) # 3\n",
    "    sentence = re.sub(r\"[^a-zA-Z?.!,¿]+\", \" \", sentence) # 4\n",
    "    sentence = sentence.strip() # 5\n",
    "    sentence = '<start> ' + sentence + ' <end>' # 6\n",
    "    return sentence\n",
    "\n",
    "# 이 문장이 어떻게 필터링되는지 확인해 보세요.\n",
    "print(preprocess_sentence(\"This @_is ;;;sample        sentence.\"))"
   ]
  },
  {
   "cell_type": "markdown",
   "id": "ed0e6ce5",
   "metadata": {},
   "source": [
    "### 정제 함수를 활용해서 정제 데이터를 구축\n",
    "\n",
    "문장을 토큰화 했을 때 토큰의 개수가 15개를 넘어가는 문장을 학습 데이터에서 제외함"
   ]
  },
  {
   "cell_type": "code",
   "execution_count": 80,
   "id": "dd0ba332",
   "metadata": {
    "scrolled": true
   },
   "outputs": [
    {
     "data": {
      "text/plain": [
       "['<start> all of this and more is for you <end>',\n",
       " '<start> with love , sincerity and deepest care <end>',\n",
       " '<start> my life with you i share <end>',\n",
       " '<start> ever since i met you , baby <end>',\n",
       " '<start> i ve been wantin to lay you down <end>',\n",
       " '<start> but it s so hard to get you <end>',\n",
       " '<start> baby , when you never come around <end>',\n",
       " '<start> every day that you keep it away <end>',\n",
       " '<start> it only makes me want it more <end>',\n",
       " '<start> ooh baby , just say the word <end>']"
      ]
     },
     "execution_count": 80,
     "metadata": {},
     "output_type": "execute_result"
    }
   ],
   "source": [
    "# 여기에 정제된 문장을 모을겁니다\n",
    "corpus = []\n",
    "\n",
    "# raw_corpus list에 저장된 문장들을 순서대로 반환하여 sentence에 저장\n",
    "for sentence in raw_corpus:\n",
    "    # 우리가 원하지 않는 문장은 건너뜁니다\n",
    "    if len(sentence) == 0: \n",
    "        continue        \n",
    "    if sentence[-1] == \":\": \n",
    "        continue\n",
    "    # 앞서 구현한 preprocess_sentence() 함수를 이용하여 문장을 정제를 하고 담아주세요\n",
    "    preprocessed_sentence = preprocess_sentence(sentence)\n",
    "    \n",
    "    if len(preprocessed_sentence.split(' ')) > (15+2): # 15 tokens + <start> + <end>\n",
    "        continue    \n",
    "    \n",
    "    corpus.append(preprocessed_sentence)\n",
    "        \n",
    "# 정제된 결과를 10개만 확인해보죠\n",
    "corpus[:10]"
   ]
  },
  {
   "cell_type": "markdown",
   "id": "b75c6aa0",
   "metadata": {},
   "source": [
    "### 토큰화"
   ]
  },
  {
   "cell_type": "code",
   "execution_count": 81,
   "id": "8047f5ac",
   "metadata": {},
   "outputs": [
    {
     "name": "stdout",
     "output_type": "stream",
     "text": [
      "[[  2  25  19 ...   0   0   0]\n",
      " [  2  30  36 ...   0   0   0]\n",
      " [  2  13 108 ...   0   0   0]\n",
      " ...\n",
      " [  2  45  45 ...   0   0   0]\n",
      " [  2   4  23 ...   0   0   0]\n",
      " [  2  45  45 ...   0   0   0]] <keras.preprocessing.text.Tokenizer object at 0x2ca9d7fd0>\n"
     ]
    }
   ],
   "source": [
    "# 토큰화 할 때 텐서플로우의 Tokenizer와 pad_sequences를 사용합니다\n",
    "# 더 잘 알기 위해 아래 문서들을 참고하면 좋습니다\n",
    "# https://www.tensorflow.org/api_docs/python/tf/keras/preprocessing/text/Tokenizer\n",
    "# https://www.tensorflow.org/api_docs/python/tf/keras/preprocessing/sequence/pad_sequences\n",
    "def tokenize(corpus):\n",
    "    # 12000단어를 기억할 수 있는 tokenizer를 만들겁니다\n",
    "    # 우리는 이미 문장을 정제했으니 filters가 필요없어요\n",
    "    # 12000단어에 포함되지 못한 단어는 '<unk>'로 바꿀거에요\n",
    "    tokenizer = tf.keras.preprocessing.text.Tokenizer(\n",
    "        num_words=12000, \n",
    "        filters=' ',\n",
    "        oov_token=\"<unk>\"\n",
    "    )\n",
    "    # corpus를 이용해 tokenizer 내부의 단어장을 완성합니다\n",
    "    # tokenizer.fit_on_texts(texts): 문자 데이터를 입력받아 리스트의 형태로 변환하는 메서드\n",
    "    tokenizer.fit_on_texts(corpus)\n",
    "    # 준비한 tokenizer를 이용해 corpus를 Tensor로 변환합니다\n",
    "    # tokenizer.texts_to_sequences(texts): 텍스트 안의 단어들을 숫자의 시퀀스 형태로 변환하는 메서드\n",
    "    tensor = tokenizer.texts_to_sequences(corpus)   \n",
    "    # 입력 데이터의 시퀀스 길이를 일정하게 맞춰줍니다\n",
    "    # 만약 시퀀스가 짧다면 문장 뒤에 패딩을 붙여 길이를 맞춰줍니다.\n",
    "    # 문장 앞에 패딩을 붙여 길이를 맞추고 싶다면 padding='pre'를 사용합니다\n",
    "    tensor = tf.keras.preprocessing.sequence.pad_sequences(tensor, padding='post')  \n",
    "    \n",
    "    print(tensor,tokenizer)\n",
    "    return tensor, tokenizer\n",
    "\n",
    "tensor, tokenizer = tokenize(corpus)"
   ]
  },
  {
   "cell_type": "code",
   "execution_count": 82,
   "id": "6980cda5",
   "metadata": {},
   "outputs": [
    {
     "data": {
      "text/plain": [
       "(163488, 17)"
      ]
     },
     "execution_count": 82,
     "metadata": {},
     "output_type": "execute_result"
    }
   ],
   "source": [
    "tensor.shape"
   ]
  },
  {
   "cell_type": "code",
   "execution_count": 83,
   "id": "66084f0c",
   "metadata": {},
   "outputs": [
    {
     "data": {
      "text/plain": [
       "array([[  2,  25,  19, ...,   0,   0,   0],\n",
       "       [  2,  30,  36, ...,   0,   0,   0],\n",
       "       [  2,  13, 108, ...,   0,   0,   0],\n",
       "       ...,\n",
       "       [  2,   4,  23, ...,   0,   0,   0],\n",
       "       [  2,   8, 158, ...,   0,   0,   0],\n",
       "       [  2,   4,  23, ...,   0,   0,   0]], dtype=int32)"
      ]
     },
     "execution_count": 83,
     "metadata": {},
     "output_type": "execute_result"
    }
   ],
   "source": [
    "tensor[:100, :]"
   ]
  },
  {
   "cell_type": "markdown",
   "id": "1267e135",
   "metadata": {},
   "source": [
    "#### 생성된 텐서 데이터를 3번째 행, 10번째 열까지만 출력"
   ]
  },
  {
   "cell_type": "code",
   "execution_count": 84,
   "id": "eac1f2e9",
   "metadata": {},
   "outputs": [
    {
     "name": "stdout",
     "output_type": "stream",
     "text": [
      "(163488, 17)\n",
      "[[    2    25    19    42     8    98    26    28     7     3     0     0\n",
      "      0     0     0     0     0]\n",
      " [    2    30    36     5 10671     8  4453   288     3     0     0     0\n",
      "      0     0     0     0     0]\n",
      " [    2    13   108    30     7     4  1004     3     0     0     0     0\n",
      "      0     0     0     0     0]]\n"
     ]
    }
   ],
   "source": [
    "print(tensor.shape)\n",
    "print(tensor[:3, :])"
   ]
  },
  {
   "cell_type": "markdown",
   "id": "829ef6a7",
   "metadata": {},
   "source": [
    "#### 구축된 단어 사전 확인"
   ]
  },
  {
   "cell_type": "code",
   "execution_count": 85,
   "id": "7863e56c",
   "metadata": {},
   "outputs": [
    {
     "name": "stdout",
     "output_type": "stream",
     "text": [
      "1 : <unk>\n",
      "2 : <start>\n",
      "3 : <end>\n",
      "4 : i\n",
      "5 : ,\n",
      "6 : the\n",
      "7 : you\n",
      "8 : and\n",
      "9 : a\n",
      "10 : to\n"
     ]
    }
   ],
   "source": [
    "# tokenizer.index_word: 현재 계산된 단어의 인덱스와 인덱스에 해당하는 단어를 dictionary 형대로 반환 (Ex. {index: '~~', index: '~~', ...})\n",
    "for idx in tokenizer.index_word:\n",
    "    print(idx, \":\", tokenizer.index_word[idx])\n",
    "\n",
    "    if idx >= 10: break"
   ]
  },
  {
   "cell_type": "markdown",
   "id": "4b215513",
   "metadata": {},
   "source": [
    "#### 생성된 텐서를 소스와 타겟으로 분리"
   ]
  },
  {
   "cell_type": "code",
   "execution_count": 86,
   "id": "50a7791d",
   "metadata": {},
   "outputs": [
    {
     "name": "stdout",
     "output_type": "stream",
     "text": [
      "[ 2 25 19 42  8 98 26 28  7  3  0  0  0  0  0  0]\n",
      "[25 19 42  8 98 26 28  7  3  0  0  0  0  0  0  0]\n"
     ]
    }
   ],
   "source": [
    "# tensor에서 마지막 토큰을 잘라내서 소스 문장을 생성합니다\n",
    "# 마지막 토큰은 <end>가 아니라 <pad>일 가능성이 높습니다.\n",
    "src_input = tensor[:, :-1]  \n",
    "# tensor에서 <start>를 잘라내서 타겟 문장을 생성합니다.\n",
    "tgt_input = tensor[:, 1:]    \n",
    "\n",
    "print(src_input[0])\n",
    "print(tgt_input[0])"
   ]
  },
  {
   "cell_type": "markdown",
   "id": "a5cfb4c0",
   "metadata": {},
   "source": [
    "#### 데이타셋 객체 생성"
   ]
  },
  {
   "cell_type": "code",
   "execution_count": 87,
   "id": "8ab2b729",
   "metadata": {},
   "outputs": [
    {
     "name": "stdout",
     "output_type": "stream",
     "text": [
      "163488\n",
      "638\n",
      "12001\n",
      "638\n"
     ]
    },
    {
     "data": {
      "text/plain": [
       "<BatchDataset element_spec=(TensorSpec(shape=(256, 16), dtype=tf.int32, name=None), TensorSpec(shape=(256, 16), dtype=tf.int32, name=None))>"
      ]
     },
     "execution_count": 87,
     "metadata": {},
     "output_type": "execute_result"
    }
   ],
   "source": [
    "BUFFER_SIZE = len(src_input)\n",
    "print(BUFFER_SIZE)\n",
    "\n",
    "BATCH_SIZE = 256\n",
    "steps_per_epoch = len(src_input) // BATCH_SIZE \n",
    "print(steps_per_epoch) # 93\n",
    "\n",
    " # tokenizer가 구축한 단어사전 내 7000개와, 여기 포함되지 않은 0:<pad>를 포함하여 7001개\n",
    " # tokenizer.num_words: 주어진 데이터의 문장들에서 빈도수가 높은 n개의 단어만 선택\n",
    " # tokenize() 함수에서 num_words를 7000개로 선언했기 때문에, tokenizer.num_words의 값은 7000\n",
    "VOCAB_SIZE = tokenizer.num_words + 1   \n",
    "print(VOCAB_SIZE) # 7001\n",
    "\n",
    "# 준비한 데이터 소스로부터 데이터셋을 만듭니다\n",
    "# 데이터셋에 대해서는 아래 문서를 참고하세요\n",
    "# 자세히 알아둘수록 도움이 많이 되는 중요한 문서입니다\n",
    "# https://www.tensorflow.org/api_docs/python/tf/data/Dataset\n",
    "dataset = tf.data.Dataset.from_tensor_slices((src_input, tgt_input))\n",
    "dataset = dataset.shuffle(BUFFER_SIZE) # 24015\n",
    "dataset = dataset.batch(BATCH_SIZE, drop_remainder=True) # 256\n",
    "print(len(dataset))\n",
    "dataset"
   ]
  },
  {
   "cell_type": "markdown",
   "id": "adb12a4b",
   "metadata": {},
   "source": [
    "## Step 4. 평가 데이터셋 분리"
   ]
  },
  {
   "cell_type": "markdown",
   "id": "7e216a0e",
   "metadata": {},
   "source": [
    "훈련 데이터와 평가 데이터를 분리하세요!\n",
    "\n",
    "tokenize() 함수로 데이터를 Tensor로 변환한 후, sklearn 모듈의 train_test_split() 함수를 사용해 훈련 데이터와 평가 데이터를 분리하도록 하겠습니다. 단어장의 크기는 12,000 이상 으로 설정하세요! 총 데이터의 20% 를 평가 데이터셋으로 사용해 주세요!"
   ]
  },
  {
   "cell_type": "code",
   "execution_count": 88,
   "id": "95077749",
   "metadata": {},
   "outputs": [],
   "source": [
    "enc_train, enc_val, dec_train, dec_val = train_test_split(src_input, tgt_input, test_size=0.2, random_state=42)"
   ]
  },
  {
   "cell_type": "markdown",
   "id": "fd31493b",
   "metadata": {},
   "source": [
    "### 데이터셋 객체를 생성"
   ]
  },
  {
   "cell_type": "markdown",
   "id": "69181af7",
   "metadata": {},
   "source": [
    "#### 훈련용 데이타셋"
   ]
  },
  {
   "cell_type": "code",
   "execution_count": 89,
   "id": "7c83f167",
   "metadata": {},
   "outputs": [
    {
     "name": "stdout",
     "output_type": "stream",
     "text": [
      "130790\n",
      "510\n",
      "12001\n",
      "510\n"
     ]
    },
    {
     "data": {
      "text/plain": [
       "<BatchDataset element_spec=(TensorSpec(shape=(256, 16), dtype=tf.int32, name=None), TensorSpec(shape=(256, 16), dtype=tf.int32, name=None))>"
      ]
     },
     "execution_count": 89,
     "metadata": {},
     "output_type": "execute_result"
    }
   ],
   "source": [
    "BUFFER_SIZE = len(enc_train)\n",
    "print(BUFFER_SIZE)\n",
    "\n",
    "BATCH_SIZE = 256\n",
    "steps_per_epoch = len(enc_train) // BATCH_SIZE \n",
    "print(steps_per_epoch) # 510\n",
    "\n",
    " # tokenizer가 구축한 단어사전 내 12000개와, 여기 포함되지 않은 0:<pad>를 포함하여 12001개\n",
    " # tokenizer.num_words: 주어진 데이터의 문장들에서 빈도수가 높은 n개의 단어만 선택\n",
    " # tokenize() 함수에서 num_words를 12000개로 선언했기 때문에, tokenizer.num_words의 값은 12000\n",
    "VOCAB_SIZE = tokenizer.num_words + 1   \n",
    "print(VOCAB_SIZE) # 12001\n",
    "\n",
    "# 준비한 데이터 소스로부터 데이터셋을 만듭니다\n",
    "# 데이터셋에 대해서는 아래 문서를 참고하세요\n",
    "# 자세히 알아둘수록 도움이 많이 되는 중요한 문서입니다\n",
    "# https://www.tensorflow.org/api_docs/python/tf/data/Dataset\n",
    "train_dataset = tf.data.Dataset.from_tensor_slices((enc_train, dec_train))\n",
    "train_dataset = train_dataset.shuffle(BUFFER_SIZE) # 130790\n",
    "train_dataset = train_dataset.batch(BATCH_SIZE, drop_remainder=True) # 510\n",
    "print(len(train_dataset))\n",
    "train_dataset"
   ]
  },
  {
   "cell_type": "markdown",
   "id": "facc2bc9",
   "metadata": {},
   "source": [
    "#### 평가용 데이타셋"
   ]
  },
  {
   "cell_type": "code",
   "execution_count": 90,
   "id": "3429b5bf",
   "metadata": {},
   "outputs": [
    {
     "name": "stdout",
     "output_type": "stream",
     "text": [
      "32698\n",
      "127\n",
      "12001\n",
      "127\n"
     ]
    },
    {
     "data": {
      "text/plain": [
       "<BatchDataset element_spec=(TensorSpec(shape=(256, 16), dtype=tf.int32, name=None), TensorSpec(shape=(256, 16), dtype=tf.int32, name=None))>"
      ]
     },
     "execution_count": 90,
     "metadata": {},
     "output_type": "execute_result"
    }
   ],
   "source": [
    "BUFFER_SIZE = len(enc_val)\n",
    "print(BUFFER_SIZE)\n",
    "\n",
    "BATCH_SIZE = 256\n",
    "steps_per_epoch = len(enc_val) // BATCH_SIZE \n",
    "print(steps_per_epoch) # 93\n",
    "\n",
    " # tokenizer가 구축한 단어사전 내 7000개와, 여기 포함되지 않은 0:<pad>를 포함하여 7001개\n",
    " # tokenizer.num_words: 주어진 데이터의 문장들에서 빈도수가 높은 n개의 단어만 선택\n",
    " # tokenize() 함수에서 num_words를 7000개로 선언했기 때문에, tokenizer.num_words의 값은 7000\n",
    "VOCAB_SIZE = tokenizer.num_words + 1   \n",
    "print(VOCAB_SIZE) # 7001\n",
    "\n",
    "# 준비한 데이터 소스로부터 데이터셋을 만듭니다\n",
    "# 데이터셋에 대해서는 아래 문서를 참고하세요\n",
    "# 자세히 알아둘수록 도움이 많이 되는 중요한 문서입니다\n",
    "# https://www.tensorflow.org/api_docs/python/tf/data/Dataset\n",
    "val_dataset = tf.data.Dataset.from_tensor_slices((enc_val, dec_val))\n",
    "val_dataset = val_dataset.shuffle(BUFFER_SIZE) # 24015\n",
    "val_dataset = val_dataset.batch(BATCH_SIZE, drop_remainder=True) # 256\n",
    "print(len(val_dataset))\n",
    "val_dataset"
   ]
  },
  {
   "cell_type": "markdown",
   "id": "f4d32da9",
   "metadata": {},
   "source": [
    "## Step 5. 인공지능 만들기"
   ]
  },
  {
   "cell_type": "markdown",
   "id": "69d9a5ae",
   "metadata": {},
   "source": [
    "모델의 Embedding Size와 Hidden Size를 조절하며\n",
    " 10 Epoch 안에 val_loss 값을 2.2 수준으로 줄일 수 있는 모델을 설계하세요!\n",
    "\n",
    "잘 설계한 모델을 학습하려면, model.fit() 함수를 사용해야 합니다. model.fit() 함수에는 다양한 인자를 넣어주어야 하는데, 가장 기본적인 인자로는 데이터셋과 epochs가 있습니다. '5. 실습 (2) 인공지능 학습시키기'에서의 예시와 같이 말이죠."
   ]
  },
  {
   "cell_type": "markdown",
   "id": "b2ce6ffb",
   "metadata": {},
   "source": [
    "model.fit(dataset, epochs=30)"
   ]
  },
  {
   "cell_type": "markdown",
   "id": "b9533a1a",
   "metadata": {},
   "source": [
    "하지만 model.fit() 함수의 epochs를 아무리 크게 넣는다 해도 val_loss 값은 2.2 아래로 떨어지지 않습니다. 이럴 경우는 batch size를 변경하는 것과 같이 model.fit() 함수에 다양한 인자를 넣어주면 해결될 수도 있습니다. 자세한 내용은 https://www.tensorflow.org/api_docs/python/tf/keras/Model#fit 를 참고하세요!\n",
    "Loss는 아래 제시된 Loss 함수를 그대로 사용하세요!"
   ]
  },
  {
   "cell_type": "markdown",
   "id": "2830a5c3",
   "metadata": {},
   "source": [
    "### 모델 구현"
   ]
  },
  {
   "cell_type": "code",
   "execution_count": 91,
   "id": "f0a493d1",
   "metadata": {},
   "outputs": [],
   "source": [
    "class TextGenerator(tf.keras.Model):\n",
    "    def __init__(self, vocab_size, embedding_size, hidden_size):\n",
    "        super().__init__()\n",
    "        # Embedding 레이어, 2개의 LSTM 레이어, 1개의 Dense 레이어로 구성되어 있다.\n",
    "        # Embedding 레이어는 단어 사전의 인덱스 값을 해당 인덱스 번째의 워드 벡터로 바꿔준다.\n",
    "        # 이 워드 벡터는 의미 벡터 공간에서 단어의 추상적 표현으로 사용된다. \n",
    "        self.embedding = tf.keras.layers.Embedding(vocab_size, embedding_size) \n",
    "        self.rnn_1 = tf.keras.layers.LSTM(hidden_size, return_sequences=True)  \n",
    "        self.rnn_2 = tf.keras.layers.LSTM(hidden_size, return_sequences=True)\n",
    "        self.linear = tf.keras.layers.Dense(vocab_size)\n",
    "        \n",
    "    def call(self, x):\n",
    "        out = self.embedding(x)\n",
    "        out = self.rnn_1(out)\n",
    "        out = self.rnn_2(out)\n",
    "        out = self.linear(out)\n",
    "        \n",
    "        return out\n",
    "# embedding size 값이 커질수록 단어의 추상적인 특징들을 더 잡아낼 수 있지만\n",
    "# 그만큼 충분한 데이터가 없으면 안좋은 결과 값을 가져옵니다!   \n",
    "embedding_size = 256 # 워드 벡터의 차원수를 말하며 단어가 추상적으로 표현되는 크기입니다.\n",
    "hidden_size = 1024 # 모델에 얼마나 많은 일꾼을 둘 것인가? 정도로 이해하면 좋다.\n",
    "model = TextGenerator(tokenizer.num_words + 1, embedding_size , hidden_size) # tokenizer.num_words에 +1인 이유는 문장에 없는 pad가 사용되었기 때문이다."
   ]
  },
  {
   "cell_type": "markdown",
   "id": "3af41117",
   "metadata": {},
   "source": [
    "### 구현된 모델 파일럿 테스트"
   ]
  },
  {
   "cell_type": "code",
   "execution_count": 92,
   "id": "e4584f03",
   "metadata": {
    "scrolled": true
   },
   "outputs": [
    {
     "data": {
      "text/plain": [
       "<tf.Tensor: shape=(256, 16, 12001), dtype=float32, numpy=\n",
       "array([[[ 3.72247974e-04, -8.24392482e-05, -1.29033913e-04, ...,\n",
       "          1.94063159e-05,  2.83129746e-04, -8.97434511e-05],\n",
       "        [ 5.98472194e-04, -3.61918879e-04, -5.10500686e-04, ...,\n",
       "          1.60768410e-04,  2.08534562e-04,  9.92255900e-06],\n",
       "        [ 5.99764811e-04, -2.95465172e-04, -8.92497017e-04, ...,\n",
       "          4.15779388e-04,  2.41371643e-04, -1.15970746e-04],\n",
       "        ...,\n",
       "        [-3.42659565e-04, -1.89665952e-04,  5.85022150e-04, ...,\n",
       "          6.70673617e-04,  4.36315968e-05, -3.95031006e-04],\n",
       "        [-3.42919579e-04, -1.96935827e-04,  5.35989529e-04, ...,\n",
       "          8.22171627e-04,  1.42595061e-04, -3.12734162e-04],\n",
       "        [-3.32037336e-04, -1.53723391e-04,  4.52416163e-04, ...,\n",
       "          9.57812124e-04,  1.90452891e-04, -7.73753854e-04]],\n",
       "\n",
       "       [[ 3.72247974e-04, -8.24392482e-05, -1.29033913e-04, ...,\n",
       "          1.94063159e-05,  2.83129746e-04, -8.97434511e-05],\n",
       "        [ 5.44425566e-04,  9.96989547e-05, -2.55805498e-04, ...,\n",
       "         -1.29772947e-04,  3.99500423e-04, -1.45236088e-04],\n",
       "        [ 4.52370354e-04,  2.67086056e-04, -3.45007982e-04, ...,\n",
       "         -1.37454146e-04,  4.07480489e-04,  2.36363712e-06],\n",
       "        ...,\n",
       "        [ 4.12696070e-04,  6.65003026e-04, -1.14743935e-03, ...,\n",
       "          7.86951336e-04,  3.07238341e-04, -2.50415038e-03],\n",
       "        [ 4.65374731e-04,  4.68287035e-04, -1.13524904e-03, ...,\n",
       "          8.87175032e-04,  4.87918151e-04, -3.16535681e-03],\n",
       "        [ 4.85924858e-04,  2.38313558e-04, -1.14481803e-03, ...,\n",
       "          9.67651489e-04,  6.96408679e-04, -3.81102134e-03]],\n",
       "\n",
       "       [[ 3.72247974e-04, -8.24392482e-05, -1.29033913e-04, ...,\n",
       "          1.94063159e-05,  2.83129746e-04, -8.97434511e-05],\n",
       "        [ 6.91985944e-04, -1.53548928e-04, -2.20597038e-04, ...,\n",
       "          2.11049719e-05,  4.39058087e-04, -2.42925205e-04],\n",
       "        [ 8.97880527e-04, -1.06820749e-04, -3.38083977e-04, ...,\n",
       "          7.41939148e-05,  1.60532785e-04, -5.78808831e-04],\n",
       "        ...,\n",
       "        [-9.15013297e-05, -1.52702807e-04, -9.88128129e-04, ...,\n",
       "          4.78603120e-04,  7.95385451e-04, -4.04989067e-03],\n",
       "        [-1.04712097e-04, -3.31627118e-04, -1.04726234e-03, ...,\n",
       "          5.82303910e-04,  9.89639200e-04, -4.65693465e-03],\n",
       "        [-1.14082584e-04, -5.18765009e-04, -1.12558890e-03, ...,\n",
       "          6.73293660e-04,  1.17855915e-03, -5.21434890e-03]],\n",
       "\n",
       "       ...,\n",
       "\n",
       "       [[ 3.72247974e-04, -8.24392482e-05, -1.29033913e-04, ...,\n",
       "          1.94063159e-05,  2.83129746e-04, -8.97434511e-05],\n",
       "        [ 4.08563501e-04, -8.30978097e-05, -2.78186693e-04, ...,\n",
       "         -1.78469680e-04,  6.37864869e-04, -1.61289441e-04],\n",
       "        [ 2.54792511e-04,  2.44217208e-05, -1.19786477e-04, ...,\n",
       "         -5.06215438e-05,  5.57623513e-04, -2.86518945e-04],\n",
       "        ...,\n",
       "        [ 1.55419810e-04, -6.80074387e-04, -3.97473748e-04, ...,\n",
       "          1.09360099e-03,  6.55344396e-04, -4.77245823e-03],\n",
       "        [ 1.13879818e-04, -8.64612928e-04, -5.80344291e-04, ...,\n",
       "          1.13241374e-03,  9.14781587e-04, -5.35667734e-03],\n",
       "        [ 6.74508556e-05, -1.03492453e-03, -7.65141798e-04, ...,\n",
       "          1.15955551e-03,  1.15288061e-03, -5.87935559e-03]],\n",
       "\n",
       "       [[ 3.72247974e-04, -8.24392482e-05, -1.29033913e-04, ...,\n",
       "          1.94063159e-05,  2.83129746e-04, -8.97434511e-05],\n",
       "        [ 5.41213318e-04, -1.97857458e-04, -1.50614680e-04, ...,\n",
       "          2.83434965e-05,  2.98719882e-04, -2.50318233e-04],\n",
       "        [ 5.87720482e-04, -2.15884167e-04, -1.62380093e-04, ...,\n",
       "         -5.67974021e-05,  2.46171665e-04, -4.74703469e-04],\n",
       "        ...,\n",
       "        [-6.50666130e-04,  7.23485078e-04,  1.80411487e-04, ...,\n",
       "          6.55966986e-04,  1.52064764e-04, -3.24220909e-03],\n",
       "        [-5.51314501e-04,  5.77852072e-04,  7.19478412e-05, ...,\n",
       "          8.38509295e-04,  3.37704580e-04, -3.89106595e-03],\n",
       "        [-4.61469841e-04,  3.89289809e-04, -6.53425668e-05, ...,\n",
       "          9.82334954e-04,  5.49262739e-04, -4.50654281e-03]],\n",
       "\n",
       "       [[ 3.72247974e-04, -8.24392482e-05, -1.29033913e-04, ...,\n",
       "          1.94063159e-05,  2.83129746e-04, -8.97434511e-05],\n",
       "        [ 9.97676747e-04,  1.44763893e-04, -3.28968075e-04, ...,\n",
       "          8.35676619e-05,  2.29058845e-04,  4.94178312e-06],\n",
       "        [ 1.25658163e-03,  4.40387201e-04, -4.55346657e-04, ...,\n",
       "          4.59648902e-04,  9.40902028e-05,  9.33055635e-05],\n",
       "        ...,\n",
       "        [ 4.62317141e-04,  2.46254902e-04, -9.55272408e-04, ...,\n",
       "          1.10918621e-03,  6.39866805e-04, -5.00076683e-03],\n",
       "        [ 3.59454018e-04, -4.35920492e-06, -1.06300414e-03, ...,\n",
       "          1.12464535e-03,  8.83075933e-04, -5.58554474e-03],\n",
       "        [ 2.63211230e-04, -2.46499432e-04, -1.18412508e-03, ...,\n",
       "          1.13511214e-03,  1.10724207e-03, -6.10164413e-03]]],\n",
       "      dtype=float32)>"
      ]
     },
     "execution_count": 92,
     "metadata": {},
     "output_type": "execute_result"
    }
   ],
   "source": [
    "# 데이터셋에서 데이터 한 배치만 불러오는 방법입니다.\n",
    "# 지금은 동작 원리에 너무 빠져들지 마세요~\n",
    "for src_sample, tgt_sample in train_dataset.take(1): break\n",
    "\n",
    "# 한 배치만 불러온 데이터를 모델에 넣어봅니다\n",
    "model(src_sample)"
   ]
  },
  {
   "cell_type": "code",
   "execution_count": 93,
   "id": "9f8fa048",
   "metadata": {
    "scrolled": true
   },
   "outputs": [
    {
     "name": "stdout",
     "output_type": "stream",
     "text": [
      "Model: \"text_generator_2\"\n",
      "_________________________________________________________________\n",
      " Layer (type)                Output Shape              Param #   \n",
      "=================================================================\n",
      " embedding_2 (Embedding)     multiple                  3072256   \n",
      "                                                                 \n",
      " lstm_4 (LSTM)               multiple                  5246976   \n",
      "                                                                 \n",
      " lstm_5 (LSTM)               multiple                  8392704   \n",
      "                                                                 \n",
      " dense_2 (Dense)             multiple                  12301025  \n",
      "                                                                 \n",
      "=================================================================\n",
      "Total params: 29,012,961\n",
      "Trainable params: 29,012,961\n",
      "Non-trainable params: 0\n",
      "_________________________________________________________________\n"
     ]
    },
    {
     "data": {
      "text/plain": [
       "[PhysicalDevice(name='/physical_device:GPU:0', device_type='GPU')]"
      ]
     },
     "execution_count": 93,
     "metadata": {},
     "output_type": "execute_result"
    }
   ],
   "source": [
    "# 모델의 구조를 확인합니다.\n",
    "model.summary()\n",
    "# tf.test.is_gpu_available()\n",
    "tf.config.list_physical_devices('GPU')"
   ]
  },
  {
   "cell_type": "markdown",
   "id": "de204367",
   "metadata": {},
   "source": [
    "## 모델 학습"
   ]
  },
  {
   "cell_type": "markdown",
   "id": "e6f84ca2",
   "metadata": {},
   "source": [
    "### 옵티마이저"
   ]
  },
  {
   "cell_type": "code",
   "execution_count": 94,
   "id": "73ff6a6b",
   "metadata": {},
   "outputs": [],
   "source": [
    "optimizer = tf.keras.optimizers.Adam() # Adam은 현재 가장 많이 사용하는 옵티마이저."
   ]
  },
  {
   "cell_type": "markdown",
   "id": "acc51306",
   "metadata": {},
   "source": [
    "### 손실 함수"
   ]
  },
  {
   "cell_type": "code",
   "execution_count": 95,
   "id": "051b9856",
   "metadata": {},
   "outputs": [],
   "source": [
    "loss = tf.keras.losses.SparseCategoricalCrossentropy( # 훈련 데이터의 라벨이 정수의 형태로 제공될 때 사용하는 손실함수이다.\n",
    "    from_logits=True, # 기본값은 False이다. 모델에 의해 생성된 출력 값이 정규화되지 않았음을 손실 함수에 알려준다. 즉 softmax함수가 적용되지 않았다는걸 의미한다. \n",
    "    reduction='none'  # 기본값은 SUM이다. 각자 나오는 값의 반환 원할 때 None을 사용한다.\n",
    ")"
   ]
  },
  {
   "cell_type": "markdown",
   "id": "f4da175e",
   "metadata": {},
   "source": [
    "### 모델 학습"
   ]
  },
  {
   "cell_type": "code",
   "execution_count": 96,
   "id": "30515303",
   "metadata": {},
   "outputs": [
    {
     "name": "stdout",
     "output_type": "stream",
     "text": [
      "Epoch 1/10\n"
     ]
    },
    {
     "name": "stderr",
     "output_type": "stream",
     "text": [
      "2022-11-27 17:35:41.605861: I tensorflow/core/grappler/optimizers/custom_graph_optimizer_registry.cc:114] Plugin optimizer for device_type GPU is enabled.\n",
      "2022-11-27 17:35:41.790236: I tensorflow/core/grappler/optimizers/custom_graph_optimizer_registry.cc:114] Plugin optimizer for device_type GPU is enabled.\n",
      "2022-11-27 17:35:41.844517: I tensorflow/core/grappler/optimizers/custom_graph_optimizer_registry.cc:114] Plugin optimizer for device_type GPU is enabled.\n",
      "2022-11-27 17:35:41.931272: I tensorflow/core/grappler/optimizers/custom_graph_optimizer_registry.cc:114] Plugin optimizer for device_type GPU is enabled.\n"
     ]
    },
    {
     "name": "stdout",
     "output_type": "stream",
     "text": [
      "\r",
      "  1/638 [..............................] - ETA: 15:45 - loss: 9.3926"
     ]
    },
    {
     "name": "stderr",
     "output_type": "stream",
     "text": [
      "2022-11-27 17:35:42.210264: I tensorflow/core/grappler/optimizers/custom_graph_optimizer_registry.cc:114] Plugin optimizer for device_type GPU is enabled.\n"
     ]
    },
    {
     "name": "stdout",
     "output_type": "stream",
     "text": [
      "638/638 [==============================] - ETA: 0s - loss: 3.1178"
     ]
    },
    {
     "name": "stderr",
     "output_type": "stream",
     "text": [
      "2022-11-27 17:39:55.305832: I tensorflow/core/grappler/optimizers/custom_graph_optimizer_registry.cc:114] Plugin optimizer for device_type GPU is enabled.\n",
      "2022-11-27 17:39:55.376296: I tensorflow/core/grappler/optimizers/custom_graph_optimizer_registry.cc:114] Plugin optimizer for device_type GPU is enabled.\n",
      "2022-11-27 17:39:55.454431: I tensorflow/core/grappler/optimizers/custom_graph_optimizer_registry.cc:114] Plugin optimizer for device_type GPU is enabled.\n"
     ]
    },
    {
     "name": "stdout",
     "output_type": "stream",
     "text": [
      "638/638 [==============================] - 272s 425ms/step - loss: 3.1178 - val_loss: 2.7700\n",
      "Epoch 2/10\n",
      "638/638 [==============================] - 258s 404ms/step - loss: 2.6928 - val_loss: 2.5760\n",
      "Epoch 3/10\n",
      "638/638 [==============================] - 257s 403ms/step - loss: 2.5414 - val_loss: 2.4457\n",
      "Epoch 4/10\n",
      "638/638 [==============================] - 259s 406ms/step - loss: 2.4265 - val_loss: 2.3338\n",
      "Epoch 5/10\n",
      "638/638 [==============================] - 262s 410ms/step - loss: 2.3278 - val_loss: 2.2373\n",
      "Epoch 6/10\n",
      "638/638 [==============================] - 270s 424ms/step - loss: 2.2387 - val_loss: 2.1502\n",
      "Epoch 7/10\n",
      "638/638 [==============================] - 262s 410ms/step - loss: 2.1563 - val_loss: 2.0706\n",
      "Epoch 8/10\n",
      "638/638 [==============================] - 259s 405ms/step - loss: 2.0785 - val_loss: 1.9939\n",
      "Epoch 9/10\n",
      "638/638 [==============================] - 260s 408ms/step - loss: 2.0050 - val_loss: 1.9213\n",
      "Epoch 10/10\n",
      "638/638 [==============================] - 257s 403ms/step - loss: 1.9347 - val_loss: 1.8532\n"
     ]
    }
   ],
   "source": [
    "\n",
    "# 모델을 학습시키키 위한 학습과정을 설정하는 단계이다.\n",
    "model.compile(loss=loss, optimizer=optimizer) # 손실함수와 훈련과정을 설정했다.\n",
    "history = model.fit(dataset, validation_data=val_dataset, epochs=10) # 만들어둔 데이터셋으로 모델을 학습한다. 30번 학습을 반복하겠다는 의미다."
   ]
  },
  {
   "cell_type": "markdown",
   "id": "4d618916",
   "metadata": {},
   "source": [
    "### 모델 테스트"
   ]
  },
  {
   "cell_type": "code",
   "execution_count": 109,
   "id": "47e593b3",
   "metadata": {},
   "outputs": [
    {
     "name": "stdout",
     "output_type": "stream",
     "text": [
      "1022/1022 - 30s - loss: 1.8528 - 30s/epoch - 30ms/step\n"
     ]
    }
   ],
   "source": [
    "# model을 학습시키는 코드를 직접 작성해 보세요.\n",
    "# Hint! model.evaluate()을 사용해 봅시다.\n",
    "test_loss = model.evaluate(enc_val, dec_val, verbose=2)"
   ]
  },
  {
   "cell_type": "code",
   "execution_count": 110,
   "id": "7ceb4c6a",
   "metadata": {},
   "outputs": [
    {
     "name": "stdout",
     "output_type": "stream",
     "text": [
      "test_loss: 1.852821946144104 \n"
     ]
    }
   ],
   "source": [
    "print(f\"test_loss: {test_loss} \")"
   ]
  },
  {
   "cell_type": "markdown",
   "id": "8b0d1ef0",
   "metadata": {},
   "source": [
    "### 모델의 학습 상태 시각화"
   ]
  },
  {
   "cell_type": "code",
   "execution_count": 111,
   "id": "e6f07f3f",
   "metadata": {},
   "outputs": [],
   "source": [
    "import matplotlib.pyplot as plt\n",
    "\n",
    "def vis(history,name) :\n",
    "    plt.title(f\"{name.upper()}\")\n",
    "    plt.xlabel('epochs')\n",
    "    plt.ylabel(f\"{name.lower()}\")\n",
    "    value = history.history.get(name)\n",
    "    val_value = history.history.get(f\"val_{name}\",None)\n",
    "    epochs = range(1, len(value)+1)\n",
    "    plt.plot(epochs, value, 'b-', label=f'training {name}')\n",
    "    if val_value is not None :\n",
    "        plt.plot(epochs, val_value, 'r:', label=f'test {name}')\n",
    "    plt.legend(loc='upper center', bbox_to_anchor=(0.05, 1.2) , fontsize=10 , ncol=1)"
   ]
  },
  {
   "cell_type": "code",
   "execution_count": 112,
   "id": "992a2cfb",
   "metadata": {},
   "outputs": [],
   "source": [
    "def plot_history(history) :\n",
    "    key_value = list(set([i.split(\"val_\")[-1] for i in list(history.history.keys())]))\n",
    "    plt.figure(figsize=(12, 4))\n",
    "    for idx , key in enumerate(key_value) :\n",
    "        plt.subplot(1, len(key_value), idx+1)\n",
    "        vis(history, key)\n",
    "    plt.tight_layout()\n",
    "    plt.show()"
   ]
  },
  {
   "cell_type": "code",
   "execution_count": 113,
   "id": "fc24d47b",
   "metadata": {},
   "outputs": [
    {
     "data": {
      "image/png": "[encoded data removed]",
      "text/plain": [
       "<Figure size 1200x400 with 1 Axes>"
      ]
     },
     "metadata": {},
     "output_type": "display_data"
    }
   ],
   "source": [
    "plot_history(history)"
   ]
  },
  {
   "cell_type": "markdown",
   "id": "a350112e",
   "metadata": {},
   "source": [
    "## 문장 생성"
   ]
  },
  {
   "cell_type": "code",
   "execution_count": 114,
   "id": "5c99b483",
   "metadata": {},
   "outputs": [],
   "source": [
    "#문장생성 함수 정의\n",
    "#모델에게 시작 문장을 전달하면 모델이 시작 문장을 바탕으로 작문을 진행\n",
    "def generate_text(model, tokenizer, init_sentence=\"<start>\", max_len=15): #시작 문자열을 init_sentence 로 받으며 디폴트값은 <start> 를 받는다\n",
    "    # 테스트를 위해서 입력받은 init_sentence도 텐서로 변환합니다\n",
    "    test_input = tokenizer.texts_to_sequences([init_sentence]) #텍스트 안의 단어들을 숫자의 시퀀스의 형태로 변환\n",
    "    test_tensor = tf.convert_to_tensor(test_input, dtype=tf.int64)\n",
    "    end_token = tokenizer.word_index[\"<end>\"]\n",
    "\n",
    "    # 단어 하나씩 예측해 문장을 만듭니다\n",
    "    #    1. 입력받은 문장의 텐서를 입력합니다\n",
    "    #    2. 예측된 값 중 가장 높은 확률인 word index를 뽑아냅니다\n",
    "    #    3. 2에서 예측된 word index를 문장 뒤에 붙입니다\n",
    "    #    4. 모델이 <end>를 예측했거나, max_len에 도달했다면 문장 생성을 마칩니다 (도달 하지 못하였으면 while 루프를 돌면서 다음 단어를 예측)\n",
    "    while True: #루프를 돌면서 init_sentence에 단어를 하나씩 생성성\n",
    "        # 1\n",
    "        predict = model(test_tensor) \n",
    "        # 2\n",
    "        predict_word = tf.argmax(tf.nn.softmax(predict, axis=-1), axis=-1)[:, -1] \n",
    "        # 3 \n",
    "        test_tensor = tf.concat([test_tensor, tf.expand_dims(predict_word, axis=0)], axis=-1)\n",
    "        # 4 \n",
    "        if predict_word.numpy()[0] == end_token: break\n",
    "        if test_tensor.shape[1] >= max_len: break\n",
    "\n",
    "    generated = \"\"\n",
    "    # tokenizer를 이용해 word index를 단어로 하나씩 변환합니다 \n",
    "    for word_index in test_tensor[0].numpy():\n",
    "        generated += tokenizer.index_word[word_index] + \" \"\n",
    "\n",
    "    return generated #최종적으로 모델이 생성한 문장을 반환"
   ]
  },
  {
   "cell_type": "markdown",
   "id": "fd3e3ac3",
   "metadata": {},
   "source": [
    "## 모델 평가"
   ]
  },
  {
   "cell_type": "markdown",
   "id": "a0491c14",
   "metadata": {},
   "source": [
    "마지막으로 멋진 모델이 생성한 가사 한 줄을 제출."
   ]
  },
  {
   "cell_type": "code",
   "execution_count": 115,
   "id": "827268fa",
   "metadata": {},
   "outputs": [
    {
     "data": {
      "text/plain": [
       "'<start> i love you , baby , <end> '"
      ]
     },
     "execution_count": 115,
     "metadata": {},
     "output_type": "execute_result"
    }
   ],
   "source": [
    "generate_text(model, tokenizer, init_sentence=\"<start> i love\", max_len=15)\n",
    "# generate_text 함수에 lyricist 라 정의한 모델을 이용해서 ilove 로 시작되는 문장을 생성"
   ]
  },
  {
   "cell_type": "code",
   "execution_count": null,
   "id": "dbb2c3ba",
   "metadata": {},
   "outputs": [],
   "source": []
  }
 ],
 "metadata": {
  "hide_input": false,
  "kernelspec": {
   "display_name": "Python 3 (ipykernel)",
   "language": "python",
   "name": "python3"
  },
  "language_info": {
   "codemirror_mode": {
    "name": "ipython",
    "version": 3
   },
   "file_extension": ".py",
   "mimetype": "text/x-python",
   "name": "python",
   "nbconvert_exporter": "python",
   "pygments_lexer": "ipython3",
   "version": "3.9.15"
  },
  "toc": {
   "base_numbering": 1,
   "nav_menu": {},
   "number_sections": true,
   "sideBar": true,
   "skip_h1_title": false,
   "title_cell": "Table of Contents",
   "title_sidebar": "Contents",
   "toc_cell": false,
   "toc_position": {
    "height": "calc(100% - 180px)",
    "left": "10px",
    "top": "150px",
    "width": "284.59375px"
   },
   "toc_section_display": true,
   "toc_window_display": true
  },
  "varInspector": {
   "cols": {
    "lenName": 16,
    "lenType": 16,
    "lenVar": 40
   },
   "kernels_config": {
    "python": {
     "delete_cmd_postfix": "",
     "delete_cmd_prefix": "del ",
     "library": "var_list.py",
     "varRefreshCmd": "print(var_dic_list())"
    },
    "r": {
     "delete_cmd_postfix": ") ",
     "delete_cmd_prefix": "rm(",
     "library": "var_list.r",
     "varRefreshCmd": "cat(var_dic_list()) "
    }
   },
   "types_to_exclude": [
    "module",
    "function",
    "builtin_function_or_method",
    "instance",
    "_Feature"
   ],
   "window_display": false
  }
 },
 "nbformat": 4,
 "nbformat_minor": 5
}
