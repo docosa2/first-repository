{
 "cells": [
  {
   "cell_type": "markdown",
   "id": "6c79c348",
   "metadata": {},
   "source": [
    "# GD-16 HuggingFace Custom Project\n",
    "\n",
    "### 2023-02-14 (화)"
   ]
  },
  {
   "cell_type": "markdown",
   "id": "fe599e72",
   "metadata": {},
   "source": [
    "## 라이브러리 버전을 확인해 봅니다.\n",
    "---\n",
    "사용할 라이브러리 버전을 둘러봅시다.\n"
   ]
  },
  {
   "cell_type": "code",
   "execution_count": 1,
   "id": "0f109cec",
   "metadata": {},
   "outputs": [
    {
     "name": "stdout",
     "output_type": "stream",
     "text": [
      "2.6.0\n",
      "1.21.4\n",
      "4.11.3\n",
      "1.1\n"
     ]
    }
   ],
   "source": [
    "import tensorflow\n",
    "import numpy\n",
    "import transformers\n",
    "import argparse\n",
    "\n",
    "print(tensorflow.__version__)\n",
    "print(numpy.__version__)\n",
    "print(transformers.__version__)\n",
    "print(argparse.__version__)"
   ]
  },
  {
   "cell_type": "markdown",
   "id": "04e162e9",
   "metadata": {},
   "source": [
    "## TO DO\n",
    "\n",
    "STEP 1. mnli 데이터셋을 분석해 보기\n",
    "\n",
    "tensorflow-datasets를 이용하여 glue/mnli를 다운로드하려면 tensorflow-datasets 라이브러리 버전을 올려야 합니다.\n",
    "\n",
    "$ pip install tensorflow-datasets -U\n",
    "위 명령어를 통해 라이브러리 업그레이드를 진행해 주세요!\n",
    "\n",
    "STEP 2. MNLIProcessor클래스 구현하기\n",
    "\n",
    "STEP 3. 위에서 구현한 processor 및 Huggingface에서 제공하는 tokenizer를 활용하여 데이터셋 구성하기\n",
    "\n",
    "STEP 4. model을 생성하여 학습 및 테스트를 진행해 보기\n",
    "\n",
    "💡 힌트\n",
    "혹시 STEP 2의 진행에 어려움을 겪고 계신다면 transformer 프로젝트 내부를 살펴보시면 참고할만한 예시 코드를 찾아볼 수 있을 것입니다. transformers의 공식 github을 참고하는 것도 좋은 방법이에요!\n",
    "\n"
   ]
  },
  {
   "cell_type": "code",
   "execution_count": null,
   "id": "4feef2c3",
   "metadata": {},
   "outputs": [],
   "source": []
  },
  {
   "cell_type": "code",
   "execution_count": null,
   "id": "29fa9acd",
   "metadata": {},
   "outputs": [],
   "source": []
  },
  {
   "cell_type": "code",
   "execution_count": null,
   "id": "237326de",
   "metadata": {},
   "outputs": [],
   "source": []
  }
 ],
 "metadata": {
  "kernelspec": {
   "display_name": "Python 3 (ipykernel)",
   "language": "python",
   "name": "python3"
  },
  "language_info": {
   "codemirror_mode": {
    "name": "ipython",
    "version": 3
   },
   "file_extension": ".py",
   "mimetype": "text/x-python",
   "name": "python",
   "nbconvert_exporter": "python",
   "pygments_lexer": "ipython3",
   "version": "3.9.7"
  }
 },
 "nbformat": 4,
 "nbformat_minor": 5
}
