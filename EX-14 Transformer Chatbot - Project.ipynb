{
 "cells": [
  {
   "cell_type": "markdown",
   "id": "2e79685f",
   "metadata": {},
   "source": [
    "# EX-14 Chatbot - Project\n",
    "\n",
    "### 2023-01-04 (수)\n",
    "\n",
    "### 곽상혁\n",
    "\n",
    "https:/github.com/docosa2/"
   ]
  },
  {
   "cell_type": "markdown",
   "id": "9e848e33",
   "metadata": {},
   "source": [
    "### 모듈 임포트"
   ]
  },
  {
   "cell_type": "code",
   "execution_count": 133,
   "id": "d9278881",
   "metadata": {},
   "outputs": [
    {
     "name": "stdout",
     "output_type": "stream",
     "text": [
      "2.6.0\n"
     ]
    }
   ],
   "source": [
    "import tensorflow as tf\n",
    "import tensorflow_datasets as tfds\n",
    "\n",
    "print(tf.__version__)"
   ]
  },
  {
   "cell_type": "code",
   "execution_count": 134,
   "id": "bec0d656",
   "metadata": {},
   "outputs": [],
   "source": [
    "import os\n",
    "import re\n",
    "import numpy as np\n",
    "import matplotlib.pyplot as plt"
   ]
  },
  {
   "cell_type": "markdown",
   "id": "31901834",
   "metadata": {},
   "source": [
    "## 데이타 수집\n",
    "---\n",
    "\n",
    "한국어 챗봇 데이터는 송영숙님이 공개한 챗봇 데이터를 사용합니다.\n",
    "\n",
    "이 데이터는 아래의 링크에서 다운로드할 수 있습니다.\n",
    "\n",
    "* [songys/Chatbot_data](https://github.com/songys/Chatbot_data/blob/master/ChatbotData.csv)"
   ]
  },
  {
   "cell_type": "markdown",
   "id": "e21d2a90",
   "metadata": {},
   "source": [
    "## 데이타 전처리\n",
    "\n",
    "영어 데이터와는 전혀 다른 데이터인 만큼 영어 데이터에 사용했던 전처리와 일부 동일한 전처리도 필요하겠지만 전체적으로는 다른 전처리를 수행해야 할 수도 있습니다."
   ]
  },
  {
   "cell_type": "markdown",
   "id": "2fa43e9b",
   "metadata": {},
   "source": [
    "### 데이타 읽기"
   ]
  },
  {
   "cell_type": "code",
   "execution_count": 135,
   "id": "511fc972",
   "metadata": {},
   "outputs": [],
   "source": [
    "import pandas as pd\n",
    "\n",
    "data = pd.read_csv('./data/ChatbotData.csv')"
   ]
  },
  {
   "cell_type": "code",
   "execution_count": 136,
   "id": "b784f0bf",
   "metadata": {},
   "outputs": [
    {
     "data": {
      "text/html": [
       "<div>\n",
       "<style scoped>\n",
       "    .dataframe tbody tr th:only-of-type {\n",
       "        vertical-align: middle;\n",
       "    }\n",
       "\n",
       "    .dataframe tbody tr th {\n",
       "        vertical-align: top;\n",
       "    }\n",
       "\n",
       "    .dataframe thead th {\n",
       "        text-align: right;\n",
       "    }\n",
       "</style>\n",
       "<table border=\"1\" class=\"dataframe\">\n",
       "  <thead>\n",
       "    <tr style=\"text-align: right;\">\n",
       "      <th></th>\n",
       "      <th>Q</th>\n",
       "      <th>A</th>\n",
       "      <th>label</th>\n",
       "    </tr>\n",
       "  </thead>\n",
       "  <tbody>\n",
       "    <tr>\n",
       "      <th>0</th>\n",
       "      <td>12시 땡!</td>\n",
       "      <td>하루가 또 가네요.</td>\n",
       "      <td>0</td>\n",
       "    </tr>\n",
       "    <tr>\n",
       "      <th>1</th>\n",
       "      <td>1지망 학교 떨어졌어</td>\n",
       "      <td>위로해 드립니다.</td>\n",
       "      <td>0</td>\n",
       "    </tr>\n",
       "    <tr>\n",
       "      <th>2</th>\n",
       "      <td>3박4일 놀러가고 싶다</td>\n",
       "      <td>여행은 언제나 좋죠.</td>\n",
       "      <td>0</td>\n",
       "    </tr>\n",
       "    <tr>\n",
       "      <th>3</th>\n",
       "      <td>3박4일 정도 놀러가고 싶다</td>\n",
       "      <td>여행은 언제나 좋죠.</td>\n",
       "      <td>0</td>\n",
       "    </tr>\n",
       "    <tr>\n",
       "      <th>4</th>\n",
       "      <td>PPL 심하네</td>\n",
       "      <td>눈살이 찌푸려지죠.</td>\n",
       "      <td>0</td>\n",
       "    </tr>\n",
       "  </tbody>\n",
       "</table>\n",
       "</div>"
      ],
      "text/plain": [
       "                 Q            A  label\n",
       "0           12시 땡!   하루가 또 가네요.      0\n",
       "1      1지망 학교 떨어졌어    위로해 드립니다.      0\n",
       "2     3박4일 놀러가고 싶다  여행은 언제나 좋죠.      0\n",
       "3  3박4일 정도 놀러가고 싶다  여행은 언제나 좋죠.      0\n",
       "4          PPL 심하네   눈살이 찌푸려지죠.      0"
      ]
     },
     "execution_count": 136,
     "metadata": {},
     "output_type": "execute_result"
    }
   ],
   "source": [
    "data.head()"
   ]
  },
  {
   "cell_type": "code",
   "execution_count": 137,
   "id": "d3397e9f",
   "metadata": {},
   "outputs": [
    {
     "data": {
      "text/plain": [
       "(11823, 3)"
      ]
     },
     "execution_count": 137,
     "metadata": {},
     "output_type": "execute_result"
    }
   ],
   "source": [
    "data.shape"
   ]
  },
  {
   "cell_type": "markdown",
   "id": "454a789c",
   "metadata": {},
   "source": [
    "### 데이타 전처리"
   ]
  },
  {
   "cell_type": "code",
   "execution_count": 138,
   "id": "a6c8be3c",
   "metadata": {},
   "outputs": [],
   "source": [
    "def preprocess_sentence(sentence: str) -> str:    \n",
    "    sentence = re.sub(r\"([?.!,¿])\", r\" \\1 \", sentence) # 2\n",
    "    sentence = re.sub(r'[\" \"]+', \" \", sentence) # 3\n",
    "    return sentence"
   ]
  },
  {
   "cell_type": "code",
   "execution_count": 139,
   "id": "d31cede4",
   "metadata": {},
   "outputs": [],
   "source": [
    "def preprocess_entire_text_for(df: pd.DataFrame) -> None:\n",
    "    for index, row in df.iterrows():        \n",
    "        df.iloc[index, 0] = preprocess_sentence(row['Q'])\n",
    "        df.iloc[index, 1] = preprocess_sentence(row['A'])"
   ]
  },
  {
   "cell_type": "code",
   "execution_count": 140,
   "id": "7e84b1a6",
   "metadata": {},
   "outputs": [],
   "source": [
    "preprocess_entire_text_for(data)"
   ]
  },
  {
   "cell_type": "code",
   "execution_count": 141,
   "id": "77c7b59f",
   "metadata": {},
   "outputs": [
    {
     "data": {
      "text/html": [
       "<div>\n",
       "<style scoped>\n",
       "    .dataframe tbody tr th:only-of-type {\n",
       "        vertical-align: middle;\n",
       "    }\n",
       "\n",
       "    .dataframe tbody tr th {\n",
       "        vertical-align: top;\n",
       "    }\n",
       "\n",
       "    .dataframe thead th {\n",
       "        text-align: right;\n",
       "    }\n",
       "</style>\n",
       "<table border=\"1\" class=\"dataframe\">\n",
       "  <thead>\n",
       "    <tr style=\"text-align: right;\">\n",
       "      <th></th>\n",
       "      <th>Q</th>\n",
       "      <th>A</th>\n",
       "      <th>label</th>\n",
       "    </tr>\n",
       "  </thead>\n",
       "  <tbody>\n",
       "    <tr>\n",
       "      <th>0</th>\n",
       "      <td>12시 땡 !</td>\n",
       "      <td>하루가 또 가네요 .</td>\n",
       "      <td>0</td>\n",
       "    </tr>\n",
       "    <tr>\n",
       "      <th>1</th>\n",
       "      <td>1지망 학교 떨어졌어</td>\n",
       "      <td>위로해 드립니다 .</td>\n",
       "      <td>0</td>\n",
       "    </tr>\n",
       "    <tr>\n",
       "      <th>2</th>\n",
       "      <td>3박4일 놀러가고 싶다</td>\n",
       "      <td>여행은 언제나 좋죠 .</td>\n",
       "      <td>0</td>\n",
       "    </tr>\n",
       "    <tr>\n",
       "      <th>3</th>\n",
       "      <td>3박4일 정도 놀러가고 싶다</td>\n",
       "      <td>여행은 언제나 좋죠 .</td>\n",
       "      <td>0</td>\n",
       "    </tr>\n",
       "    <tr>\n",
       "      <th>4</th>\n",
       "      <td>PPL 심하네</td>\n",
       "      <td>눈살이 찌푸려지죠 .</td>\n",
       "      <td>0</td>\n",
       "    </tr>\n",
       "  </tbody>\n",
       "</table>\n",
       "</div>"
      ],
      "text/plain": [
       "                 Q              A  label\n",
       "0         12시 땡 !    하루가 또 가네요 .       0\n",
       "1      1지망 학교 떨어졌어    위로해 드립니다 .       0\n",
       "2     3박4일 놀러가고 싶다  여행은 언제나 좋죠 .       0\n",
       "3  3박4일 정도 놀러가고 싶다  여행은 언제나 좋죠 .       0\n",
       "4          PPL 심하네   눈살이 찌푸려지죠 .       0"
      ]
     },
     "execution_count": 141,
     "metadata": {},
     "output_type": "execute_result"
    }
   ],
   "source": [
    "data.head()"
   ]
  },
  {
   "cell_type": "markdown",
   "id": "5296aa4a",
   "metadata": {},
   "source": [
    "### 데이타 분리"
   ]
  },
  {
   "cell_type": "code",
   "execution_count": 142,
   "id": "3508ba3a",
   "metadata": {},
   "outputs": [],
   "source": [
    "questions = data.Q.values.tolist()\n",
    "answers = data.A.values.tolist()"
   ]
  },
  {
   "cell_type": "code",
   "execution_count": 143,
   "id": "a0fbd70b",
   "metadata": {},
   "outputs": [
    {
     "name": "stdout",
     "output_type": "stream",
     "text": [
      "9458\n",
      "9458\n",
      "\n",
      "2365\n",
      "2365\n"
     ]
    }
   ],
   "source": [
    "from sklearn.model_selection import train_test_split\n",
    "\n",
    "X_train, X_test, y_train, y_test = train_test_split(questions, answers, test_size=0.2, random_state=42)\n",
    "\n",
    "print(len(X_train))\n",
    "print(len(y_train))\n",
    "print()\n",
    "print(len(X_test))\n",
    "print(len(y_test))"
   ]
  },
  {
   "cell_type": "markdown",
   "id": "3ea4133d",
   "metadata": {},
   "source": [
    "## SubwordTextEncoder 사용하기\n",
    "---\n",
    "\n",
    "한국어 데이터는 형태소 분석기를 사용하여 토크나이징을 해야 한다고 많은 분이 알고 있습니다. 하지만 여기서는 형태소 분석기가 아닌 위 실습에서 사용했던 내부 단어 토크나이저인 SubwordTextEncoder를 그대로 사용해보세요."
   ]
  },
  {
   "cell_type": "code",
   "execution_count": 144,
   "id": "96d12aa6",
   "metadata": {
    "scrolled": true
   },
   "outputs": [],
   "source": [
    "tokenizer = tfds.deprecated.text.SubwordTextEncoder.build_from_corpus(X_train + y_train, target_vocab_size=2**13)"
   ]
  },
  {
   "cell_type": "code",
   "execution_count": 145,
   "id": "27572ed9",
   "metadata": {},
   "outputs": [
    {
     "name": "stdout",
     "output_type": "stream",
     "text": [
      "8730\n"
     ]
    }
   ],
   "source": [
    "print(tokenizer.vocab_size)\n",
    "SOS = [tokenizer.vocab_size]\n",
    "EOS = [tokenizer.vocab_size + 1]"
   ]
  },
  {
   "cell_type": "code",
   "execution_count": 146,
   "id": "27593345",
   "metadata": {
    "scrolled": true
   },
   "outputs": [
    {
     "name": "stdout",
     "output_type": "stream",
     "text": [
      "8732\n"
     ]
    }
   ],
   "source": [
    "VOCAB_SIZE = tokenizer.vocab_size + 2\n",
    "print(VOCAB_SIZE)"
   ]
  },
  {
   "cell_type": "code",
   "execution_count": 147,
   "id": "866fdd13",
   "metadata": {},
   "outputs": [
    {
     "name": "stdout",
     "output_type": "stream",
     "text": [
      "Q : 엄청 로맨틱해\n",
      "Q : [417, 7718]\n",
      "\n",
      "A: 생각만해도 달콤하네요 . \n",
      "A: [417, 7718]\n"
     ]
    }
   ],
   "source": [
    "print('Q : {}'.format(X_train[0]))\n",
    "print('Q : {}'.format(tokenizer.encode(X_train[0])))\n",
    "print()\n",
    "print('A: {}'.format(y_train[0]))\n",
    "print('A: {}'.format(tokenizer.encode(X_train[0])))"
   ]
  },
  {
   "cell_type": "code",
   "execution_count": 148,
   "id": "8fbfe902",
   "metadata": {},
   "outputs": [
    {
     "name": "stdout",
     "output_type": "stream",
     "text": [
      "max question length : 58\n",
      "max answer length: 79\n"
     ]
    }
   ],
   "source": [
    "print('max question length :', len(max(X_train, key=len)))\n",
    "print('max answer length:', len(max(y_train, key=len)))"
   ]
  },
  {
   "cell_type": "code",
   "execution_count": 149,
   "id": "14cf1f17",
   "metadata": {},
   "outputs": [],
   "source": [
    "MAX_SENTENCE_LENGTH = 50"
   ]
  },
  {
   "cell_type": "code",
   "execution_count": 150,
   "id": "b12d4fcc",
   "metadata": {},
   "outputs": [],
   "source": [
    "def Add_Tokens_for_Start_and_End_of(sentence: str) -> str:\n",
    "    return SOS + tokenizer.encode(sentence) + EOS"
   ]
  },
  {
   "cell_type": "code",
   "execution_count": 151,
   "id": "9b5a1207",
   "metadata": {},
   "outputs": [],
   "source": [
    "def Pad_sequence(sentences: list[str], maxlen, padding='post') -> list[str]:\n",
    "    return tf.keras.preprocessing.sequence.pad_sequences(sentences, maxlen=maxlen, padding=padding)"
   ]
  },
  {
   "cell_type": "code",
   "execution_count": 152,
   "id": "18b90f5c",
   "metadata": {},
   "outputs": [],
   "source": [
    "# 정수 인코딩, 패딩\n",
    "def tokenize_and_filter(questions: list[str], answers: list[str]) -> (list[str], list[str]):\n",
    "    tokenized_questions = []\n",
    "    tokenized_answers = []\n",
    "  \n",
    "    for (question, answer) in zip(questions, answers):\n",
    "        # MAX_SENTENCE_LENGTH 인 데이타만 처리\n",
    "        if len(question) > MAX_SENTENCE_LENGTH or len(answer) > MAX_SENTENCE_LENGTH:        \n",
    "            continue        \n",
    "        \n",
    "        # 시작,종료 토큰 추가\n",
    "        tokenized_question = Add_Tokens_for_Start_and_End_of(question)\n",
    "        tokenized_answer = Add_Tokens_for_Start_and_End_of(answer)\n",
    "        \n",
    "        # append\n",
    "        tokenized_questions.append(tokenized_question)\n",
    "        tokenized_answers.append(tokenized_answer)\n",
    "  \n",
    "    # MAX_SENTENCE_LENGTH로 문장 패딩\n",
    "    tokenized_questions = Pad_sequence(tokenized_questions, MAX_SENTENCE_LENGTH)   \n",
    "    tokenized_answers = Pad_sequence(tokenized_answers, MAX_SENTENCE_LENGTH)\n",
    "  \n",
    "    return tokenized_questions, tokenized_answers"
   ]
  },
  {
   "cell_type": "code",
   "execution_count": 153,
   "id": "06825282",
   "metadata": {},
   "outputs": [
    {
     "name": "stdout",
     "output_type": "stream",
     "text": [
      "단어장의 크기 : 8732\n",
      "전처리된 질문수: 9425\n",
      "전처리된 답변수: 9425\n"
     ]
    }
   ],
   "source": [
    "questions, answers = tokenize_and_filter(X_train, y_train)\n",
    "print('단어장의 크기 :',(VOCAB_SIZE))\n",
    "print('전처리된 질문수: {}'.format(len(questions)))\n",
    "print('전처리된 답변수: {}'.format(len(answers)))"
   ]
  },
  {
   "cell_type": "markdown",
   "id": "ecd0449c",
   "metadata": {},
   "source": [
    "## 모델 구성하기\n",
    "---\n",
    "\n",
    "위 실습 내용을 참고하여 트랜스포머 모델을 구현합니다."
   ]
  },
  {
   "cell_type": "markdown",
   "id": "f3dbc22f",
   "metadata": {},
   "source": [
    "### Positional Encoding"
   ]
  },
  {
   "cell_type": "code",
   "execution_count": 154,
   "id": "0032ccc5",
   "metadata": {},
   "outputs": [],
   "source": [
    "class PositionalEncoding(tf.keras.layers.Layer):\n",
    "    def __init__(self, position, d_model):\n",
    "        super(PositionalEncoding, self).__init__()\n",
    "        self.pos_encoding = self.encode(position, d_model)\n",
    "\n",
    "    def get_angles(self, position, i, d_model):\n",
    "        angles = 1 / tf.pow(10000, (2 * (i // 2)) / tf.cast(d_model, tf.float32))\n",
    "        return position * angles\n",
    "\n",
    "    def encode(self, position, d_model):\n",
    "        angle_rads = self.get_angles(\n",
    "            position=tf.range(position, dtype=tf.float32)[:, tf.newaxis],\n",
    "            i=tf.range(d_model, dtype=tf.float32)[tf.newaxis, :],\n",
    "            d_model=d_model)\n",
    "        \n",
    "        sin = tf.math.sin(angle_rads[:, 0::2]) # 배열의 짝수 인덱스에는 sin 함수 적용        \n",
    "        cos = tf.math.cos(angle_rads[:, 1::2]) # 배열의 홀수 인덱스에는 cosine 함수 적용\n",
    "\n",
    "        pos_encoding = tf.concat([sin, cos], axis=-1)\n",
    "        pos_encoding = pos_encoding[tf.newaxis, ...]\n",
    "        return tf.cast(pos_encoding, tf.float32)\n",
    "\n",
    "    def call(self, inputs):\n",
    "        return inputs + self.pos_encoding[:, :tf.shape(inputs)[1], :]"
   ]
  },
  {
   "cell_type": "markdown",
   "id": "85384a7a",
   "metadata": {},
   "source": [
    "### 스케일드 닷 프로덕트 어텐션"
   ]
  },
  {
   "cell_type": "code",
   "execution_count": 155,
   "id": "8f403e02",
   "metadata": {},
   "outputs": [],
   "source": [
    "def scaled_dot_product_attention(query, key, value, mask):\n",
    "    \"\"\"어텐션 가중치를 계산. \"\"\"\n",
    "    matmul_qk = tf.matmul(query, key, transpose_b=True)\n",
    "\n",
    "    # scale matmul_qk\n",
    "    depth = tf.cast(tf.shape(key)[-1], tf.float32)\n",
    "    logits = matmul_qk / tf.math.sqrt(depth)\n",
    "\n",
    "    # add the mask to zero out padding tokens\n",
    "    if mask is not None:\n",
    "        logits += (mask * -1e9)\n",
    "\n",
    "    # softmax is normalized on the last axis (seq_len_k)\n",
    "    attention_weights = tf.nn.softmax(logits, axis=-1)\n",
    "\n",
    "    output = tf.matmul(attention_weights, value)\n",
    "\n",
    "    return output"
   ]
  },
  {
   "cell_type": "markdown",
   "id": "536ae598",
   "metadata": {},
   "source": [
    "### 멀티헤드 어텐션"
   ]
  },
  {
   "cell_type": "code",
   "execution_count": 156,
   "id": "b1c9d762",
   "metadata": {},
   "outputs": [],
   "source": [
    "class MultiHeadAttention(tf.keras.layers.Layer):\n",
    "\n",
    "    def __init__(self, d_model, num_heads, name=\"multi_head_attention\"):\n",
    "        super(MultiHeadAttention, self).__init__(name=name)\n",
    "        self.num_heads = num_heads\n",
    "        self.d_model = d_model\n",
    "\n",
    "        assert d_model % self.num_heads == 0\n",
    "\n",
    "        self.depth = d_model // self.num_heads\n",
    "\n",
    "        self.query_dense = tf.keras.layers.Dense(units=d_model)\n",
    "        self.key_dense = tf.keras.layers.Dense(units=d_model)\n",
    "        self.value_dense = tf.keras.layers.Dense(units=d_model)\n",
    "    \n",
    "        self.dense = tf.keras.layers.Dense(units=d_model)\n",
    "\n",
    "    def split_heads(self, inputs, batch_size):\n",
    "        inputs = tf.reshape(\n",
    "            inputs, shape=(batch_size, -1, self.num_heads, self.depth))\n",
    "        return tf.transpose(inputs, perm=[0, 2, 1, 3])\n",
    "\n",
    "    def call(self, inputs):\n",
    "        query, key, value, mask = inputs['query'], inputs['key'], inputs['value'], inputs['mask']\n",
    "        batch_size = tf.shape(query)[0]\n",
    "\n",
    "        # linear layers\n",
    "        query = self.query_dense(query)\n",
    "        key = self.key_dense(key)\n",
    "        value = self.value_dense(value)\n",
    "\n",
    "        # 병렬 연산을 위한 머리를 여러 개 만듭니다.\n",
    "        query = self.split_heads(query, batch_size)\n",
    "        key = self.split_heads(key, batch_size)\n",
    "        value = self.split_heads(value, batch_size)\n",
    "\n",
    "        # 스케일드 닷-프로덕트 어텐션 함수\n",
    "        scaled_attention = scaled_dot_product_attention(query, key, value, mask)\n",
    "\n",
    "        scaled_attention = tf.transpose(scaled_attention, perm=[0, 2, 1, 3])\n",
    "\n",
    "        # 어텐션 연산 후에 각 결과를 다시 연결(concatenate)합니다.\n",
    "        concat_attention = tf.reshape(scaled_attention,\n",
    "                                      (batch_size, -1, self.d_model))\n",
    "\n",
    "        # final linear layer\n",
    "        outputs = self.dense(concat_attention)\n",
    "\n",
    "        return outputs"
   ]
  },
  {
   "cell_type": "markdown",
   "id": "6b2cb98d",
   "metadata": {},
   "source": [
    "### 패딩 마스크"
   ]
  },
  {
   "cell_type": "code",
   "execution_count": 157,
   "id": "01cfb235",
   "metadata": {},
   "outputs": [],
   "source": [
    "def create_padding_mask(x):\n",
    "    mask = tf.cast(tf.math.equal(x, 0), tf.float32)    \n",
    "    return mask[:, tf.newaxis, tf.newaxis, :]  # (batch_size, 1, 1, sequence length)"
   ]
  },
  {
   "cell_type": "markdown",
   "id": "455b63aa",
   "metadata": {},
   "source": [
    "### Look Ahead 마스크"
   ]
  },
  {
   "cell_type": "code",
   "execution_count": 158,
   "id": "aa610426",
   "metadata": {},
   "outputs": [],
   "source": [
    "def create_look_ahead_mask(x):\n",
    "    seq_len = tf.shape(x)[1]\n",
    "    look_ahead_mask = 1 - tf.linalg.band_part(tf.ones((seq_len, seq_len)), -1, 0)\n",
    "    padding_mask = create_padding_mask(x) # 패딩마스크도 별도로 함께 적용해 준다\n",
    "    return tf.maximum(look_ahead_mask, padding_mask)"
   ]
  },
  {
   "cell_type": "markdown",
   "id": "51f228a5",
   "metadata": {},
   "source": [
    "### 인코더 레이어"
   ]
  },
  {
   "cell_type": "code",
   "execution_count": 159,
   "id": "1fd36a3b",
   "metadata": {},
   "outputs": [],
   "source": [
    "# 인코더 하나의 레이어를 함수로 구현.\n",
    "# 이 하나의 레이어 안에는 두 개의 서브 레이어가 존재합니다.\n",
    "def encoder_layer(units, d_model, num_heads, dropout, name=\"encoder_layer\"):\n",
    "    inputs = tf.keras.Input(shape=(None, d_model), name=\"inputs\")\n",
    "\n",
    "    # 패딩 마스크 사용\n",
    "    padding_mask = tf.keras.Input(shape=(1, 1, None), name=\"padding_mask\")\n",
    "\n",
    "    # 첫번째 서브 레이어 : 멀티 헤드 어텐션 수행 (셀프 어텐션)\n",
    "    attention = MultiHeadAttention(\n",
    "          d_model, num_heads, name=\"attention\")({\n",
    "              'query': inputs,\n",
    "              'key': inputs,\n",
    "              'value': inputs,\n",
    "              'mask': padding_mask\n",
    "          })\n",
    "\n",
    "    # 어텐션의 결과는 Dropout과 Layer Normalization이라는 훈련을 돕는 테크닉을 수행\n",
    "    attention = tf.keras.layers.Dropout(rate=dropout)(attention)\n",
    "    attention = tf.keras.layers.LayerNormalization(\n",
    "          epsilon=1e-6)(inputs + attention)\n",
    "\n",
    "    # 두번째 서브 레이어 : 2개의 완전연결층\n",
    "    outputs = tf.keras.layers.Dense(units=units, activation='relu')(attention)\n",
    "    outputs = tf.keras.layers.Dense(units=d_model)(outputs)\n",
    "\n",
    "    # 완전연결층의 결과는 Dropout과 LayerNormalization이라는 훈련을 돕는 테크닉을 수행\n",
    "    outputs = tf.keras.layers.Dropout(rate=dropout)(outputs)\n",
    "    outputs = tf.keras.layers.LayerNormalization(\n",
    "          epsilon=1e-6)(attention + outputs)\n",
    "\n",
    "    return tf.keras.Model(\n",
    "          inputs=[inputs, padding_mask], outputs=outputs, name=name)"
   ]
  },
  {
   "cell_type": "markdown",
   "id": "80d232c2",
   "metadata": {},
   "source": [
    "### 인코더"
   ]
  },
  {
   "cell_type": "code",
   "execution_count": 160,
   "id": "bb52ea77",
   "metadata": {},
   "outputs": [],
   "source": [
    "def encoder(vocab_size,\n",
    "            num_layers,\n",
    "            units,\n",
    "            d_model,\n",
    "            num_heads,\n",
    "            dropout,\n",
    "            name=\"encoder\"):\n",
    "    inputs = tf.keras.Input(shape=(None,), name=\"inputs\")\n",
    "\n",
    "    # 패딩 마스크 사용\n",
    "    padding_mask = tf.keras.Input(shape=(1, 1, None), name=\"padding_mask\")\n",
    "\n",
    "    # 임베딩 레이어\n",
    "    embeddings = tf.keras.layers.Embedding(vocab_size, d_model)(inputs)\n",
    "    embeddings *= tf.math.sqrt(tf.cast(d_model, tf.float32))\n",
    "\n",
    "    # 포지셔널 인코딩\n",
    "    embeddings = PositionalEncoding(vocab_size, d_model)(embeddings)\n",
    "\n",
    "    outputs = tf.keras.layers.Dropout(rate=dropout)(embeddings)\n",
    "\n",
    "    # num_layers만큼 쌓아올린 인코더의 층.\n",
    "    for i in range(num_layers):\n",
    "        outputs = encoder_layer(\n",
    "            units=units,\n",
    "            d_model=d_model,\n",
    "            num_heads=num_heads,\n",
    "            dropout=dropout,\n",
    "            name=\"encoder_layer_{}\".format(i),\n",
    "        )([outputs, padding_mask])\n",
    "\n",
    "    return tf.keras.Model(inputs=[inputs, padding_mask], outputs=outputs, name=name)"
   ]
  },
  {
   "cell_type": "markdown",
   "id": "6f1826bc",
   "metadata": {},
   "source": [
    "### 디코더 레이어"
   ]
  },
  {
   "cell_type": "code",
   "execution_count": 161,
   "id": "973a6a7d",
   "metadata": {},
   "outputs": [],
   "source": [
    "# 디코더 하나의 레이어를 함수로 구현.\n",
    "# 이 하나의 레이어 안에는 세 개의 서브 레이어가 존재합니다.\n",
    "def decoder_layer(units, d_model, num_heads, dropout, name=\"decoder_layer\"):\n",
    "    inputs = tf.keras.Input(shape=(None, d_model), name=\"inputs\")\n",
    "    enc_outputs = tf.keras.Input(shape=(None, d_model), name=\"encoder_outputs\")\n",
    "    look_ahead_mask = tf.keras.Input(\n",
    "          shape=(1, None, None), name=\"look_ahead_mask\")\n",
    "    padding_mask = tf.keras.Input(shape=(1, 1, None), name='padding_mask')\n",
    "\n",
    "    # 첫번째 서브 레이어 : 멀티 헤드 어텐션 수행 (셀프 어텐션)\n",
    "    attention1 = MultiHeadAttention(\n",
    "          d_model, num_heads, name=\"attention_1\")(inputs={\n",
    "              'query': inputs,\n",
    "              'key': inputs,\n",
    "              'value': inputs,\n",
    "              'mask': look_ahead_mask\n",
    "          })\n",
    "\n",
    "    # 멀티 헤드 어텐션의 결과는 LayerNormalization이라는 훈련을 돕는 테크닉을 수행\n",
    "    attention1 = tf.keras.layers.LayerNormalization(\n",
    "          epsilon=1e-6)(attention1 + inputs)\n",
    "\n",
    "    # 두번째 서브 레이어 : 마스크드 멀티 헤드 어텐션 수행 (인코더-디코더 어텐션)\n",
    "    attention2 = MultiHeadAttention(\n",
    "          d_model, num_heads, name=\"attention_2\")(inputs={\n",
    "              'query': attention1,\n",
    "              'key': enc_outputs,\n",
    "              'value': enc_outputs,\n",
    "              'mask': padding_mask\n",
    "          })\n",
    "\n",
    "    # 마스크드 멀티 헤드 어텐션의 결과는\n",
    "    # Dropout과 LayerNormalization이라는 훈련을 돕는 테크닉을 수행\n",
    "    attention2 = tf.keras.layers.Dropout(rate=dropout)(attention2)\n",
    "    attention2 = tf.keras.layers.LayerNormalization(\n",
    "          epsilon=1e-6)(attention2 + attention1)\n",
    "\n",
    "    # 세번째 서브 레이어 : 2개의 완전연결층\n",
    "    outputs = tf.keras.layers.Dense(units=units, activation='relu')(attention2)\n",
    "    outputs = tf.keras.layers.Dense(units=d_model)(outputs)\n",
    "\n",
    "    # 완전연결층의 결과는 Dropout과 LayerNormalization 수행\n",
    "    outputs = tf.keras.layers.Dropout(rate=dropout)(outputs)\n",
    "    outputs = tf.keras.layers.LayerNormalization(\n",
    "          epsilon=1e-6)(outputs + attention2)\n",
    "\n",
    "    return tf.keras.Model(\n",
    "          inputs=[inputs, enc_outputs, look_ahead_mask, padding_mask],\n",
    "          outputs=outputs,\n",
    "          name=name)"
   ]
  },
  {
   "cell_type": "markdown",
   "id": "1872b248",
   "metadata": {},
   "source": [
    "### 디코더"
   ]
  },
  {
   "cell_type": "code",
   "execution_count": 162,
   "id": "6027f1eb",
   "metadata": {},
   "outputs": [],
   "source": [
    "def decoder(vocab_size,\n",
    "            num_layers,\n",
    "            units,\n",
    "            d_model,\n",
    "            num_heads,\n",
    "            dropout,\n",
    "            name='decoder'):\n",
    "    inputs = tf.keras.Input(shape=(None,), name='inputs')\n",
    "    enc_outputs = tf.keras.Input(shape=(None, d_model), name='encoder_outputs')\n",
    "    look_ahead_mask = tf.keras.Input(\n",
    "      shape=(1, None, None), name='look_ahead_mask')\n",
    "\n",
    "    # 패딩 마스크\n",
    "    padding_mask = tf.keras.Input(shape=(1, 1, None), name='padding_mask')\n",
    "\n",
    "    # 임베딩 레이어\n",
    "    embeddings = tf.keras.layers.Embedding(vocab_size, d_model)(inputs)\n",
    "    embeddings *= tf.math.sqrt(tf.cast(d_model, tf.float32))\n",
    "\n",
    "    # 포지셔널 인코딩\n",
    "    embeddings = PositionalEncoding(vocab_size, d_model)(embeddings)\n",
    "\n",
    "    # Dropout이라는 훈련을 돕는 테크닉을 수행\n",
    "    outputs = tf.keras.layers.Dropout(rate=dropout)(embeddings)\n",
    "\n",
    "    for i in range(num_layers):\n",
    "        outputs = decoder_layer(\n",
    "            units=units,\n",
    "            d_model=d_model,\n",
    "            num_heads=num_heads,\n",
    "            dropout=dropout,\n",
    "            name='decoder_layer_{}'.format(i),\n",
    "        )(inputs=[outputs, enc_outputs, look_ahead_mask, padding_mask])\n",
    "\n",
    "    return tf.keras.Model(\n",
    "      inputs=[inputs, enc_outputs, look_ahead_mask, padding_mask],\n",
    "      outputs=outputs,\n",
    "      name=name)"
   ]
  },
  {
   "cell_type": "markdown",
   "id": "9c930427",
   "metadata": {},
   "source": [
    "### 트랜스포머"
   ]
  },
  {
   "cell_type": "code",
   "execution_count": 163,
   "id": "f09c2552",
   "metadata": {},
   "outputs": [],
   "source": [
    "def transformer(vocab_size,\n",
    "                num_layers,\n",
    "                units,\n",
    "                d_model,\n",
    "                num_heads,\n",
    "                dropout,\n",
    "                name=\"transformer\"):\n",
    "    inputs = tf.keras.Input(shape=(None,), name=\"inputs\")\n",
    "    dec_inputs = tf.keras.Input(shape=(None,), name=\"dec_inputs\")\n",
    "\n",
    "    # 인코더에서 패딩을 위한 마스크\n",
    "    enc_padding_mask = tf.keras.layers.Lambda(\n",
    "      create_padding_mask, output_shape=(1, 1, None),\n",
    "      name='enc_padding_mask')(inputs)\n",
    "\n",
    "    # 디코더에서 미래의 토큰을 마스크하기위해서 사용합니다.\n",
    "    # 내부적으로 패딩 마스크도 포함되어져 있습니다.\n",
    "    look_ahead_mask = tf.keras.layers.Lambda(\n",
    "      create_look_ahead_mask,\n",
    "      output_shape=(1, None, None),\n",
    "      name='look_ahead_mask')(dec_inputs)\n",
    "\n",
    "    # 두번째 어텐션 블록에서 인코더의 벡터들을 마스킹\n",
    "    # 디코더에서 패딩을 위한 마스크\n",
    "    dec_padding_mask = tf.keras.layers.Lambda(\n",
    "      create_padding_mask, output_shape=(1, 1, None),\n",
    "      name='dec_padding_mask')(inputs)\n",
    "\n",
    "    # 인코더\n",
    "    enc_outputs = encoder(\n",
    "      vocab_size=vocab_size,\n",
    "      num_layers=num_layers,\n",
    "      units=units,\n",
    "      d_model=d_model,\n",
    "      num_heads=num_heads,\n",
    "      dropout=dropout,\n",
    "    )(inputs=[inputs, enc_padding_mask])\n",
    "\n",
    "    # 디코더\n",
    "    dec_outputs = decoder(\n",
    "      vocab_size=vocab_size,\n",
    "      num_layers=num_layers,\n",
    "      units=units,\n",
    "      d_model=d_model,\n",
    "      num_heads=num_heads,\n",
    "      dropout=dropout,\n",
    "    )(inputs=[dec_inputs, enc_outputs, look_ahead_mask, dec_padding_mask])\n",
    "\n",
    "    # 완전연결층\n",
    "    outputs = tf.keras.layers.Dense(units=vocab_size, name=\"outputs\")(dec_outputs)\n",
    "\n",
    "    return tf.keras.Model(inputs=[inputs, dec_inputs], outputs=outputs, name=name)"
   ]
  },
  {
   "cell_type": "markdown",
   "id": "d1436b8f",
   "metadata": {},
   "source": [
    "### 교사 강요(Teacher Forcing) 사용"
   ]
  },
  {
   "cell_type": "code",
   "execution_count": 164,
   "id": "dbea442b",
   "metadata": {},
   "outputs": [],
   "source": [
    "BATCH_SIZE = 64\n",
    "BUFFER_SIZE = 20000\n",
    "\n",
    "# 디코더는 이전의 target을 다음의 input으로 사용합니다.\n",
    "# 이에 따라 outputs에서는 START_TOKEN을 제거하겠습니다.\n",
    "dataset = tf.data.Dataset.from_tensor_slices((\n",
    "    {\n",
    "        'inputs': questions,\n",
    "        'dec_inputs': answers[:, :-1]\n",
    "    },\n",
    "    {\n",
    "        'outputs': answers[:, 1:]\n",
    "    },\n",
    "))\n",
    "\n",
    "dataset = dataset.cache()\n",
    "dataset = dataset.shuffle(BUFFER_SIZE)\n",
    "dataset = dataset.batch(BATCH_SIZE)\n",
    "dataset = dataset.prefetch(tf.data.experimental.AUTOTUNE)"
   ]
  },
  {
   "cell_type": "markdown",
   "id": "7e53de60",
   "metadata": {},
   "source": [
    "## 모델 구성 및 하이퍼 파라미터 설정"
   ]
  },
  {
   "cell_type": "markdown",
   "id": "3b9d7c75",
   "metadata": {},
   "source": [
    "### 하이퍼 파라미터 설정"
   ]
  },
  {
   "cell_type": "code",
   "execution_count": 165,
   "id": "a5392293",
   "metadata": {},
   "outputs": [],
   "source": [
    "# 하이퍼파라미터\n",
    "NUM_LAYERS = 2 # 인코더와 디코더의 층의 개수\n",
    "D_MODEL = 256 # 인코더와 디코더 내부의 입, 출력의 고정 차원\n",
    "NUM_HEADS = 8 # 멀티 헤드 어텐션에서의 헤드 수 \n",
    "UNITS = 512 # 피드 포워드 신경망의 은닉층의 크기\n",
    "DROPOUT = 0.1 # 드롭아웃의 비율"
   ]
  },
  {
   "cell_type": "markdown",
   "id": "39f58aad",
   "metadata": {},
   "source": [
    "### 모델 인스턴스"
   ]
  },
  {
   "cell_type": "code",
   "execution_count": 166,
   "id": "57c29ad2",
   "metadata": {},
   "outputs": [
    {
     "name": "stdout",
     "output_type": "stream",
     "text": [
      "Model: \"transformer\"\n",
      "__________________________________________________________________________________________________\n",
      "Layer (type)                    Output Shape         Param #     Connected to                     \n",
      "==================================================================================================\n",
      "inputs (InputLayer)             [(None, None)]       0                                            \n",
      "__________________________________________________________________________________________________\n",
      "dec_inputs (InputLayer)         [(None, None)]       0                                            \n",
      "__________________________________________________________________________________________________\n",
      "enc_padding_mask (Lambda)       (None, 1, 1, None)   0           inputs[0][0]                     \n",
      "__________________________________________________________________________________________________\n",
      "encoder (Functional)            (None, None, 256)    3289600     inputs[0][0]                     \n",
      "                                                                 enc_padding_mask[0][0]           \n",
      "__________________________________________________________________________________________________\n",
      "look_ahead_mask (Lambda)        (None, 1, None, None 0           dec_inputs[0][0]                 \n",
      "__________________________________________________________________________________________________\n",
      "dec_padding_mask (Lambda)       (None, 1, 1, None)   0           inputs[0][0]                     \n",
      "__________________________________________________________________________________________________\n",
      "decoder (Functional)            (None, None, 256)    3816960     dec_inputs[0][0]                 \n",
      "                                                                 encoder[0][0]                    \n",
      "                                                                 look_ahead_mask[0][0]            \n",
      "                                                                 dec_padding_mask[0][0]           \n",
      "__________________________________________________________________________________________________\n",
      "outputs (Dense)                 (None, None, 8732)   2244124     decoder[0][0]                    \n",
      "==================================================================================================\n",
      "Total params: 9,350,684\n",
      "Trainable params: 9,350,684\n",
      "Non-trainable params: 0\n",
      "__________________________________________________________________________________________________\n"
     ]
    }
   ],
   "source": [
    "tf.keras.backend.clear_session()\n",
    "\n",
    "model = transformer(\n",
    "    vocab_size=VOCAB_SIZE,\n",
    "    num_layers=NUM_LAYERS,\n",
    "    units=UNITS,\n",
    "    d_model=D_MODEL,\n",
    "    num_heads=NUM_HEADS,\n",
    "    dropout=DROPOUT)\n",
    "\n",
    "model.summary()"
   ]
  },
  {
   "cell_type": "markdown",
   "id": "fcff6c58",
   "metadata": {},
   "source": [
    "### 손실함수\n",
    "\n",
    "레이블인 시퀀스에 패딩이 되어 있으므로, loss를 계산할 때 패딩 마스크를 적용"
   ]
  },
  {
   "cell_type": "code",
   "execution_count": 167,
   "id": "738e0b3c",
   "metadata": {},
   "outputs": [],
   "source": [
    "def loss_function(y_true, y_pred):\n",
    "    y_true = tf.reshape(y_true, shape=(-1, MAX_SENTENCE_LENGTH - 1))\n",
    "\n",
    "    loss = tf.keras.losses.SparseCategoricalCrossentropy(\n",
    "      from_logits=True, reduction='none')(y_true, y_pred)\n",
    "\n",
    "    mask = tf.cast(tf.not_equal(y_true, 0), tf.float32)\n",
    "    loss = tf.multiply(loss, mask)\n",
    "\n",
    "    return tf.reduce_mean(loss)"
   ]
  },
  {
   "cell_type": "markdown",
   "id": "e5a0335c",
   "metadata": {},
   "source": [
    "### 커스텀 학습률 스케줄링(Custom Learning rate Scheduling) 적용\n",
    "\n",
    "딥러닝 모델학습 시 learning rate는 매우 중요한 하이퍼파라미터입니다. 최근에는 모델학습 초기에 learning rate를 급격히 높였다가, 이후 train step이 진행됨에 따라 서서히 낮추어 가면서 안정적으로 수렴하게 하는 고급 기법을 널리 사용하고 있습니다. 이런 방법을 커스텀 학습률 스케줄링(Custom Learning rate Scheduling)이라고 합니다.\n",
    "\n",
    "논문에 나온 공식을 참고하여 커스텀 학습률 스케줄러를 통한 아담 옵티마이저를 사용합니다. 논문에 나온 공식은 다음과 같습니다.\n"
   ]
  },
  {
   "cell_type": "code",
   "execution_count": 168,
   "id": "4f752d4a",
   "metadata": {},
   "outputs": [],
   "source": [
    "class CustomSchedule(tf.keras.optimizers.schedules.LearningRateSchedule):\n",
    "\n",
    "    def __init__(self, d_model, warmup_steps=4000):\n",
    "        super(CustomSchedule, self).__init__()\n",
    "\n",
    "        self.d_model = d_model\n",
    "        self.d_model = tf.cast(self.d_model, tf.float32)\n",
    "\n",
    "        self.warmup_steps = warmup_steps\n",
    "\n",
    "    def __call__(self, step):\n",
    "        arg1 = tf.math.rsqrt(step)\n",
    "        arg2 = step * (self.warmup_steps**-1.5)\n",
    "\n",
    "        return tf.math.rsqrt(self.d_model) * tf.math.minimum(arg1, arg2)"
   ]
  },
  {
   "cell_type": "markdown",
   "id": "0832b99d",
   "metadata": {},
   "source": [
    "#### 학습률 스케쥴링 시각화"
   ]
  },
  {
   "cell_type": "code",
   "execution_count": 169,
   "id": "79003edc",
   "metadata": {},
   "outputs": [
    {
     "data": {
      "text/plain": [
       "Text(0.5, 0, 'Train Step')"
      ]
     },
     "execution_count": 169,
     "metadata": {},
     "output_type": "execute_result"
    },
    {
     "data": {
      "image/png": "[encoded data removed]",
      "text/plain": [
       "<Figure size 432x288 with 1 Axes>"
      ]
     },
     "metadata": {
      "needs_background": "light"
     },
     "output_type": "display_data"
    }
   ],
   "source": [
    "sample_learning_rate = CustomSchedule(d_model=128)\n",
    "\n",
    "plt.plot(sample_learning_rate(tf.range(200000, dtype=tf.float32)))\n",
    "plt.ylabel(\"Learning Rate\")\n",
    "plt.xlabel(\"Train Step\")"
   ]
  },
  {
   "cell_type": "markdown",
   "id": "1f92d05f",
   "metadata": {},
   "source": [
    "### 모델 컴파일"
   ]
  },
  {
   "cell_type": "code",
   "execution_count": 170,
   "id": "26403a92",
   "metadata": {},
   "outputs": [],
   "source": [
    "def accuracy(y_true, y_pred):\n",
    "    y_true = tf.reshape(y_true, shape=(-1, MAX_SENTENCE_LENGTH - 1))\n",
    "    return tf.keras.metrics.sparse_categorical_accuracy(y_true, y_pred)"
   ]
  },
  {
   "cell_type": "code",
   "execution_count": 171,
   "id": "8c547d94",
   "metadata": {},
   "outputs": [],
   "source": [
    "learning_rate = CustomSchedule(D_MODEL)\n",
    "\n",
    "optimizer = tf.keras.optimizers.Adam(\n",
    "    learning_rate, beta_1=0.9, beta_2=0.98, epsilon=1e-9)\n",
    "\n",
    "model.compile(optimizer='adam', loss=loss_function, metrics=[accuracy])"
   ]
  },
  {
   "cell_type": "markdown",
   "id": "9bb4aa64",
   "metadata": {},
   "source": [
    "## 모델 훈련"
   ]
  },
  {
   "cell_type": "code",
   "execution_count": 172,
   "id": "50e45fc0",
   "metadata": {
    "scrolled": false
   },
   "outputs": [
    {
     "name": "stdout",
     "output_type": "stream",
     "text": [
      "Epoch 1/200\n",
      "148/148 [==============================] - 15s 66ms/step - loss: 0.8159 - accuracy: 0.0378\n",
      "Epoch 2/200\n",
      "148/148 [==============================] - 10s 65ms/step - loss: 0.7069 - accuracy: 0.0433\n",
      "Epoch 3/200\n",
      "148/148 [==============================] - 10s 66ms/step - loss: 0.6567 - accuracy: 0.0465\n",
      "Epoch 4/200\n",
      "148/148 [==============================] - 10s 66ms/step - loss: 0.5753 - accuracy: 0.0523\n",
      "Epoch 5/200\n",
      "148/148 [==============================] - 10s 66ms/step - loss: 0.4653 - accuracy: 0.0637\n",
      "Epoch 6/200\n",
      "148/148 [==============================] - 10s 66ms/step - loss: 0.3653 - accuracy: 0.0752\n",
      "Epoch 7/200\n",
      "148/148 [==============================] - 10s 67ms/step - loss: 0.2940 - accuracy: 0.0839\n",
      "Epoch 8/200\n",
      "148/148 [==============================] - 10s 67ms/step - loss: 0.2462 - accuracy: 0.0913\n",
      "Epoch 9/200\n",
      "148/148 [==============================] - 10s 67ms/step - loss: 0.2126 - accuracy: 0.0968\n",
      "Epoch 10/200\n",
      "148/148 [==============================] - 10s 66ms/step - loss: 0.1852 - accuracy: 0.1007\n",
      "Epoch 11/200\n",
      "148/148 [==============================] - 10s 66ms/step - loss: 0.1652 - accuracy: 0.1037\n",
      "Epoch 12/200\n",
      "148/148 [==============================] - 10s 66ms/step - loss: 0.1480 - accuracy: 0.1058\n",
      "Epoch 13/200\n",
      "148/148 [==============================] - 10s 66ms/step - loss: 0.1330 - accuracy: 0.1080\n",
      "Epoch 14/200\n",
      "148/148 [==============================] - 10s 66ms/step - loss: 0.1196 - accuracy: 0.1097\n",
      "Epoch 15/200\n",
      "148/148 [==============================] - 10s 66ms/step - loss: 0.1071 - accuracy: 0.1116\n",
      "Epoch 16/200\n",
      "148/148 [==============================] - 10s 66ms/step - loss: 0.0973 - accuracy: 0.1133\n",
      "Epoch 17/200\n",
      "148/148 [==============================] - 10s 66ms/step - loss: 0.0890 - accuracy: 0.1146\n",
      "Epoch 18/200\n",
      "148/148 [==============================] - 10s 66ms/step - loss: 0.0796 - accuracy: 0.1162\n",
      "Epoch 19/200\n",
      "148/148 [==============================] - 10s 66ms/step - loss: 0.0727 - accuracy: 0.1175\n",
      "Epoch 20/200\n",
      "148/148 [==============================] - 10s 66ms/step - loss: 0.0650 - accuracy: 0.1191\n",
      "Epoch 21/200\n",
      "148/148 [==============================] - 10s 66ms/step - loss: 0.0585 - accuracy: 0.1207\n",
      "Epoch 22/200\n",
      "148/148 [==============================] - 10s 67ms/step - loss: 0.0546 - accuracy: 0.1214\n",
      "Epoch 23/200\n",
      "148/148 [==============================] - 10s 67ms/step - loss: 0.0517 - accuracy: 0.1220\n",
      "Epoch 24/200\n",
      "148/148 [==============================] - 10s 67ms/step - loss: 0.0483 - accuracy: 0.1228\n",
      "Epoch 25/200\n",
      "148/148 [==============================] - 10s 66ms/step - loss: 0.0438 - accuracy: 0.1239\n",
      "Epoch 26/200\n",
      "148/148 [==============================] - 10s 66ms/step - loss: 0.0396 - accuracy: 0.1250\n",
      "Epoch 27/200\n",
      "148/148 [==============================] - 10s 66ms/step - loss: 0.0360 - accuracy: 0.1259\n",
      "Epoch 28/200\n",
      "148/148 [==============================] - 10s 66ms/step - loss: 0.0335 - accuracy: 0.1266\n",
      "Epoch 29/200\n",
      "148/148 [==============================] - 10s 66ms/step - loss: 0.0330 - accuracy: 0.1268\n",
      "Epoch 30/200\n",
      "148/148 [==============================] - 10s 66ms/step - loss: 0.0324 - accuracy: 0.1269\n",
      "Epoch 31/200\n",
      "148/148 [==============================] - 10s 66ms/step - loss: 0.0324 - accuracy: 0.1267\n",
      "Epoch 32/200\n",
      "148/148 [==============================] - 10s 66ms/step - loss: 0.0293 - accuracy: 0.1277\n",
      "Epoch 33/200\n",
      "148/148 [==============================] - 10s 66ms/step - loss: 0.0286 - accuracy: 0.1279\n",
      "Epoch 34/200\n",
      "148/148 [==============================] - 10s 66ms/step - loss: 0.0266 - accuracy: 0.1286\n",
      "Epoch 35/200\n",
      "148/148 [==============================] - 10s 66ms/step - loss: 0.0272 - accuracy: 0.1285\n",
      "Epoch 36/200\n",
      "148/148 [==============================] - 10s 66ms/step - loss: 0.0274 - accuracy: 0.1282\n",
      "Epoch 37/200\n",
      "148/148 [==============================] - 10s 66ms/step - loss: 0.0251 - accuracy: 0.1289\n",
      "Epoch 38/200\n",
      "148/148 [==============================] - 10s 66ms/step - loss: 0.0241 - accuracy: 0.1293\n",
      "Epoch 39/200\n",
      "148/148 [==============================] - 10s 66ms/step - loss: 0.0246 - accuracy: 0.1289\n",
      "Epoch 40/200\n",
      "148/148 [==============================] - 10s 66ms/step - loss: 0.0259 - accuracy: 0.1288\n",
      "Epoch 41/200\n",
      "148/148 [==============================] - 10s 66ms/step - loss: 0.0233 - accuracy: 0.1294\n",
      "Epoch 42/200\n",
      "148/148 [==============================] - 10s 66ms/step - loss: 0.0236 - accuracy: 0.1294\n",
      "Epoch 43/200\n",
      "148/148 [==============================] - 10s 66ms/step - loss: 0.0218 - accuracy: 0.1298\n",
      "Epoch 44/200\n",
      "148/148 [==============================] - 10s 66ms/step - loss: 0.0216 - accuracy: 0.1298\n",
      "Epoch 45/200\n",
      "148/148 [==============================] - 10s 66ms/step - loss: 0.0212 - accuracy: 0.1301\n",
      "Epoch 46/200\n",
      "148/148 [==============================] - 10s 66ms/step - loss: 0.0197 - accuracy: 0.1304\n",
      "Epoch 47/200\n",
      "148/148 [==============================] - 10s 66ms/step - loss: 0.0216 - accuracy: 0.1299\n",
      "Epoch 48/200\n",
      "148/148 [==============================] - 10s 66ms/step - loss: 0.0207 - accuracy: 0.1300\n",
      "Epoch 49/200\n",
      "148/148 [==============================] - 10s 66ms/step - loss: 0.0200 - accuracy: 0.1303\n",
      "Epoch 50/200\n",
      "148/148 [==============================] - 10s 66ms/step - loss: 0.0205 - accuracy: 0.1304\n",
      "Epoch 51/200\n",
      "148/148 [==============================] - 10s 66ms/step - loss: 0.0204 - accuracy: 0.1302\n",
      "Epoch 52/200\n",
      "148/148 [==============================] - 10s 66ms/step - loss: 0.0208 - accuracy: 0.1301\n",
      "Epoch 53/200\n",
      "148/148 [==============================] - 10s 66ms/step - loss: 0.0190 - accuracy: 0.1306\n",
      "Epoch 54/200\n",
      "148/148 [==============================] - 10s 67ms/step - loss: 0.0194 - accuracy: 0.1304\n",
      "Epoch 55/200\n",
      "148/148 [==============================] - 10s 66ms/step - loss: 0.0184 - accuracy: 0.1308\n",
      "Epoch 56/200\n",
      "148/148 [==============================] - 10s 66ms/step - loss: 0.0187 - accuracy: 0.1306\n",
      "Epoch 57/200\n",
      "148/148 [==============================] - 10s 66ms/step - loss: 0.0190 - accuracy: 0.1305\n",
      "Epoch 58/200\n",
      "148/148 [==============================] - 10s 66ms/step - loss: 0.0192 - accuracy: 0.1305\n",
      "Epoch 59/200\n",
      "148/148 [==============================] - 10s 66ms/step - loss: 0.0199 - accuracy: 0.1303\n",
      "Epoch 60/200\n",
      "148/148 [==============================] - 10s 66ms/step - loss: 0.0187 - accuracy: 0.1306\n",
      "Epoch 61/200\n",
      "148/148 [==============================] - 10s 66ms/step - loss: 0.0177 - accuracy: 0.1309\n",
      "Epoch 62/200\n",
      "148/148 [==============================] - 10s 66ms/step - loss: 0.0168 - accuracy: 0.1312\n",
      "Epoch 63/200\n",
      "148/148 [==============================] - 10s 66ms/step - loss: 0.0163 - accuracy: 0.1313\n",
      "Epoch 64/200\n",
      "148/148 [==============================] - 10s 66ms/step - loss: 0.0169 - accuracy: 0.1312\n",
      "Epoch 65/200\n",
      "148/148 [==============================] - 10s 66ms/step - loss: 0.0163 - accuracy: 0.1315\n",
      "Epoch 66/200\n",
      "148/148 [==============================] - 10s 66ms/step - loss: 0.0167 - accuracy: 0.1312\n",
      "Epoch 67/200\n",
      "148/148 [==============================] - 10s 66ms/step - loss: 0.0163 - accuracy: 0.1314\n",
      "Epoch 68/200\n",
      "148/148 [==============================] - 10s 66ms/step - loss: 0.0160 - accuracy: 0.1314\n",
      "Epoch 69/200\n",
      "148/148 [==============================] - 10s 66ms/step - loss: 0.0168 - accuracy: 0.1311\n",
      "Epoch 70/200\n",
      "148/148 [==============================] - 10s 66ms/step - loss: 0.0164 - accuracy: 0.1314\n",
      "Epoch 71/200\n",
      "148/148 [==============================] - 10s 66ms/step - loss: 0.0173 - accuracy: 0.1311\n",
      "Epoch 72/200\n",
      "148/148 [==============================] - 10s 66ms/step - loss: 0.0164 - accuracy: 0.1313\n",
      "Epoch 73/200\n",
      "148/148 [==============================] - 10s 66ms/step - loss: 0.0161 - accuracy: 0.1313\n",
      "Epoch 74/200\n",
      "148/148 [==============================] - 10s 66ms/step - loss: 0.0159 - accuracy: 0.1314\n",
      "Epoch 75/200\n",
      "148/148 [==============================] - 10s 66ms/step - loss: 0.0149 - accuracy: 0.1317\n",
      "Epoch 76/200\n",
      "148/148 [==============================] - 10s 66ms/step - loss: 0.0139 - accuracy: 0.1319\n",
      "Epoch 77/200\n",
      "148/148 [==============================] - 10s 66ms/step - loss: 0.0131 - accuracy: 0.1323\n",
      "Epoch 78/200\n",
      "148/148 [==============================] - 10s 66ms/step - loss: 0.0143 - accuracy: 0.1320\n",
      "Epoch 79/200\n",
      "148/148 [==============================] - 10s 66ms/step - loss: 0.0150 - accuracy: 0.1318\n",
      "Epoch 80/200\n",
      "148/148 [==============================] - 10s 66ms/step - loss: 0.0152 - accuracy: 0.1316\n",
      "Epoch 81/200\n",
      "148/148 [==============================] - 10s 66ms/step - loss: 0.0144 - accuracy: 0.1319\n",
      "Epoch 82/200\n",
      "148/148 [==============================] - 10s 66ms/step - loss: 0.0150 - accuracy: 0.1317\n",
      "Epoch 83/200\n",
      "148/148 [==============================] - 10s 66ms/step - loss: 0.0153 - accuracy: 0.1316\n",
      "Epoch 84/200\n",
      "148/148 [==============================] - 10s 66ms/step - loss: 0.0146 - accuracy: 0.1318\n",
      "Epoch 85/200\n",
      "148/148 [==============================] - 10s 67ms/step - loss: 0.0143 - accuracy: 0.1319\n",
      "Epoch 86/200\n",
      "148/148 [==============================] - 10s 67ms/step - loss: 0.0138 - accuracy: 0.1320\n",
      "Epoch 87/200\n",
      "148/148 [==============================] - 10s 66ms/step - loss: 0.0139 - accuracy: 0.1321\n",
      "Epoch 88/200\n",
      "148/148 [==============================] - 10s 66ms/step - loss: 0.0140 - accuracy: 0.1322\n",
      "Epoch 89/200\n",
      "148/148 [==============================] - 10s 66ms/step - loss: 0.0136 - accuracy: 0.1321\n",
      "Epoch 90/200\n",
      "148/148 [==============================] - 10s 66ms/step - loss: 0.0130 - accuracy: 0.1323\n",
      "Epoch 91/200\n",
      "148/148 [==============================] - 10s 66ms/step - loss: 0.0133 - accuracy: 0.1322\n",
      "Epoch 92/200\n",
      "148/148 [==============================] - 10s 66ms/step - loss: 0.0132 - accuracy: 0.1322\n",
      "Epoch 93/200\n",
      "148/148 [==============================] - 10s 66ms/step - loss: 0.0135 - accuracy: 0.1321\n",
      "Epoch 94/200\n",
      "148/148 [==============================] - 10s 66ms/step - loss: 0.0139 - accuracy: 0.1319\n",
      "Epoch 95/200\n",
      "148/148 [==============================] - 10s 66ms/step - loss: 0.0137 - accuracy: 0.1321\n",
      "Epoch 96/200\n",
      "148/148 [==============================] - 10s 66ms/step - loss: 0.0129 - accuracy: 0.1323\n",
      "Epoch 97/200\n",
      "148/148 [==============================] - 10s 66ms/step - loss: 0.0131 - accuracy: 0.1322\n",
      "Epoch 98/200\n",
      "148/148 [==============================] - 10s 66ms/step - loss: 0.0141 - accuracy: 0.1320\n",
      "Epoch 99/200\n",
      "148/148 [==============================] - 10s 66ms/step - loss: 0.0128 - accuracy: 0.1324\n",
      "Epoch 100/200\n",
      "148/148 [==============================] - 10s 66ms/step - loss: 0.0120 - accuracy: 0.1325\n",
      "Epoch 101/200\n",
      "148/148 [==============================] - 10s 66ms/step - loss: 0.0120 - accuracy: 0.1325\n",
      "Epoch 102/200\n",
      "148/148 [==============================] - 10s 66ms/step - loss: 0.0124 - accuracy: 0.1324\n",
      "Epoch 103/200\n",
      "148/148 [==============================] - 10s 66ms/step - loss: 0.0120 - accuracy: 0.1325\n",
      "Epoch 104/200\n",
      "148/148 [==============================] - 10s 66ms/step - loss: 0.0128 - accuracy: 0.1323\n",
      "Epoch 105/200\n",
      "148/148 [==============================] - 10s 66ms/step - loss: 0.0121 - accuracy: 0.1325\n",
      "Epoch 106/200\n",
      "148/148 [==============================] - 10s 66ms/step - loss: 0.0125 - accuracy: 0.1325\n",
      "Epoch 107/200\n",
      "148/148 [==============================] - 10s 66ms/step - loss: 0.0123 - accuracy: 0.1324\n",
      "Epoch 108/200\n",
      "148/148 [==============================] - 10s 66ms/step - loss: 0.0130 - accuracy: 0.1324\n",
      "Epoch 109/200\n",
      "148/148 [==============================] - 10s 66ms/step - loss: 0.0134 - accuracy: 0.1323\n",
      "Epoch 110/200\n",
      "148/148 [==============================] - 10s 66ms/step - loss: 0.0108 - accuracy: 0.1328\n",
      "Epoch 111/200\n",
      "148/148 [==============================] - 10s 66ms/step - loss: 0.0112 - accuracy: 0.1329\n",
      "Epoch 112/200\n",
      "148/148 [==============================] - 10s 66ms/step - loss: 0.0116 - accuracy: 0.1327\n",
      "Epoch 113/200\n",
      "148/148 [==============================] - 10s 66ms/step - loss: 0.0113 - accuracy: 0.1327\n",
      "Epoch 114/200\n",
      "148/148 [==============================] - 10s 66ms/step - loss: 0.0111 - accuracy: 0.1328\n",
      "Epoch 115/200\n",
      "148/148 [==============================] - 10s 66ms/step - loss: 0.0122 - accuracy: 0.1325\n",
      "Epoch 116/200\n",
      "148/148 [==============================] - 10s 66ms/step - loss: 0.0122 - accuracy: 0.1325\n",
      "Epoch 117/200\n",
      "148/148 [==============================] - 10s 67ms/step - loss: 0.0120 - accuracy: 0.1325\n",
      "Epoch 118/200\n",
      "148/148 [==============================] - 10s 66ms/step - loss: 0.0118 - accuracy: 0.1327\n",
      "Epoch 119/200\n",
      "148/148 [==============================] - 10s 66ms/step - loss: 0.0126 - accuracy: 0.1324\n",
      "Epoch 120/200\n",
      "148/148 [==============================] - 10s 66ms/step - loss: 0.0121 - accuracy: 0.1325\n",
      "Epoch 121/200\n",
      "148/148 [==============================] - 10s 66ms/step - loss: 0.0117 - accuracy: 0.1325\n",
      "Epoch 122/200\n",
      "148/148 [==============================] - 10s 66ms/step - loss: 0.0111 - accuracy: 0.1328\n",
      "Epoch 123/200\n",
      "148/148 [==============================] - 10s 66ms/step - loss: 0.0117 - accuracy: 0.1327\n",
      "Epoch 124/200\n",
      "148/148 [==============================] - 10s 66ms/step - loss: 0.0112 - accuracy: 0.1328\n",
      "Epoch 125/200\n",
      "148/148 [==============================] - 10s 66ms/step - loss: 0.0109 - accuracy: 0.1330\n",
      "Epoch 126/200\n",
      "148/148 [==============================] - 10s 66ms/step - loss: 0.0106 - accuracy: 0.1329\n",
      "Epoch 127/200\n",
      "148/148 [==============================] - 10s 66ms/step - loss: 0.0104 - accuracy: 0.1330\n",
      "Epoch 128/200\n",
      "148/148 [==============================] - 10s 66ms/step - loss: 0.0104 - accuracy: 0.1329\n",
      "Epoch 129/200\n",
      "148/148 [==============================] - 10s 66ms/step - loss: 0.0102 - accuracy: 0.1330\n",
      "Epoch 130/200\n",
      "148/148 [==============================] - 10s 66ms/step - loss: 0.0105 - accuracy: 0.1330\n",
      "Epoch 131/200\n",
      "148/148 [==============================] - 10s 66ms/step - loss: 0.0109 - accuracy: 0.1329\n",
      "Epoch 132/200\n",
      "148/148 [==============================] - 10s 66ms/step - loss: 0.0102 - accuracy: 0.1330\n",
      "Epoch 133/200\n",
      "148/148 [==============================] - 10s 66ms/step - loss: 0.0105 - accuracy: 0.1330\n",
      "Epoch 134/200\n",
      "148/148 [==============================] - 10s 66ms/step - loss: 0.0095 - accuracy: 0.1333\n",
      "Epoch 135/200\n",
      "148/148 [==============================] - 10s 66ms/step - loss: 0.0103 - accuracy: 0.1330\n",
      "Epoch 136/200\n",
      "148/148 [==============================] - 10s 66ms/step - loss: 0.0104 - accuracy: 0.1331\n",
      "Epoch 137/200\n",
      "148/148 [==============================] - 10s 66ms/step - loss: 0.0101 - accuracy: 0.1330\n",
      "Epoch 138/200\n",
      "148/148 [==============================] - 10s 66ms/step - loss: 0.0108 - accuracy: 0.1329\n",
      "Epoch 139/200\n",
      "148/148 [==============================] - 10s 66ms/step - loss: 0.0095 - accuracy: 0.1331\n",
      "Epoch 140/200\n",
      "148/148 [==============================] - 10s 66ms/step - loss: 0.0097 - accuracy: 0.1332\n",
      "Epoch 141/200\n",
      "148/148 [==============================] - 10s 66ms/step - loss: 0.0108 - accuracy: 0.1327\n",
      "Epoch 142/200\n",
      "148/148 [==============================] - 10s 66ms/step - loss: 0.0103 - accuracy: 0.1330\n",
      "Epoch 143/200\n",
      "148/148 [==============================] - 10s 66ms/step - loss: 0.0098 - accuracy: 0.1332\n",
      "Epoch 144/200\n",
      "148/148 [==============================] - 10s 66ms/step - loss: 0.0095 - accuracy: 0.1333\n",
      "Epoch 145/200\n",
      "148/148 [==============================] - 10s 66ms/step - loss: 0.0099 - accuracy: 0.1332\n",
      "Epoch 146/200\n",
      "148/148 [==============================] - 10s 66ms/step - loss: 0.0097 - accuracy: 0.1333\n",
      "Epoch 147/200\n",
      "148/148 [==============================] - 10s 66ms/step - loss: 0.0093 - accuracy: 0.1333\n",
      "Epoch 148/200\n",
      "148/148 [==============================] - 10s 66ms/step - loss: 0.0093 - accuracy: 0.1333\n",
      "Epoch 149/200\n",
      "148/148 [==============================] - 10s 67ms/step - loss: 0.0093 - accuracy: 0.1333\n",
      "Epoch 150/200\n",
      "148/148 [==============================] - 10s 66ms/step - loss: 0.0105 - accuracy: 0.1329\n",
      "Epoch 151/200\n",
      "148/148 [==============================] - 10s 66ms/step - loss: 0.0103 - accuracy: 0.1331\n",
      "Epoch 152/200\n",
      "148/148 [==============================] - 10s 66ms/step - loss: 0.0102 - accuracy: 0.1331\n",
      "Epoch 153/200\n",
      "148/148 [==============================] - 10s 66ms/step - loss: 0.0097 - accuracy: 0.1332\n",
      "Epoch 154/200\n",
      "148/148 [==============================] - 10s 66ms/step - loss: 0.0105 - accuracy: 0.1329\n",
      "Epoch 155/200\n",
      "148/148 [==============================] - 10s 66ms/step - loss: 0.0099 - accuracy: 0.1331\n",
      "Epoch 156/200\n",
      "148/148 [==============================] - 10s 66ms/step - loss: 0.0111 - accuracy: 0.1328\n",
      "Epoch 157/200\n",
      "148/148 [==============================] - 10s 66ms/step - loss: 0.0098 - accuracy: 0.1331\n",
      "Epoch 158/200\n",
      "148/148 [==============================] - 10s 66ms/step - loss: 0.0096 - accuracy: 0.1331\n",
      "Epoch 159/200\n",
      "148/148 [==============================] - 10s 66ms/step - loss: 0.0100 - accuracy: 0.1331\n",
      "Epoch 160/200\n",
      "148/148 [==============================] - 10s 66ms/step - loss: 0.0097 - accuracy: 0.1332\n",
      "Epoch 161/200\n",
      "148/148 [==============================] - 10s 66ms/step - loss: 0.0091 - accuracy: 0.1333\n",
      "Epoch 162/200\n",
      "148/148 [==============================] - 10s 66ms/step - loss: 0.0089 - accuracy: 0.1334\n",
      "Epoch 163/200\n",
      "148/148 [==============================] - 10s 66ms/step - loss: 0.0089 - accuracy: 0.1333\n",
      "Epoch 164/200\n",
      "148/148 [==============================] - 10s 66ms/step - loss: 0.0091 - accuracy: 0.1333\n",
      "Epoch 165/200\n",
      "148/148 [==============================] - 10s 66ms/step - loss: 0.0088 - accuracy: 0.1334\n",
      "Epoch 166/200\n",
      "148/148 [==============================] - 10s 66ms/step - loss: 0.0083 - accuracy: 0.1336\n",
      "Epoch 167/200\n",
      "148/148 [==============================] - 10s 66ms/step - loss: 0.0084 - accuracy: 0.1335\n",
      "Epoch 168/200\n",
      "148/148 [==============================] - 10s 66ms/step - loss: 0.0083 - accuracy: 0.1336\n",
      "Epoch 169/200\n",
      "148/148 [==============================] - 10s 66ms/step - loss: 0.0082 - accuracy: 0.1336\n",
      "Epoch 170/200\n",
      "148/148 [==============================] - 10s 66ms/step - loss: 0.0085 - accuracy: 0.1334\n",
      "Epoch 171/200\n",
      "148/148 [==============================] - 10s 66ms/step - loss: 0.0089 - accuracy: 0.1335\n",
      "Epoch 172/200\n",
      "148/148 [==============================] - 10s 66ms/step - loss: 0.0098 - accuracy: 0.1332\n",
      "Epoch 173/200\n",
      "148/148 [==============================] - 10s 66ms/step - loss: 0.0091 - accuracy: 0.1333\n",
      "Epoch 174/200\n",
      "148/148 [==============================] - 10s 66ms/step - loss: 0.0085 - accuracy: 0.1336\n",
      "Epoch 175/200\n",
      "148/148 [==============================] - 10s 66ms/step - loss: 0.0089 - accuracy: 0.1334\n",
      "Epoch 176/200\n",
      "148/148 [==============================] - 10s 66ms/step - loss: 0.0085 - accuracy: 0.1335\n",
      "Epoch 177/200\n",
      "148/148 [==============================] - 10s 66ms/step - loss: 0.0088 - accuracy: 0.1334\n",
      "Epoch 178/200\n",
      "148/148 [==============================] - 10s 66ms/step - loss: 0.0085 - accuracy: 0.1334\n",
      "Epoch 179/200\n",
      "148/148 [==============================] - 10s 66ms/step - loss: 0.0088 - accuracy: 0.1334\n",
      "Epoch 180/200\n",
      "148/148 [==============================] - 10s 66ms/step - loss: 0.0082 - accuracy: 0.13350s - loss: 0.0\n",
      "Epoch 181/200\n",
      "148/148 [==============================] - 10s 66ms/step - loss: 0.0090 - accuracy: 0.1334\n",
      "Epoch 182/200\n",
      "148/148 [==============================] - 10s 66ms/step - loss: 0.0094 - accuracy: 0.1332\n",
      "Epoch 183/200\n",
      "148/148 [==============================] - 10s 66ms/step - loss: 0.0088 - accuracy: 0.1334\n",
      "Epoch 184/200\n",
      "148/148 [==============================] - 10s 66ms/step - loss: 0.0083 - accuracy: 0.1336\n",
      "Epoch 185/200\n",
      "148/148 [==============================] - 10s 66ms/step - loss: 0.0083 - accuracy: 0.1336\n",
      "Epoch 186/200\n",
      "148/148 [==============================] - 10s 66ms/step - loss: 0.0082 - accuracy: 0.1336\n",
      "Epoch 187/200\n",
      "148/148 [==============================] - 10s 66ms/step - loss: 0.0079 - accuracy: 0.1336\n",
      "Epoch 188/200\n",
      "148/148 [==============================] - 10s 66ms/step - loss: 0.0080 - accuracy: 0.1336\n",
      "Epoch 189/200\n",
      "148/148 [==============================] - 10s 66ms/step - loss: 0.0079 - accuracy: 0.1336\n",
      "Epoch 190/200\n",
      "148/148 [==============================] - 10s 66ms/step - loss: 0.0079 - accuracy: 0.1337\n",
      "Epoch 191/200\n",
      "148/148 [==============================] - 10s 66ms/step - loss: 0.0079 - accuracy: 0.1337\n",
      "Epoch 192/200\n",
      "148/148 [==============================] - 10s 66ms/step - loss: 0.0083 - accuracy: 0.1336\n",
      "Epoch 193/200\n",
      "148/148 [==============================] - 10s 66ms/step - loss: 0.0087 - accuracy: 0.1335\n",
      "Epoch 194/200\n",
      "148/148 [==============================] - 10s 66ms/step - loss: 0.0078 - accuracy: 0.1336\n",
      "Epoch 195/200\n",
      "148/148 [==============================] - 10s 66ms/step - loss: 0.0079 - accuracy: 0.1336\n",
      "Epoch 196/200\n",
      "148/148 [==============================] - 10s 66ms/step - loss: 0.0083 - accuracy: 0.1336\n",
      "Epoch 197/200\n",
      "148/148 [==============================] - 10s 66ms/step - loss: 0.0091 - accuracy: 0.1334\n",
      "Epoch 198/200\n",
      "148/148 [==============================] - 10s 66ms/step - loss: 0.0081 - accuracy: 0.1336\n",
      "Epoch 199/200\n",
      "148/148 [==============================] - 10s 66ms/step - loss: 0.0079 - accuracy: 0.1337\n",
      "Epoch 200/200\n",
      "148/148 [==============================] - 10s 66ms/step - loss: 0.0080 - accuracy: 0.1336\n"
     ]
    }
   ],
   "source": [
    "EPOCHS = 200\n",
    "\n",
    "history = model.fit(dataset, epochs=EPOCHS, verbose=1)"
   ]
  },
  {
   "cell_type": "code",
   "execution_count": 173,
   "id": "165d8094",
   "metadata": {},
   "outputs": [
    {
     "data": {
      "image/png": "[encoded data removed]",
      "text/plain": [
       "<Figure size 432x288 with 1 Axes>"
      ]
     },
     "metadata": {
      "needs_background": "light"
     },
     "output_type": "display_data"
    }
   ],
   "source": [
    "plt.plot(history.history['loss'], 'r')\n",
    "plt.plot(history.history['accuracy'], 'b')\n",
    "plt.title('Model Accuracy ')\n",
    "plt.ylabel('Accuracy')\n",
    "plt.xlabel('Epoch')\n",
    "plt.show()"
   ]
  },
  {
   "cell_type": "markdown",
   "id": "cdcca479",
   "metadata": {},
   "source": [
    "## 모델 평가하기\n",
    "---\n",
    "\n",
    "Step 1에서 선택한 전처리 방법을 고려하여 입력된 문장에 대해서 대답을 얻는 예측 함수를 만듭니다."
   ]
  },
  {
   "cell_type": "code",
   "execution_count": 174,
   "id": "f9412ec5",
   "metadata": {},
   "outputs": [],
   "source": [
    "def decoder_inference(sentence):\n",
    "    # sentence = preprocess_sentence(sentence)\n",
    "\n",
    "    sentence = tf.expand_dims(\n",
    "      SOS + tokenizer.encode(sentence) + EOS, axis=0)\n",
    "\n",
    "    # 디코더의 현재까지의 예측한 출력 시퀀스가 지속적으로 저장되는 변수.\n",
    "    # 처음에는 예측한 내용이 없으므로 시작 토큰만 별도 저장. ex) 8331\n",
    "    output_sequence = tf.expand_dims(SOS, 0)\n",
    "\n",
    "    # 디코더의 인퍼런스 단계\n",
    "    for i in range(MAX_SENTENCE_LENGTH):\n",
    "    # 디코더는 최대 MAX_LENGTH의 길이만큼 다음 단어 예측을 반복합니다.\n",
    "        predictions = model(inputs=[sentence, output_sequence], training=False)\n",
    "        predictions = predictions[:, -1:, :]\n",
    "\n",
    "        # 현재 예측한 단어의 정수\n",
    "        predicted_id = tf.cast(tf.argmax(predictions, axis=-1), tf.int32)\n",
    "\n",
    "        # 만약 현재 예측한 단어가 종료 토큰이라면 for문을 종료\n",
    "        if tf.equal(predicted_id, EOS[0]):\n",
    "            break\n",
    "\n",
    "        # 예측한 단어들은 지속적으로 output_sequence에 추가됩니다.\n",
    "        # 이 output_sequence는 다시 디코더의 입력이 됩니다.\n",
    "        output_sequence = tf.concat([output_sequence, predicted_id], axis=-1)\n",
    "\n",
    "    return tf.squeeze(output_sequence, axis=0)"
   ]
  },
  {
   "cell_type": "code",
   "execution_count": 175,
   "id": "2e598ee3",
   "metadata": {},
   "outputs": [],
   "source": [
    "def sentence_generation(sentence):\n",
    "    # 입력 문장에 대해서 디코더를 동작시켜 예측된 정수 시퀀스를 리턴받습니다.\n",
    "    prediction = decoder_inference(sentence)\n",
    "\n",
    "    # 정수 시퀀스를 다시 텍스트 시퀀스로 변환합니다.\n",
    "    predicted_sentence = tokenizer.decode(\n",
    "      [i for i in prediction if i < tokenizer.vocab_size])\n",
    "\n",
    "    return predicted_sentence"
   ]
  },
  {
   "cell_type": "markdown",
   "id": "a3ec2b55",
   "metadata": {},
   "source": [
    "### Report"
   ]
  },
  {
   "cell_type": "code",
   "execution_count": 176,
   "id": "ea9793c3",
   "metadata": {},
   "outputs": [
    {
     "name": "stdout",
     "output_type": "stream",
     "text": [
      "질문 입력 : 죽을거 같네\n",
      "답변 출력 : 힘내세요 . \n",
      "------------------------------\n",
      "질문 입력 : 내일 시험이야\n",
      "답변 출력 : 너무 집착하지 마세요 . \n",
      "------------------------------\n",
      "질문 입력 : 정말 . 내 자신이 싫다\n",
      "답변 출력 : 시작할 때는 그 끝을 알지 못하죠 . \n",
      "------------------------------\n",
      "질문 입력 : 이별후 네달째\n",
      "답변 출력 : 사람 마음은 알기 어렵죠 . \n",
      "------------------------------\n",
      "질문 입력 : 쌍커풀 해볼까\n",
      "답변 출력 : 도움을 요청하면 더 쉽게 가까워질 수 있을 거예요 . \n",
      "------------------------------\n",
      "질문 입력 : 내 생각 하나만 바꾸면 편할텐데 . \n",
      "답변 출력 : 따로 살아온 삶과 습관 , 성향이 다르기 때문일 거예요 . \n",
      "------------------------------\n",
      "질문 입력 : 어떻게 살아가야 할까\n",
      "답변 출력 : 그런 시기가 있더라고요 . \n",
      "------------------------------\n",
      "질문 입력 : 발 아파\n",
      "답변 출력 : 짧게 변화를 줘도 괜찮을 거 같아요 . \n",
      "------------------------------\n",
      "질문 입력 : 썸 타는 것도 귀찮아 . \n",
      "답변 출력 : 자주 생각하나요 . \n",
      "------------------------------\n",
      "질문 입력 : 좋아하는 애랑 전화하면\n",
      "답변 출력 : 특별한 경험이 될 것 같아요 . \n",
      "------------------------------\n"
     ]
    }
   ],
   "source": [
    "for i in range(10):\n",
    "    print('질문 입력 : {}'.format(X_test[i]))\n",
    "    print('답변 출력 : {}'.format(sentence_generation(X_test[i])))\n",
    "    print('-'*30)"
   ]
  },
  {
   "cell_type": "markdown",
   "id": "d501f1a0",
   "metadata": {},
   "source": [
    "### 고찰\n",
    "1. 트랜스포머의 구성 요소들을 단계적으로 작성하면서 내부 작동 방식과 전체적인 흐름에 대해 대략적으로 이해할 수 있었다.\n",
    "2. 학습을 실시했지만 loss의 감소에 비해 accuracy의 상승이 높지 않았다. 학습 데이타가 더 많으면 성능이 좀 더 개선될 것 같았다. 큰 규모의 대화 데이타 세트를 이용하여 다른 분야, 특히 의료 분야의 대화 챗봇에 응용해 보면 좋겠다는 생각을 했다.\n",
    "3. 포지셔널 인코딩의 개념이 바로 이해되지 않아 어려움을 겪었다. 여러 자료를 찾아보던 중 일러스트로 설명해 놓은 자료를 보고 이해할 수 있었다."
   ]
  },
  {
   "cell_type": "markdown",
   "id": "9314b1d5",
   "metadata": {},
   "source": [
    "### 참고자료\n",
    "\n",
    "1. What is Positional Encoding?\n",
    "https://datascience.stackexchange.com/questions/51065/what-is-the-positional-encoding-in-the-transformer-model\n",
    "\n",
    "2. Transformer와 Nerf에서의 Positional Encoding의 의미와 사용 목적\n",
    "https://gaussian37.github.io/dl-concept-positional_encoding/"
   ]
  },
  {
   "cell_type": "markdown",
   "id": "578d056d",
   "metadata": {},
   "source": []
  }
 ],
 "metadata": {
  "hide_input": false,
  "kernelspec": {
   "display_name": "Python 3 (ipykernel)",
   "language": "python",
   "name": "python3"
  },
  "language_info": {
   "codemirror_mode": {
    "name": "ipython",
    "version": 3
   },
   "file_extension": ".py",
   "mimetype": "text/x-python",
   "name": "python",
   "nbconvert_exporter": "python",
   "pygments_lexer": "ipython3",
   "version": "3.9.7"
  },
  "toc": {
   "base_numbering": 1,
   "nav_menu": {},
   "number_sections": true,
   "sideBar": true,
   "skip_h1_title": true,
   "title_cell": "Table of Contents",
   "title_sidebar": "Contents",
   "toc_cell": false,
   "toc_position": {
    "height": "calc(100% - 180px)",
    "left": "10px",
    "top": "150px",
    "width": "188.390625px"
   },
   "toc_section_display": true,
   "toc_window_display": true
  },
  "varInspector": {
   "cols": {
    "lenName": 16,
    "lenType": 16,
    "lenVar": 40
   },
   "kernels_config": {
    "python": {
     "delete_cmd_postfix": "",
     "delete_cmd_prefix": "del ",
     "library": "var_list.py",
     "varRefreshCmd": "print(var_dic_list())"
    },
    "r": {
     "delete_cmd_postfix": ") ",
     "delete_cmd_prefix": "rm(",
     "library": "var_list.r",
     "varRefreshCmd": "cat(var_dic_list()) "
    }
   },
   "types_to_exclude": [
    "module",
    "function",
    "builtin_function_or_method",
    "instance",
    "_Feature"
   ],
   "window_display": false
  }
 },
 "nbformat": 4,
 "nbformat_minor": 5
}
