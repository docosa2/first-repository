{
 "cells": [
  {
   "cell_type": "markdown",
   "id": "0683f1c0",
   "metadata": {},
   "source": [
    "# Datathon 관련 노트북 설명\n",
    "#### 2022-11-18 (금) 곽상혁\n",
    "\n",
    "1. 데이타 불러오기\n",
    "* athelete_events.csv 파일을 읽어온다.\n",
    "* noc_regions.csv 파일을 읽어온다.\n",
    "\n",
    "2. 데이타 살펴보기\n",
    "* 데이타 프레임의 칼럼명을 확인하고 NaN 값의 갯수를 확인한다.\n",
    "* 271,116 개의 선수 활동 데이타에서 나이(9,474), 키(60,171), 체중(62,875)개의 데이타가 NULL이었다.\n",
    "* 메달 칼럼은 231,333개의 칼럼이 NULL이었다.\n",
    "* 230개의 지역 데이타에서 지역(3), 노트(209) 개의 데이타가 NULL이었다.\n",
    "* 확인 후 두개의 데이타프레임을 연결한다.\n",
    "\n",
    "3. 데이타 시각화\n",
    "* 2차원 데이타 시각화\n",
    "* 3차원 데이타 시각화\n",
    "* 3차원 데이타의 에니메이션 효과\n",
    "\n",
    "4. 데이타 전처리\n",
    "* NaN 값의 처리\n",
    "* 카테고리 변수를 One-hot Encoding으로 처리\n",
    "* 레이블 균형을 위해 메달리스의 자료를 복사하여 훈련 세트에 추가\n",
    "* 수치 데이타 분포의 Skewness 교정을 위해 로그 변환을 수행\n",
    "\n",
    "5. 데이타 분리\n",
    "* 80%는 훈련용, 20%는 테스트용으로 분리\n",
    "\n",
    "6. 모델 정의 및 훈련\n",
    "* Decision Tree와 Random Forest를 이용하여 훈련\n",
    "\n",
    "7. 모델 평가\n",
    "* Confusion Matrix와 Weighted F1 Score를 이용\n",
    "\n",
    "8. 추가 분석\n",
    "* 데이타 시각화 과정을 통해 남녀 선수의 분포가 차이가 있음을 확인\n",
    "* 따라서 남자와 여자 선수를 분리하여 모델 훈련 및 평가를 진행함\n"
   ]
  }
 ],
 "metadata": {
  "kernelspec": {
   "display_name": "Python 3 (ipykernel)",
   "language": "python",
   "name": "python3"
  },
  "language_info": {
   "codemirror_mode": {
    "name": "ipython",
    "version": 3
   },
   "file_extension": ".py",
   "mimetype": "text/x-python",
   "name": "python",
   "nbconvert_exporter": "python",
   "pygments_lexer": "ipython3",
   "version": "3.9.13"
  }
 },
 "nbformat": 4,
 "nbformat_minor": 5
}
