{
 "cells": [
  {
   "cell_type": "markdown",
   "id": "e6745ee4",
   "metadata": {},
   "source": [
    "# EX-13 Recommendation System for Movielnes - Project\n",
    "\n",
    "### 2023-01-01 (일)\n",
    "\n",
    "### 곽상혁\n",
    "https://github.com/docosa2/"
   ]
  },
  {
   "cell_type": "markdown",
   "id": "94844c02",
   "metadata": {},
   "source": [
    "이전 스텝에서 배운 MF 모델 학습 방법을 토대로, 내가 좋아할 만한 영화 추천 시스템을 제작해 보겠습니다.\n",
    "\n",
    "이번에 활용할 데이터셋은 추천 시스템의 MNIST라고 부를만한 Movielens 데이터입니다.\n",
    "\n",
    "유저가 영화에 대해 평점을 매긴 데이터가 데이터 크기 별로 있습니다. MovieLens 1M Dataset 사용을 권장합니다.\n",
    "별점 데이터는 대표적인 explicit 데이터입니다. 하지만 implicit 데이터로 간주하고 테스트해 볼 수 있습니다.\n",
    "별점을 시청횟수로 해석해서 생각하겠습니다.\n",
    "또한 유저가 3점 미만으로 준 데이터는 선호하지 않는다고 가정하고 제외하겠습니다.\n",
    "Cloud Storage에 미리 업로드된 ml-1m폴더 내 파일을 심볼릭 링크로 개인 storage에 연결해 줍니다.\n",
    "\n",
    "Cloud shell에서 아래 명령어를 입력해 주세요.\n",
    "\n",
    "> $ mkdir -p ~/aiffel/recommendata_iu/data/ml-1m\n",
    "\n",
    "> $ ln -s ~/data/ml-1m/* ~/aiffel/recommendata_iu/data/ml-1m\n",
    "\n",
    "프로젝트에 필요한 주요 라이브러리 버전을 확인해봅시다."
   ]
  },
  {
   "cell_type": "code",
   "execution_count": 217,
   "id": "76660115",
   "metadata": {},
   "outputs": [
    {
     "name": "stdout",
     "output_type": "stream",
     "text": [
      "1.22.4\n",
      "1.9.3\n",
      "0.6.2\n"
     ]
    }
   ],
   "source": [
    "import pandas as pd\n",
    "import numpy as np\n",
    "import scipy\n",
    "\n",
    "import implicit\n",
    "\n",
    "print(np.__version__)\n",
    "print(scipy.__version__)\n",
    "print(implicit.__version__)"
   ]
  },
  {
   "cell_type": "markdown",
   "id": "b0993210",
   "metadata": {},
   "source": [
    "## 데이타 준비 및 전처리"
   ]
  },
  {
   "cell_type": "code",
   "execution_count": 218,
   "id": "0ced0503",
   "metadata": {},
   "outputs": [
    {
     "data": {
      "text/html": [
       "<div>\n",
       "<style scoped>\n",
       "    .dataframe tbody tr th:only-of-type {\n",
       "        vertical-align: middle;\n",
       "    }\n",
       "\n",
       "    .dataframe tbody tr th {\n",
       "        vertical-align: top;\n",
       "    }\n",
       "\n",
       "    .dataframe thead th {\n",
       "        text-align: right;\n",
       "    }\n",
       "</style>\n",
       "<table border=\"1\" class=\"dataframe\">\n",
       "  <thead>\n",
       "    <tr style=\"text-align: right;\">\n",
       "      <th></th>\n",
       "      <th>user_id</th>\n",
       "      <th>movie_id</th>\n",
       "      <th>ratings</th>\n",
       "      <th>timestamp</th>\n",
       "    </tr>\n",
       "  </thead>\n",
       "  <tbody>\n",
       "    <tr>\n",
       "      <th>0</th>\n",
       "      <td>1</td>\n",
       "      <td>1193</td>\n",
       "      <td>5</td>\n",
       "      <td>978300760</td>\n",
       "    </tr>\n",
       "    <tr>\n",
       "      <th>1</th>\n",
       "      <td>1</td>\n",
       "      <td>661</td>\n",
       "      <td>3</td>\n",
       "      <td>978302109</td>\n",
       "    </tr>\n",
       "    <tr>\n",
       "      <th>2</th>\n",
       "      <td>1</td>\n",
       "      <td>914</td>\n",
       "      <td>3</td>\n",
       "      <td>978301968</td>\n",
       "    </tr>\n",
       "    <tr>\n",
       "      <th>3</th>\n",
       "      <td>1</td>\n",
       "      <td>3408</td>\n",
       "      <td>4</td>\n",
       "      <td>978300275</td>\n",
       "    </tr>\n",
       "    <tr>\n",
       "      <th>4</th>\n",
       "      <td>1</td>\n",
       "      <td>2355</td>\n",
       "      <td>5</td>\n",
       "      <td>978824291</td>\n",
       "    </tr>\n",
       "  </tbody>\n",
       "</table>\n",
       "</div>"
      ],
      "text/plain": [
       "   user_id  movie_id  ratings  timestamp\n",
       "0        1      1193        5  978300760\n",
       "1        1       661        3  978302109\n",
       "2        1       914        3  978301968\n",
       "3        1      3408        4  978300275\n",
       "4        1      2355        5  978824291"
      ]
     },
     "execution_count": 218,
     "metadata": {},
     "output_type": "execute_result"
    }
   ],
   "source": [
    "import os\n",
    "rating_file_path=os.getenv('HOME') + '/aiffel/recommendata_iu/data/ml-1m/ratings.dat'\n",
    "ratings_cols = ['user_id', 'movie_id', 'ratings', 'timestamp']\n",
    "ratings = pd.read_csv(rating_file_path, sep='::', names=ratings_cols, engine='python', encoding = \"ISO-8859-1\")\n",
    "orginal_data_size = len(ratings)\n",
    "ratings.head()"
   ]
  },
  {
   "cell_type": "code",
   "execution_count": 219,
   "id": "3e02f6ed",
   "metadata": {},
   "outputs": [
    {
     "name": "stdout",
     "output_type": "stream",
     "text": [
      "orginal_data_size: 1000209, filtered_data_size: 836478\n",
      "Ratio of Remaining Data is 83.63%\n"
     ]
    }
   ],
   "source": [
    "# 3점 이상만 남깁니다.\n",
    "ratings = ratings[ratings['ratings']>=3]\n",
    "filtered_data_size = len(ratings)\n",
    "\n",
    "print(f'orginal_data_size: {orginal_data_size}, filtered_data_size: {filtered_data_size}')\n",
    "print(f'Ratio of Remaining Data is {filtered_data_size / orginal_data_size:.2%}')"
   ]
  },
  {
   "cell_type": "code",
   "execution_count": 220,
   "id": "468537ed",
   "metadata": {},
   "outputs": [],
   "source": [
    "# ratings 컬럼의 이름을 counts로 바꿉니다.\n",
    "ratings.rename(columns={'ratings':'counts'}, inplace=True)"
   ]
  },
  {
   "cell_type": "code",
   "execution_count": 221,
   "id": "226da72c",
   "metadata": {},
   "outputs": [
    {
     "data": {
      "text/html": [
       "<div>\n",
       "<style scoped>\n",
       "    .dataframe tbody tr th:only-of-type {\n",
       "        vertical-align: middle;\n",
       "    }\n",
       "\n",
       "    .dataframe tbody tr th {\n",
       "        vertical-align: top;\n",
       "    }\n",
       "\n",
       "    .dataframe thead th {\n",
       "        text-align: right;\n",
       "    }\n",
       "</style>\n",
       "<table border=\"1\" class=\"dataframe\">\n",
       "  <thead>\n",
       "    <tr style=\"text-align: right;\">\n",
       "      <th></th>\n",
       "      <th>user_id</th>\n",
       "      <th>movie_id</th>\n",
       "      <th>counts</th>\n",
       "      <th>timestamp</th>\n",
       "    </tr>\n",
       "  </thead>\n",
       "  <tbody>\n",
       "    <tr>\n",
       "      <th>0</th>\n",
       "      <td>1</td>\n",
       "      <td>1193</td>\n",
       "      <td>5</td>\n",
       "      <td>978300760</td>\n",
       "    </tr>\n",
       "    <tr>\n",
       "      <th>1</th>\n",
       "      <td>1</td>\n",
       "      <td>661</td>\n",
       "      <td>3</td>\n",
       "      <td>978302109</td>\n",
       "    </tr>\n",
       "    <tr>\n",
       "      <th>2</th>\n",
       "      <td>1</td>\n",
       "      <td>914</td>\n",
       "      <td>3</td>\n",
       "      <td>978301968</td>\n",
       "    </tr>\n",
       "    <tr>\n",
       "      <th>3</th>\n",
       "      <td>1</td>\n",
       "      <td>3408</td>\n",
       "      <td>4</td>\n",
       "      <td>978300275</td>\n",
       "    </tr>\n",
       "    <tr>\n",
       "      <th>4</th>\n",
       "      <td>1</td>\n",
       "      <td>2355</td>\n",
       "      <td>5</td>\n",
       "      <td>978824291</td>\n",
       "    </tr>\n",
       "  </tbody>\n",
       "</table>\n",
       "</div>"
      ],
      "text/plain": [
       "   user_id  movie_id  counts  timestamp\n",
       "0        1      1193       5  978300760\n",
       "1        1       661       3  978302109\n",
       "2        1       914       3  978301968\n",
       "3        1      3408       4  978300275\n",
       "4        1      2355       5  978824291"
      ]
     },
     "execution_count": 221,
     "metadata": {},
     "output_type": "execute_result"
    }
   ],
   "source": [
    "ratings.head()"
   ]
  },
  {
   "cell_type": "code",
   "execution_count": 222,
   "id": "7b76be2f",
   "metadata": {},
   "outputs": [
    {
     "data": {
      "text/html": [
       "<div>\n",
       "<style scoped>\n",
       "    .dataframe tbody tr th:only-of-type {\n",
       "        vertical-align: middle;\n",
       "    }\n",
       "\n",
       "    .dataframe tbody tr th {\n",
       "        vertical-align: top;\n",
       "    }\n",
       "\n",
       "    .dataframe thead th {\n",
       "        text-align: right;\n",
       "    }\n",
       "</style>\n",
       "<table border=\"1\" class=\"dataframe\">\n",
       "  <thead>\n",
       "    <tr style=\"text-align: right;\">\n",
       "      <th></th>\n",
       "      <th>user_id</th>\n",
       "      <th>movie_id</th>\n",
       "      <th>counts</th>\n",
       "    </tr>\n",
       "  </thead>\n",
       "  <tbody>\n",
       "    <tr>\n",
       "      <th>0</th>\n",
       "      <td>1</td>\n",
       "      <td>1193</td>\n",
       "      <td>5</td>\n",
       "    </tr>\n",
       "    <tr>\n",
       "      <th>1</th>\n",
       "      <td>1</td>\n",
       "      <td>661</td>\n",
       "      <td>3</td>\n",
       "    </tr>\n",
       "    <tr>\n",
       "      <th>2</th>\n",
       "      <td>1</td>\n",
       "      <td>914</td>\n",
       "      <td>3</td>\n",
       "    </tr>\n",
       "    <tr>\n",
       "      <th>3</th>\n",
       "      <td>1</td>\n",
       "      <td>3408</td>\n",
       "      <td>4</td>\n",
       "    </tr>\n",
       "    <tr>\n",
       "      <th>4</th>\n",
       "      <td>1</td>\n",
       "      <td>2355</td>\n",
       "      <td>5</td>\n",
       "    </tr>\n",
       "  </tbody>\n",
       "</table>\n",
       "</div>"
      ],
      "text/plain": [
       "   user_id  movie_id  counts\n",
       "0        1      1193       5\n",
       "1        1       661       3\n",
       "2        1       914       3\n",
       "3        1      3408       4\n",
       "4        1      2355       5"
      ]
     },
     "execution_count": 222,
     "metadata": {},
     "output_type": "execute_result"
    }
   ],
   "source": [
    "ratings.drop(['timestamp'], axis=1, inplace=True)\n",
    "ratings.head()"
   ]
  },
  {
   "cell_type": "code",
   "execution_count": 223,
   "id": "6762b5ea",
   "metadata": {},
   "outputs": [
    {
     "data": {
      "text/html": [
       "<div>\n",
       "<style scoped>\n",
       "    .dataframe tbody tr th:only-of-type {\n",
       "        vertical-align: middle;\n",
       "    }\n",
       "\n",
       "    .dataframe tbody tr th {\n",
       "        vertical-align: top;\n",
       "    }\n",
       "\n",
       "    .dataframe thead th {\n",
       "        text-align: right;\n",
       "    }\n",
       "</style>\n",
       "<table border=\"1\" class=\"dataframe\">\n",
       "  <thead>\n",
       "    <tr style=\"text-align: right;\">\n",
       "      <th></th>\n",
       "      <th>movie_id</th>\n",
       "      <th>title</th>\n",
       "      <th>genre</th>\n",
       "    </tr>\n",
       "  </thead>\n",
       "  <tbody>\n",
       "    <tr>\n",
       "      <th>0</th>\n",
       "      <td>1</td>\n",
       "      <td>Toy Story (1995)</td>\n",
       "      <td>Animation|Children's|Comedy</td>\n",
       "    </tr>\n",
       "    <tr>\n",
       "      <th>1</th>\n",
       "      <td>2</td>\n",
       "      <td>Jumanji (1995)</td>\n",
       "      <td>Adventure|Children's|Fantasy</td>\n",
       "    </tr>\n",
       "    <tr>\n",
       "      <th>2</th>\n",
       "      <td>3</td>\n",
       "      <td>Grumpier Old Men (1995)</td>\n",
       "      <td>Comedy|Romance</td>\n",
       "    </tr>\n",
       "    <tr>\n",
       "      <th>3</th>\n",
       "      <td>4</td>\n",
       "      <td>Waiting to Exhale (1995)</td>\n",
       "      <td>Comedy|Drama</td>\n",
       "    </tr>\n",
       "    <tr>\n",
       "      <th>4</th>\n",
       "      <td>5</td>\n",
       "      <td>Father of the Bride Part II (1995)</td>\n",
       "      <td>Comedy</td>\n",
       "    </tr>\n",
       "  </tbody>\n",
       "</table>\n",
       "</div>"
      ],
      "text/plain": [
       "   movie_id                               title                         genre\n",
       "0         1                    Toy Story (1995)   Animation|Children's|Comedy\n",
       "1         2                      Jumanji (1995)  Adventure|Children's|Fantasy\n",
       "2         3             Grumpier Old Men (1995)                Comedy|Romance\n",
       "3         4            Waiting to Exhale (1995)                  Comedy|Drama\n",
       "4         5  Father of the Bride Part II (1995)                        Comedy"
      ]
     },
     "execution_count": 223,
     "metadata": {},
     "output_type": "execute_result"
    }
   ],
   "source": [
    "# 영화 제목을 보기 위해 메타 데이터를 읽어옵니다.\n",
    "movie_file_path=os.getenv('HOME') + '/aiffel/recommendata_iu/data/ml-1m/movies.dat'\n",
    "cols = ['movie_id', 'title', 'genre'] \n",
    "movies = pd.read_csv(movie_file_path, sep='::', names=cols, engine='python', encoding='ISO-8859-1')\n",
    "movies.head()"
   ]
  },
  {
   "cell_type": "markdown",
   "id": "cd47a81c",
   "metadata": {},
   "source": [
    "### 소문자로 변경"
   ]
  },
  {
   "cell_type": "code",
   "execution_count": 224,
   "id": "53200f92",
   "metadata": {},
   "outputs": [
    {
     "data": {
      "text/html": [
       "<div>\n",
       "<style scoped>\n",
       "    .dataframe tbody tr th:only-of-type {\n",
       "        vertical-align: middle;\n",
       "    }\n",
       "\n",
       "    .dataframe tbody tr th {\n",
       "        vertical-align: top;\n",
       "    }\n",
       "\n",
       "    .dataframe thead th {\n",
       "        text-align: right;\n",
       "    }\n",
       "</style>\n",
       "<table border=\"1\" class=\"dataframe\">\n",
       "  <thead>\n",
       "    <tr style=\"text-align: right;\">\n",
       "      <th></th>\n",
       "      <th>movie_id</th>\n",
       "      <th>title</th>\n",
       "      <th>genre</th>\n",
       "    </tr>\n",
       "  </thead>\n",
       "  <tbody>\n",
       "    <tr>\n",
       "      <th>0</th>\n",
       "      <td>1</td>\n",
       "      <td>toy story (1995)</td>\n",
       "      <td>animation|children's|comedy</td>\n",
       "    </tr>\n",
       "    <tr>\n",
       "      <th>1</th>\n",
       "      <td>2</td>\n",
       "      <td>jumanji (1995)</td>\n",
       "      <td>adventure|children's|fantasy</td>\n",
       "    </tr>\n",
       "    <tr>\n",
       "      <th>2</th>\n",
       "      <td>3</td>\n",
       "      <td>grumpier old men (1995)</td>\n",
       "      <td>comedy|romance</td>\n",
       "    </tr>\n",
       "    <tr>\n",
       "      <th>3</th>\n",
       "      <td>4</td>\n",
       "      <td>waiting to exhale (1995)</td>\n",
       "      <td>comedy|drama</td>\n",
       "    </tr>\n",
       "    <tr>\n",
       "      <th>4</th>\n",
       "      <td>5</td>\n",
       "      <td>father of the bride part ii (1995)</td>\n",
       "      <td>comedy</td>\n",
       "    </tr>\n",
       "  </tbody>\n",
       "</table>\n",
       "</div>"
      ],
      "text/plain": [
       "   movie_id                               title                         genre\n",
       "0         1                    toy story (1995)   animation|children's|comedy\n",
       "1         2                      jumanji (1995)  adventure|children's|fantasy\n",
       "2         3             grumpier old men (1995)                comedy|romance\n",
       "3         4            waiting to exhale (1995)                  comedy|drama\n",
       "4         5  father of the bride part ii (1995)                        comedy"
      ]
     },
     "execution_count": 224,
     "metadata": {},
     "output_type": "execute_result"
    }
   ],
   "source": [
    "movies['title'] = movies['title'].str.lower()\n",
    "movies['genre'] = movies['genre'].str.lower()\n",
    "movies.head()"
   ]
  },
  {
   "cell_type": "markdown",
   "id": "715fc00b",
   "metadata": {},
   "source": [
    " 이전 스텝에 소개했던 것과 동일한 방식으로 MF model을 구성하여 내가 좋아할 만한 영화를 추천해 볼 수 있습니다."
   ]
  },
  {
   "cell_type": "markdown",
   "id": "609e135e",
   "metadata": {},
   "source": [
    "## 분석\n",
    "---"
   ]
  },
  {
   "cell_type": "markdown",
   "id": "1df1202f",
   "metadata": {},
   "source": [
    "### ratings에 있는 유니크한 영화 개수"
   ]
  },
  {
   "cell_type": "code",
   "execution_count": 225,
   "id": "80af0dc5",
   "metadata": {},
   "outputs": [
    {
     "data": {
      "text/plain": [
       "3628"
      ]
     },
     "execution_count": 225,
     "metadata": {},
     "output_type": "execute_result"
    }
   ],
   "source": [
    "ratings['movie_id'].nunique()"
   ]
  },
  {
   "cell_type": "markdown",
   "id": "5ef0b380",
   "metadata": {},
   "source": [
    "### ratings에 있는 유니크한 사용자 수"
   ]
  },
  {
   "cell_type": "code",
   "execution_count": 226,
   "id": "68d701f3",
   "metadata": {},
   "outputs": [
    {
     "data": {
      "text/plain": [
       "6039"
      ]
     },
     "execution_count": 226,
     "metadata": {},
     "output_type": "execute_result"
    }
   ],
   "source": [
    "ratings['user_id'].nunique()"
   ]
  },
  {
   "cell_type": "markdown",
   "id": "99134ac8",
   "metadata": {},
   "source": [
    "### 가장 인기 있는 영화 30개(인기순)"
   ]
  },
  {
   "cell_type": "markdown",
   "id": "5f587066",
   "metadata": {},
   "source": [
    "#### movies와 ratings를 합치기"
   ]
  },
  {
   "cell_type": "code",
   "execution_count": 227,
   "id": "a763e927",
   "metadata": {},
   "outputs": [],
   "source": [
    "movie_ratings = pd.merge(movies, ratings, how = 'right', left_on = 'movie_id', right_on = 'movie_id')"
   ]
  },
  {
   "cell_type": "code",
   "execution_count": 228,
   "id": "463bc7ad",
   "metadata": {},
   "outputs": [
    {
     "data": {
      "text/html": [
       "<div>\n",
       "<style scoped>\n",
       "    .dataframe tbody tr th:only-of-type {\n",
       "        vertical-align: middle;\n",
       "    }\n",
       "\n",
       "    .dataframe tbody tr th {\n",
       "        vertical-align: top;\n",
       "    }\n",
       "\n",
       "    .dataframe thead th {\n",
       "        text-align: right;\n",
       "    }\n",
       "</style>\n",
       "<table border=\"1\" class=\"dataframe\">\n",
       "  <thead>\n",
       "    <tr style=\"text-align: right;\">\n",
       "      <th></th>\n",
       "      <th>movie_id</th>\n",
       "      <th>title</th>\n",
       "      <th>genre</th>\n",
       "      <th>user_id</th>\n",
       "      <th>counts</th>\n",
       "    </tr>\n",
       "  </thead>\n",
       "  <tbody>\n",
       "    <tr>\n",
       "      <th>0</th>\n",
       "      <td>1193</td>\n",
       "      <td>one flew over the cuckoo's nest (1975)</td>\n",
       "      <td>drama</td>\n",
       "      <td>1</td>\n",
       "      <td>5</td>\n",
       "    </tr>\n",
       "    <tr>\n",
       "      <th>1</th>\n",
       "      <td>661</td>\n",
       "      <td>james and the giant peach (1996)</td>\n",
       "      <td>animation|children's|musical</td>\n",
       "      <td>1</td>\n",
       "      <td>3</td>\n",
       "    </tr>\n",
       "    <tr>\n",
       "      <th>2</th>\n",
       "      <td>914</td>\n",
       "      <td>my fair lady (1964)</td>\n",
       "      <td>musical|romance</td>\n",
       "      <td>1</td>\n",
       "      <td>3</td>\n",
       "    </tr>\n",
       "    <tr>\n",
       "      <th>3</th>\n",
       "      <td>3408</td>\n",
       "      <td>erin brockovich (2000)</td>\n",
       "      <td>drama</td>\n",
       "      <td>1</td>\n",
       "      <td>4</td>\n",
       "    </tr>\n",
       "    <tr>\n",
       "      <th>4</th>\n",
       "      <td>2355</td>\n",
       "      <td>bug's life, a (1998)</td>\n",
       "      <td>animation|children's|comedy</td>\n",
       "      <td>1</td>\n",
       "      <td>5</td>\n",
       "    </tr>\n",
       "  </tbody>\n",
       "</table>\n",
       "</div>"
      ],
      "text/plain": [
       "   movie_id                                   title  \\\n",
       "0      1193  one flew over the cuckoo's nest (1975)   \n",
       "1       661        james and the giant peach (1996)   \n",
       "2       914                     my fair lady (1964)   \n",
       "3      3408                  erin brockovich (2000)   \n",
       "4      2355                    bug's life, a (1998)   \n",
       "\n",
       "                          genre  user_id  counts  \n",
       "0                         drama        1       5  \n",
       "1  animation|children's|musical        1       3  \n",
       "2               musical|romance        1       3  \n",
       "3                         drama        1       4  \n",
       "4   animation|children's|comedy        1       5  "
      ]
     },
     "execution_count": 228,
     "metadata": {},
     "output_type": "execute_result"
    }
   ],
   "source": [
    "movie_ratings.head()"
   ]
  },
  {
   "cell_type": "markdown",
   "id": "eed57acc",
   "metadata": {},
   "source": [
    "#### 가장 인기 있는 영화 30개 목록"
   ]
  },
  {
   "cell_type": "code",
   "execution_count": 229,
   "id": "f9e365b9",
   "metadata": {},
   "outputs": [
    {
     "data": {
      "text/plain": [
       "title\n",
       "american beauty (1999)                                   3211\n",
       "star wars: episode iv - a new hope (1977)                2910\n",
       "star wars: episode v - the empire strikes back (1980)    2885\n",
       "star wars: episode vi - return of the jedi (1983)        2716\n",
       "saving private ryan (1998)                               2561\n",
       "terminator 2: judgment day (1991)                        2509\n",
       "silence of the lambs, the (1991)                         2498\n",
       "raiders of the lost ark (1981)                           2473\n",
       "back to the future (1985)                                2460\n",
       "matrix, the (1999)                                       2434\n",
       "jurassic park (1993)                                     2413\n",
       "sixth sense, the (1999)                                  2385\n",
       "fargo (1996)                                             2371\n",
       "braveheart (1995)                                        2314\n",
       "men in black (1997)                                      2297\n",
       "schindler's list (1993)                                  2257\n",
       "princess bride, the (1987)                               2252\n",
       "shakespeare in love (1998)                               2213\n",
       "l.a. confidential (1997)                                 2210\n",
       "shawshank redemption, the (1994)                         2194\n",
       "godfather, the (1972)                                    2167\n",
       "groundhog day (1993)                                     2121\n",
       "e.t. the extra-terrestrial (1982)                        2102\n",
       "being john malkovich (1999)                              2066\n",
       "ghostbusters (1984)                                      2051\n",
       "pulp fiction (1994)                                      2030\n",
       "forrest gump (1994)                                      2022\n",
       "terminator, the (1984)                                   2019\n",
       "toy story (1995)                                         2000\n",
       "fugitive, the (1993)                                     1941\n",
       "alien (1979)                                             1920\n",
       "gladiator (2000)                                         1798\n",
       "total recall (1990)                                      1786\n",
       "star wars: episode i - the phantom menace (1999)         1783\n",
       "usual suspects, the (1995)                               1744\n",
       "stand by me (1986)                                       1728\n",
       "blade runner (1982)                                      1722\n",
       "aliens (1986)                                            1720\n",
       "one flew over the cuckoo's nest (1975)                   1680\n",
       "wizard of oz, the (1939)                                 1650\n",
       "godfather: part ii, the (1974)                           1624\n",
       "casablanca (1942)                                        1623\n",
       "who framed roger rabbit? (1988)                          1605\n",
       "bug's life, a (1998)                                     1599\n",
       "jaws (1975)                                              1598\n",
       "goodfellas (1990)                                        1595\n",
       "die hard (1988)                                          1593\n",
       "hunt for red october, the (1990)                         1587\n",
       "airplane! (1980)                                         1586\n",
       "babe (1995)                                              1574\n",
       "Name: counts, dtype: int64"
      ]
     },
     "execution_count": 229,
     "metadata": {},
     "output_type": "execute_result"
    }
   ],
   "source": [
    "favorite_movies = movie_ratings.groupby('title')['counts'].count()\n",
    "favorite_movies.sort_values(ascending=False).head(50)"
   ]
  },
  {
   "cell_type": "markdown",
   "id": "e840c0ce",
   "metadata": {},
   "source": [
    "### 내가 선호하는 영화를 5가지 골라서 ratings에 추가\n",
    "---"
   ]
  },
  {
   "cell_type": "code",
   "execution_count": 230,
   "id": "eea2228e",
   "metadata": {},
   "outputs": [
    {
     "name": "stdout",
     "output_type": "stream",
     "text": [
      "     movie_id                title             genre\n",
      "537       541  blade runner (1982)  film-noir|sci-fi\n",
      "      movie_id                               title                  genre\n",
      "1250      1270           back to the future (1985)          comedy|sci-fi\n",
      "1942      2011   back to the future part ii (1989)          comedy|sci-fi\n",
      "1943      2012  back to the future part iii (1990)  comedy|sci-fi|western\n",
      "      movie_id          title                       genre\n",
      "1182      1200  aliens (1986)  action|sci-fi|thriller|war\n",
      "      movie_id                    title                    genre\n",
      "3629      3698  running man, the (1987)  action|adventure|sci-fi\n",
      "      movie_id               title                   genre\n",
      "2502      2571  matrix, the (1999)  action|sci-fi|thriller\n"
     ]
    }
   ],
   "source": [
    "print(movies[movies['title'].str.contains('blade runner')])\n",
    "print(movies[movies['title'].str.contains('back to the future')])\n",
    "print(movies[movies['title'].str.contains('aliens')])\n",
    "print(movies[movies['title'].str.contains('running man')])\n",
    "print(movies[movies['title'].str.contains('matrix')])"
   ]
  },
  {
   "cell_type": "code",
   "execution_count": 231,
   "id": "98565c52",
   "metadata": {},
   "outputs": [
    {
     "data": {
      "text/plain": [
       "5"
      ]
     },
     "execution_count": 231,
     "metadata": {},
     "output_type": "execute_result"
    }
   ],
   "source": [
    "my_favorite_movies = [541, 1270, 1200, 3698, 2571]\n",
    "\n",
    "len(my_favorite_movies)"
   ]
  },
  {
   "cell_type": "code",
   "execution_count": 232,
   "id": "73f58197",
   "metadata": {},
   "outputs": [
    {
     "data": {
      "text/html": [
       "<div>\n",
       "<style scoped>\n",
       "    .dataframe tbody tr th:only-of-type {\n",
       "        vertical-align: middle;\n",
       "    }\n",
       "\n",
       "    .dataframe tbody tr th {\n",
       "        vertical-align: top;\n",
       "    }\n",
       "\n",
       "    .dataframe thead th {\n",
       "        text-align: right;\n",
       "    }\n",
       "</style>\n",
       "<table border=\"1\" class=\"dataframe\">\n",
       "  <thead>\n",
       "    <tr style=\"text-align: right;\">\n",
       "      <th></th>\n",
       "      <th>user_id</th>\n",
       "      <th>movie_id</th>\n",
       "      <th>counts</th>\n",
       "    </tr>\n",
       "  </thead>\n",
       "  <tbody>\n",
       "    <tr>\n",
       "      <th>1000203</th>\n",
       "      <td>6040</td>\n",
       "      <td>1090</td>\n",
       "      <td>3</td>\n",
       "    </tr>\n",
       "    <tr>\n",
       "      <th>1000205</th>\n",
       "      <td>6040</td>\n",
       "      <td>1094</td>\n",
       "      <td>5</td>\n",
       "    </tr>\n",
       "    <tr>\n",
       "      <th>1000206</th>\n",
       "      <td>6040</td>\n",
       "      <td>562</td>\n",
       "      <td>5</td>\n",
       "    </tr>\n",
       "    <tr>\n",
       "      <th>1000207</th>\n",
       "      <td>6040</td>\n",
       "      <td>1096</td>\n",
       "      <td>4</td>\n",
       "    </tr>\n",
       "    <tr>\n",
       "      <th>1000208</th>\n",
       "      <td>6040</td>\n",
       "      <td>1097</td>\n",
       "      <td>4</td>\n",
       "    </tr>\n",
       "  </tbody>\n",
       "</table>\n",
       "</div>"
      ],
      "text/plain": [
       "         user_id  movie_id  counts\n",
       "1000203     6040      1090       3\n",
       "1000205     6040      1094       5\n",
       "1000206     6040       562       5\n",
       "1000207     6040      1096       4\n",
       "1000208     6040      1097       4"
      ]
     },
     "execution_count": 232,
     "metadata": {},
     "output_type": "execute_result"
    }
   ],
   "source": [
    "ratings.tail()"
   ]
  },
  {
   "cell_type": "code",
   "execution_count": 233,
   "id": "a44630c6",
   "metadata": {},
   "outputs": [
    {
     "data": {
      "text/html": [
       "<div>\n",
       "<style scoped>\n",
       "    .dataframe tbody tr th:only-of-type {\n",
       "        vertical-align: middle;\n",
       "    }\n",
       "\n",
       "    .dataframe tbody tr th {\n",
       "        vertical-align: top;\n",
       "    }\n",
       "\n",
       "    .dataframe thead th {\n",
       "        text-align: right;\n",
       "    }\n",
       "</style>\n",
       "<table border=\"1\" class=\"dataframe\">\n",
       "  <thead>\n",
       "    <tr style=\"text-align: right;\">\n",
       "      <th></th>\n",
       "      <th>user_id</th>\n",
       "      <th>movie_id</th>\n",
       "      <th>counts</th>\n",
       "    </tr>\n",
       "  </thead>\n",
       "  <tbody>\n",
       "    <tr>\n",
       "      <th>0</th>\n",
       "      <td>6041</td>\n",
       "      <td>541</td>\n",
       "      <td>5</td>\n",
       "    </tr>\n",
       "    <tr>\n",
       "      <th>1</th>\n",
       "      <td>6041</td>\n",
       "      <td>1270</td>\n",
       "      <td>5</td>\n",
       "    </tr>\n",
       "    <tr>\n",
       "      <th>2</th>\n",
       "      <td>6041</td>\n",
       "      <td>1200</td>\n",
       "      <td>5</td>\n",
       "    </tr>\n",
       "    <tr>\n",
       "      <th>3</th>\n",
       "      <td>6041</td>\n",
       "      <td>3698</td>\n",
       "      <td>5</td>\n",
       "    </tr>\n",
       "    <tr>\n",
       "      <th>4</th>\n",
       "      <td>6041</td>\n",
       "      <td>2571</td>\n",
       "      <td>5</td>\n",
       "    </tr>\n",
       "  </tbody>\n",
       "</table>\n",
       "</div>"
      ],
      "text/plain": [
       "   user_id  movie_id  counts\n",
       "0     6041       541       5\n",
       "1     6041      1270       5\n",
       "2     6041      1200       5\n",
       "3     6041      3698       5\n",
       "4     6041      2571       5"
      ]
     },
     "execution_count": 233,
     "metadata": {},
     "output_type": "execute_result"
    }
   ],
   "source": [
    "df_my_favorite_movies = pd.DataFrame({'user_id': [6041] * len(my_favorite_movies), 'movie_id': my_favorite_movies, 'counts': [5] * len(my_favorite_movies)})\n",
    "\n",
    "df_my_favorite_movies"
   ]
  },
  {
   "cell_type": "code",
   "execution_count": 234,
   "id": "832b389e",
   "metadata": {},
   "outputs": [
    {
     "name": "stderr",
     "output_type": "stream",
     "text": [
      "/var/folders/pc/h8hfx8zn0pb8vvgjpyjwq7cc0000gn/T/ipykernel_10707/2596375117.py:2: FutureWarning: The frame.append method is deprecated and will be removed from pandas in a future version. Use pandas.concat instead.\n",
      "  ratings = ratings.append(df_my_favorite_movies)\n"
     ]
    },
    {
     "data": {
      "text/html": [
       "<div>\n",
       "<style scoped>\n",
       "    .dataframe tbody tr th:only-of-type {\n",
       "        vertical-align: middle;\n",
       "    }\n",
       "\n",
       "    .dataframe tbody tr th {\n",
       "        vertical-align: top;\n",
       "    }\n",
       "\n",
       "    .dataframe thead th {\n",
       "        text-align: right;\n",
       "    }\n",
       "</style>\n",
       "<table border=\"1\" class=\"dataframe\">\n",
       "  <thead>\n",
       "    <tr style=\"text-align: right;\">\n",
       "      <th></th>\n",
       "      <th>user_id</th>\n",
       "      <th>movie_id</th>\n",
       "      <th>counts</th>\n",
       "    </tr>\n",
       "  </thead>\n",
       "  <tbody>\n",
       "    <tr>\n",
       "      <th>1000203</th>\n",
       "      <td>6040</td>\n",
       "      <td>1090</td>\n",
       "      <td>3</td>\n",
       "    </tr>\n",
       "    <tr>\n",
       "      <th>1000205</th>\n",
       "      <td>6040</td>\n",
       "      <td>1094</td>\n",
       "      <td>5</td>\n",
       "    </tr>\n",
       "    <tr>\n",
       "      <th>1000206</th>\n",
       "      <td>6040</td>\n",
       "      <td>562</td>\n",
       "      <td>5</td>\n",
       "    </tr>\n",
       "    <tr>\n",
       "      <th>1000207</th>\n",
       "      <td>6040</td>\n",
       "      <td>1096</td>\n",
       "      <td>4</td>\n",
       "    </tr>\n",
       "    <tr>\n",
       "      <th>1000208</th>\n",
       "      <td>6040</td>\n",
       "      <td>1097</td>\n",
       "      <td>4</td>\n",
       "    </tr>\n",
       "    <tr>\n",
       "      <th>0</th>\n",
       "      <td>6041</td>\n",
       "      <td>541</td>\n",
       "      <td>5</td>\n",
       "    </tr>\n",
       "    <tr>\n",
       "      <th>1</th>\n",
       "      <td>6041</td>\n",
       "      <td>1270</td>\n",
       "      <td>5</td>\n",
       "    </tr>\n",
       "    <tr>\n",
       "      <th>2</th>\n",
       "      <td>6041</td>\n",
       "      <td>1200</td>\n",
       "      <td>5</td>\n",
       "    </tr>\n",
       "    <tr>\n",
       "      <th>3</th>\n",
       "      <td>6041</td>\n",
       "      <td>3698</td>\n",
       "      <td>5</td>\n",
       "    </tr>\n",
       "    <tr>\n",
       "      <th>4</th>\n",
       "      <td>6041</td>\n",
       "      <td>2571</td>\n",
       "      <td>5</td>\n",
       "    </tr>\n",
       "  </tbody>\n",
       "</table>\n",
       "</div>"
      ],
      "text/plain": [
       "         user_id  movie_id  counts\n",
       "1000203     6040      1090       3\n",
       "1000205     6040      1094       5\n",
       "1000206     6040       562       5\n",
       "1000207     6040      1096       4\n",
       "1000208     6040      1097       4\n",
       "0           6041       541       5\n",
       "1           6041      1270       5\n",
       "2           6041      1200       5\n",
       "3           6041      3698       5\n",
       "4           6041      2571       5"
      ]
     },
     "execution_count": 234,
     "metadata": {},
     "output_type": "execute_result"
    }
   ],
   "source": [
    "if not ratings.isin({'user_id': [6041]})['user_id'].any():\n",
    "    ratings = ratings.append(df_my_favorite_movies)\n",
    "    \n",
    "ratings.tail(10)"
   ]
  },
  {
   "cell_type": "markdown",
   "id": "b4f97fb4",
   "metadata": {},
   "source": [
    "## CSR matrix 만들기"
   ]
  },
  {
   "cell_type": "code",
   "execution_count": 235,
   "id": "de306066",
   "metadata": {},
   "outputs": [],
   "source": [
    "data = pd.merge(movies, ratings, left_on = 'movie_id',right_on = 'movie_id', how='right')"
   ]
  },
  {
   "cell_type": "code",
   "execution_count": 236,
   "id": "c9646983",
   "metadata": {},
   "outputs": [
    {
     "data": {
      "text/html": [
       "<div>\n",
       "<style scoped>\n",
       "    .dataframe tbody tr th:only-of-type {\n",
       "        vertical-align: middle;\n",
       "    }\n",
       "\n",
       "    .dataframe tbody tr th {\n",
       "        vertical-align: top;\n",
       "    }\n",
       "\n",
       "    .dataframe thead th {\n",
       "        text-align: right;\n",
       "    }\n",
       "</style>\n",
       "<table border=\"1\" class=\"dataframe\">\n",
       "  <thead>\n",
       "    <tr style=\"text-align: right;\">\n",
       "      <th></th>\n",
       "      <th>movie_id</th>\n",
       "      <th>title</th>\n",
       "      <th>genre</th>\n",
       "      <th>user_id</th>\n",
       "      <th>counts</th>\n",
       "    </tr>\n",
       "  </thead>\n",
       "  <tbody>\n",
       "    <tr>\n",
       "      <th>0</th>\n",
       "      <td>1193</td>\n",
       "      <td>one flew over the cuckoo's nest (1975)</td>\n",
       "      <td>drama</td>\n",
       "      <td>1</td>\n",
       "      <td>5</td>\n",
       "    </tr>\n",
       "    <tr>\n",
       "      <th>1</th>\n",
       "      <td>661</td>\n",
       "      <td>james and the giant peach (1996)</td>\n",
       "      <td>animation|children's|musical</td>\n",
       "      <td>1</td>\n",
       "      <td>3</td>\n",
       "    </tr>\n",
       "    <tr>\n",
       "      <th>2</th>\n",
       "      <td>914</td>\n",
       "      <td>my fair lady (1964)</td>\n",
       "      <td>musical|romance</td>\n",
       "      <td>1</td>\n",
       "      <td>3</td>\n",
       "    </tr>\n",
       "    <tr>\n",
       "      <th>3</th>\n",
       "      <td>3408</td>\n",
       "      <td>erin brockovich (2000)</td>\n",
       "      <td>drama</td>\n",
       "      <td>1</td>\n",
       "      <td>4</td>\n",
       "    </tr>\n",
       "    <tr>\n",
       "      <th>4</th>\n",
       "      <td>2355</td>\n",
       "      <td>bug's life, a (1998)</td>\n",
       "      <td>animation|children's|comedy</td>\n",
       "      <td>1</td>\n",
       "      <td>5</td>\n",
       "    </tr>\n",
       "    <tr>\n",
       "      <th>...</th>\n",
       "      <td>...</td>\n",
       "      <td>...</td>\n",
       "      <td>...</td>\n",
       "      <td>...</td>\n",
       "      <td>...</td>\n",
       "    </tr>\n",
       "    <tr>\n",
       "      <th>836478</th>\n",
       "      <td>541</td>\n",
       "      <td>blade runner (1982)</td>\n",
       "      <td>film-noir|sci-fi</td>\n",
       "      <td>6041</td>\n",
       "      <td>5</td>\n",
       "    </tr>\n",
       "    <tr>\n",
       "      <th>836479</th>\n",
       "      <td>1270</td>\n",
       "      <td>back to the future (1985)</td>\n",
       "      <td>comedy|sci-fi</td>\n",
       "      <td>6041</td>\n",
       "      <td>5</td>\n",
       "    </tr>\n",
       "    <tr>\n",
       "      <th>836480</th>\n",
       "      <td>1200</td>\n",
       "      <td>aliens (1986)</td>\n",
       "      <td>action|sci-fi|thriller|war</td>\n",
       "      <td>6041</td>\n",
       "      <td>5</td>\n",
       "    </tr>\n",
       "    <tr>\n",
       "      <th>836481</th>\n",
       "      <td>3698</td>\n",
       "      <td>running man, the (1987)</td>\n",
       "      <td>action|adventure|sci-fi</td>\n",
       "      <td>6041</td>\n",
       "      <td>5</td>\n",
       "    </tr>\n",
       "    <tr>\n",
       "      <th>836482</th>\n",
       "      <td>2571</td>\n",
       "      <td>matrix, the (1999)</td>\n",
       "      <td>action|sci-fi|thriller</td>\n",
       "      <td>6041</td>\n",
       "      <td>5</td>\n",
       "    </tr>\n",
       "  </tbody>\n",
       "</table>\n",
       "<p>836483 rows × 5 columns</p>\n",
       "</div>"
      ],
      "text/plain": [
       "        movie_id                                   title  \\\n",
       "0           1193  one flew over the cuckoo's nest (1975)   \n",
       "1            661        james and the giant peach (1996)   \n",
       "2            914                     my fair lady (1964)   \n",
       "3           3408                  erin brockovich (2000)   \n",
       "4           2355                    bug's life, a (1998)   \n",
       "...          ...                                     ...   \n",
       "836478       541                     blade runner (1982)   \n",
       "836479      1270               back to the future (1985)   \n",
       "836480      1200                           aliens (1986)   \n",
       "836481      3698                 running man, the (1987)   \n",
       "836482      2571                      matrix, the (1999)   \n",
       "\n",
       "                               genre  user_id  counts  \n",
       "0                              drama        1       5  \n",
       "1       animation|children's|musical        1       3  \n",
       "2                    musical|romance        1       3  \n",
       "3                              drama        1       4  \n",
       "4        animation|children's|comedy        1       5  \n",
       "...                              ...      ...     ...  \n",
       "836478              film-noir|sci-fi     6041       5  \n",
       "836479                 comedy|sci-fi     6041       5  \n",
       "836480    action|sci-fi|thriller|war     6041       5  \n",
       "836481       action|adventure|sci-fi     6041       5  \n",
       "836482        action|sci-fi|thriller     6041       5  \n",
       "\n",
       "[836483 rows x 5 columns]"
      ]
     },
     "execution_count": 236,
     "metadata": {},
     "output_type": "execute_result"
    }
   ],
   "source": [
    "data"
   ]
  },
  {
   "cell_type": "code",
   "execution_count": 237,
   "id": "032e5675",
   "metadata": {},
   "outputs": [
    {
     "data": {
      "text/plain": [
       "['back to the future (1985)',\n",
       " 'matrix, the (1999)',\n",
       " 'aliens (1986)',\n",
       " 'blade runner (1982)',\n",
       " 'running man, the (1987)']"
      ]
     },
     "execution_count": 237,
     "metadata": {},
     "output_type": "execute_result"
    }
   ],
   "source": [
    "my_favorite_movie_titles = list(data.loc[data['movie_id'].isin(my_favorite_movies)].title.unique())\n",
    "my_favorite_movie_titles"
   ]
  },
  {
   "cell_type": "code",
   "execution_count": 238,
   "id": "aaabd1ac",
   "metadata": {},
   "outputs": [],
   "source": [
    "# 고유한 유저, 아티스트를 찾아내는 코드\n",
    "user_unique = data['user_id'].unique()\n",
    "movie_unique = data['title'].unique()\n",
    "\n",
    "# 유저, 아티스트 indexing 하는 코드 idx는 index의 약자입니다.\n",
    "user_to_idx = {v:k for k,v in enumerate(user_unique)}\n",
    "movie_to_idx = {v:k for k,v in enumerate(movie_unique)}"
   ]
  },
  {
   "cell_type": "code",
   "execution_count": 239,
   "id": "2c342fbd",
   "metadata": {},
   "outputs": [
    {
     "name": "stdout",
     "output_type": "stream",
     "text": [
      "6039\n",
      "985\n"
     ]
    }
   ],
   "source": [
    "# 인덱싱이 잘 되었는지 확인해 봅니다. \n",
    "print(user_to_idx[6041])    # 6040명의 유저 중 마지막으로 추가된 유저이니 6039이 나와야 합니다. \n",
    "print(movie_to_idx['running man, the (1987)'])"
   ]
  },
  {
   "cell_type": "code",
   "execution_count": 240,
   "id": "54d63f99",
   "metadata": {},
   "outputs": [
    {
     "data": {
      "text/plain": [
       "0            0\n",
       "1            0\n",
       "2            0\n",
       "3            0\n",
       "4            0\n",
       "          ... \n",
       "836478    6039\n",
       "836479    6039\n",
       "836480    6039\n",
       "836481    6039\n",
       "836482    6039\n",
       "Name: user_id, Length: 836483, dtype: int64"
      ]
     },
     "execution_count": 240,
     "metadata": {},
     "output_type": "execute_result"
    }
   ],
   "source": [
    "# indexing을 통해 데이터 컬럼 내 값을 바꾸는 코드\n",
    "# dictionary 자료형의 get 함수는 https://wikidocs.net/16 을 참고하세요.\n",
    "\n",
    "# user_to_idx.get을 통해 user_id 컬럼의 모든 값을 인덱싱한 Series를 구해 봅시다. \n",
    "# 혹시 정상적으로 인덱싱되지 않은 row가 있다면 인덱스가 NaN이 될 테니 dropna()로 제거합니다. \n",
    "temp_user_data = data['user_id'].map(user_to_idx.get).dropna()\n",
    "temp_user_data"
   ]
  },
  {
   "cell_type": "code",
   "execution_count": 241,
   "id": "8aabdc37",
   "metadata": {},
   "outputs": [
    {
     "name": "stdout",
     "output_type": "stream",
     "text": [
      "user_id column indexing OK!!\n"
     ]
    }
   ],
   "source": [
    "if len(temp_user_data) == len(data):   # 모든 row가 정상적으로 인덱싱되었다면\n",
    "    print('user_id column indexing OK!!')\n",
    "    data['user_id'] = temp_user_data   # data['user_id']을 인덱싱된 Series로 교체해 줍니다. \n",
    "else:\n",
    "    print('user_id column indexing Fail!!')"
   ]
  },
  {
   "cell_type": "code",
   "execution_count": 242,
   "id": "6a927cf8",
   "metadata": {},
   "outputs": [
    {
     "name": "stdout",
     "output_type": "stream",
     "text": [
      "movie column indexing OK!!\n"
     ]
    }
   ],
   "source": [
    "# movie_to_idx을 통해 movie_id 컬럼도 동일한 방식으로 인덱싱해 줍니다. \n",
    "temp_movie_data = data['title'].map(movie_to_idx.get).dropna()\n",
    "\n",
    "if len(temp_movie_data) == len(data):\n",
    "    print('movie column indexing OK!!')\n",
    "    data['movie_id'] = temp_movie_data\n",
    "else:\n",
    "    print('movie column indexing Fail!!')"
   ]
  },
  {
   "cell_type": "code",
   "execution_count": 243,
   "id": "bb5c99c3",
   "metadata": {},
   "outputs": [
    {
     "data": {
      "text/html": [
       "<div>\n",
       "<style scoped>\n",
       "    .dataframe tbody tr th:only-of-type {\n",
       "        vertical-align: middle;\n",
       "    }\n",
       "\n",
       "    .dataframe tbody tr th {\n",
       "        vertical-align: top;\n",
       "    }\n",
       "\n",
       "    .dataframe thead th {\n",
       "        text-align: right;\n",
       "    }\n",
       "</style>\n",
       "<table border=\"1\" class=\"dataframe\">\n",
       "  <thead>\n",
       "    <tr style=\"text-align: right;\">\n",
       "      <th></th>\n",
       "      <th>movie_id</th>\n",
       "      <th>title</th>\n",
       "      <th>genre</th>\n",
       "      <th>user_id</th>\n",
       "      <th>counts</th>\n",
       "    </tr>\n",
       "  </thead>\n",
       "  <tbody>\n",
       "    <tr>\n",
       "      <th>0</th>\n",
       "      <td>0</td>\n",
       "      <td>one flew over the cuckoo's nest (1975)</td>\n",
       "      <td>drama</td>\n",
       "      <td>0</td>\n",
       "      <td>5</td>\n",
       "    </tr>\n",
       "    <tr>\n",
       "      <th>1</th>\n",
       "      <td>1</td>\n",
       "      <td>james and the giant peach (1996)</td>\n",
       "      <td>animation|children's|musical</td>\n",
       "      <td>0</td>\n",
       "      <td>3</td>\n",
       "    </tr>\n",
       "    <tr>\n",
       "      <th>2</th>\n",
       "      <td>2</td>\n",
       "      <td>my fair lady (1964)</td>\n",
       "      <td>musical|romance</td>\n",
       "      <td>0</td>\n",
       "      <td>3</td>\n",
       "    </tr>\n",
       "    <tr>\n",
       "      <th>3</th>\n",
       "      <td>3</td>\n",
       "      <td>erin brockovich (2000)</td>\n",
       "      <td>drama</td>\n",
       "      <td>0</td>\n",
       "      <td>4</td>\n",
       "    </tr>\n",
       "    <tr>\n",
       "      <th>4</th>\n",
       "      <td>4</td>\n",
       "      <td>bug's life, a (1998)</td>\n",
       "      <td>animation|children's|comedy</td>\n",
       "      <td>0</td>\n",
       "      <td>5</td>\n",
       "    </tr>\n",
       "    <tr>\n",
       "      <th>...</th>\n",
       "      <td>...</td>\n",
       "      <td>...</td>\n",
       "      <td>...</td>\n",
       "      <td>...</td>\n",
       "      <td>...</td>\n",
       "    </tr>\n",
       "    <tr>\n",
       "      <th>836478</th>\n",
       "      <td>680</td>\n",
       "      <td>blade runner (1982)</td>\n",
       "      <td>film-noir|sci-fi</td>\n",
       "      <td>6039</td>\n",
       "      <td>5</td>\n",
       "    </tr>\n",
       "    <tr>\n",
       "      <th>836479</th>\n",
       "      <td>22</td>\n",
       "      <td>back to the future (1985)</td>\n",
       "      <td>comedy|sci-fi</td>\n",
       "      <td>6039</td>\n",
       "      <td>5</td>\n",
       "    </tr>\n",
       "    <tr>\n",
       "      <th>836480</th>\n",
       "      <td>651</td>\n",
       "      <td>aliens (1986)</td>\n",
       "      <td>action|sci-fi|thriller|war</td>\n",
       "      <td>6039</td>\n",
       "      <td>5</td>\n",
       "    </tr>\n",
       "    <tr>\n",
       "      <th>836481</th>\n",
       "      <td>985</td>\n",
       "      <td>running man, the (1987)</td>\n",
       "      <td>action|adventure|sci-fi</td>\n",
       "      <td>6039</td>\n",
       "      <td>5</td>\n",
       "    </tr>\n",
       "    <tr>\n",
       "      <th>836482</th>\n",
       "      <td>124</td>\n",
       "      <td>matrix, the (1999)</td>\n",
       "      <td>action|sci-fi|thriller</td>\n",
       "      <td>6039</td>\n",
       "      <td>5</td>\n",
       "    </tr>\n",
       "  </tbody>\n",
       "</table>\n",
       "<p>836483 rows × 5 columns</p>\n",
       "</div>"
      ],
      "text/plain": [
       "        movie_id                                   title  \\\n",
       "0              0  one flew over the cuckoo's nest (1975)   \n",
       "1              1        james and the giant peach (1996)   \n",
       "2              2                     my fair lady (1964)   \n",
       "3              3                  erin brockovich (2000)   \n",
       "4              4                    bug's life, a (1998)   \n",
       "...          ...                                     ...   \n",
       "836478       680                     blade runner (1982)   \n",
       "836479        22               back to the future (1985)   \n",
       "836480       651                           aliens (1986)   \n",
       "836481       985                 running man, the (1987)   \n",
       "836482       124                      matrix, the (1999)   \n",
       "\n",
       "                               genre  user_id  counts  \n",
       "0                              drama        0       5  \n",
       "1       animation|children's|musical        0       3  \n",
       "2                    musical|romance        0       3  \n",
       "3                              drama        0       4  \n",
       "4        animation|children's|comedy        0       5  \n",
       "...                              ...      ...     ...  \n",
       "836478              film-noir|sci-fi     6039       5  \n",
       "836479                 comedy|sci-fi     6039       5  \n",
       "836480    action|sci-fi|thriller|war     6039       5  \n",
       "836481       action|adventure|sci-fi     6039       5  \n",
       "836482        action|sci-fi|thriller     6039       5  \n",
       "\n",
       "[836483 rows x 5 columns]"
      ]
     },
     "execution_count": 243,
     "metadata": {},
     "output_type": "execute_result"
    }
   ],
   "source": [
    "data"
   ]
  },
  {
   "cell_type": "code",
   "execution_count": 244,
   "id": "39a63e0a",
   "metadata": {},
   "outputs": [
    {
     "data": {
      "text/plain": [
       "<6040x3628 sparse matrix of type '<class 'numpy.int64'>'\n",
       "\twith 836483 stored elements in Compressed Sparse Row format>"
      ]
     },
     "execution_count": 244,
     "metadata": {},
     "output_type": "execute_result"
    }
   ],
   "source": [
    "# 실습 위에 설명보고 이해해서 만들어보기\n",
    "from scipy.sparse import csr_matrix\n",
    "\n",
    "num_user = data['user_id'].nunique()\n",
    "num_movie = data['title'].nunique()\n",
    "\n",
    "csr_data = csr_matrix((data.counts, (data.user_id, data.movie_id)), shape= (num_user, num_movie))\n",
    "csr_data"
   ]
  },
  {
   "cell_type": "markdown",
   "id": "6dfaf424",
   "metadata": {},
   "source": [
    "## MF Model 학습"
   ]
  },
  {
   "cell_type": "code",
   "execution_count": 245,
   "id": "de1aa2dc",
   "metadata": {},
   "outputs": [
    {
     "name": "stdout",
     "output_type": "stream",
     "text": [
      "0.6.2\n"
     ]
    }
   ],
   "source": [
    "import implicit\n",
    "from implicit.als import AlternatingLeastSquares\n",
    "import os\n",
    "import numpy as np\n",
    "\n",
    "# implicit 라이브러리에서 권장하고 있는 부분입니다. 학습 내용과는 무관합니다.\n",
    "os.environ['OPENBLAS_NUM_THREADS']='1'\n",
    "os.environ['KMP_DUPLICATE_LIB_OK']='True'\n",
    "os.environ['MKL_NUM_THREADS']='1'\n",
    "\n",
    "version = implicit.__version__ # 버전에 주의!  0.48과 0.62는 사용법이 서로 상이함\n",
    "print(version)"
   ]
  },
  {
   "cell_type": "code",
   "execution_count": 246,
   "id": "27edf2f0",
   "metadata": {},
   "outputs": [],
   "source": [
    "# Implicit AlternatingLeastSquares 모델의 선언\n",
    "als_model = AlternatingLeastSquares(factors=100, regularization=0.01, use_gpu=False, iterations=15, dtype=np.float32)"
   ]
  },
  {
   "cell_type": "code",
   "execution_count": 247,
   "id": "9740cc75",
   "metadata": {},
   "outputs": [
    {
     "data": {
      "text/plain": [
       "<3628x6040 sparse matrix of type '<class 'numpy.int64'>'\n",
       "\twith 836483 stored elements in Compressed Sparse Column format>"
      ]
     },
     "execution_count": 247,
     "metadata": {},
     "output_type": "execute_result"
    }
   ],
   "source": [
    "# implicit version 0.48 : als 모델은 input으로 (item X user 꼴의 matrix를 받기 때문에 Transpose해줍니다.) \n",
    "# implicit version 0.62 : csr_data를 직접 입력받도록 변경되었음\n",
    "csr_data_transpose = csr_data.T\n",
    "csr_data_transpose"
   ]
  },
  {
   "cell_type": "code",
   "execution_count": 248,
   "id": "c0b70dcd",
   "metadata": {},
   "outputs": [
    {
     "name": "stdout",
     "output_type": "stream",
     "text": [
      "implicit module : 0.6.2\n"
     ]
    },
    {
     "data": {
      "application/vnd.jupyter.widget-view+json": {
       "model_id": "4c91fc5604f84e2989f293cd2fe7785f",
       "version_major": 2,
       "version_minor": 0
      },
      "text/plain": [
       "  0%|          | 0/15 [00:00<?, ?it/s]"
      ]
     },
     "metadata": {},
     "output_type": "display_data"
    }
   ],
   "source": [
    "# 모델 훈련\n",
    "if version == '0.6.2' :\n",
    "    print('implicit module : 0.6.2')\n",
    "    als_model.fit(csr_data)\n",
    "elif version == '0.4.8':\n",
    "    print('implicit module : 0.4.8')\n",
    "    als_model.fit(csr_data_transpose)"
   ]
  },
  {
   "cell_type": "markdown",
   "id": "bb6203a7",
   "metadata": {},
   "source": [
    "## 내가 선호하는 5가지 영화 중 하나와 그 외의 영화 하나를 골라 훈련된 모델이 예측한 나의 선호도를 파악"
   ]
  },
  {
   "cell_type": "code",
   "execution_count": 249,
   "id": "c2c7e49e",
   "metadata": {},
   "outputs": [
    {
     "name": "stdout",
     "output_type": "stream",
     "text": [
      "6039\n",
      "175\n"
     ]
    }
   ],
   "source": [
    "user_1, mib = user_to_idx[6041], movie_to_idx['men in black (1997)']\n",
    "user_1_vector, mib_vector = als_model.user_factors[user_1], als_model.item_factors[mib]\n",
    "\n",
    "print(user_1)\n",
    "print(mib)"
   ]
  },
  {
   "cell_type": "code",
   "execution_count": 250,
   "id": "99c91fb9",
   "metadata": {},
   "outputs": [
    {
     "data": {
      "text/plain": [
       "array([-0.24272819,  0.2678972 , -0.67152846,  0.6379564 , -0.10139149,\n",
       "       -0.15220182,  0.66213053, -0.24579698,  0.55461454,  0.0313894 ,\n",
       "        0.04037424, -0.5893872 , -0.44556516,  0.89194417, -0.0691554 ,\n",
       "        0.17813434, -0.4210101 ,  0.3092872 ,  0.16032001, -0.22913432,\n",
       "       -0.04208297, -0.63305175, -0.7491306 ,  0.62247664,  0.65999335,\n",
       "       -0.04106745,  0.53455144,  0.0752839 , -0.45423102, -1.1214082 ,\n",
       "       -0.03648742, -0.6256928 , -0.08097979,  0.3253092 ,  0.21925266,\n",
       "        0.6110796 , -0.2538933 ,  0.6320082 ,  0.59817594, -0.07039949,\n",
       "        0.35413596, -0.40359035,  0.053898  , -0.5868632 ,  0.2740361 ,\n",
       "       -0.9476298 ,  0.5622569 ,  0.6675776 ,  0.5745629 , -0.37324017,\n",
       "        0.56483227, -0.26554254,  1.0071396 ,  0.2810478 , -0.90814215,\n",
       "        1.3366848 ,  0.46499994, -0.288664  , -0.06144062, -0.10953926,\n",
       "        0.44601047,  0.20944689, -0.02716495, -0.45636097, -0.0822462 ,\n",
       "       -0.7921377 , -0.5211911 ,  1.336644  , -0.6626818 , -0.24727866,\n",
       "       -0.36207893, -0.30289933,  0.39331618,  0.8144306 , -0.7624874 ,\n",
       "        0.27771693, -0.54379845,  0.43769118,  0.2386716 ,  0.545419  ,\n",
       "        0.31775475,  0.12168807, -0.36181626, -0.5884329 ,  0.43674323,\n",
       "        0.3429156 , -0.10688025, -0.09612221,  0.47299677, -0.95428747,\n",
       "       -0.53579473,  0.57708776, -0.6471709 ,  0.26579583, -0.70434755,\n",
       "       -0.37930077,  0.32727864,  0.05723716,  0.84151816,  0.07930691],\n",
       "      dtype=float32)"
      ]
     },
     "execution_count": 250,
     "metadata": {},
     "output_type": "execute_result"
    }
   ],
   "source": [
    "user_1_vector"
   ]
  },
  {
   "cell_type": "code",
   "execution_count": 251,
   "id": "6a967a27",
   "metadata": {},
   "outputs": [
    {
     "data": {
      "text/plain": [
       "array([-0.01182253,  0.00336378,  0.00862886, -0.04859133,  0.01653999,\n",
       "        0.00188662,  0.03283184,  0.01612521,  0.04472871,  0.00429972,\n",
       "        0.00330285, -0.0136936 , -0.02072405,  0.01172998, -0.02409199,\n",
       "        0.00866355,  0.00140501, -0.01685141,  0.02604741,  0.02295029,\n",
       "        0.00022973,  0.01103008,  0.01247756,  0.00132837,  0.0340559 ,\n",
       "        0.00892794, -0.00714348,  0.03201405, -0.01163509,  0.01952265,\n",
       "        0.01039656,  0.02770732, -0.00176342,  0.01046257,  0.0050167 ,\n",
       "       -0.00356568, -0.0049843 ,  0.00145367,  0.03407036, -0.01373182,\n",
       "        0.01087475,  0.0515018 ,  0.04453282,  0.01041367,  0.00470284,\n",
       "       -0.00298456,  0.01129279, -0.00052237, -0.027535  , -0.030617  ,\n",
       "        0.00638949,  0.0307525 ,  0.02652   ,  0.04188445,  0.0153476 ,\n",
       "        0.01343102,  0.00768505, -0.00917479,  0.02469661, -0.00815723,\n",
       "       -0.00464969,  0.00607066, -0.01012145,  0.03272023, -0.00743198,\n",
       "        0.02839151,  0.01164941,  0.03917415,  0.01682307,  0.01414403,\n",
       "        0.00519953,  0.00993445, -0.0016408 ,  0.02209757,  0.00765956,\n",
       "        0.01948227,  0.00934513, -0.0142215 ,  0.00209585,  0.01160556,\n",
       "        0.00543109,  0.01564997,  0.00624299, -0.00285518,  0.03026056,\n",
       "        0.008793  , -0.01039312, -0.01982574, -0.02005974, -0.02595269,\n",
       "        0.01838988, -0.01605646, -0.01759499, -0.00649645, -0.00938202,\n",
       "        0.01407995,  0.00730237, -0.00740193, -0.00186005,  0.00379266],\n",
       "      dtype=float32)"
      ]
     },
     "execution_count": 251,
     "metadata": {},
     "output_type": "execute_result"
    }
   ],
   "source": [
    "mib_vector"
   ]
  },
  {
   "cell_type": "code",
   "execution_count": 252,
   "id": "3f3d9f8f",
   "metadata": {},
   "outputs": [
    {
     "data": {
      "text/plain": [
       "0.089381926"
      ]
     },
     "execution_count": 252,
     "metadata": {},
     "output_type": "execute_result"
    }
   ],
   "source": [
    "np.dot(user_1_vector, mib_vector)"
   ]
  },
  {
   "cell_type": "markdown",
   "id": "7d014c8f",
   "metadata": {},
   "source": [
    "예측 결과는 실망스러울 정도..."
   ]
  },
  {
   "cell_type": "markdown",
   "id": "5a2a512a",
   "metadata": {},
   "source": [
    "## 내가 좋아하는 영화와 비슷한 영화를 추천"
   ]
  },
  {
   "cell_type": "code",
   "execution_count": 254,
   "id": "6871cfb2",
   "metadata": {},
   "outputs": [
    {
     "data": {
      "text/plain": [
       "[(175, 1.0000001),\n",
       " (107, 0.84555274),\n",
       " (92, 0.6431221),\n",
       " (62, 0.6127335),\n",
       " (150, 0.5180641),\n",
       " (124, 0.49773967),\n",
       " (145, 0.4684587),\n",
       " (375, 0.46060836),\n",
       " (82, 0.45447564),\n",
       " (670, 0.4288171),\n",
       " (3466, 0.4286213),\n",
       " (542, 0.42356634),\n",
       " (87, 0.40479285),\n",
       " (138, 0.39524865),\n",
       " (1045, 0.3916715)]"
      ]
     },
     "execution_count": 254,
     "metadata": {},
     "output_type": "execute_result"
    }
   ],
   "source": [
    "favorite_movie = 'men in black (1997)'\n",
    "movie_idx = movie_to_idx[favorite_movie]\n",
    "similar_movie = als_model.similar_items(movie_idx, N=15)\n",
    "\n",
    "if version == '0.6.2':\n",
    "    similar_movie = [(i, value) for i, value in zip(similar_movie[0], similar_movie[1])]\n",
    "elif version == '0.4.8':\n",
    "    pass\n",
    "\n",
    "similar_movie"
   ]
  },
  {
   "cell_type": "code",
   "execution_count": 256,
   "id": "16cfd1ea",
   "metadata": {},
   "outputs": [
    {
     "data": {
      "text/plain": [
       "['men in black (1997)',\n",
       " 'jurassic park (1993)',\n",
       " 'terminator 2: judgment day (1991)',\n",
       " 'total recall (1990)',\n",
       " 'independence day (id4) (1996)',\n",
       " 'matrix, the (1999)',\n",
       " 'fifth element, the (1997)',\n",
       " 'face/off (1997)',\n",
       " 'lost world: jurassic park, the (1997)',\n",
       " 'galaxy quest (1999)',\n",
       " 'schlafes bruder (brother of sleep) (1995)',\n",
       " 'rocky horror picture show, the (1975)',\n",
       " 'braveheart (1995)',\n",
       " 'true lies (1994)',\n",
       " 'grumpy old men (1993)']"
      ]
     },
     "execution_count": 256,
     "metadata": {},
     "output_type": "execute_result"
    }
   ],
   "source": [
    "idx_to_movie = {v:k for k,v in movie_to_idx.items()}\n",
    "\n",
    "[idx_to_movie[i[0]] for i in similar_movie]"
   ]
  },
  {
   "cell_type": "markdown",
   "id": "556626db",
   "metadata": {},
   "source": [
    "## 내가 가장 좋아할 만한 영화들을 추천받기"
   ]
  },
  {
   "cell_type": "code",
   "execution_count": 260,
   "id": "d88e83b9",
   "metadata": {},
   "outputs": [
    {
     "data": {
      "text/plain": [
       "[(200, 0.5602606),\n",
       " (193, 0.5176505),\n",
       " (92, 0.44140413),\n",
       " (117, 0.4169935),\n",
       " (882, 0.39608854),\n",
       " (44, 0.37851185),\n",
       " (64, 0.35558477),\n",
       " (602, 0.32023054),\n",
       " (195, 0.31778708),\n",
       " (26, 0.30794942),\n",
       " (865, 0.2887274),\n",
       " (317, 0.2840546),\n",
       " (1097, 0.28099465),\n",
       " (637, 0.27437896),\n",
       " (62, 0.26380217),\n",
       " (91, 0.25786906),\n",
       " (904, 0.23782845),\n",
       " (550, 0.23725958),\n",
       " (674, 0.23669922),\n",
       " (695, 0.22170834)]"
      ]
     },
     "execution_count": 260,
     "metadata": {},
     "output_type": "execute_result"
    }
   ],
   "source": [
    "if version == '0.6.2':\n",
    "    movie_recommended = als_model.recommend(user_1, csr_data[user_1], N=20, filter_already_liked_items=True)\n",
    "    movie_recommended = [(i, value) for i, value in zip(movie_recommended[0], movie_recommended[1])]\n",
    "elif version == '0.4.8':\n",
    "    movie_recommended = als_model.recommend(user_1, csr_data, N=20, filter_already_liked_items=True)\n",
    "\n",
    "movie_recommended"
   ]
  },
  {
   "cell_type": "code",
   "execution_count": 261,
   "id": "28830be3",
   "metadata": {},
   "outputs": [
    {
     "data": {
      "text/plain": [
       "['terminator, the (1984)',\n",
       " 'alien (1979)',\n",
       " 'terminator 2: judgment day (1991)',\n",
       " 'star wars: episode v - the empire strikes back (1980)',\n",
       " 'mad max 2 (a.k.a. the road warrior) (1981)',\n",
       " 'star wars: episode iv - a new hope (1977)',\n",
       " 'star wars: episode vi - return of the jedi (1983)',\n",
       " '2001: a space odyssey (1968)',\n",
       " 'mad max (1979)',\n",
       " 'e.t. the extra-terrestrial (1982)',\n",
       " 'predator (1987)',\n",
       " 'twelve monkeys (1995)',\n",
       " 'brazil (1985)',\n",
       " 'abyss, the (1989)',\n",
       " 'total recall (1990)',\n",
       " 'close encounters of the third kind (1977)',\n",
       " 'clockwork orange, a (1971)',\n",
       " 'dr. strangelove or: how i learned to stop worrying and love the bomb (1963)',\n",
       " 'back to the future part ii (1989)',\n",
       " 'time bandits (1981)']"
      ]
     },
     "execution_count": 261,
     "metadata": {},
     "output_type": "execute_result"
    }
   ],
   "source": [
    "[idx_to_movie[i[0]] for i in movie_recommended]"
   ]
  },
  {
   "cell_type": "markdown",
   "id": "1360ced3",
   "metadata": {},
   "source": [
    "## 고찰\n",
    "1. LMS에서 잘 작동되던 코드가 로컬로 옮겨오면 계속해서 에러가 발생하여 살펴보니 implicit 패키지의 버전이 0.4.8에서 0.6.2로 업그레이드 되면서 사용법이 일부 변경되었다. 패키지를 불러올 때 버전이 일치하는지 항상 주의가 필요하다. (LMS에서 진행했다면 훨씬 간단했을 일이 상당히 많은 시간을 필요로 했다. 중요한 작업을 실시할 때면 미리 버전 관리에 주의하고 시작하는 편이 좋다.)\n",
    "2. 등록되어 있는 선호 영화와 실제 좋아하는 영화와의 내적 값이 생각보다 훨씬 낮게 나왔다. 반면 내가 좋아할만한 영화는 괜찮은 편이었다. 실제 서비스라면 충분한 사용자 경험 조사 등이 선행되어야 할 것 같다.\n",
    "3. 이 시스템을 응용하여 선호하는 논문이나 관심 가질만한 논문 추천 등에 활용할 수 있을 것 같다는 생각이 잠깐 들었다.\n",
    "4. 추천해 준 영화들 중 보지 못한 것들을 실제로 좀 봐야겠다.(맥주 + 캬라멜 팝콘은 필수. 이건 공부와 무관...)"
   ]
  },
  {
   "cell_type": "markdown",
   "id": "295d4fc5",
   "metadata": {},
   "source": [
    " "
   ]
  }
 ],
 "metadata": {
  "hide_input": false,
  "kernelspec": {
   "display_name": "Python 3 (ipykernel)",
   "language": "python",
   "name": "python3"
  },
  "language_info": {
   "codemirror_mode": {
    "name": "ipython",
    "version": 3
   },
   "file_extension": ".py",
   "mimetype": "text/x-python",
   "name": "python",
   "nbconvert_exporter": "python",
   "pygments_lexer": "ipython3",
   "version": "3.9.15"
  },
  "toc": {
   "base_numbering": 1,
   "nav_menu": {},
   "number_sections": true,
   "sideBar": true,
   "skip_h1_title": false,
   "title_cell": "Table of Contents",
   "title_sidebar": "Contents",
   "toc_cell": false,
   "toc_position": {
    "height": "calc(100% - 180px)",
    "left": "10px",
    "top": "150px",
    "width": "262px"
   },
   "toc_section_display": true,
   "toc_window_display": true
  },
  "varInspector": {
   "cols": {
    "lenName": 16,
    "lenType": 16,
    "lenVar": 40
   },
   "kernels_config": {
    "python": {
     "delete_cmd_postfix": "",
     "delete_cmd_prefix": "del ",
     "library": "var_list.py",
     "varRefreshCmd": "print(var_dic_list())"
    },
    "r": {
     "delete_cmd_postfix": ") ",
     "delete_cmd_prefix": "rm(",
     "library": "var_list.r",
     "varRefreshCmd": "cat(var_dic_list()) "
    }
   },
   "types_to_exclude": [
    "module",
    "function",
    "builtin_function_or_method",
    "instance",
    "_Feature"
   ],
   "window_display": false
  }
 },
 "nbformat": 4,
 "nbformat_minor": 5
}
