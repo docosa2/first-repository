{
 "cells": [
  {
   "cell_type": "markdown",
   "id": "1dd6a016",
   "metadata": {},
   "source": [
    "# NLP GD-08 Seq2seq으로 번역기 만들기\n",
    "\n",
    "### 2023-01-27(금)\n"
   ]
  },
  {
   "cell_type": "markdown",
   "id": "79dc448c",
   "metadata": {},
   "source": [
    "## 한글 폰트 설정"
   ]
  },
  {
   "cell_type": "code",
   "execution_count": 1,
   "id": "6046b89f",
   "metadata": {},
   "outputs": [
    {
     "name": "stdout",
     "output_type": "stream",
     "text": [
      "완료!\n"
     ]
    }
   ],
   "source": [
    "import matplotlib as mpl\n",
    "import matplotlib.pyplot as plt\n",
    " \n",
    "%config InlineBackend.figure_format = 'retina'\n",
    " \n",
    "import matplotlib.font_manager as fm\n",
    "fontpath = '/usr/share/fonts/truetype/nanum/NanumBarunGothic.ttf'\n",
    "font = fm.FontProperties(fname=fontpath, size=9)\n",
    "plt.rc('font', family='NanumBarunGothic') \n",
    "mpl.font_manager.findfont(font)\n",
    "\n",
    "print(\"완료!\")"
   ]
  },
  {
   "cell_type": "markdown",
   "id": "64950607",
   "metadata": {},
   "source": [
    "## 모듈 임포트"
   ]
  },
  {
   "cell_type": "code",
   "execution_count": 2,
   "id": "32a6f55b",
   "metadata": {},
   "outputs": [
    {
     "name": "stdout",
     "output_type": "stream",
     "text": [
      "1.3.3\n",
      "2.6.0\n",
      "3.4.3\n"
     ]
    }
   ],
   "source": [
    "import time\n",
    "import re\n",
    "import os\n",
    "import io\n",
    "\n",
    "import tensorflow as tf\n",
    "import numpy as np\n",
    "\n",
    "from sklearn.model_selection import train_test_split\n",
    "\n",
    "import matplotlib\n",
    "import matplotlib.ticker as ticker\n",
    "import matplotlib.pyplot as plt\n",
    "\n",
    "import pandas as pd\n",
    "\n",
    "print(pd.__version__)\n",
    "print(tf.__version__)\n",
    "print(matplotlib.__version__)"
   ]
  },
  {
   "cell_type": "markdown",
   "id": "968e78d8",
   "metadata": {},
   "source": [
    "## Step 1. 데이터 다운로드"
   ]
  },
  {
   "cell_type": "code",
   "execution_count": 3,
   "id": "1fb00188",
   "metadata": {},
   "outputs": [
    {
     "name": "stdout",
     "output_type": "stream",
     "text": [
      "Downloading data from https://github.com/jungyeul/korean-parallel-corpora/raw/master/korean-english-news-v1/korean-english-park.train.tar.gz\n",
      "8724480/8718893 [==============================] - 0s 0us/step\n",
      "8732672/8718893 [==============================] - 0s 0us/step\n"
     ]
    }
   ],
   "source": [
    "path_to_zip = tf.keras.utils.get_file(\n",
    "    'korean-english-park.train.tar',\n",
    "    origin = 'https://github.com/jungyeul/korean-parallel-corpora/raw/master/korean-english-news-v1/korean-english-park.train.tar.gz',\n",
    "    extract=True,\n",
    "    archive_format='tar') # format 'tar' can also unzip tar.gz file\n",
    "\n",
    "eng_path_to_file = os.path.dirname(path_to_zip) + '/korean-english-park.train.en'\n",
    "kor_path_to_file = os.path.dirname(path_to_zip) + '/korean-english-park.train.ko'"
   ]
  },
  {
   "cell_type": "markdown",
   "id": "4cabfae3",
   "metadata": {},
   "source": [
    "### 한글 데이타 살펴보기"
   ]
  },
  {
   "cell_type": "code",
   "execution_count": 4,
   "id": "3874a379",
   "metadata": {},
   "outputs": [
    {
     "name": "stdout",
     "output_type": "stream",
     "text": [
      "Data Size: 94123\n",
      "Example:\n",
      ">> 개인용 컴퓨터 사용의 상당 부분은 \"이것보다 뛰어날 수 있느냐?\"\n",
      ">> 북한의 핵무기 계획을 포기하도록 하려는 압력이 거세지고 있는 가운데, 일본과 북한의 외교관들이 외교 관계를 정상화하려는 회담을 재개했다.\n",
      ">> \"경호 로보트가 침입자나 화재를 탐지하기 위해서 개인적으로, 그리고 전문적으로 사용되고 있습니다.\"\n",
      ">> 수자원부 당국은 논란이 되고 있고, 막대한 비용이 드는 이 사업에 대해 내년에 건설을 시작할 계획이다.\n",
      ">> 또한 근력 운동은 활발하게 걷는 것이나 최소한 20분 동안 뛰는 것과 같은 유산소 활동에서 얻는 운동 효과를 심장과 폐에 주지 않기 때문에, 연구학자들은 근력 운동이 심장에 큰 영향을 미치는지 여부에 대해 논쟁을 해왔다.\n"
     ]
    }
   ],
   "source": [
    "with open(kor_path_to_file, \"r\") as f:\n",
    "    ko_raw = f.read().splitlines()\n",
    "\n",
    "print(\"Data Size:\", len(ko_raw))\n",
    "print(\"Example:\")\n",
    "\n",
    "for sen in ko_raw[0:100][::20]: print(\">>\", sen)"
   ]
  },
  {
   "cell_type": "markdown",
   "id": "fcfdae7b",
   "metadata": {},
   "source": [
    "### 영문 데이타 살펴보기"
   ]
  },
  {
   "cell_type": "code",
   "execution_count": 5,
   "id": "2395d705",
   "metadata": {},
   "outputs": [
    {
     "name": "stdout",
     "output_type": "stream",
     "text": [
      "Data Size: 94123\n",
      "Example:\n",
      ">> Much of personal computing is about \"can you top this?\"\n",
      ">> Amid mounting pressure on North Korea to abandon its nuclear weapons program Japanese and North Korean diplomats have resumed talks on normalizing diplomatic relations.\n",
      ">> “Guard robots are used privately and professionally to detect intruders or fire,” Karlsson said.\n",
      ">> Authorities from the Water Resources Ministry plan to begin construction next year on the controversial and hugely expensive project.\n",
      ">> Researchers also have debated whether weight-training has a big impact on the heart, since it does not give the heart and lungs the kind of workout they get from aerobic activities such as brisk walking or running for at least 20 minutes.\n"
     ]
    }
   ],
   "source": [
    "with open(eng_path_to_file, \"r\") as f:\n",
    "    eng_raw = f.read().splitlines() # line 별로 split\n",
    "\n",
    "print(\"Data Size:\", len(eng_raw))\n",
    "print(\"Example:\")\n",
    "\n",
    "for sen in eng_raw[0:100][::20]: print(\">>\", sen)"
   ]
  },
  {
   "cell_type": "markdown",
   "id": "39651d46",
   "metadata": {},
   "source": [
    "## Step 2. 데이터 정제"
   ]
  },
  {
   "cell_type": "code",
   "execution_count": 6,
   "id": "049ae609",
   "metadata": {},
   "outputs": [],
   "source": [
    "cleaned_corpus = [] # concatenate both corpus into one\n",
    "\n",
    "for i in range(len(eng_raw)) :\n",
    "    cleaned_corpus.append(eng_raw[i] +'\\t'+ ko_raw[i]) # eng + \\t + kor"
   ]
  },
  {
   "cell_type": "markdown",
   "id": "8a67a66b",
   "metadata": {},
   "source": [
    "### 중복 데이타 제거"
   ]
  },
  {
   "cell_type": "code",
   "execution_count": 7,
   "id": "5cb03784",
   "metadata": {},
   "outputs": [
    {
     "data": {
      "text/plain": [
       "94123"
      ]
     },
     "execution_count": 7,
     "metadata": {},
     "output_type": "execute_result"
    }
   ],
   "source": [
    "len(cleaned_corpus)"
   ]
  },
  {
   "cell_type": "code",
   "execution_count": 8,
   "id": "c7d2c978",
   "metadata": {},
   "outputs": [],
   "source": [
    "#세트로 중복 제거\n",
    "cleaned_corpus = set(cleaned_corpus)"
   ]
  },
  {
   "cell_type": "code",
   "execution_count": 9,
   "id": "8368ff86",
   "metadata": {},
   "outputs": [
    {
     "data": {
      "text/plain": [
       "78968"
      ]
     },
     "execution_count": 9,
     "metadata": {},
     "output_type": "execute_result"
    }
   ],
   "source": [
    "len(cleaned_corpus)"
   ]
  },
  {
   "cell_type": "markdown",
   "id": "b9a796ba",
   "metadata": {},
   "source": [
    "### 데이타 전처리"
   ]
  },
  {
   "cell_type": "code",
   "execution_count": 10,
   "id": "25960f1b",
   "metadata": {},
   "outputs": [],
   "source": [
    "from konlpy.tag import Mecab\n",
    "mecab = Mecab()\n",
    "\n",
    "def preprocess_sentence(sentence, s_token=False, e_token=False, kor=False):\n",
    "    if kor :\n",
    "        sentence = re.sub(r\"([?.!,])\", r\" \\1 \", sentence)\n",
    "        sentence = re.sub(r'[\" \"]+', \" \", sentence) \n",
    "        sentence = re.sub(r\"[^ㄱ-ㅎ가-힣?.!,]+\", \" \", sentence)\n",
    "        mecab = Mecab()\n",
    "        sentence = mecab.morphs(sentence)\n",
    "        sentence = ' '.join(sentence)\n",
    "\n",
    "    else :\n",
    "        sentence = sentence.lower().strip()\n",
    "        sentence = re.sub(r\"([?.!,])\", r\" \\1 \", sentence)\n",
    "        sentence = re.sub(r'[\" \"]+', \" \", sentence)\n",
    "        sentence = re.sub(r\"[^a-zA-Z?.!,]+\", \" \", sentence)\n",
    "\n",
    "        sentence = sentence.strip()\n",
    "\n",
    "        if s_token:\n",
    "            sentence = '<start> ' + sentence\n",
    "\n",
    "        if e_token:\n",
    "            sentence += ' <end>'\n",
    "            \n",
    "#         sentence = sentence.split()\n",
    "    \n",
    "    return sentence"
   ]
  },
  {
   "cell_type": "markdown",
   "id": "4d356dce",
   "metadata": {},
   "source": [
    "### 코퍼스 생성"
   ]
  },
  {
   "cell_type": "code",
   "execution_count": 11,
   "id": "e4cade74",
   "metadata": {},
   "outputs": [],
   "source": [
    "enc_corpus = []\n",
    "dec_corpus = []\n",
    "num_examples = 30000\n",
    "\n",
    "for sentence in list(cleaned_corpus)[: num_examples]:\n",
    "    eng, kor = sentence.split('\\t')\n",
    "    \n",
    "    kor = preprocess_sentence(kor, kor = True)\n",
    "    eng = preprocess_sentence(eng, s_token=True, e_token=True)\n",
    "    \n",
    "    # 한글은 mecab, 영문은 split()\n",
    "    if len(mecab.morphs(kor)) < 50 and len(eng.split()) < 50 : # token size limit to less than 40, eng 40 + 2 sp tkn\n",
    "        enc_corpus.append(kor) # 한글 정처리 후 코퍼스에 추가\n",
    "        dec_corpus.append(eng) # 영문 전처리 후 코퍼스에 추가"
   ]
  },
  {
   "cell_type": "code",
   "execution_count": 12,
   "id": "8c757720",
   "metadata": {},
   "outputs": [
    {
     "name": "stdout",
     "output_type": "stream",
     "text": [
      "27972\n",
      "44\n",
      "27972\n",
      "86\n"
     ]
    }
   ],
   "source": [
    "print(len(enc_corpus))    # 한글 코퍼스\n",
    "print(len(enc_corpus[0])) # 코퍼스[0] : 문장\n",
    "\n",
    "print(len(dec_corpus))    # 영문 코퍼스 \n",
    "print(len(dec_corpus[0])) # 코퍼스[0] : 문장"
   ]
  },
  {
   "cell_type": "code",
   "execution_count": 13,
   "id": "24a78100",
   "metadata": {},
   "outputs": [
    {
     "name": "stdout",
     "output_type": "stream",
     "text": [
      "Korean:  총 회의 폭발 이 일어나 최소 명 이 숨지 고 수백 명 이 부상 당했 습니다 .\n",
      "English:  <start> thirteen blasts in all , killing at least people and injuring hundreds . <end>\n"
     ]
    }
   ],
   "source": [
    "print('Korean: ',enc_corpus[0])  #\n",
    "print('English: ',dec_corpus[0]) # "
   ]
  },
  {
   "cell_type": "markdown",
   "id": "4961dbfd",
   "metadata": {},
   "source": [
    "### 문장 최대 길이 구하기"
   ]
  },
  {
   "cell_type": "code",
   "execution_count": 14,
   "id": "4a90964d",
   "metadata": {},
   "outputs": [],
   "source": [
    "def find_maxlen(corpus, kor = False) : \n",
    "    '''\n",
    "    returns the max number of token(seq) and the index corresponding to it\n",
    "    '''\n",
    "    max_len = 0\n",
    "    idx = 0\n",
    "    \n",
    "    for i,sen in enumerate(corpus) :\n",
    "        if kor :\n",
    "            length = len(mecab.morphs(sen))\n",
    "            if max_len < length : \n",
    "                max_len = length\n",
    "                idx = i\n",
    "        else :\n",
    "            length = len(sen.split())\n",
    "            if max_len < length : \n",
    "                max_len = length\n",
    "                idx = i\n",
    "                \n",
    "    return max_len,idx"
   ]
  },
  {
   "cell_type": "code",
   "execution_count": 15,
   "id": "5c1c2b65",
   "metadata": {},
   "outputs": [
    {
     "name": "stdout",
     "output_type": "stream",
     "text": [
      "encoder max_seq: (49, 128)\n",
      "decoder max_seq: (49, 273)\n"
     ]
    }
   ],
   "source": [
    "print('encoder max_seq:' , find_maxlen(enc_corpus, kor=True))\n",
    "print('decoder max_seq:' , find_maxlen(dec_corpus))"
   ]
  },
  {
   "cell_type": "markdown",
   "id": "a94a818e",
   "metadata": {},
   "source": [
    "## Step 3. 데이터 토큰화"
   ]
  },
  {
   "cell_type": "code",
   "execution_count": 16,
   "id": "29cd83ff",
   "metadata": {},
   "outputs": [
    {
     "data": {
      "text/plain": [
       "'총 회의 폭발 이 일어나 최소 명 이 숨지 고 수백 명 이 부상 당했 습니다 .'"
      ]
     },
     "execution_count": 16,
     "metadata": {},
     "output_type": "execute_result"
    }
   ],
   "source": [
    "enc_corpus[0]"
   ]
  },
  {
   "cell_type": "markdown",
   "id": "3dd8385e",
   "metadata": {},
   "source": [
    "### 토크화 함수 정의"
   ]
  },
  {
   "cell_type": "code",
   "execution_count": 17,
   "id": "f464b99c",
   "metadata": {},
   "outputs": [],
   "source": [
    "# tokenize function using keras\n",
    "\n",
    "def tokenize(corpus, kor = False):\n",
    "    if kor : # 한글의 토큰화\n",
    "        mecab = Mecab()\n",
    "        sentence = []\n",
    "        \n",
    "        # 한글은 형태소 분석을 통한 분해를 실시\n",
    "        for sen in corpus :\n",
    "            sentence.append(mecab.morphs(sen))\n",
    "        \n",
    "        # 케라스 토크나이저를 사용\n",
    "        tokenizer = tf.keras.preprocessing.text.Tokenizer(num_words = 20000, filters='')\n",
    "        tokenizer.fit_on_texts(sentence)\n",
    "        \n",
    "        # 토큰화 실시\n",
    "        tensor = tokenizer.texts_to_sequences(corpus)\n",
    "        \n",
    "        # 패딩\n",
    "        tensor = tf.keras.preprocessing.sequence.pad_sequences(tensor, padding='post')\n",
    "            \n",
    "    else : # 영어의 토큰화\n",
    "        # 영문은 직접 케라스 토크나이저에 넣음\n",
    "        tokenizer = tf.keras.preprocessing.text.Tokenizer(num_words = 20000, filters='')\n",
    "        tokenizer.fit_on_texts(corpus)\n",
    "        \n",
    "        # 토큰화 실시\n",
    "        tensor = tokenizer.texts_to_sequences(corpus)\n",
    "        \n",
    "        # 패딩\n",
    "        tensor = tf.keras.preprocessing.sequence.pad_sequences(tensor, padding='post')\n",
    "\n",
    "    return tensor, tokenizer"
   ]
  },
  {
   "cell_type": "markdown",
   "id": "c3a071bd",
   "metadata": {},
   "source": [
    "### 토큰화 실시"
   ]
  },
  {
   "cell_type": "code",
   "execution_count": 18,
   "id": "43855b16",
   "metadata": {},
   "outputs": [
    {
     "name": "stdout",
     "output_type": "stream",
     "text": [
      "Korean Vocab Size: 28145\n",
      "English Vocab Size: 29490\n"
     ]
    }
   ],
   "source": [
    "# 토큰화하기\n",
    "enc_tensor, enc_tokenizer = tokenize(enc_corpus, kor=True)\n",
    "dec_tensor, dec_tokenizer = tokenize(dec_corpus)\n",
    "\n",
    "print(\"Korean Vocab Size:\", len(enc_tokenizer.index_word))\n",
    "print(\"English Vocab Size:\", len(dec_tokenizer.index_word))"
   ]
  },
  {
   "cell_type": "markdown",
   "id": "b1313234",
   "metadata": {},
   "source": [
    "### 토큰화 결과 보기"
   ]
  },
  {
   "cell_type": "markdown",
   "id": "b95521cd",
   "metadata": {},
   "source": [
    "#### 인코딩 텐서"
   ]
  },
  {
   "cell_type": "code",
   "execution_count": 19,
   "id": "e7652139",
   "metadata": {},
   "outputs": [
    {
     "data": {
      "text/plain": [
       "array([ 455,  374,  447,    3, 1224,  540,   31,    3, 1325,   12,  977,\n",
       "         31,    3,  265,  809,   59,    1,    0,    0,    0,    0,    0,\n",
       "          0,    0,    0,    0,    0,    0,    0,    0,    0,    0,    0,\n",
       "          0,    0,    0,    0,    0,    0,    0,    0,    0,    0,    0,\n",
       "          0,    0,    0,    0,    0], dtype=int32)"
      ]
     },
     "execution_count": 19,
     "metadata": {},
     "output_type": "execute_result"
    }
   ],
   "source": [
    "enc_tensor[0]"
   ]
  },
  {
   "cell_type": "code",
   "execution_count": 20,
   "id": "ad372ced",
   "metadata": {},
   "outputs": [
    {
     "name": "stdout",
     "output_type": "stream",
     "text": [
      "총 회의 폭발 이 일어나 최소 명 이 숨지 고 수백 명 이 부상 당했 습니다 . "
     ]
    }
   ],
   "source": [
    "for i in enc_tensor[0] :\n",
    "    if i != 0:\n",
    "        print(enc_tokenizer.index_word[i], end = ' ')"
   ]
  },
  {
   "cell_type": "markdown",
   "id": "559c1316",
   "metadata": {},
   "source": [
    "#### 디코딩 텐서"
   ]
  },
  {
   "cell_type": "code",
   "execution_count": 21,
   "id": "3d7f5968",
   "metadata": {},
   "outputs": [
    {
     "data": {
      "text/plain": [
       "array([    4, 12909,  3296,     9,    74,     3,   420,    20,   175,\n",
       "          42,    10,  3586,   539,     2,     5,     0,     0,     0,\n",
       "           0,     0,     0,     0,     0,     0,     0,     0,     0,\n",
       "           0,     0,     0,     0,     0,     0,     0,     0,     0,\n",
       "           0,     0,     0,     0,     0,     0,     0,     0,     0,\n",
       "           0,     0,     0,     0], dtype=int32)"
      ]
     },
     "execution_count": 21,
     "metadata": {},
     "output_type": "execute_result"
    }
   ],
   "source": [
    "dec_tensor[0]"
   ]
  },
  {
   "cell_type": "code",
   "execution_count": 22,
   "id": "aa2efb77",
   "metadata": {
    "scrolled": true
   },
   "outputs": [
    {
     "name": "stdout",
     "output_type": "stream",
     "text": [
      "<start> thirteen blasts in all , killing at least people and injuring hundreds . <end> "
     ]
    }
   ],
   "source": [
    "for i in dec_tensor[0] :\n",
    "    if i != 0:\n",
    "        print(dec_tokenizer.index_word[i], end = ' ')"
   ]
  },
  {
   "cell_type": "markdown",
   "id": "376d5b65",
   "metadata": {},
   "source": [
    "## 모델용 레이어 설계"
   ]
  },
  {
   "cell_type": "markdown",
   "id": "c86efdf2",
   "metadata": {},
   "source": [
    "### 바다나우 어텐션 레이어 (Bahdanau Attention)"
   ]
  },
  {
   "cell_type": "code",
   "execution_count": 23,
   "id": "bf808e3e",
   "metadata": {},
   "outputs": [],
   "source": [
    "# 바다나우 어텐션 레이어\n",
    "class BahdanauAttention(tf.keras.layers.Layer):\n",
    "    def __init__(self, units):\n",
    "        super(BahdanauAttention, self).__init__()\n",
    "        self.w_dec = tf.keras.layers.Dense(units)\n",
    "        self.w_enc = tf.keras.layers.Dense(units)\n",
    "        self.w_com = tf.keras.layers.Dense(1)\n",
    "    \n",
    "    def call(self, h_enc, h_dec):\n",
    "        # h_enc shape: [batch x length x units]\n",
    "        # h_dec shape: [batch x units]\n",
    "\n",
    "        h_enc = self.w_enc(h_enc)\n",
    "        h_dec = tf.expand_dims(h_dec, 1)\n",
    "        h_dec = self.w_dec(h_dec)\n",
    "\n",
    "        score = self.w_com(tf.nn.tanh(h_dec + h_enc))\n",
    "        \n",
    "        attn = tf.nn.softmax(score, axis=1)\n",
    "\n",
    "        context_vec = attn * h_enc\n",
    "        context_vec = tf.reduce_sum(context_vec, axis=1)\n",
    "\n",
    "        return context_vec, attn"
   ]
  },
  {
   "cell_type": "markdown",
   "id": "3c36d00c",
   "metadata": {},
   "source": [
    "### 인코더 레이어"
   ]
  },
  {
   "cell_type": "code",
   "execution_count": 24,
   "id": "84d79c08",
   "metadata": {},
   "outputs": [],
   "source": [
    "class Encoder(tf.keras.Model):\n",
    "    def __init__(self, vocab_size, embedding_dim, enc_units):\n",
    "        super(Encoder, self).__init__()\n",
    "        \n",
    "        self.enc_units = enc_units\n",
    "        self.embedding = tf.keras.layers.Embedding(vocab_size, embedding_dim)\n",
    "        self.gru = tf.keras.layers.GRU(enc_units,\n",
    "                                       return_sequences=True)\n",
    "        \n",
    "    def call(self, x):           # 인코더\n",
    "        out = self.embedding(x)  #  - (인코더) 임베딩\n",
    "        out = self.gru(out)      #  - GRU \n",
    "        \n",
    "        return out"
   ]
  },
  {
   "cell_type": "markdown",
   "id": "870a0910",
   "metadata": {},
   "source": [
    "### 디코더 레이어"
   ]
  },
  {
   "cell_type": "code",
   "execution_count": 25,
   "id": "a0b03940",
   "metadata": {},
   "outputs": [],
   "source": [
    "class Decoder(tf.keras.Model):\n",
    "    def __init__(self, vocab_size, embedding_dim, dec_units):\n",
    "        super(Decoder, self).__init__()\n",
    "        self.dec_units = dec_units\n",
    "        self.embedding = tf.keras.layers.Embedding(vocab_size, embedding_dim)\n",
    "        self.gru = tf.keras.layers.GRU(dec_units,\n",
    "                                       return_sequences=True,\n",
    "                                       return_state=True)\n",
    "        self.fc = tf.keras.layers.Dense(vocab_size)\n",
    "        self.dropout = tf.keras.layers.Dropout(0.5) # addd dropout layer\n",
    "        self.attention = BahdanauAttention(self.dec_units)\n",
    "\n",
    "    def call(self, x, h_dec, enc_out):                                     # 디코더\n",
    "        context_vec, attn = self.attention(enc_out, h_dec)                 #  - 어텐션 레이어 -> 컨텍스트, 어텐션\n",
    "        out = self.embedding(x)                                            #  - (디코더) 임베딩\n",
    "        out = tf.concat([tf.expand_dims(context_vec, 1), out], axis=-1)    #  - Concat() : 컨텍스트 + 임베딩        \n",
    "        out, h_dec = self.gru(out)                                         #  - GRU  \n",
    "        out = self.dropout(out)                                            #  - Dropout \n",
    "        out = tf.reshape(out, (-1, out.shape[2]))                          #  - reshape : Vocab size에 맞춤 \n",
    "        out = self.fc(out)                                                 #  - FC \n",
    "\n",
    "        return out, h_dec, attn"
   ]
  },
  {
   "cell_type": "markdown",
   "id": "444584e2",
   "metadata": {},
   "source": [
    "## 모델 정의"
   ]
  },
  {
   "cell_type": "markdown",
   "id": "abba7bfe",
   "metadata": {},
   "source": [
    "### 하이퍼파라미터 설정"
   ]
  },
  {
   "cell_type": "code",
   "execution_count": 26,
   "id": "8131ba1e",
   "metadata": {},
   "outputs": [],
   "source": [
    "# hyperparameter\n",
    "\n",
    "BATCH_SIZE     = 64\n",
    "LEARNING_RATE = 1e-3\n",
    "EPOCHS = 30"
   ]
  },
  {
   "cell_type": "markdown",
   "id": "2e02a7bf",
   "metadata": {},
   "source": [
    "#### Vocab 크기"
   ]
  },
  {
   "cell_type": "code",
   "execution_count": 27,
   "id": "d755ee84",
   "metadata": {},
   "outputs": [],
   "source": [
    "SRC_VOCAB_SIZE = len(enc_tokenizer.index_word) + 1 # add 1 for padding \n",
    "TGT_VOCAB_SIZE = len(dec_tokenizer.index_word) + 1 # add 1 for padding "
   ]
  },
  {
   "cell_type": "markdown",
   "id": "054100bc",
   "metadata": {},
   "source": [
    "#### 임베딩 크기"
   ]
  },
  {
   "cell_type": "code",
   "execution_count": 28,
   "id": "068e7546",
   "metadata": {},
   "outputs": [],
   "source": [
    "units         = 512 #dimension for gru\n",
    "embedding_dim = 512 # dimension for embedding"
   ]
  },
  {
   "cell_type": "markdown",
   "id": "1ada0201",
   "metadata": {},
   "source": [
    "#### 인코더"
   ]
  },
  {
   "cell_type": "code",
   "execution_count": 29,
   "id": "dcc47095",
   "metadata": {},
   "outputs": [],
   "source": [
    "encoder = Encoder(SRC_VOCAB_SIZE, embedding_dim, units)"
   ]
  },
  {
   "cell_type": "markdown",
   "id": "71414f9c",
   "metadata": {},
   "source": [
    "#### 디코더"
   ]
  },
  {
   "cell_type": "code",
   "execution_count": 30,
   "id": "c855689f",
   "metadata": {},
   "outputs": [],
   "source": [
    "decoder = Decoder(TGT_VOCAB_SIZE, embedding_dim, units)"
   ]
  },
  {
   "cell_type": "markdown",
   "id": "e3523845",
   "metadata": {},
   "source": [
    "### 옵티마이저"
   ]
  },
  {
   "cell_type": "code",
   "execution_count": 31,
   "id": "3f90c55b",
   "metadata": {},
   "outputs": [
    {
     "name": "stderr",
     "output_type": "stream",
     "text": [
      "/opt/conda/lib/python3.9/site-packages/keras/optimizer_v2/optimizer_v2.py:355: UserWarning: The `lr` argument is deprecated, use `learning_rate` instead.\n",
      "  warnings.warn(\n"
     ]
    }
   ],
   "source": [
    "optimizer = tf.keras.optimizers.Adam(lr=LEARNING_RATE)"
   ]
  },
  {
   "cell_type": "markdown",
   "id": "c16b783e",
   "metadata": {},
   "source": [
    "### 손실함수 정의"
   ]
  },
  {
   "cell_type": "code",
   "execution_count": 32,
   "id": "d97cefee",
   "metadata": {},
   "outputs": [],
   "source": [
    "loss_object = tf.keras.losses.SparseCategoricalCrossentropy(from_logits=True, reduction='none')\n",
    "\n",
    "def loss_function(real, pred):\n",
    "    mask = tf.math.logical_not(tf.math.equal(real, 0))\n",
    "    loss = loss_object(real, pred)\n",
    "    \n",
    "    mask = tf.cast(mask, dtype=loss.dtype)\n",
    "    loss *= mask\n",
    "    \n",
    "    return tf.reduce_mean(loss)"
   ]
  },
  {
   "cell_type": "markdown",
   "id": "a2b69116",
   "metadata": {},
   "source": [
    "## 모델 훈련"
   ]
  },
  {
   "cell_type": "markdown",
   "id": "097c3dc6",
   "metadata": {},
   "source": [
    "### 훈련함수 정의 : 그래디언트 테이프용"
   ]
  },
  {
   "cell_type": "code",
   "execution_count": 33,
   "id": "f970b7a5",
   "metadata": {},
   "outputs": [],
   "source": [
    "@tf.function\n",
    "def train_step(src, tgt, encoder, decoder, optimizer, dec_tok):\n",
    "    bsz = src.shape[0]\n",
    "    loss = 0\n",
    "\n",
    "    with tf.GradientTape() as tape:\n",
    "        enc_out = encoder(src)\n",
    "        h_dec = enc_out[:, -1]\n",
    "        \n",
    "        dec_src = tf.expand_dims([dec_tok.word_index['<start>']] * bsz, 1)\n",
    "\n",
    "        for t in range(1, tgt.shape[1]):\n",
    "            pred, h_dec, _ = decoder(dec_src, h_dec, enc_out)\n",
    "\n",
    "            loss += loss_function(tgt[:, t], pred)\n",
    "            dec_src = tf.expand_dims(tgt[:, t], 1)\n",
    "        \n",
    "    batch_loss = (loss / int(tgt.shape[1]))\n",
    "\n",
    "    variables = encoder.trainable_variables + decoder.trainable_variables\n",
    "    gradients = tape.gradient(loss, variables)\n",
    "    optimizer.apply_gradients(zip(gradients, variables))\n",
    "    \n",
    "    return batch_loss"
   ]
  },
  {
   "cell_type": "markdown",
   "id": "a12e7d27",
   "metadata": {},
   "source": [
    "### 훈련 루프"
   ]
  },
  {
   "cell_type": "code",
   "execution_count": 34,
   "id": "3cc352b9",
   "metadata": {
    "scrolled": false
   },
   "outputs": [
    {
     "name": "stderr",
     "output_type": "stream",
     "text": [
      "Epoch  1: 100%|██████████| 438/438 [03:55<00:00,  1.86it/s, Loss 3.4762]\n",
      "Epoch  2: 100%|██████████| 438/438 [02:16<00:00,  3.20it/s, Loss 3.3182]\n",
      "Epoch  3: 100%|██████████| 438/438 [02:19<00:00,  3.14it/s, Loss 2.9232]\n",
      "Epoch  4: 100%|██████████| 438/438 [02:19<00:00,  3.14it/s, Loss 2.7198]\n",
      "Epoch  5: 100%|██████████| 438/438 [02:19<00:00,  3.14it/s, Loss 2.5518]\n",
      "Epoch  6: 100%|██████████| 438/438 [02:19<00:00,  3.14it/s, Loss 2.4009]\n",
      "Epoch  7: 100%|██████████| 438/438 [02:19<00:00,  3.14it/s, Loss 2.2647]\n",
      "Epoch  8: 100%|██████████| 438/438 [02:19<00:00,  3.13it/s, Loss 2.1401]\n",
      "Epoch  9: 100%|██████████| 438/438 [02:19<00:00,  3.13it/s, Loss 2.0197]\n",
      "Epoch 10: 100%|██████████| 438/438 [02:19<00:00,  3.13it/s, Loss 1.9046]\n",
      "Epoch 11: 100%|██████████| 438/438 [02:19<00:00,  3.13it/s, Loss 1.7937]\n",
      "Epoch 12: 100%|██████████| 438/438 [02:19<00:00,  3.13it/s, Loss 1.6870]\n",
      "Epoch 13: 100%|██████████| 438/438 [02:19<00:00,  3.13it/s, Loss 1.5853]\n",
      "Epoch 14: 100%|██████████| 438/438 [02:19<00:00,  3.13it/s, Loss 1.4888]\n",
      "Epoch 15: 100%|██████████| 438/438 [02:19<00:00,  3.13it/s, Loss 1.3965]\n",
      "Epoch 16: 100%|██████████| 438/438 [02:19<00:00,  3.14it/s, Loss 1.3089]\n",
      "Epoch 17: 100%|██████████| 438/438 [02:19<00:00,  3.13it/s, Loss 1.2274]\n",
      "Epoch 18: 100%|██████████| 438/438 [02:19<00:00,  3.13it/s, Loss 1.1525]\n",
      "Epoch 19: 100%|██████████| 438/438 [02:19<00:00,  3.13it/s, Loss 1.0777]\n",
      "Epoch 20: 100%|██████████| 438/438 [02:19<00:00,  3.14it/s, Loss 1.0115]\n",
      "Epoch 21: 100%|██████████| 438/438 [02:19<00:00,  3.13it/s, Loss 0.9476]\n",
      "Epoch 22: 100%|██████████| 438/438 [02:19<00:00,  3.14it/s, Loss 0.8894]\n",
      "Epoch 23: 100%|██████████| 438/438 [02:19<00:00,  3.13it/s, Loss 0.8305]\n",
      "Epoch 24: 100%|██████████| 438/438 [02:19<00:00,  3.13it/s, Loss 0.7786]\n",
      "Epoch 25: 100%|██████████| 438/438 [02:19<00:00,  3.14it/s, Loss 0.7360]\n",
      "Epoch 26: 100%|██████████| 438/438 [02:19<00:00,  3.14it/s, Loss 0.6879]\n",
      "Epoch 27: 100%|██████████| 438/438 [02:19<00:00,  3.14it/s, Loss 0.6406]\n",
      "Epoch 28: 100%|██████████| 438/438 [02:19<00:00,  3.13it/s, Loss 0.5989]\n",
      "Epoch 29: 100%|██████████| 438/438 [02:19<00:00,  3.13it/s, Loss 0.5605]\n",
      "Epoch 30: 100%|██████████| 438/438 [02:19<00:00,  3.14it/s, Loss 0.5270]\n"
     ]
    }
   ],
   "source": [
    "from tqdm import tqdm    # tqdm\n",
    "import random\n",
    "\n",
    "for epoch in range(EPOCHS): # EPOCHS 하이퍼파라미터 설정부에 정의\n",
    "    total_loss = 0\n",
    "    \n",
    "    idx_list = list(range(0, enc_tensor.shape[0], BATCH_SIZE)) # BATCH_SIZE 하이퍼파라미터 설정부에 정의\n",
    "    random.shuffle(idx_list)\n",
    "    t = tqdm(idx_list)    # tqdm\n",
    "\n",
    "    for (batch, idx) in enumerate(t):\n",
    "        batch_loss = train_step(enc_tensor[idx:idx+BATCH_SIZE],\n",
    "                                dec_tensor[idx:idx+BATCH_SIZE],\n",
    "                                encoder,\n",
    "                                decoder,\n",
    "                                optimizer,\n",
    "                                dec_tokenizer)\n",
    "    \n",
    "        total_loss += batch_loss\n",
    "        \n",
    "        t.set_description_str('Epoch %2d' % (epoch + 1))    # tqdm\n",
    "        t.set_postfix_str('Loss %.4f' % (total_loss.numpy() / (batch + 1)))    # tqdm"
   ]
  },
  {
   "cell_type": "markdown",
   "id": "694a0b51",
   "metadata": {},
   "source": [
    "## 모델 평가"
   ]
  },
  {
   "cell_type": "code",
   "execution_count": 35,
   "id": "4e521f90",
   "metadata": {},
   "outputs": [],
   "source": [
    "def evaluate(sentence, encoder, decoder):\n",
    "    attention = np.zeros((dec_tensor.shape[-1], enc_tensor.shape[-1]))\n",
    "    \n",
    "    sentence = preprocess_sentence(sentence, kor =True) # kor True \n",
    "    inputs = enc_tokenizer.texts_to_sequences([sentence])\n",
    "    inputs = tf.keras.preprocessing.sequence.pad_sequences(inputs,\n",
    "                                                           maxlen=enc_tensor.shape[-1],\n",
    "                                                           padding='post')\n",
    "\n",
    "    result = ''\n",
    "\n",
    "    enc_out = encoder(inputs)\n",
    "\n",
    "    dec_hidden = enc_out[:, -1]\n",
    "    dec_input = tf.expand_dims([dec_tokenizer.word_index['<start>']], 0)\n",
    "\n",
    "    for t in range(dec_tensor.shape[-1]):\n",
    "        predictions, dec_hidden, attention_weights = decoder(dec_input,\n",
    "                                                             dec_hidden,\n",
    "                                                             enc_out)\n",
    "\n",
    "        attention_weights = tf.reshape(attention_weights, (-1, ))\n",
    "        attention[t] = attention_weights.numpy()\n",
    "\n",
    "        predicted_id = \\\n",
    "        tf.argmax(tf.math.softmax(predictions, axis=-1)[0]).numpy()\n",
    "\n",
    "        result += dec_tokenizer.index_word[predicted_id] + ' '\n",
    "\n",
    "        if dec_tokenizer.index_word[predicted_id] == '<end>':\n",
    "            return result, sentence, attention\n",
    "\n",
    "        dec_input = tf.expand_dims([predicted_id], 0)\n",
    "\n",
    "    return result, sentence, attention\n",
    "\n",
    "\n",
    "def plot_attention(attention, sentence, predicted_sentence):\n",
    "    fig = plt.figure(figsize=(10,10))\n",
    "    ax = fig.add_subplot(1, 1, 1)\n",
    "    ax.matshow(attention, cmap='viridis')\n",
    "\n",
    "    fontdict = {'fontsize': 14}\n",
    "\n",
    "    ax.set_xticklabels([''] + sentence, fontdict=fontdict, rotation=90)\n",
    "    ax.set_yticklabels([''] + predicted_sentence, fontdict=fontdict)\n",
    "\n",
    "    ax.xaxis.set_major_locator(ticker.MultipleLocator(1))\n",
    "    ax.yaxis.set_major_locator(ticker.MultipleLocator(1))\n",
    "\n",
    "    plt.show()\n",
    "\n",
    "\n",
    "def translate(sentence, encoder, decoder):\n",
    "    result, sentence, attention = evaluate(sentence, encoder, decoder)\n",
    "\n",
    "    print('Input: %s' % (sentence))\n",
    "    print('Predicted translation: {}'.format(result))\n",
    "    \n",
    "    attention = attention[:len(result.split()), :len(sentence.split())]\n",
    "    plot_attention(attention, sentence.split(), result.split(' '))"
   ]
  },
  {
   "cell_type": "markdown",
   "id": "72d26a24",
   "metadata": {},
   "source": [
    "## 모델 테스트"
   ]
  },
  {
   "cell_type": "code",
   "execution_count": 36,
   "id": "392e5fda",
   "metadata": {},
   "outputs": [],
   "source": [
    "test_corpus = ['오바마는 대통령이다.','시민들은 도시 속에 산다.','커피는 필요 없다.','일곱 명의 사망자가 발생했다.']"
   ]
  },
  {
   "cell_type": "code",
   "execution_count": 37,
   "id": "4ec82d9f",
   "metadata": {
    "scrolled": false
   },
   "outputs": [
    {
     "name": "stdout",
     "output_type": "stream",
     "text": [
      "Input: 오바마 는 대통령 이 다 .\n",
      "Predicted translation: obama is a congressman , the illinois president is the president is the president is the president is the president is the president is the president is the president is the president is the president is the president is the president is the president is the president is the \n"
     ]
    },
    {
     "name": "stderr",
     "output_type": "stream",
     "text": [
      "/tmp/ipykernel_31/1801226307.py:45: UserWarning: FixedFormatter should only be used together with FixedLocator\n",
      "  ax.set_xticklabels([''] + sentence, fontdict=fontdict, rotation=90)\n",
      "/tmp/ipykernel_31/1801226307.py:46: UserWarning: FixedFormatter should only be used together with FixedLocator\n",
      "  ax.set_yticklabels([''] + predicted_sentence, fontdict=fontdict)\n"
     ]
    },
    {
     "data": {
      "image/png": "[encoded data removed]",
      "text/plain": [
       "<Figure size 720x720 with 1 Axes>"
      ]
     },
     "metadata": {
      "image/png": {
       "height": 606,
       "width": 174
      },
      "needs_background": "light"
     },
     "output_type": "display_data"
    },
    {
     "name": "stdout",
     "output_type": "stream",
     "text": [
      "Input: 시민 들 은 도시 속 에 산다 .\n",
      "Predicted translation: many people are on the streets . <end> \n"
     ]
    },
    {
     "data": {
      "image/png": "[encoded data removed]",
      "text/plain": [
       "<Figure size 720x720 with 1 Axes>"
      ]
     },
     "metadata": {
      "image/png": {
       "height": 593,
       "width": 608
      },
      "needs_background": "light"
     },
     "output_type": "display_data"
    },
    {
     "name": "stdout",
     "output_type": "stream",
     "text": [
      "Input: 커피 는 필요 없 다 .\n",
      "Predicted translation: the instruments will be a good . <end> \n"
     ]
    },
    {
     "data": {
      "image/png": "[encoded data removed]",
      "text/plain": [
       "<Figure size 720x720 with 1 Axes>"
      ]
     },
     "metadata": {
      "image/png": {
       "height": 593,
       "width": 506
      },
      "needs_background": "light"
     },
     "output_type": "display_data"
    },
    {
     "name": "stdout",
     "output_type": "stream",
     "text": [
      "Input: 일곱 명 의 사망자 가 발생 했 다 .\n",
      "Predicted translation: two of the deaths were injured . <end> \n"
     ]
    },
    {
     "data": {
      "image/png": "[encoded data removed]",
      "text/plain": [
       "<Figure size 720x720 with 1 Axes>"
      ]
     },
     "metadata": {
      "image/png": {
       "height": 558,
       "width": 624
      },
      "needs_background": "light"
     },
     "output_type": "display_data"
    }
   ],
   "source": [
    "for i in test_corpus :\n",
    "    translate(i, encoder, decoder) "
   ]
  },
  {
   "cell_type": "markdown",
   "id": "aa423702",
   "metadata": {},
   "source": [
    "### 고찰\n",
    "\n",
    "1. 한글과 영어의 경우 전처리 및 토크나이징 과정에 나타나는 차이를 이해라 수 있었다. 한글의 경우 전처리 및 토큰화 과정에서 Mecab 등 형태소 분석기를 통해 subword 단위로 토큰을 아눈 과정이 별도로 필요했다. 영어의 경우에는 케라스 토크나이저를 통해 이렁 과정 없이 바로 토튼화를 진행할 수 있었다. 여러 차례의 프로젝트를 통해 한글 토크나이징 과정을 좀 더 이해할 수 있었다.\n",
    "\n",
    "2. Vocab size의 변화(30K, 40K, 50K) 또는 최대 시퀀스 길이 (40, 50, 100, 200)에 따라 학습 시간이 매우 길어지기도 했거, 메모리의 사용량이 크게 차이가 났으며, 일부 큰 모델을 선택하면 학습 중 시스템이 중단되기도 했다. 좋은 성능을 얻기 위해서는 데이타의 양도 중요하지만 컴퓨팅 자원의 확보 여부도 함께 고려해야 할 것 같다.\n",
    "\n",
    "3. 여러 파라미터를 조정했으나 제대로 된 결과를 얻기에는 부족했다.\n",
    "\n"
   ]
  },
  {
   "cell_type": "markdown",
   "id": "76dcbde5",
   "metadata": {},
   "source": []
  },
  {
   "cell_type": "markdown",
   "id": "ffc06f34",
   "metadata": {},
   "source": []
  },
  {
   "cell_type": "markdown",
   "id": "e44e600e",
   "metadata": {},
   "source": []
  }
 ],
 "metadata": {
  "hide_input": false,
  "kernelspec": {
   "display_name": "Python 3 (ipykernel)",
   "language": "python",
   "name": "python3"
  },
  "language_info": {
   "codemirror_mode": {
    "name": "ipython",
    "version": 3
   },
   "file_extension": ".py",
   "mimetype": "text/x-python",
   "name": "python",
   "nbconvert_exporter": "python",
   "pygments_lexer": "ipython3",
   "version": "3.9.7"
  },
  "toc": {
   "base_numbering": 1,
   "nav_menu": {},
   "number_sections": true,
   "sideBar": true,
   "skip_h1_title": false,
   "title_cell": "Table of Contents",
   "title_sidebar": "Contents",
   "toc_cell": false,
   "toc_position": {
    "height": "calc(100% - 180px)",
    "left": "10px",
    "top": "150px",
    "width": "276.1875px"
   },
   "toc_section_display": true,
   "toc_window_display": true
  },
  "varInspector": {
   "cols": {
    "lenName": 16,
    "lenType": 16,
    "lenVar": 40
   },
   "kernels_config": {
    "python": {
     "delete_cmd_postfix": "",
     "delete_cmd_prefix": "del ",
     "library": "var_list.py",
     "varRefreshCmd": "print(var_dic_list())"
    },
    "r": {
     "delete_cmd_postfix": ") ",
     "delete_cmd_prefix": "rm(",
     "library": "var_list.r",
     "varRefreshCmd": "cat(var_dic_list()) "
    }
   },
   "types_to_exclude": [
    "module",
    "function",
    "builtin_function_or_method",
    "instance",
    "_Feature"
   ],
   "window_display": false
  }
 },
 "nbformat": 4,
 "nbformat_minor": 5
}
